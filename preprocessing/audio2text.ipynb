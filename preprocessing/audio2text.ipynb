{
 "cells": [
  {
   "cell_type": "code",
   "execution_count": 2,
   "id": "initial_id",
   "metadata": {
    "collapsed": true,
    "ExecuteTime": {
     "end_time": "2023-12-07T18:08:45.417825800Z",
     "start_time": "2023-12-07T18:08:35.284921400Z"
    }
   },
   "outputs": [],
   "source": [
    "import torch\n",
    "from transformers import AutoModelForSpeechSeq2Seq, AutoProcessor, pipeline\n",
    "from datasets import load_dataset, Audio\n",
    "import os\n",
    "import pandas as pd"
   ]
  },
  {
   "cell_type": "code",
   "execution_count": 3,
   "outputs": [
    {
     "name": "stderr",
     "output_type": "stream",
     "text": [
      "Special tokens have been added in the vocabulary, make sure the associated word embeddings are fine-tuned or trained.\n"
     ]
    }
   ],
   "source": [
    "# taken from https://huggingface.co/openai/whisper-large-v3\n",
    "\n",
    "device = \"cuda:0\" if torch.cuda.is_available() else \"cpu\"\n",
    "torch_dtype = torch.float16 if torch.cuda.is_available() else torch.float32\n",
    "\n",
    "model_id = \"openai/whisper-large-v3\"\n",
    "\n",
    "model = AutoModelForSpeechSeq2Seq.from_pretrained(\n",
    "    model_id, torch_dtype=torch_dtype, low_cpu_mem_usage=True, use_safetensors=True\n",
    ")\n",
    "model.to(device)\n",
    "\n",
    "processor = AutoProcessor.from_pretrained(model_id)\n",
    "\n",
    "pipe = pipeline(\n",
    "    \"automatic-speech-recognition\",\n",
    "    model=model,\n",
    "    tokenizer=processor.tokenizer,\n",
    "    feature_extractor=processor.feature_extractor,\n",
    "    max_new_tokens=128,\n",
    "    chunk_length_s=30,\n",
    "    batch_size=5,\n",
    "    return_timestamps=True,\n",
    "    torch_dtype=torch_dtype,\n",
    "    device=device,\n",
    ")"
   ],
   "metadata": {
    "collapsed": false,
    "ExecuteTime": {
     "end_time": "2023-12-07T18:08:56.333108500Z",
     "start_time": "2023-12-07T18:08:45.422813Z"
    }
   },
   "id": "cb710912b5e64460"
  },
  {
   "cell_type": "code",
   "execution_count": 5,
   "outputs": [
    {
     "data": {
      "text/plain": "Resolving data files:   0%|          | 0/325 [00:00<?, ?it/s]",
      "application/vnd.jupyter.widget-view+json": {
       "version_major": 2,
       "version_minor": 0,
       "model_id": "2ece257bc1ee4a3186be0307d7c8d316"
      }
     },
     "metadata": {},
     "output_type": "display_data"
    },
    {
     "name": "stdout",
     "output_type": "stream",
     "text": [
      "Dataset({\n",
      "    features: ['audio'],\n",
      "    num_rows: 325\n",
      "})\n"
     ]
    }
   ],
   "source": [
    "path = \"../data/bagoflies/BagOfLies/audio\"\n",
    "\n",
    "file_names = []\n",
    "for filename in os.listdir(path):\n",
    "    if filename.endswith(\".wav\"):\n",
    "        file_names.append(os.path.join(path, filename))\n",
    "        \n",
    "dataset = load_dataset(\"audiofolder\", data_files=file_names, split=\"train\")\n",
    "dataset = dataset.cast_column(\"audio\", Audio(sampling_rate=16000))\n",
    "\n"
   ],
   "metadata": {
    "collapsed": false,
    "ExecuteTime": {
     "end_time": "2023-12-07T18:09:06.800122300Z",
     "start_time": "2023-12-07T18:09:05.449731900Z"
    }
   },
   "id": "be43ea1ae6de39f7"
  },
  {
   "cell_type": "code",
   "execution_count": null,
   "outputs": [],
   "source": [
    "transcriptions = []\n",
    "batch_size = 5\n",
    "for i in range(220, len(dataset), batch_size):\n",
    "    batch = dataset[i:i+batch_size][\"audio\"]\n",
    "    results = pipe(batch, generate_kwargs={\"language\": \"english\"})\n",
    "    batch_transcriptions = [result[\"text\"] for result in results]\n",
    "    print(batch_transcriptions)\n",
    "    transcriptions.extend(batch_transcriptions)"
   ],
   "metadata": {
    "collapsed": false
   },
   "id": "612f0fbbfe9909e8"
  },
  {
   "cell_type": "code",
   "execution_count": 5,
   "outputs": [],
   "source": [
    "transcriptions.to_csv(\"../data/bagoflies/BagOfLies/transcription/transcriptions.csv\")"
   ],
   "metadata": {
    "collapsed": false,
    "ExecuteTime": {
     "end_time": "2023-12-07T17:52:09.639385400Z",
     "start_time": "2023-12-07T17:52:09.364080200Z"
    }
   },
   "id": "278c715436254040"
  },
  {
   "cell_type": "code",
   "execution_count": 23,
   "outputs": [
    {
     "data": {
      "text/plain": "   Unnamed: 0                                               text  \\\n0           0   There is a river and a bridge crossing over i...   \n1           1   A Labrador has jumped to catch a Frisbee and ...   \n2           2   A plane is trying to land in the river. The p...   \n3           3   There is a girl wearing a blue dress and she ...   \n4           4   A boy is drinking coffee and reading a newspa...   \n\n                                           file_name  \n0  ../data/bagoflies/BagOfLies/audio\\.._data_bago...  \n1  ../data/bagoflies/BagOfLies/audio\\.._data_bago...  \n2  ../data/bagoflies/BagOfLies/audio\\.._data_bago...  \n3  ../data/bagoflies/BagOfLies/audio\\.._data_bago...  \n4  ../data/bagoflies/BagOfLies/audio\\.._data_bago...  ",
      "text/html": "<div>\n<style scoped>\n    .dataframe tbody tr th:only-of-type {\n        vertical-align: middle;\n    }\n\n    .dataframe tbody tr th {\n        vertical-align: top;\n    }\n\n    .dataframe thead th {\n        text-align: right;\n    }\n</style>\n<table border=\"1\" class=\"dataframe\">\n  <thead>\n    <tr style=\"text-align: right;\">\n      <th></th>\n      <th>Unnamed: 0</th>\n      <th>text</th>\n      <th>file_name</th>\n    </tr>\n  </thead>\n  <tbody>\n    <tr>\n      <th>0</th>\n      <td>0</td>\n      <td>There is a river and a bridge crossing over i...</td>\n      <td>../data/bagoflies/BagOfLies/audio\\.._data_bago...</td>\n    </tr>\n    <tr>\n      <th>1</th>\n      <td>1</td>\n      <td>A Labrador has jumped to catch a Frisbee and ...</td>\n      <td>../data/bagoflies/BagOfLies/audio\\.._data_bago...</td>\n    </tr>\n    <tr>\n      <th>2</th>\n      <td>2</td>\n      <td>A plane is trying to land in the river. The p...</td>\n      <td>../data/bagoflies/BagOfLies/audio\\.._data_bago...</td>\n    </tr>\n    <tr>\n      <th>3</th>\n      <td>3</td>\n      <td>There is a girl wearing a blue dress and she ...</td>\n      <td>../data/bagoflies/BagOfLies/audio\\.._data_bago...</td>\n    </tr>\n    <tr>\n      <th>4</th>\n      <td>4</td>\n      <td>A boy is drinking coffee and reading a newspa...</td>\n      <td>../data/bagoflies/BagOfLies/audio\\.._data_bago...</td>\n    </tr>\n  </tbody>\n</table>\n</div>"
     },
     "execution_count": 23,
     "metadata": {},
     "output_type": "execute_result"
    }
   ],
   "source": [
    "transcriptions = pd.read_csv(\"../data/bagoflies/BagOfLies/transcription/transcriptions.csv\")\n",
    "# Add the corresponding file names\n",
    "transcriptions[\"file_name\"] = file_names\n",
    "transcriptions.to_csv(\"../data/bagoflies/BagOfLies/transcription/transcriptions.csv\")\n",
    "transcriptions.head()"
   ],
   "metadata": {
    "collapsed": false,
    "ExecuteTime": {
     "end_time": "2023-12-07T18:22:02.336417400Z",
     "start_time": "2023-12-07T18:22:02.291538100Z"
    }
   },
   "id": "b8ffb38ba4b04efe"
  },
  {
   "cell_type": "code",
   "execution_count": null,
   "outputs": [],
   "source": [],
   "metadata": {
    "collapsed": false
   },
   "id": "29feb6f4c547a829"
  }
 ],
 "metadata": {
  "kernelspec": {
   "display_name": "Python 3",
   "language": "python",
   "name": "python3"
  },
  "language_info": {
   "codemirror_mode": {
    "name": "ipython",
    "version": 2
   },
   "file_extension": ".py",
   "mimetype": "text/x-python",
   "name": "python",
   "nbconvert_exporter": "python",
   "pygments_lexer": "ipython2",
   "version": "2.7.6"
  }
 },
 "nbformat": 4,
 "nbformat_minor": 5
}
