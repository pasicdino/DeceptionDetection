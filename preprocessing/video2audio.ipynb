{
 "cells": [
  {
   "cell_type": "code",
   "execution_count": 1,
   "metadata": {
    "collapsed": true
   },
   "outputs": [],
   "source": [
    "from moviepy.editor import *\n",
    "#Get dirs of deceptive videos\n",
    "deceptive_path = r\"..\\data\\trial\\video\\deceptive\"\n",
    "deceptive_dirs = [os.path.join(deceptive_path, file) for file in os.listdir(deceptive_path) if file.endswith(\".mp4\")]\n",
    "\n",
    "#Get dirs of truthful videos\n",
    "truthful_path = r\"..\\data\\trial\\video\\truthful\"\n",
    "truthful_dirs = [os.path.join(truthful_path, file) for file in os.listdir(truthful_path) if file.endswith(\".mp4\")]"
   ]
  },
  {
   "cell_type": "code",
   "execution_count": 2,
   "outputs": [],
   "source": [
    "from moviepy.editor import *\n",
    "import os\n",
    "\n",
    "#Method which loads video, converts to mp3, and saves them\n",
    "#Requires dirs as a list of directories for all videos that should be converted and saved\n",
    "def save_audio_from_video(dirs, save_dir):\n",
    "    #Check if the directory exists & make it if it does not\n",
    "    if not os.path.exists(save_dir):\n",
    "        os.makedirs(save_dir)\n",
    "\n",
    "    #Go over all dirs in the list\n",
    "    for video_path in dirs:\n",
    "        #Load the video and get the audio\n",
    "        video = VideoFileClip(video_path)\n",
    "        audio = video.audio\n",
    "\n",
    "        #Get the filename & replace it into wanted format\n",
    "        filename = os.path.basename(video_path)\n",
    "        audio_filename = filename.replace(\".mp4\", \".wav\")\n",
    "\n",
    "        #Save to correct path & write\n",
    "        audio_save_path = os.path.join(save_dir, audio_filename)\n",
    "        audio.write_audiofile(audio_save_path, fps=16000)\n",
    "\n",
    "        #Close for memory purposes\n",
    "        video.reader.close()\n",
    "        video.audio.reader.close_proc()\n",
    "        audio.reader.close_proc()"
   ],
   "metadata": {
    "collapsed": false
   }
  },
  {
   "cell_type": "code",
   "execution_count": 2,
   "outputs": [
    {
     "name": "stdout",
     "output_type": "stream",
     "text": [
      "MoviePy - Writing audio in ../data/trial/audio/deceptive\\trial_lie_001.wav\n"
     ]
    },
    {
     "name": "stderr",
     "output_type": "stream",
     "text": [
      "                                                                  \r"
     ]
    },
    {
     "name": "stdout",
     "output_type": "stream",
     "text": [
      "MoviePy - Done.\n",
      "MoviePy - Writing audio in ../data/trial/audio/deceptive\\trial_lie_002.wav\n"
     ]
    },
    {
     "name": "stderr",
     "output_type": "stream",
     "text": [
      "                                                                    \r"
     ]
    },
    {
     "name": "stdout",
     "output_type": "stream",
     "text": [
      "MoviePy - Done.\n",
      "MoviePy - Writing audio in ../data/trial/audio/deceptive\\trial_lie_003.wav\n"
     ]
    },
    {
     "name": "stderr",
     "output_type": "stream",
     "text": [
      "                                                       "
     ]
    },
    {
     "name": "stdout",
     "output_type": "stream",
     "text": [
      "MoviePy - Done.\n"
     ]
    },
    {
     "name": "stderr",
     "output_type": "stream",
     "text": [
      "\r"
     ]
    },
    {
     "name": "stdout",
     "output_type": "stream",
     "text": [
      "MoviePy - Writing audio in ../data/trial/audio/deceptive\\trial_lie_004.wav\n"
     ]
    },
    {
     "name": "stderr",
     "output_type": "stream",
     "text": [
      "                                                       "
     ]
    },
    {
     "name": "stdout",
     "output_type": "stream",
     "text": [
      "MoviePy - Done.\n"
     ]
    },
    {
     "name": "stderr",
     "output_type": "stream",
     "text": [
      "\r"
     ]
    },
    {
     "name": "stdout",
     "output_type": "stream",
     "text": [
      "MoviePy - Writing audio in ../data/trial/audio/deceptive\\trial_lie_005.wav\n"
     ]
    },
    {
     "name": "stderr",
     "output_type": "stream",
     "text": [
      "                                                                    \r"
     ]
    },
    {
     "name": "stdout",
     "output_type": "stream",
     "text": [
      "MoviePy - Done.\n",
      "MoviePy - Writing audio in ../data/trial/audio/deceptive\\trial_lie_006.wav\n"
     ]
    },
    {
     "name": "stderr",
     "output_type": "stream",
     "text": [
      "                                                                  "
     ]
    },
    {
     "name": "stdout",
     "output_type": "stream",
     "text": [
      "MoviePy - Done.\n"
     ]
    },
    {
     "name": "stderr",
     "output_type": "stream",
     "text": [
      "\r"
     ]
    },
    {
     "name": "stdout",
     "output_type": "stream",
     "text": [
      "MoviePy - Writing audio in ../data/trial/audio/deceptive\\trial_lie_007.wav\n"
     ]
    },
    {
     "name": "stderr",
     "output_type": "stream",
     "text": [
      "                                                                    \r"
     ]
    },
    {
     "name": "stdout",
     "output_type": "stream",
     "text": [
      "MoviePy - Done.\n",
      "MoviePy - Writing audio in ../data/trial/audio/deceptive\\trial_lie_008.wav\n"
     ]
    },
    {
     "name": "stderr",
     "output_type": "stream",
     "text": [
      "                                                       "
     ]
    },
    {
     "name": "stdout",
     "output_type": "stream",
     "text": [
      "MoviePy - Done.\n"
     ]
    },
    {
     "name": "stderr",
     "output_type": "stream",
     "text": [
      "\r"
     ]
    },
    {
     "name": "stdout",
     "output_type": "stream",
     "text": [
      "MoviePy - Writing audio in ../data/trial/audio/deceptive\\trial_lie_009.wav\n"
     ]
    },
    {
     "name": "stderr",
     "output_type": "stream",
     "text": [
      "                                                                  \r"
     ]
    },
    {
     "name": "stdout",
     "output_type": "stream",
     "text": [
      "MoviePy - Done.\n",
      "MoviePy - Writing audio in ../data/trial/audio/deceptive\\trial_lie_010.wav\n"
     ]
    },
    {
     "name": "stderr",
     "output_type": "stream",
     "text": [
      "                                                                    \r"
     ]
    },
    {
     "name": "stdout",
     "output_type": "stream",
     "text": [
      "MoviePy - Done.\n",
      "MoviePy - Writing audio in ../data/trial/audio/deceptive\\trial_lie_011.wav\n"
     ]
    },
    {
     "name": "stderr",
     "output_type": "stream",
     "text": [
      "                                                                    \r"
     ]
    },
    {
     "name": "stdout",
     "output_type": "stream",
     "text": [
      "MoviePy - Done.\n",
      "MoviePy - Writing audio in ../data/trial/audio/deceptive\\trial_lie_012.wav\n"
     ]
    },
    {
     "name": "stderr",
     "output_type": "stream",
     "text": [
      "                                                       "
     ]
    },
    {
     "name": "stdout",
     "output_type": "stream",
     "text": [
      "MoviePy - Done.\n"
     ]
    },
    {
     "name": "stderr",
     "output_type": "stream",
     "text": [
      "\r"
     ]
    },
    {
     "name": "stdout",
     "output_type": "stream",
     "text": [
      "MoviePy - Writing audio in ../data/trial/audio/deceptive\\trial_lie_013.wav\n"
     ]
    },
    {
     "name": "stderr",
     "output_type": "stream",
     "text": [
      "                                                                  "
     ]
    },
    {
     "name": "stdout",
     "output_type": "stream",
     "text": [
      "MoviePy - Done.\n"
     ]
    },
    {
     "name": "stderr",
     "output_type": "stream",
     "text": [
      "\r"
     ]
    },
    {
     "name": "stdout",
     "output_type": "stream",
     "text": [
      "MoviePy - Writing audio in ../data/trial/audio/deceptive\\trial_lie_014.wav\n"
     ]
    },
    {
     "name": "stderr",
     "output_type": "stream",
     "text": [
      "                                                        "
     ]
    },
    {
     "name": "stdout",
     "output_type": "stream",
     "text": [
      "MoviePy - Done.\n"
     ]
    },
    {
     "name": "stderr",
     "output_type": "stream",
     "text": [
      "\r"
     ]
    },
    {
     "name": "stdout",
     "output_type": "stream",
     "text": [
      "MoviePy - Writing audio in ../data/trial/audio/deceptive\\trial_lie_017.wav\n"
     ]
    },
    {
     "name": "stderr",
     "output_type": "stream",
     "text": [
      "                                                                    \r"
     ]
    },
    {
     "name": "stdout",
     "output_type": "stream",
     "text": [
      "MoviePy - Done.\n",
      "MoviePy - Writing audio in ../data/trial/audio/deceptive\\trial_lie_018.wav\n"
     ]
    },
    {
     "name": "stderr",
     "output_type": "stream",
     "text": [
      "                                                                   \r"
     ]
    },
    {
     "name": "stdout",
     "output_type": "stream",
     "text": [
      "MoviePy - Done.\n",
      "MoviePy - Writing audio in ../data/trial/audio/deceptive\\trial_lie_019.wav\n"
     ]
    },
    {
     "name": "stderr",
     "output_type": "stream",
     "text": [
      "                                                                   \r"
     ]
    },
    {
     "name": "stdout",
     "output_type": "stream",
     "text": [
      "MoviePy - Done.\n",
      "MoviePy - Writing audio in ../data/trial/audio/deceptive\\trial_lie_020.wav\n"
     ]
    },
    {
     "name": "stderr",
     "output_type": "stream",
     "text": [
      "                                                                 \r"
     ]
    },
    {
     "name": "stdout",
     "output_type": "stream",
     "text": [
      "MoviePy - Done.\n",
      "MoviePy - Writing audio in ../data/trial/audio/deceptive\\trial_lie_021.wav\n"
     ]
    },
    {
     "name": "stderr",
     "output_type": "stream",
     "text": [
      "                                                                   \r"
     ]
    },
    {
     "name": "stdout",
     "output_type": "stream",
     "text": [
      "MoviePy - Done.\n",
      "MoviePy - Writing audio in ../data/trial/audio/deceptive\\trial_lie_022.wav\n"
     ]
    },
    {
     "name": "stderr",
     "output_type": "stream",
     "text": [
      "                                                                   \r"
     ]
    },
    {
     "name": "stdout",
     "output_type": "stream",
     "text": [
      "MoviePy - Done.\n",
      "MoviePy - Writing audio in ../data/trial/audio/deceptive\\trial_lie_023.wav\n"
     ]
    },
    {
     "name": "stderr",
     "output_type": "stream",
     "text": [
      "                                                                   \r"
     ]
    },
    {
     "name": "stdout",
     "output_type": "stream",
     "text": [
      "MoviePy - Done.\n",
      "MoviePy - Writing audio in ../data/trial/audio/deceptive\\trial_lie_024.wav\n"
     ]
    },
    {
     "name": "stderr",
     "output_type": "stream",
     "text": [
      "                                                                   \r"
     ]
    },
    {
     "name": "stdout",
     "output_type": "stream",
     "text": [
      "MoviePy - Done.\n",
      "MoviePy - Writing audio in ../data/trial/audio/deceptive\\trial_lie_025.wav\n"
     ]
    },
    {
     "name": "stderr",
     "output_type": "stream",
     "text": [
      "                                                                   \r"
     ]
    },
    {
     "name": "stdout",
     "output_type": "stream",
     "text": [
      "MoviePy - Done.\n",
      "MoviePy - Writing audio in ../data/trial/audio/deceptive\\trial_lie_026.wav\n"
     ]
    },
    {
     "name": "stderr",
     "output_type": "stream",
     "text": [
      "                                                                   \r"
     ]
    },
    {
     "name": "stdout",
     "output_type": "stream",
     "text": [
      "MoviePy - Done.\n",
      "MoviePy - Writing audio in ../data/trial/audio/deceptive\\trial_lie_027.wav\n"
     ]
    },
    {
     "name": "stderr",
     "output_type": "stream",
     "text": [
      "                                                                   \r"
     ]
    },
    {
     "name": "stdout",
     "output_type": "stream",
     "text": [
      "MoviePy - Done.\n",
      "MoviePy - Writing audio in ../data/trial/audio/deceptive\\trial_lie_028.wav\n"
     ]
    },
    {
     "name": "stderr",
     "output_type": "stream",
     "text": [
      "                                                                   \r"
     ]
    },
    {
     "name": "stdout",
     "output_type": "stream",
     "text": [
      "MoviePy - Done.\n",
      "MoviePy - Writing audio in ../data/trial/audio/deceptive\\trial_lie_029.wav\n"
     ]
    },
    {
     "name": "stderr",
     "output_type": "stream",
     "text": [
      "                                                                  \r"
     ]
    },
    {
     "name": "stdout",
     "output_type": "stream",
     "text": [
      "MoviePy - Done.\n",
      "MoviePy - Writing audio in ../data/trial/audio/deceptive\\trial_lie_030.wav\n"
     ]
    },
    {
     "name": "stderr",
     "output_type": "stream",
     "text": [
      "                                                                    \r"
     ]
    },
    {
     "name": "stdout",
     "output_type": "stream",
     "text": [
      "MoviePy - Done.\n",
      "MoviePy - Writing audio in ../data/trial/audio/deceptive\\trial_lie_033.wav\n"
     ]
    },
    {
     "name": "stderr",
     "output_type": "stream",
     "text": [
      "                                                                   \r"
     ]
    },
    {
     "name": "stdout",
     "output_type": "stream",
     "text": [
      "MoviePy - Done.\n",
      "MoviePy - Writing audio in ../data/trial/audio/deceptive\\trial_lie_034.wav\n"
     ]
    },
    {
     "name": "stderr",
     "output_type": "stream",
     "text": [
      "                                                                   \r"
     ]
    },
    {
     "name": "stdout",
     "output_type": "stream",
     "text": [
      "MoviePy - Done.\n",
      "MoviePy - Writing audio in ../data/trial/audio/deceptive\\trial_lie_035.wav\n"
     ]
    },
    {
     "name": "stderr",
     "output_type": "stream",
     "text": [
      "                                                                   \r"
     ]
    },
    {
     "name": "stdout",
     "output_type": "stream",
     "text": [
      "MoviePy - Done.\n",
      "MoviePy - Writing audio in ../data/trial/audio/deceptive\\trial_lie_036.wav\n"
     ]
    },
    {
     "name": "stderr",
     "output_type": "stream",
     "text": [
      "                                                                   \r"
     ]
    },
    {
     "name": "stdout",
     "output_type": "stream",
     "text": [
      "MoviePy - Done.\n",
      "MoviePy - Writing audio in ../data/trial/audio/deceptive\\trial_lie_037.wav\n"
     ]
    },
    {
     "name": "stderr",
     "output_type": "stream",
     "text": [
      "                                                                    \r"
     ]
    },
    {
     "name": "stdout",
     "output_type": "stream",
     "text": [
      "MoviePy - Done.\n",
      "MoviePy - Writing audio in ../data/trial/audio/deceptive\\trial_lie_038.wav\n"
     ]
    },
    {
     "name": "stderr",
     "output_type": "stream",
     "text": [
      "                                                                    "
     ]
    },
    {
     "name": "stdout",
     "output_type": "stream",
     "text": [
      "MoviePy - Done.\n"
     ]
    },
    {
     "name": "stderr",
     "output_type": "stream",
     "text": [
      "\r"
     ]
    },
    {
     "name": "stdout",
     "output_type": "stream",
     "text": [
      "MoviePy - Writing audio in ../data/trial/audio/deceptive\\trial_lie_039.wav\n"
     ]
    },
    {
     "name": "stderr",
     "output_type": "stream",
     "text": [
      "                                                                  \r"
     ]
    },
    {
     "name": "stdout",
     "output_type": "stream",
     "text": [
      "MoviePy - Done.\n",
      "MoviePy - Writing audio in ../data/trial/audio/deceptive\\trial_lie_040.wav\n"
     ]
    },
    {
     "name": "stderr",
     "output_type": "stream",
     "text": [
      "                                                                    \r"
     ]
    },
    {
     "name": "stdout",
     "output_type": "stream",
     "text": [
      "MoviePy - Done.\n",
      "MoviePy - Writing audio in ../data/trial/audio/deceptive\\trial_lie_041.wav\n"
     ]
    },
    {
     "name": "stderr",
     "output_type": "stream",
     "text": [
      "                                                                    \r"
     ]
    },
    {
     "name": "stdout",
     "output_type": "stream",
     "text": [
      "MoviePy - Done.\n",
      "MoviePy - Writing audio in ../data/trial/audio/deceptive\\trial_lie_042.wav\n"
     ]
    },
    {
     "name": "stderr",
     "output_type": "stream",
     "text": [
      "                                                                  "
     ]
    },
    {
     "name": "stdout",
     "output_type": "stream",
     "text": [
      "MoviePy - Done.\n"
     ]
    },
    {
     "name": "stderr",
     "output_type": "stream",
     "text": [
      "\r"
     ]
    },
    {
     "name": "stdout",
     "output_type": "stream",
     "text": [
      "MoviePy - Writing audio in ../data/trial/audio/deceptive\\trial_lie_043.wav\n"
     ]
    },
    {
     "name": "stderr",
     "output_type": "stream",
     "text": [
      "                                                                 \r"
     ]
    },
    {
     "name": "stdout",
     "output_type": "stream",
     "text": [
      "MoviePy - Done.\n",
      "MoviePy - Writing audio in ../data/trial/audio/deceptive\\trial_lie_044.wav\n"
     ]
    },
    {
     "name": "stderr",
     "output_type": "stream",
     "text": [
      "                                                       "
     ]
    },
    {
     "name": "stdout",
     "output_type": "stream",
     "text": [
      "MoviePy - Done.\n"
     ]
    },
    {
     "name": "stderr",
     "output_type": "stream",
     "text": [
      "\r"
     ]
    },
    {
     "name": "stdout",
     "output_type": "stream",
     "text": [
      "MoviePy - Writing audio in ../data/trial/audio/deceptive\\trial_lie_045.wav\n"
     ]
    },
    {
     "name": "stderr",
     "output_type": "stream",
     "text": [
      "                                                                  "
     ]
    },
    {
     "name": "stdout",
     "output_type": "stream",
     "text": [
      "MoviePy - Done.\n"
     ]
    },
    {
     "name": "stderr",
     "output_type": "stream",
     "text": [
      "\r"
     ]
    },
    {
     "name": "stdout",
     "output_type": "stream",
     "text": [
      "MoviePy - Writing audio in ../data/trial/audio/deceptive\\trial_lie_046.wav\n"
     ]
    },
    {
     "name": "stderr",
     "output_type": "stream",
     "text": [
      "                                                                    \r"
     ]
    },
    {
     "name": "stdout",
     "output_type": "stream",
     "text": [
      "MoviePy - Done.\n",
      "MoviePy - Writing audio in ../data/trial/audio/deceptive\\trial_lie_049.wav\n"
     ]
    },
    {
     "name": "stderr",
     "output_type": "stream",
     "text": [
      "                                                                    "
     ]
    },
    {
     "name": "stdout",
     "output_type": "stream",
     "text": [
      "MoviePy - Done.\n"
     ]
    },
    {
     "name": "stderr",
     "output_type": "stream",
     "text": [
      "\r"
     ]
    },
    {
     "name": "stdout",
     "output_type": "stream",
     "text": [
      "MoviePy - Writing audio in ../data/trial/audio/deceptive\\trial_lie_050.wav\n"
     ]
    },
    {
     "name": "stderr",
     "output_type": "stream",
     "text": [
      "                                                                    "
     ]
    },
    {
     "name": "stdout",
     "output_type": "stream",
     "text": [
      "MoviePy - Done.\n"
     ]
    },
    {
     "name": "stderr",
     "output_type": "stream",
     "text": [
      "\r"
     ]
    },
    {
     "name": "stdout",
     "output_type": "stream",
     "text": [
      "MoviePy - Writing audio in ../data/trial/audio/deceptive\\trial_lie_051.wav\n"
     ]
    },
    {
     "name": "stderr",
     "output_type": "stream",
     "text": [
      "                                                                 "
     ]
    },
    {
     "name": "stdout",
     "output_type": "stream",
     "text": [
      "MoviePy - Done.\n"
     ]
    },
    {
     "name": "stderr",
     "output_type": "stream",
     "text": [
      "\r"
     ]
    },
    {
     "name": "stdout",
     "output_type": "stream",
     "text": [
      "MoviePy - Writing audio in ../data/trial/audio/deceptive\\trial_lie_052.wav\n"
     ]
    },
    {
     "name": "stderr",
     "output_type": "stream",
     "text": [
      "                                                                    \r"
     ]
    },
    {
     "name": "stdout",
     "output_type": "stream",
     "text": [
      "MoviePy - Done.\n",
      "MoviePy - Writing audio in ../data/trial/audio/deceptive\\trial_lie_053.wav\n"
     ]
    },
    {
     "name": "stderr",
     "output_type": "stream",
     "text": [
      "                                                                    \r"
     ]
    },
    {
     "name": "stdout",
     "output_type": "stream",
     "text": [
      "MoviePy - Done.\n",
      "MoviePy - Writing audio in ../data/trial/audio/deceptive\\trial_lie_054.wav\n"
     ]
    },
    {
     "name": "stderr",
     "output_type": "stream",
     "text": [
      "                                                                  "
     ]
    },
    {
     "name": "stdout",
     "output_type": "stream",
     "text": [
      "MoviePy - Done.\n"
     ]
    },
    {
     "name": "stderr",
     "output_type": "stream",
     "text": [
      "\r"
     ]
    },
    {
     "name": "stdout",
     "output_type": "stream",
     "text": [
      "MoviePy - Writing audio in ../data/trial/audio/deceptive\\trial_lie_055.wav\n"
     ]
    },
    {
     "name": "stderr",
     "output_type": "stream",
     "text": [
      "                                                                    \r"
     ]
    },
    {
     "name": "stdout",
     "output_type": "stream",
     "text": [
      "MoviePy - Done.\n",
      "MoviePy - Writing audio in ../data/trial/audio/deceptive\\trial_lie_056.wav\n"
     ]
    },
    {
     "name": "stderr",
     "output_type": "stream",
     "text": [
      "                                                                    \r"
     ]
    },
    {
     "name": "stdout",
     "output_type": "stream",
     "text": [
      "MoviePy - Done.\n",
      "MoviePy - Writing audio in ../data/trial/audio/deceptive\\trial_lie_057.wav\n"
     ]
    },
    {
     "name": "stderr",
     "output_type": "stream",
     "text": [
      "                                                                    "
     ]
    },
    {
     "name": "stdout",
     "output_type": "stream",
     "text": [
      "MoviePy - Done.\n"
     ]
    },
    {
     "name": "stderr",
     "output_type": "stream",
     "text": [
      "\r"
     ]
    },
    {
     "name": "stdout",
     "output_type": "stream",
     "text": [
      "MoviePy - Writing audio in ../data/trial/audio/deceptive\\trial_lie_058.wav\n"
     ]
    },
    {
     "name": "stderr",
     "output_type": "stream",
     "text": [
      "                                                                    "
     ]
    },
    {
     "name": "stdout",
     "output_type": "stream",
     "text": [
      "MoviePy - Done.\n"
     ]
    },
    {
     "name": "stderr",
     "output_type": "stream",
     "text": [
      "\r"
     ]
    },
    {
     "name": "stdout",
     "output_type": "stream",
     "text": [
      "MoviePy - Writing audio in ../data/trial/audio/deceptive\\trial_lie_059.wav\n"
     ]
    },
    {
     "name": "stderr",
     "output_type": "stream",
     "text": [
      "                                                                    \r"
     ]
    },
    {
     "name": "stdout",
     "output_type": "stream",
     "text": [
      "MoviePy - Done.\n",
      "MoviePy - Writing audio in ../data/trial/audio/deceptive\\trial_lie_060.wav\n"
     ]
    },
    {
     "name": "stderr",
     "output_type": "stream",
     "text": [
      "                                                                  "
     ]
    },
    {
     "name": "stdout",
     "output_type": "stream",
     "text": [
      "MoviePy - Done.\n"
     ]
    },
    {
     "name": "stderr",
     "output_type": "stream",
     "text": [
      "\r"
     ]
    },
    {
     "name": "stdout",
     "output_type": "stream",
     "text": [
      "MoviePy - Writing audio in ../data/trial/audio/deceptive\\trial_lie_061.wav\n"
     ]
    },
    {
     "name": "stderr",
     "output_type": "stream",
     "text": [
      "                                                                    "
     ]
    },
    {
     "name": "stdout",
     "output_type": "stream",
     "text": [
      "MoviePy - Done.\n"
     ]
    },
    {
     "name": "stderr",
     "output_type": "stream",
     "text": [
      "\r"
     ]
    },
    {
     "name": "stdout",
     "output_type": "stream",
     "text": [
      "MoviePy - Writing audio in ../data/trial/audio/truthful\\trial_truth_001.wav\n"
     ]
    },
    {
     "name": "stderr",
     "output_type": "stream",
     "text": [
      "                                                                  "
     ]
    },
    {
     "name": "stdout",
     "output_type": "stream",
     "text": [
      "MoviePy - Done.\n"
     ]
    },
    {
     "name": "stderr",
     "output_type": "stream",
     "text": [
      "\r"
     ]
    },
    {
     "name": "stdout",
     "output_type": "stream",
     "text": [
      "MoviePy - Writing audio in ../data/trial/audio/truthful\\trial_truth_002.wav\n"
     ]
    },
    {
     "name": "stderr",
     "output_type": "stream",
     "text": [
      "                                                                  \r"
     ]
    },
    {
     "name": "stdout",
     "output_type": "stream",
     "text": [
      "MoviePy - Done.\n",
      "MoviePy - Writing audio in ../data/trial/audio/truthful\\trial_truth_003.wav\n"
     ]
    },
    {
     "name": "stderr",
     "output_type": "stream",
     "text": [
      "                                                                  "
     ]
    },
    {
     "name": "stdout",
     "output_type": "stream",
     "text": [
      "MoviePy - Done.\n"
     ]
    },
    {
     "name": "stderr",
     "output_type": "stream",
     "text": [
      "\r"
     ]
    },
    {
     "name": "stdout",
     "output_type": "stream",
     "text": [
      "MoviePy - Writing audio in ../data/trial/audio/truthful\\trial_truth_004.wav\n"
     ]
    },
    {
     "name": "stderr",
     "output_type": "stream",
     "text": [
      "                                                                    \r"
     ]
    },
    {
     "name": "stdout",
     "output_type": "stream",
     "text": [
      "MoviePy - Done.\n",
      "MoviePy - Writing audio in ../data/trial/audio/truthful\\trial_truth_005.wav\n"
     ]
    },
    {
     "name": "stderr",
     "output_type": "stream",
     "text": [
      "                                                                    \r"
     ]
    },
    {
     "name": "stdout",
     "output_type": "stream",
     "text": [
      "MoviePy - Done.\n",
      "MoviePy - Writing audio in ../data/trial/audio/truthful\\trial_truth_006.wav\n"
     ]
    },
    {
     "name": "stderr",
     "output_type": "stream",
     "text": [
      "                                                                   \r"
     ]
    },
    {
     "name": "stdout",
     "output_type": "stream",
     "text": [
      "MoviePy - Done.\n",
      "MoviePy - Writing audio in ../data/trial/audio/truthful\\trial_truth_007.wav\n"
     ]
    },
    {
     "name": "stderr",
     "output_type": "stream",
     "text": [
      "                                                                    \r"
     ]
    },
    {
     "name": "stdout",
     "output_type": "stream",
     "text": [
      "MoviePy - Done.\n",
      "MoviePy - Writing audio in ../data/trial/audio/truthful\\trial_truth_008.wav\n"
     ]
    },
    {
     "name": "stderr",
     "output_type": "stream",
     "text": [
      "                                                                   \r"
     ]
    },
    {
     "name": "stdout",
     "output_type": "stream",
     "text": [
      "MoviePy - Done.\n",
      "MoviePy - Writing audio in ../data/trial/audio/truthful\\trial_truth_009.wav\n"
     ]
    },
    {
     "name": "stderr",
     "output_type": "stream",
     "text": [
      "                                                                    "
     ]
    },
    {
     "name": "stdout",
     "output_type": "stream",
     "text": [
      "MoviePy - Done.\n"
     ]
    },
    {
     "name": "stderr",
     "output_type": "stream",
     "text": [
      "\r"
     ]
    },
    {
     "name": "stdout",
     "output_type": "stream",
     "text": [
      "MoviePy - Writing audio in ../data/trial/audio/truthful\\trial_truth_010.wav\n"
     ]
    },
    {
     "name": "stderr",
     "output_type": "stream",
     "text": [
      "                                                                   \r"
     ]
    },
    {
     "name": "stdout",
     "output_type": "stream",
     "text": [
      "MoviePy - Done.\n",
      "MoviePy - Writing audio in ../data/trial/audio/truthful\\trial_truth_011.wav\n"
     ]
    },
    {
     "name": "stderr",
     "output_type": "stream",
     "text": [
      "                                                                    \r"
     ]
    },
    {
     "name": "stdout",
     "output_type": "stream",
     "text": [
      "MoviePy - Done.\n",
      "MoviePy - Writing audio in ../data/trial/audio/truthful\\trial_truth_012.wav\n"
     ]
    },
    {
     "name": "stderr",
     "output_type": "stream",
     "text": [
      "                                                                  \r"
     ]
    },
    {
     "name": "stdout",
     "output_type": "stream",
     "text": [
      "MoviePy - Done.\n",
      "MoviePy - Writing audio in ../data/trial/audio/truthful\\trial_truth_013.wav\n"
     ]
    },
    {
     "name": "stderr",
     "output_type": "stream",
     "text": [
      "                                                                  \r"
     ]
    },
    {
     "name": "stdout",
     "output_type": "stream",
     "text": [
      "MoviePy - Done.\n",
      "MoviePy - Writing audio in ../data/trial/audio/truthful\\trial_truth_014.wav\n"
     ]
    },
    {
     "name": "stderr",
     "output_type": "stream",
     "text": [
      "                                                                  "
     ]
    },
    {
     "name": "stdout",
     "output_type": "stream",
     "text": [
      "MoviePy - Done.\n"
     ]
    },
    {
     "name": "stderr",
     "output_type": "stream",
     "text": [
      "\r"
     ]
    },
    {
     "name": "stdout",
     "output_type": "stream",
     "text": [
      "MoviePy - Writing audio in ../data/trial/audio/truthful\\trial_truth_015.wav\n"
     ]
    },
    {
     "name": "stderr",
     "output_type": "stream",
     "text": [
      "                                                                   \r"
     ]
    },
    {
     "name": "stdout",
     "output_type": "stream",
     "text": [
      "MoviePy - Done.\n",
      "MoviePy - Writing audio in ../data/trial/audio/truthful\\trial_truth_016.wav\n"
     ]
    },
    {
     "name": "stderr",
     "output_type": "stream",
     "text": [
      "                                                       "
     ]
    },
    {
     "name": "stdout",
     "output_type": "stream",
     "text": [
      "MoviePy - Done.\n"
     ]
    },
    {
     "name": "stderr",
     "output_type": "stream",
     "text": [
      "\r"
     ]
    },
    {
     "name": "stdout",
     "output_type": "stream",
     "text": [
      "MoviePy - Writing audio in ../data/trial/audio/truthful\\trial_truth_017.wav\n"
     ]
    },
    {
     "name": "stderr",
     "output_type": "stream",
     "text": [
      "                                                       "
     ]
    },
    {
     "name": "stdout",
     "output_type": "stream",
     "text": [
      "MoviePy - Done.\n"
     ]
    },
    {
     "name": "stderr",
     "output_type": "stream",
     "text": [
      "\r"
     ]
    },
    {
     "name": "stdout",
     "output_type": "stream",
     "text": [
      "MoviePy - Writing audio in ../data/trial/audio/truthful\\trial_truth_018.wav\n"
     ]
    },
    {
     "name": "stderr",
     "output_type": "stream",
     "text": [
      "                                                                 "
     ]
    },
    {
     "name": "stdout",
     "output_type": "stream",
     "text": [
      "MoviePy - Done.\n"
     ]
    },
    {
     "name": "stderr",
     "output_type": "stream",
     "text": [
      "\r"
     ]
    },
    {
     "name": "stdout",
     "output_type": "stream",
     "text": [
      "MoviePy - Writing audio in ../data/trial/audio/truthful\\trial_truth_019.wav\n"
     ]
    },
    {
     "name": "stderr",
     "output_type": "stream",
     "text": [
      "                                                                  "
     ]
    },
    {
     "name": "stdout",
     "output_type": "stream",
     "text": [
      "MoviePy - Done.\n"
     ]
    },
    {
     "name": "stderr",
     "output_type": "stream",
     "text": [
      "\r"
     ]
    },
    {
     "name": "stdout",
     "output_type": "stream",
     "text": [
      "MoviePy - Writing audio in ../data/trial/audio/truthful\\trial_truth_020.wav\n"
     ]
    },
    {
     "name": "stderr",
     "output_type": "stream",
     "text": [
      "                                                       "
     ]
    },
    {
     "name": "stdout",
     "output_type": "stream",
     "text": [
      "MoviePy - Done.\n"
     ]
    },
    {
     "name": "stderr",
     "output_type": "stream",
     "text": [
      "\r"
     ]
    },
    {
     "name": "stdout",
     "output_type": "stream",
     "text": [
      "MoviePy - Writing audio in ../data/trial/audio/truthful\\trial_truth_021.wav\n"
     ]
    },
    {
     "name": "stderr",
     "output_type": "stream",
     "text": [
      "                                                                 "
     ]
    },
    {
     "name": "stdout",
     "output_type": "stream",
     "text": [
      "MoviePy - Done.\n"
     ]
    },
    {
     "name": "stderr",
     "output_type": "stream",
     "text": [
      "\r"
     ]
    },
    {
     "name": "stdout",
     "output_type": "stream",
     "text": [
      "MoviePy - Writing audio in ../data/trial/audio/truthful\\trial_truth_022.wav\n"
     ]
    },
    {
     "name": "stderr",
     "output_type": "stream",
     "text": [
      "                                                                   \r"
     ]
    },
    {
     "name": "stdout",
     "output_type": "stream",
     "text": [
      "MoviePy - Done.\n",
      "MoviePy - Writing audio in ../data/trial/audio/truthful\\trial_truth_023.wav\n"
     ]
    },
    {
     "name": "stderr",
     "output_type": "stream",
     "text": [
      "                                                                    "
     ]
    },
    {
     "name": "stdout",
     "output_type": "stream",
     "text": [
      "MoviePy - Done.\n"
     ]
    },
    {
     "name": "stderr",
     "output_type": "stream",
     "text": [
      "\r"
     ]
    },
    {
     "name": "stdout",
     "output_type": "stream",
     "text": [
      "MoviePy - Writing audio in ../data/trial/audio/truthful\\trial_truth_024.wav\n"
     ]
    },
    {
     "name": "stderr",
     "output_type": "stream",
     "text": [
      "                                                                  \r"
     ]
    },
    {
     "name": "stdout",
     "output_type": "stream",
     "text": [
      "MoviePy - Done.\n",
      "MoviePy - Writing audio in ../data/trial/audio/truthful\\trial_truth_025.wav\n"
     ]
    },
    {
     "name": "stderr",
     "output_type": "stream",
     "text": [
      "                                                                    \r"
     ]
    },
    {
     "name": "stdout",
     "output_type": "stream",
     "text": [
      "MoviePy - Done.\n",
      "MoviePy - Writing audio in ../data/trial/audio/truthful\\trial_truth_026.wav\n"
     ]
    },
    {
     "name": "stderr",
     "output_type": "stream",
     "text": [
      "                                                                   \r"
     ]
    },
    {
     "name": "stdout",
     "output_type": "stream",
     "text": [
      "MoviePy - Done.\n",
      "MoviePy - Writing audio in ../data/trial/audio/truthful\\trial_truth_027.wav\n"
     ]
    },
    {
     "name": "stderr",
     "output_type": "stream",
     "text": [
      "                                                                    "
     ]
    },
    {
     "name": "stdout",
     "output_type": "stream",
     "text": [
      "MoviePy - Done.\n"
     ]
    },
    {
     "name": "stderr",
     "output_type": "stream",
     "text": [
      "\r"
     ]
    },
    {
     "name": "stdout",
     "output_type": "stream",
     "text": [
      "MoviePy - Writing audio in ../data/trial/audio/truthful\\trial_truth_028.wav\n"
     ]
    },
    {
     "name": "stderr",
     "output_type": "stream",
     "text": [
      "                                                                    "
     ]
    },
    {
     "name": "stdout",
     "output_type": "stream",
     "text": [
      "MoviePy - Done.\n"
     ]
    },
    {
     "name": "stderr",
     "output_type": "stream",
     "text": [
      "\r"
     ]
    },
    {
     "name": "stdout",
     "output_type": "stream",
     "text": [
      "MoviePy - Writing audio in ../data/trial/audio/truthful\\trial_truth_029.wav\n"
     ]
    },
    {
     "name": "stderr",
     "output_type": "stream",
     "text": [
      "                                                                    "
     ]
    },
    {
     "name": "stdout",
     "output_type": "stream",
     "text": [
      "MoviePy - Done.\n"
     ]
    },
    {
     "name": "stderr",
     "output_type": "stream",
     "text": [
      "\r"
     ]
    },
    {
     "name": "stdout",
     "output_type": "stream",
     "text": [
      "MoviePy - Writing audio in ../data/trial/audio/truthful\\trial_truth_030.wav\n"
     ]
    },
    {
     "name": "stderr",
     "output_type": "stream",
     "text": [
      "                                                                    \r"
     ]
    },
    {
     "name": "stdout",
     "output_type": "stream",
     "text": [
      "MoviePy - Done.\n",
      "MoviePy - Writing audio in ../data/trial/audio/truthful\\trial_truth_031.wav\n"
     ]
    },
    {
     "name": "stderr",
     "output_type": "stream",
     "text": [
      "                                                                  \r"
     ]
    },
    {
     "name": "stdout",
     "output_type": "stream",
     "text": [
      "MoviePy - Done.\n",
      "MoviePy - Writing audio in ../data/trial/audio/truthful\\trial_truth_032.wav\n"
     ]
    },
    {
     "name": "stderr",
     "output_type": "stream",
     "text": [
      "                                                                    \r"
     ]
    },
    {
     "name": "stdout",
     "output_type": "stream",
     "text": [
      "MoviePy - Done.\n",
      "MoviePy - Writing audio in ../data/trial/audio/truthful\\trial_truth_033.wav\n"
     ]
    },
    {
     "name": "stderr",
     "output_type": "stream",
     "text": [
      "                                                                  "
     ]
    },
    {
     "name": "stdout",
     "output_type": "stream",
     "text": [
      "MoviePy - Done.\n"
     ]
    },
    {
     "name": "stderr",
     "output_type": "stream",
     "text": [
      "\r"
     ]
    },
    {
     "name": "stdout",
     "output_type": "stream",
     "text": [
      "MoviePy - Writing audio in ../data/trial/audio/truthful\\trial_truth_034.wav\n"
     ]
    },
    {
     "name": "stderr",
     "output_type": "stream",
     "text": [
      "                                                                    \r"
     ]
    },
    {
     "name": "stdout",
     "output_type": "stream",
     "text": [
      "MoviePy - Done.\n",
      "MoviePy - Writing audio in ../data/trial/audio/truthful\\trial_truth_035.wav\n"
     ]
    },
    {
     "name": "stderr",
     "output_type": "stream",
     "text": [
      "                                                                    \r"
     ]
    },
    {
     "name": "stdout",
     "output_type": "stream",
     "text": [
      "MoviePy - Done.\n",
      "MoviePy - Writing audio in ../data/trial/audio/truthful\\trial_truth_036.wav\n"
     ]
    },
    {
     "name": "stderr",
     "output_type": "stream",
     "text": [
      "                                                                    \r"
     ]
    },
    {
     "name": "stdout",
     "output_type": "stream",
     "text": [
      "MoviePy - Done.\n",
      "MoviePy - Writing audio in ../data/trial/audio/truthful\\trial_truth_037.wav\n"
     ]
    },
    {
     "name": "stderr",
     "output_type": "stream",
     "text": [
      "                                                                    "
     ]
    },
    {
     "name": "stdout",
     "output_type": "stream",
     "text": [
      "MoviePy - Done.\n"
     ]
    },
    {
     "name": "stderr",
     "output_type": "stream",
     "text": [
      "\r"
     ]
    },
    {
     "name": "stdout",
     "output_type": "stream",
     "text": [
      "MoviePy - Writing audio in ../data/trial/audio/truthful\\trial_truth_038.wav\n"
     ]
    },
    {
     "name": "stderr",
     "output_type": "stream",
     "text": [
      "                                                                  \r"
     ]
    },
    {
     "name": "stdout",
     "output_type": "stream",
     "text": [
      "MoviePy - Done.\n",
      "MoviePy - Writing audio in ../data/trial/audio/truthful\\trial_truth_039.wav\n"
     ]
    },
    {
     "name": "stderr",
     "output_type": "stream",
     "text": [
      "                                                                  \r"
     ]
    },
    {
     "name": "stdout",
     "output_type": "stream",
     "text": [
      "MoviePy - Done.\n",
      "MoviePy - Writing audio in ../data/trial/audio/truthful\\trial_truth_040.wav\n"
     ]
    },
    {
     "name": "stderr",
     "output_type": "stream",
     "text": [
      "                                                                   \r"
     ]
    },
    {
     "name": "stdout",
     "output_type": "stream",
     "text": [
      "MoviePy - Done.\n",
      "MoviePy - Writing audio in ../data/trial/audio/truthful\\trial_truth_041.wav\n"
     ]
    },
    {
     "name": "stderr",
     "output_type": "stream",
     "text": [
      "                                                                   \r"
     ]
    },
    {
     "name": "stdout",
     "output_type": "stream",
     "text": [
      "MoviePy - Done.\n",
      "MoviePy - Writing audio in ../data/trial/audio/truthful\\trial_truth_042.wav\n"
     ]
    },
    {
     "name": "stderr",
     "output_type": "stream",
     "text": [
      "                                                                  \r"
     ]
    },
    {
     "name": "stdout",
     "output_type": "stream",
     "text": [
      "MoviePy - Done.\n",
      "MoviePy - Writing audio in ../data/trial/audio/truthful\\trial_truth_043.wav\n"
     ]
    },
    {
     "name": "stderr",
     "output_type": "stream",
     "text": [
      "                                                                  \r"
     ]
    },
    {
     "name": "stdout",
     "output_type": "stream",
     "text": [
      "MoviePy - Done.\n",
      "MoviePy - Writing audio in ../data/trial/audio/truthful\\trial_truth_044.wav\n"
     ]
    },
    {
     "name": "stderr",
     "output_type": "stream",
     "text": [
      "                                                                  \r"
     ]
    },
    {
     "name": "stdout",
     "output_type": "stream",
     "text": [
      "MoviePy - Done.\n",
      "MoviePy - Writing audio in ../data/trial/audio/truthful\\trial_truth_045.wav\n"
     ]
    },
    {
     "name": "stderr",
     "output_type": "stream",
     "text": [
      "                                                                   \r"
     ]
    },
    {
     "name": "stdout",
     "output_type": "stream",
     "text": [
      "MoviePy - Done.\n",
      "MoviePy - Writing audio in ../data/trial/audio/truthful\\trial_truth_046.wav\n"
     ]
    },
    {
     "name": "stderr",
     "output_type": "stream",
     "text": [
      "                                                                    \r"
     ]
    },
    {
     "name": "stdout",
     "output_type": "stream",
     "text": [
      "MoviePy - Done.\n",
      "MoviePy - Writing audio in ../data/trial/audio/truthful\\trial_truth_047.wav\n"
     ]
    },
    {
     "name": "stderr",
     "output_type": "stream",
     "text": [
      "                                                                    "
     ]
    },
    {
     "name": "stdout",
     "output_type": "stream",
     "text": [
      "MoviePy - Done.\n"
     ]
    },
    {
     "name": "stderr",
     "output_type": "stream",
     "text": [
      "\r"
     ]
    },
    {
     "name": "stdout",
     "output_type": "stream",
     "text": [
      "MoviePy - Writing audio in ../data/trial/audio/truthful\\trial_truth_048.wav\n"
     ]
    },
    {
     "name": "stderr",
     "output_type": "stream",
     "text": [
      "                                                                    "
     ]
    },
    {
     "name": "stdout",
     "output_type": "stream",
     "text": [
      "MoviePy - Done.\n"
     ]
    },
    {
     "name": "stderr",
     "output_type": "stream",
     "text": [
      "\r"
     ]
    },
    {
     "name": "stdout",
     "output_type": "stream",
     "text": [
      "MoviePy - Writing audio in ../data/trial/audio/truthful\\trial_truth_049.wav\n"
     ]
    },
    {
     "name": "stderr",
     "output_type": "stream",
     "text": [
      "                                                                  \r"
     ]
    },
    {
     "name": "stdout",
     "output_type": "stream",
     "text": [
      "MoviePy - Done.\n",
      "MoviePy - Writing audio in ../data/trial/audio/truthful\\trial_truth_050.wav\n"
     ]
    },
    {
     "name": "stderr",
     "output_type": "stream",
     "text": [
      "                                                                   "
     ]
    },
    {
     "name": "stdout",
     "output_type": "stream",
     "text": [
      "MoviePy - Done.\n"
     ]
    },
    {
     "name": "stderr",
     "output_type": "stream",
     "text": [
      "\r"
     ]
    },
    {
     "name": "stdout",
     "output_type": "stream",
     "text": [
      "MoviePy - Writing audio in ../data/trial/audio/truthful\\trial_truth_051.wav\n"
     ]
    },
    {
     "name": "stderr",
     "output_type": "stream",
     "text": [
      "                                                                  \r"
     ]
    },
    {
     "name": "stdout",
     "output_type": "stream",
     "text": [
      "MoviePy - Done.\n",
      "MoviePy - Writing audio in ../data/trial/audio/truthful\\trial_truth_052.wav\n"
     ]
    },
    {
     "name": "stderr",
     "output_type": "stream",
     "text": [
      "                                                                    \r"
     ]
    },
    {
     "name": "stdout",
     "output_type": "stream",
     "text": [
      "MoviePy - Done.\n",
      "MoviePy - Writing audio in ../data/trial/audio/truthful\\trial_truth_053.wav\n"
     ]
    },
    {
     "name": "stderr",
     "output_type": "stream",
     "text": [
      "                                                                   \r"
     ]
    },
    {
     "name": "stdout",
     "output_type": "stream",
     "text": [
      "MoviePy - Done.\n",
      "MoviePy - Writing audio in ../data/trial/audio/truthful\\trial_truth_054.wav\n"
     ]
    },
    {
     "name": "stderr",
     "output_type": "stream",
     "text": [
      "                                                                    "
     ]
    },
    {
     "name": "stdout",
     "output_type": "stream",
     "text": [
      "MoviePy - Done.\n"
     ]
    },
    {
     "name": "stderr",
     "output_type": "stream",
     "text": [
      "\r"
     ]
    },
    {
     "name": "stdout",
     "output_type": "stream",
     "text": [
      "MoviePy - Writing audio in ../data/trial/audio/truthful\\trial_truth_055.wav\n"
     ]
    },
    {
     "name": "stderr",
     "output_type": "stream",
     "text": [
      "                                                                    "
     ]
    },
    {
     "name": "stdout",
     "output_type": "stream",
     "text": [
      "MoviePy - Done.\n"
     ]
    },
    {
     "name": "stderr",
     "output_type": "stream",
     "text": [
      "\r"
     ]
    },
    {
     "name": "stdout",
     "output_type": "stream",
     "text": [
      "MoviePy - Writing audio in ../data/trial/audio/truthful\\trial_truth_056.wav\n"
     ]
    },
    {
     "name": "stderr",
     "output_type": "stream",
     "text": [
      "                                                                  \r"
     ]
    },
    {
     "name": "stdout",
     "output_type": "stream",
     "text": [
      "MoviePy - Done.\n",
      "MoviePy - Writing audio in ../data/trial/audio/truthful\\trial_truth_057.wav\n"
     ]
    },
    {
     "name": "stderr",
     "output_type": "stream",
     "text": [
      "                                                                   \r"
     ]
    },
    {
     "name": "stdout",
     "output_type": "stream",
     "text": [
      "MoviePy - Done.\n",
      "MoviePy - Writing audio in ../data/trial/audio/truthful\\trial_truth_058.wav\n"
     ]
    },
    {
     "name": "stderr",
     "output_type": "stream",
     "text": [
      "                                                                    "
     ]
    },
    {
     "name": "stdout",
     "output_type": "stream",
     "text": [
      "MoviePy - Done.\n"
     ]
    },
    {
     "name": "stderr",
     "output_type": "stream",
     "text": [
      "\r"
     ]
    },
    {
     "name": "stdout",
     "output_type": "stream",
     "text": [
      "MoviePy - Writing audio in ../data/trial/audio/truthful\\trial_truth_059.wav\n"
     ]
    },
    {
     "name": "stderr",
     "output_type": "stream",
     "text": [
      "                                                                    "
     ]
    },
    {
     "name": "stdout",
     "output_type": "stream",
     "text": [
      "MoviePy - Done.\n"
     ]
    },
    {
     "name": "stderr",
     "output_type": "stream",
     "text": [
      "\r"
     ]
    },
    {
     "name": "stdout",
     "output_type": "stream",
     "text": [
      "MoviePy - Writing audio in ../data/trial/audio/truthful\\trial_truth_060.wav\n"
     ]
    },
    {
     "name": "stderr",
     "output_type": "stream",
     "text": [
      "                                                                    "
     ]
    },
    {
     "name": "stdout",
     "output_type": "stream",
     "text": [
      "MoviePy - Done.\n"
     ]
    },
    {
     "name": "stderr",
     "output_type": "stream",
     "text": [
      "\r"
     ]
    }
   ],
   "source": [
    "\n",
    "# Define the directory to save the extracted audio files\n",
    "deceptive_path_audio = \"../data/trial/audio/deceptive\"\n",
    "\n",
    "truthful_path_audio = \"../data/trial/audio/truthful\"\n",
    "\n",
    "save_audio_from_video(deceptive_dirs, deceptive_path_audio)\n",
    "save_audio_from_video(truthful_dirs, truthful_path_audio)"
   ],
   "metadata": {
    "collapsed": false
   }
  },
  {
   "cell_type": "code",
   "execution_count": 8,
   "outputs": [],
   "source": [
    "import pandas\n",
    "\n",
    "annotations = pandas.read_csv(r\"../data/bagoflies/BagOfLies/Annotations.csv\")\n",
    "dirs = annotations.video.tolist()\n",
    "dirs = [txt.replace(\"./\", \"../data/bagoflies/BagOfLies/\") for txt in dirs]"
   ],
   "metadata": {
    "collapsed": false
   }
  },
  {
   "cell_type": "code",
   "execution_count": 19,
   "outputs": [],
   "source": [
    "from moviepy.editor import *\n",
    "import os\n",
    "\n",
    "def save_audio_from_video(dirs, save_dir):\n",
    "    # Check if the directory exists & make it if it does not\n",
    "    if not os.path.exists(save_dir):\n",
    "        os.makedirs(save_dir)\n",
    "\n",
    "    # Go over all dirs in the list\n",
    "    for video_path in dirs:\n",
    "        # Load the video and get the audio\n",
    "        video = VideoFileClip(video_path)\n",
    "        audio = video.audio\n",
    "\n",
    "        # Sanitize the string from dirs to create a valid filename\n",
    "        sanitized_filename = video_path.replace('/', '_').replace('\\\\', '_').replace(':', '_').replace(\".mp4\", \".wav\")\n",
    "\n",
    "        # Save to correct path & write\n",
    "        audio_save_path = os.path.join(save_dir, sanitized_filename)\n",
    "        audio.write_audiofile(audio_save_path, fps=16000)\n",
    "\n",
    "        # Close for memory purposes\n",
    "        video.reader.close()\n",
    "        video.audio.reader.close_proc()\n",
    "        audio.reader.close_proc()\n"
   ],
   "metadata": {
    "collapsed": false
   }
  },
  {
   "cell_type": "code",
   "execution_count": 20,
   "outputs": [
    {
     "name": "stderr",
     "output_type": "stream",
     "text": [
      "                                                                \r\n",
      "chunk:  27%|██▋       | 19/70 [02:22<06:22,  7.49s/it, now=None]\n",
      "chunk:  21%|██▏       | 15/70 [01:26<05:16,  5.75s/it, now=None]\u001B[A"
     ]
    },
    {
     "name": "stdout",
     "output_type": "stream",
     "text": [
      "MoviePy - Writing audio in ../data/bagoflies/BagOfLies/audio\\.._data_bagoflies_BagOfLies_Finalised_User_0_run_0_video.wav\n"
     ]
    },
    {
     "name": "stderr",
     "output_type": "stream",
     "text": [
      "\n",
      "\n",
      "chunk:   0%|          | 0/70 [00:00<?, ?it/s, now=None]\u001B[A\u001B[A\n",
      "\n",
      "                                                                \r\n",
      "chunk:  27%|██▋       | 19/70 [02:22<06:22,  7.50s/it, now=None]\n",
      "chunk:  21%|██▏       | 15/70 [01:26<05:16,  5.76s/it, now=None]\u001B[A"
     ]
    },
    {
     "name": "stdout",
     "output_type": "stream",
     "text": [
      "MoviePy - Done.\n"
     ]
    },
    {
     "name": "stderr",
     "output_type": "stream",
     "text": [
      "                                                                \r\n",
      "chunk:  27%|██▋       | 19/70 [02:22<06:23,  7.51s/it, now=None]\n",
      "chunk:  21%|██▏       | 15/70 [01:26<05:17,  5.78s/it, now=None]\u001B[A"
     ]
    },
    {
     "name": "stdout",
     "output_type": "stream",
     "text": [
      "MoviePy - Writing audio in ../data/bagoflies/BagOfLies/audio\\.._data_bagoflies_BagOfLies_Finalised_User_0_run_1_video.wav\n"
     ]
    },
    {
     "name": "stderr",
     "output_type": "stream",
     "text": [
      "\n",
      "\n",
      "chunk:   0%|          | 0/61 [00:00<?, ?it/s, now=None]\u001B[A\u001B[A\n",
      "\n",
      "                                                                \r\n",
      "chunk:  27%|██▋       | 19/70 [02:22<06:23,  7.51s/it, now=None]\n",
      "chunk:  21%|██▏       | 15/70 [01:26<05:18,  5.79s/it, now=None]\u001B[A"
     ]
    },
    {
     "name": "stdout",
     "output_type": "stream",
     "text": [
      "MoviePy - Done.\n"
     ]
    },
    {
     "name": "stderr",
     "output_type": "stream",
     "text": [
      "                                                                \r\n",
      "chunk:  27%|██▋       | 19/70 [02:23<06:24,  7.53s/it, now=None]\n",
      "chunk:  21%|██▏       | 15/70 [01:27<05:19,  5.80s/it, now=None]\u001B[A"
     ]
    },
    {
     "name": "stdout",
     "output_type": "stream",
     "text": [
      "MoviePy - Writing audio in ../data/bagoflies/BagOfLies/audio\\.._data_bagoflies_BagOfLies_Finalised_User_0_run_2_video.wav\n"
     ]
    },
    {
     "name": "stderr",
     "output_type": "stream",
     "text": [
      "\n",
      "\n",
      "chunk:   0%|          | 0/66 [00:00<?, ?it/s, now=None]\u001B[A\u001B[A\n",
      "\n",
      "chunk:  56%|█████▌    | 37/66 [00:00<00:00, 162.79it/s, now=None]\u001B[A\u001B[A\n",
      "\n",
      "                                                                 \u001B[A\u001B[A\r\n",
      "chunk:  27%|██▋       | 19/70 [02:23<06:24,  7.54s/it, now=None]\n",
      "chunk:  21%|██▏       | 15/70 [01:27<05:20,  5.82s/it, now=None]\u001B[A"
     ]
    },
    {
     "name": "stdout",
     "output_type": "stream",
     "text": [
      "MoviePy - Done.\n"
     ]
    },
    {
     "name": "stderr",
     "output_type": "stream",
     "text": [
      "                                                                \r\n",
      "chunk:  27%|██▋       | 19/70 [02:23<06:25,  7.56s/it, now=None]\n",
      "chunk:  21%|██▏       | 15/70 [01:27<05:21,  5.84s/it, now=None]\u001B[A"
     ]
    },
    {
     "name": "stdout",
     "output_type": "stream",
     "text": [
      "MoviePy - Writing audio in ../data/bagoflies/BagOfLies/audio\\.._data_bagoflies_BagOfLies_Finalised_User_0_run_3_video.wav\n"
     ]
    },
    {
     "name": "stderr",
     "output_type": "stream",
     "text": [
      "\n",
      "\n",
      "chunk:   0%|          | 0/60 [00:00<?, ?it/s, now=None]\u001B[A\u001B[A\n",
      "\n",
      "                                                                \r\n",
      "chunk:  27%|██▋       | 19/70 [02:23<06:25,  7.56s/it, now=None]\n",
      "chunk:  21%|██▏       | 15/70 [01:27<05:21,  5.85s/it, now=None]\u001B[A"
     ]
    },
    {
     "name": "stdout",
     "output_type": "stream",
     "text": [
      "MoviePy - Done.\n"
     ]
    },
    {
     "name": "stderr",
     "output_type": "stream",
     "text": [
      "                                                                \r\n",
      "chunk:  27%|██▋       | 19/70 [02:23<06:26,  7.58s/it, now=None]\n",
      "chunk:  21%|██▏       | 15/70 [01:27<05:22,  5.87s/it, now=None]\u001B[A"
     ]
    },
    {
     "name": "stdout",
     "output_type": "stream",
     "text": [
      "MoviePy - Writing audio in ../data/bagoflies/BagOfLies/audio\\.._data_bagoflies_BagOfLies_Finalised_User_0_run_4_video.wav\n"
     ]
    },
    {
     "name": "stderr",
     "output_type": "stream",
     "text": [
      "\n",
      "\n",
      "chunk:   0%|          | 0/49 [00:00<?, ?it/s, now=None]\u001B[A\u001B[A\n",
      "\n",
      "                                                                \r\n",
      "chunk:  27%|██▋       | 19/70 [02:24<06:26,  7.58s/it, now=None]\n",
      "chunk:  21%|██▏       | 15/70 [01:28<05:22,  5.87s/it, now=None]\u001B[A"
     ]
    },
    {
     "name": "stdout",
     "output_type": "stream",
     "text": [
      "MoviePy - Done.\n"
     ]
    },
    {
     "name": "stderr",
     "output_type": "stream",
     "text": [
      "                                                                \r\n",
      "chunk:  27%|██▋       | 19/70 [02:24<06:27,  7.60s/it, now=None]\n",
      "chunk:  21%|██▏       | 15/70 [01:28<05:23,  5.89s/it, now=None]\u001B[A"
     ]
    },
    {
     "name": "stdout",
     "output_type": "stream",
     "text": [
      "MoviePy - Writing audio in ../data/bagoflies/BagOfLies/audio\\.._data_bagoflies_BagOfLies_Finalised_User_0_run_5_video.wav\n"
     ]
    },
    {
     "name": "stderr",
     "output_type": "stream",
     "text": [
      "\n",
      "\n",
      "chunk:   0%|          | 0/63 [00:00<?, ?it/s, now=None]\u001B[A\u001B[A\n",
      "\n",
      "                                                                \r\n",
      "chunk:  27%|██▋       | 19/70 [02:24<06:27,  7.60s/it, now=None]\n",
      "chunk:  21%|██▏       | 15/70 [01:28<05:24,  5.90s/it, now=None]\u001B[A"
     ]
    },
    {
     "name": "stdout",
     "output_type": "stream",
     "text": [
      "MoviePy - Done.\n"
     ]
    },
    {
     "name": "stderr",
     "output_type": "stream",
     "text": [
      "                                                                \r\n",
      "chunk:  27%|██▋       | 19/70 [02:24<06:28,  7.62s/it, now=None]\n",
      "chunk:  21%|██▏       | 15/70 [01:28<05:25,  5.92s/it, now=None]\u001B[A"
     ]
    },
    {
     "name": "stdout",
     "output_type": "stream",
     "text": [
      "MoviePy - Writing audio in ../data/bagoflies/BagOfLies/audio\\.._data_bagoflies_BagOfLies_Finalised_User_1_run_0_video.wav\n"
     ]
    },
    {
     "name": "stderr",
     "output_type": "stream",
     "text": [
      "\n",
      "\n",
      "chunk:   0%|          | 0/85 [00:00<?, ?it/s, now=None]\u001B[A\u001B[A\n",
      "\n",
      "chunk:  89%|████████▉ | 76/85 [00:00<00:00, 752.98it/s, now=None]\u001B[A\u001B[A\n",
      "\n",
      "                                                                 \u001B[A\u001B[A\r\n",
      "chunk:  27%|██▋       | 19/70 [02:24<06:28,  7.63s/it, now=None]\n",
      "chunk:  21%|██▏       | 15/70 [01:28<05:25,  5.93s/it, now=None]\u001B[A"
     ]
    },
    {
     "name": "stdout",
     "output_type": "stream",
     "text": [
      "MoviePy - Done.\n"
     ]
    },
    {
     "name": "stderr",
     "output_type": "stream",
     "text": [
      "                                                                \r\n",
      "chunk:  27%|██▋       | 19/70 [02:25<06:29,  7.64s/it, now=None]\n",
      "chunk:  21%|██▏       | 15/70 [01:29<05:27,  5.95s/it, now=None]\u001B[A"
     ]
    },
    {
     "name": "stdout",
     "output_type": "stream",
     "text": [
      "MoviePy - Writing audio in ../data/bagoflies/BagOfLies/audio\\.._data_bagoflies_BagOfLies_Finalised_User_1_run_1_video.wav\n"
     ]
    },
    {
     "name": "stderr",
     "output_type": "stream",
     "text": [
      "\n",
      "\n",
      "chunk:   0%|          | 0/67 [00:00<?, ?it/s, now=None]\u001B[A\u001B[A\n",
      "\n",
      "                                                                \r\n",
      "chunk:  27%|██▋       | 19/70 [02:25<06:30,  7.65s/it, now=None]\n",
      "chunk:  21%|██▏       | 15/70 [01:29<05:27,  5.95s/it, now=None]\u001B[A"
     ]
    },
    {
     "name": "stdout",
     "output_type": "stream",
     "text": [
      "MoviePy - Done.\n"
     ]
    },
    {
     "name": "stderr",
     "output_type": "stream",
     "text": [
      "                                                                \r\n",
      "chunk:  27%|██▋       | 19/70 [02:25<06:30,  7.67s/it, now=None]\n",
      "chunk:  21%|██▏       | 15/70 [01:29<05:28,  5.98s/it, now=None]\u001B[A"
     ]
    },
    {
     "name": "stdout",
     "output_type": "stream",
     "text": [
      "MoviePy - Writing audio in ../data/bagoflies/BagOfLies/audio\\.._data_bagoflies_BagOfLies_Finalised_User_1_run_2_video.wav\n"
     ]
    },
    {
     "name": "stderr",
     "output_type": "stream",
     "text": [
      "\n",
      "\n",
      "chunk:   0%|          | 0/63 [00:00<?, ?it/s, now=None]\u001B[A\u001B[A\n",
      "\n",
      "                                                                \r\n",
      "chunk:  27%|██▋       | 19/70 [02:25<06:31,  7.67s/it, now=None]\n",
      "chunk:  21%|██▏       | 15/70 [01:29<05:29,  5.98s/it, now=None]\u001B[A"
     ]
    },
    {
     "name": "stdout",
     "output_type": "stream",
     "text": [
      "MoviePy - Done.\n"
     ]
    },
    {
     "name": "stderr",
     "output_type": "stream",
     "text": [
      "                                                                \r\n",
      "chunk:  27%|██▋       | 19/70 [02:26<06:32,  7.69s/it, now=None]\n",
      "chunk:  21%|██▏       | 15/70 [01:30<05:30,  6.00s/it, now=None]\u001B[A"
     ]
    },
    {
     "name": "stdout",
     "output_type": "stream",
     "text": [
      "MoviePy - Writing audio in ../data/bagoflies/BagOfLies/audio\\.._data_bagoflies_BagOfLies_Finalised_User_1_run_3_video.wav\n"
     ]
    },
    {
     "name": "stderr",
     "output_type": "stream",
     "text": [
      "\n",
      "\n",
      "chunk:   0%|          | 0/83 [00:00<?, ?it/s, now=None]\u001B[A\u001B[A\n",
      "\n",
      "                                                                \r\n",
      "chunk:  27%|██▋       | 19/70 [02:26<06:32,  7.69s/it, now=None]\n",
      "chunk:  21%|██▏       | 15/70 [01:30<05:30,  6.01s/it, now=None]\u001B[A"
     ]
    },
    {
     "name": "stdout",
     "output_type": "stream",
     "text": [
      "MoviePy - Done.\n"
     ]
    },
    {
     "name": "stderr",
     "output_type": "stream",
     "text": [
      "                                                                \r\n",
      "chunk:  27%|██▋       | 19/70 [02:26<06:33,  7.71s/it, now=None]\n",
      "chunk:  21%|██▏       | 15/70 [01:30<05:31,  6.03s/it, now=None]\u001B[A"
     ]
    },
    {
     "name": "stdout",
     "output_type": "stream",
     "text": [
      "MoviePy - Writing audio in ../data/bagoflies/BagOfLies/audio\\.._data_bagoflies_BagOfLies_Finalised_User_1_run_4_video.wav\n"
     ]
    },
    {
     "name": "stderr",
     "output_type": "stream",
     "text": [
      "\n",
      "\n",
      "chunk:   0%|          | 0/82 [00:00<?, ?it/s, now=None]\u001B[A\u001B[A\n",
      "\n",
      "                                                                \r\n",
      "chunk:  27%|██▋       | 19/70 [02:26<06:33,  7.72s/it, now=None]\n",
      "chunk:  21%|██▏       | 15/70 [01:30<05:32,  6.04s/it, now=None]\u001B[A"
     ]
    },
    {
     "name": "stdout",
     "output_type": "stream",
     "text": [
      "MoviePy - Done.\n"
     ]
    },
    {
     "name": "stderr",
     "output_type": "stream",
     "text": [
      "                                                                \r\n",
      "chunk:  27%|██▋       | 19/70 [02:26<06:34,  7.73s/it, now=None]\n",
      "chunk:  21%|██▏       | 15/70 [01:30<05:33,  6.06s/it, now=None]\u001B[A"
     ]
    },
    {
     "name": "stdout",
     "output_type": "stream",
     "text": [
      "MoviePy - Writing audio in ../data/bagoflies/BagOfLies/audio\\.._data_bagoflies_BagOfLies_Finalised_User_1_run_5_video.wav\n"
     ]
    },
    {
     "name": "stderr",
     "output_type": "stream",
     "text": [
      "\n",
      "\n",
      "chunk:   0%|          | 0/97 [00:00<?, ?it/s, now=None]\u001B[A\u001B[A\n",
      "\n",
      "                                                                \r\n",
      "chunk:  27%|██▋       | 19/70 [02:27<06:34,  7.74s/it, now=None]\n",
      "chunk:  21%|██▏       | 15/70 [01:31<05:33,  6.07s/it, now=None]\u001B[A"
     ]
    },
    {
     "name": "stdout",
     "output_type": "stream",
     "text": [
      "MoviePy - Done.\n"
     ]
    },
    {
     "name": "stderr",
     "output_type": "stream",
     "text": [
      "                                                                \r\n",
      "chunk:  27%|██▋       | 19/70 [02:27<06:35,  7.76s/it, now=None]\n",
      "chunk:  21%|██▏       | 15/70 [01:31<05:35,  6.09s/it, now=None]\u001B[A"
     ]
    },
    {
     "name": "stdout",
     "output_type": "stream",
     "text": [
      "MoviePy - Writing audio in ../data/bagoflies/BagOfLies/audio\\.._data_bagoflies_BagOfLies_Finalised_User_2_run_0_video.wav\n"
     ]
    },
    {
     "name": "stderr",
     "output_type": "stream",
     "text": [
      "\n",
      "\n",
      "chunk:   0%|          | 0/62 [00:00<?, ?it/s, now=None]\u001B[A\u001B[A\n",
      "\n",
      "                                                                \r\n",
      "chunk:  27%|██▋       | 19/70 [02:27<06:35,  7.76s/it, now=None]\n",
      "chunk:  21%|██▏       | 15/70 [01:31<05:35,  6.10s/it, now=None]\u001B[A"
     ]
    },
    {
     "name": "stdout",
     "output_type": "stream",
     "text": [
      "MoviePy - Done.\n"
     ]
    },
    {
     "name": "stderr",
     "output_type": "stream",
     "text": [
      "                                                                \r\n",
      "chunk:  27%|██▋       | 19/70 [02:27<06:36,  7.78s/it, now=None]\n",
      "chunk:  21%|██▏       | 15/70 [01:31<05:36,  6.12s/it, now=None]\u001B[A"
     ]
    },
    {
     "name": "stdout",
     "output_type": "stream",
     "text": [
      "MoviePy - Writing audio in ../data/bagoflies/BagOfLies/audio\\.._data_bagoflies_BagOfLies_Finalised_User_2_run_1_video.wav\n"
     ]
    },
    {
     "name": "stderr",
     "output_type": "stream",
     "text": [
      "\n",
      "\n",
      "chunk:   0%|          | 0/45 [00:00<?, ?it/s, now=None]\u001B[A\u001B[A\n",
      "\n",
      "                                                                \r\n",
      "chunk:  27%|██▋       | 19/70 [02:27<06:37,  7.79s/it, now=None]\n",
      "chunk:  21%|██▏       | 15/70 [01:31<05:37,  6.13s/it, now=None]\u001B[A"
     ]
    },
    {
     "name": "stdout",
     "output_type": "stream",
     "text": [
      "MoviePy - Done.\n"
     ]
    },
    {
     "name": "stderr",
     "output_type": "stream",
     "text": [
      "                                                                \r\n",
      "chunk:  27%|██▋       | 19/70 [02:28<06:37,  7.80s/it, now=None]\n",
      "chunk:  21%|██▏       | 15/70 [01:32<05:38,  6.15s/it, now=None]\u001B[A"
     ]
    },
    {
     "name": "stdout",
     "output_type": "stream",
     "text": [
      "MoviePy - Writing audio in ../data/bagoflies/BagOfLies/audio\\.._data_bagoflies_BagOfLies_Finalised_User_2_run_2_video.wav\n"
     ]
    },
    {
     "name": "stderr",
     "output_type": "stream",
     "text": [
      "\n",
      "\n",
      "chunk:   0%|          | 0/69 [00:00<?, ?it/s, now=None]\u001B[A\u001B[A\n",
      "\n",
      "                                                                \r\n",
      "chunk:  27%|██▋       | 19/70 [02:28<06:38,  7.81s/it, now=None]\n",
      "chunk:  21%|██▏       | 15/70 [01:32<05:38,  6.16s/it, now=None]\u001B[A"
     ]
    },
    {
     "name": "stdout",
     "output_type": "stream",
     "text": [
      "MoviePy - Done.\n"
     ]
    },
    {
     "name": "stderr",
     "output_type": "stream",
     "text": [
      "                                                                \r\n",
      "chunk:  27%|██▋       | 19/70 [02:28<06:39,  7.83s/it, now=None]\n",
      "chunk:  21%|██▏       | 15/70 [01:32<05:39,  6.18s/it, now=None]\u001B[A"
     ]
    },
    {
     "name": "stdout",
     "output_type": "stream",
     "text": [
      "MoviePy - Writing audio in ../data/bagoflies/BagOfLies/audio\\.._data_bagoflies_BagOfLies_Finalised_User_3_run_0_video.wav\n"
     ]
    },
    {
     "name": "stderr",
     "output_type": "stream",
     "text": [
      "\n",
      "\n",
      "chunk:   0%|          | 0/56 [00:00<?, ?it/s, now=None]\u001B[A\u001B[A\n",
      "\n",
      "chunk:  66%|██████▌   | 37/56 [00:00<00:00, 128.27it/s, now=None]\u001B[A\u001B[A\n",
      "\n",
      "                                                                 \u001B[A\u001B[A\r\n",
      "chunk:  27%|██▋       | 19/70 [02:29<06:40,  7.84s/it, now=None]\n",
      "chunk:  21%|██▏       | 15/70 [01:33<05:41,  6.20s/it, now=None]\u001B[A"
     ]
    },
    {
     "name": "stdout",
     "output_type": "stream",
     "text": [
      "MoviePy - Done.\n"
     ]
    },
    {
     "name": "stderr",
     "output_type": "stream",
     "text": [
      "                                                                \r\n",
      "chunk:  27%|██▋       | 19/70 [02:29<06:40,  7.86s/it, now=None]\n",
      "chunk:  21%|██▏       | 15/70 [01:33<05:42,  6.22s/it, now=None]\u001B[A"
     ]
    },
    {
     "name": "stdout",
     "output_type": "stream",
     "text": [
      "MoviePy - Writing audio in ../data/bagoflies/BagOfLies/audio\\.._data_bagoflies_BagOfLies_Finalised_User_3_run_1_video.wav\n"
     ]
    },
    {
     "name": "stderr",
     "output_type": "stream",
     "text": [
      "\n",
      "\n",
      "chunk:   0%|          | 0/73 [00:00<?, ?it/s, now=None]\u001B[A\u001B[A\n",
      "\n",
      "                                                                \r\n",
      "chunk:  27%|██▋       | 19/70 [02:29<06:41,  7.87s/it, now=None]\n",
      "chunk:  21%|██▏       | 15/70 [01:33<05:42,  6.23s/it, now=None]\u001B[A"
     ]
    },
    {
     "name": "stdout",
     "output_type": "stream",
     "text": [
      "MoviePy - Done.\n"
     ]
    },
    {
     "name": "stderr",
     "output_type": "stream",
     "text": [
      "                                                                \r\n",
      "chunk:  27%|██▋       | 19/70 [02:29<06:41,  7.88s/it, now=None]\n",
      "chunk:  21%|██▏       | 15/70 [01:33<05:43,  6.25s/it, now=None]\u001B[A"
     ]
    },
    {
     "name": "stdout",
     "output_type": "stream",
     "text": [
      "MoviePy - Writing audio in ../data/bagoflies/BagOfLies/audio\\.._data_bagoflies_BagOfLies_Finalised_User_3_run_2_video.wav\n"
     ]
    },
    {
     "name": "stderr",
     "output_type": "stream",
     "text": [
      "\n",
      "\n",
      "chunk:   0%|          | 0/56 [00:00<?, ?it/s, now=None]\u001B[A\u001B[A\n",
      "\n",
      "                                                                \r\n",
      "chunk:  27%|██▋       | 19/70 [02:29<06:42,  7.89s/it, now=None]\n",
      "chunk:  21%|██▏       | 15/70 [01:33<05:44,  6.26s/it, now=None]\u001B[A"
     ]
    },
    {
     "name": "stdout",
     "output_type": "stream",
     "text": [
      "MoviePy - Done.\n"
     ]
    },
    {
     "name": "stderr",
     "output_type": "stream",
     "text": [
      "                                                                \r\n",
      "chunk:  27%|██▋       | 19/70 [02:30<06:43,  7.90s/it, now=None]\n",
      "chunk:  21%|██▏       | 15/70 [01:34<05:45,  6.28s/it, now=None]\u001B[A"
     ]
    },
    {
     "name": "stdout",
     "output_type": "stream",
     "text": [
      "MoviePy - Writing audio in ../data/bagoflies/BagOfLies/audio\\.._data_bagoflies_BagOfLies_Finalised_User_3_run_3_video.wav\n"
     ]
    },
    {
     "name": "stderr",
     "output_type": "stream",
     "text": [
      "\n",
      "\n",
      "chunk:   0%|          | 0/67 [00:00<?, ?it/s, now=None]\u001B[A\u001B[A\n",
      "\n",
      "                                                                \r\n",
      "chunk:  27%|██▋       | 19/70 [02:30<06:43,  7.91s/it, now=None]\n",
      "chunk:  21%|██▏       | 15/70 [01:34<05:45,  6.28s/it, now=None]\u001B[A"
     ]
    },
    {
     "name": "stdout",
     "output_type": "stream",
     "text": [
      "MoviePy - Done.\n"
     ]
    },
    {
     "name": "stderr",
     "output_type": "stream",
     "text": [
      "                                                                \r\n",
      "chunk:  27%|██▋       | 19/70 [02:30<06:44,  7.92s/it, now=None]\n",
      "chunk:  21%|██▏       | 15/70 [01:34<05:46,  6.30s/it, now=None]\u001B[A"
     ]
    },
    {
     "name": "stdout",
     "output_type": "stream",
     "text": [
      "MoviePy - Writing audio in ../data/bagoflies/BagOfLies/audio\\.._data_bagoflies_BagOfLies_Finalised_User_3_run_4_video.wav\n"
     ]
    },
    {
     "name": "stderr",
     "output_type": "stream",
     "text": [
      "\n",
      "\n",
      "chunk:   0%|          | 0/59 [00:00<?, ?it/s, now=None]\u001B[A\u001B[A\n",
      "\n",
      "                                                                \r\n",
      "chunk:  27%|██▋       | 19/70 [02:30<06:44,  7.93s/it, now=None]\n",
      "chunk:  21%|██▏       | 15/70 [01:34<05:47,  6.31s/it, now=None]\u001B[A"
     ]
    },
    {
     "name": "stdout",
     "output_type": "stream",
     "text": [
      "MoviePy - Done.\n"
     ]
    },
    {
     "name": "stderr",
     "output_type": "stream",
     "text": [
      "                                                                \r\n",
      "chunk:  27%|██▋       | 19/70 [02:30<06:45,  7.95s/it, now=None]\n",
      "chunk:  21%|██▏       | 15/70 [01:34<05:48,  6.33s/it, now=None]\u001B[A"
     ]
    },
    {
     "name": "stdout",
     "output_type": "stream",
     "text": [
      "MoviePy - Writing audio in ../data/bagoflies/BagOfLies/audio\\.._data_bagoflies_BagOfLies_Finalised_User_3_run_5_video.wav\n"
     ]
    },
    {
     "name": "stderr",
     "output_type": "stream",
     "text": [
      "\n",
      "\n",
      "chunk:   0%|          | 0/78 [00:00<?, ?it/s, now=None]\u001B[A\u001B[A\n",
      "\n",
      "                                                                \r\n",
      "chunk:  27%|██▋       | 19/70 [02:31<06:45,  7.95s/it, now=None]\n",
      "chunk:  21%|██▏       | 15/70 [01:35<05:48,  6.34s/it, now=None]\u001B[A"
     ]
    },
    {
     "name": "stdout",
     "output_type": "stream",
     "text": [
      "MoviePy - Done.\n"
     ]
    },
    {
     "name": "stderr",
     "output_type": "stream",
     "text": [
      "                                                                \r\n",
      "chunk:  27%|██▋       | 19/70 [02:31<06:46,  7.97s/it, now=None]\n",
      "chunk:  21%|██▏       | 15/70 [01:35<05:49,  6.36s/it, now=None]\u001B[A"
     ]
    },
    {
     "name": "stdout",
     "output_type": "stream",
     "text": [
      "MoviePy - Writing audio in ../data/bagoflies/BagOfLies/audio\\.._data_bagoflies_BagOfLies_Finalised_User_3_run_6_video.wav\n"
     ]
    },
    {
     "name": "stderr",
     "output_type": "stream",
     "text": [
      "\n",
      "\n",
      "chunk:   0%|          | 0/69 [00:00<?, ?it/s, now=None]\u001B[A\u001B[A\n",
      "\n",
      "                                                                \r\n",
      "chunk:  27%|██▋       | 19/70 [02:31<06:46,  7.98s/it, now=None]\n",
      "chunk:  21%|██▏       | 15/70 [01:35<05:50,  6.37s/it, now=None]\u001B[A"
     ]
    },
    {
     "name": "stdout",
     "output_type": "stream",
     "text": [
      "MoviePy - Done.\n"
     ]
    },
    {
     "name": "stderr",
     "output_type": "stream",
     "text": [
      "                                                                \r\n",
      "chunk:  27%|██▋       | 19/70 [02:31<06:47,  7.99s/it, now=None]\n",
      "chunk:  21%|██▏       | 15/70 [01:35<05:51,  6.39s/it, now=None]\u001B[A"
     ]
    },
    {
     "name": "stdout",
     "output_type": "stream",
     "text": [
      "MoviePy - Writing audio in ../data/bagoflies/BagOfLies/audio\\.._data_bagoflies_BagOfLies_Finalised_User_3_run_7_video.wav\n"
     ]
    },
    {
     "name": "stderr",
     "output_type": "stream",
     "text": [
      "\n",
      "\n",
      "chunk:   0%|          | 0/72 [00:00<?, ?it/s, now=None]\u001B[A\u001B[A\n",
      "\n",
      "                                                                \r\n",
      "chunk:  27%|██▋       | 19/70 [02:31<06:47,  8.00s/it, now=None]\n",
      "chunk:  21%|██▏       | 15/70 [01:35<05:51,  6.40s/it, now=None]\u001B[A"
     ]
    },
    {
     "name": "stdout",
     "output_type": "stream",
     "text": [
      "MoviePy - Done.\n"
     ]
    },
    {
     "name": "stderr",
     "output_type": "stream",
     "text": [
      "                                                                \r\n",
      "chunk:  27%|██▋       | 19/70 [02:32<06:49,  8.04s/it, now=None]\n",
      "chunk:  21%|██▏       | 15/70 [01:36<05:54,  6.45s/it, now=None]\u001B[A"
     ]
    },
    {
     "name": "stdout",
     "output_type": "stream",
     "text": [
      "MoviePy - Writing audio in ../data/bagoflies/BagOfLies/audio\\.._data_bagoflies_BagOfLies_Finalised_User_4_run_0_video.wav\n"
     ]
    },
    {
     "name": "stderr",
     "output_type": "stream",
     "text": [
      "\n",
      "\n",
      "chunk:   0%|          | 0/160 [00:00<?, ?it/s, now=None]\u001B[A\u001B[A\n",
      "\n",
      "chunk:  36%|███▌      | 57/160 [00:00<00:00, 545.70it/s, now=None]\u001B[A\u001B[A\n",
      "\n",
      "chunk:  71%|███████▏  | 114/160 [00:00<00:00, 523.18it/s, now=None]\u001B[A\u001B[A\n",
      "\n",
      "                                                                   \u001B[A\u001B[A\r\n",
      "chunk:  27%|██▋       | 19/70 [02:32<06:50,  8.05s/it, now=None]\n",
      "chunk:  21%|██▏       | 15/70 [01:36<05:55,  6.47s/it, now=None]\u001B[A"
     ]
    },
    {
     "name": "stdout",
     "output_type": "stream",
     "text": [
      "MoviePy - Done.\n"
     ]
    },
    {
     "name": "stderr",
     "output_type": "stream",
     "text": [
      "                                                                \r\n",
      "chunk:  27%|██▋       | 19/70 [02:33<06:52,  8.08s/it, now=None]\n",
      "chunk:  21%|██▏       | 15/70 [01:37<05:57,  6.51s/it, now=None]\u001B[A"
     ]
    },
    {
     "name": "stdout",
     "output_type": "stream",
     "text": [
      "MoviePy - Writing audio in ../data/bagoflies/BagOfLies/audio\\.._data_bagoflies_BagOfLies_Finalised_User_4_run_1_video.wav\n"
     ]
    },
    {
     "name": "stderr",
     "output_type": "stream",
     "text": [
      "\n",
      "\n",
      "chunk:   0%|          | 0/155 [00:00<?, ?it/s, now=None]\u001B[A\u001B[A\n",
      "\n",
      "chunk:  38%|███▊      | 59/155 [00:00<00:00, 588.98it/s, now=None]\u001B[A\u001B[A\n",
      "\n",
      "chunk:  86%|████████▌ | 133/155 [00:00<00:00, 637.56it/s, now=None]\u001B[A\u001B[A\n",
      "\n",
      "                                                                   \u001B[A\u001B[A\r\n",
      "chunk:  27%|██▋       | 19/70 [02:33<06:52,  8.10s/it, now=None]\n",
      "chunk:  21%|██▏       | 15/70 [01:37<05:58,  6.52s/it, now=None]\u001B[A"
     ]
    },
    {
     "name": "stdout",
     "output_type": "stream",
     "text": [
      "MoviePy - Done.\n"
     ]
    },
    {
     "name": "stderr",
     "output_type": "stream",
     "text": [
      "                                                                \r\n",
      "chunk:  27%|██▋       | 19/70 [02:34<06:55,  8.14s/it, now=None]\n",
      "chunk:  21%|██▏       | 15/70 [01:38<06:01,  6.58s/it, now=None]\u001B[A"
     ]
    },
    {
     "name": "stdout",
     "output_type": "stream",
     "text": [
      "MoviePy - Writing audio in ../data/bagoflies/BagOfLies/audio\\.._data_bagoflies_BagOfLies_Finalised_User_4_run_2_video.wav\n"
     ]
    },
    {
     "name": "stderr",
     "output_type": "stream",
     "text": [
      "\n",
      "\n",
      "chunk:   0%|          | 0/162 [00:00<?, ?it/s, now=None]\u001B[A\u001B[A\n",
      "\n",
      "chunk:  35%|███▌      | 57/162 [00:00<00:00, 534.34it/s, now=None]\u001B[A\u001B[A\n",
      "\n",
      "chunk:  94%|█████████▍| 152/162 [00:00<00:00, 680.13it/s, now=None]\u001B[A\u001B[A\n",
      "\n",
      "                                                                   \u001B[A\u001B[A\r\n",
      "chunk:  27%|██▋       | 19/70 [02:34<06:55,  8.15s/it, now=None]\n",
      "chunk:  21%|██▏       | 15/70 [01:38<06:02,  6.60s/it, now=None]\u001B[A"
     ]
    },
    {
     "name": "stdout",
     "output_type": "stream",
     "text": [
      "MoviePy - Done.\n"
     ]
    },
    {
     "name": "stderr",
     "output_type": "stream",
     "text": [
      "                                                                \r\n",
      "chunk:  27%|██▋       | 19/70 [02:35<06:57,  8.19s/it, now=None]\n",
      "chunk:  21%|██▏       | 15/70 [01:39<06:04,  6.64s/it, now=None]\u001B[A"
     ]
    },
    {
     "name": "stdout",
     "output_type": "stream",
     "text": [
      "MoviePy - Writing audio in ../data/bagoflies/BagOfLies/audio\\.._data_bagoflies_BagOfLies_Finalised_User_4_run_3_video.wav\n"
     ]
    },
    {
     "name": "stderr",
     "output_type": "stream",
     "text": [
      "\n",
      "\n",
      "chunk:   0%|          | 0/141 [00:00<?, ?it/s, now=None]\u001B[A\u001B[A\n",
      "\n",
      "chunk:  27%|██▋       | 38/141 [00:00<00:00, 337.79it/s, now=None]\u001B[A\u001B[A\n",
      "\n",
      "                                                                  \u001B[A\u001B[A\r\n",
      "chunk:  27%|██▋       | 19/70 [02:35<06:58,  8.20s/it, now=None]\n",
      "chunk:  21%|██▏       | 15/70 [01:39<06:05,  6.65s/it, now=None]\u001B[A"
     ]
    },
    {
     "name": "stdout",
     "output_type": "stream",
     "text": [
      "MoviePy - Done.\n"
     ]
    },
    {
     "name": "stderr",
     "output_type": "stream",
     "text": [
      "                                                                \r\n",
      "chunk:  27%|██▋       | 19/70 [02:36<06:59,  8.23s/it, now=None]\n",
      "chunk:  21%|██▏       | 15/70 [01:40<06:08,  6.69s/it, now=None]\u001B[A"
     ]
    },
    {
     "name": "stdout",
     "output_type": "stream",
     "text": [
      "MoviePy - Writing audio in ../data/bagoflies/BagOfLies/audio\\.._data_bagoflies_BagOfLies_Finalised_User_4_run_4_video.wav\n"
     ]
    },
    {
     "name": "stderr",
     "output_type": "stream",
     "text": [
      "\n",
      "\n",
      "chunk:   0%|          | 0/152 [00:00<?, ?it/s, now=None]\u001B[A\u001B[A\n",
      "\n",
      "chunk:  33%|███▎      | 50/152 [00:00<00:00, 495.34it/s, now=None]\u001B[A\u001B[A\n",
      "\n",
      "chunk:  75%|███████▌  | 114/152 [00:00<00:00, 553.01it/s, now=None]\u001B[A\u001B[A\n",
      "\n",
      "                                                                   \u001B[A\u001B[A\r\n",
      "chunk:  27%|██▋       | 19/70 [02:36<07:00,  8.24s/it, now=None]\n",
      "chunk:  21%|██▏       | 15/70 [01:40<06:08,  6.71s/it, now=None]\u001B[A"
     ]
    },
    {
     "name": "stdout",
     "output_type": "stream",
     "text": [
      "MoviePy - Done.\n"
     ]
    },
    {
     "name": "stderr",
     "output_type": "stream",
     "text": [
      "                                                                \r\n",
      "chunk:  27%|██▋       | 19/70 [02:37<07:02,  8.28s/it, now=None]\n",
      "chunk:  21%|██▏       | 15/70 [01:41<06:11,  6.75s/it, now=None]\u001B[A"
     ]
    },
    {
     "name": "stdout",
     "output_type": "stream",
     "text": [
      "MoviePy - Writing audio in ../data/bagoflies/BagOfLies/audio\\.._data_bagoflies_BagOfLies_Finalised_User_4_run_5_video.wav\n"
     ]
    },
    {
     "name": "stderr",
     "output_type": "stream",
     "text": [
      "\n",
      "\n",
      "chunk:   0%|          | 0/122 [00:00<?, ?it/s, now=None]\u001B[A\u001B[A\n",
      "\n",
      "chunk:  47%|████▋     | 57/122 [00:00<00:00, 519.93it/s, now=None]\u001B[A\u001B[A\n",
      "\n",
      "                                                                  \u001B[A\u001B[A\r\n",
      "chunk:  27%|██▋       | 19/70 [02:37<07:02,  8.29s/it, now=None]\n",
      "chunk:  21%|██▏       | 15/70 [01:41<06:12,  6.76s/it, now=None]\u001B[A"
     ]
    },
    {
     "name": "stdout",
     "output_type": "stream",
     "text": [
      "MoviePy - Done.\n"
     ]
    },
    {
     "name": "stderr",
     "output_type": "stream",
     "text": [
      "                                                                \r\n",
      "chunk:  27%|██▋       | 19/70 [02:38<07:04,  8.32s/it, now=None]\n",
      "chunk:  21%|██▏       | 15/70 [01:42<06:14,  6.81s/it, now=None]\u001B[A"
     ]
    },
    {
     "name": "stdout",
     "output_type": "stream",
     "text": [
      "MoviePy - Writing audio in ../data/bagoflies/BagOfLies/audio\\.._data_bagoflies_BagOfLies_Finalised_User_4_run_6_video.wav\n"
     ]
    },
    {
     "name": "stderr",
     "output_type": "stream",
     "text": [
      "\n",
      "\n",
      "chunk:   0%|          | 0/164 [00:00<?, ?it/s, now=None]\u001B[A\u001B[A\n",
      "\n",
      "chunk:  25%|██▌       | 41/164 [00:00<00:00, 409.75it/s, now=None]\u001B[A\u001B[A\n",
      "\n",
      "chunk:  81%|████████  | 133/164 [00:00<00:00, 685.19it/s, now=None]\u001B[A\u001B[A\n",
      "\n",
      "                                                                   \u001B[A\u001B[A\r\n",
      "chunk:  27%|██▋       | 19/70 [02:38<07:05,  8.34s/it, now=None]\n",
      "chunk:  21%|██▏       | 15/70 [01:42<06:15,  6.83s/it, now=None]\u001B[A"
     ]
    },
    {
     "name": "stdout",
     "output_type": "stream",
     "text": [
      "MoviePy - Done.\n"
     ]
    },
    {
     "name": "stderr",
     "output_type": "stream",
     "text": [
      "                                                                \r\n",
      "chunk:  27%|██▋       | 19/70 [02:39<07:06,  8.37s/it, now=None]\n",
      "chunk:  21%|██▏       | 15/70 [01:43<06:17,  6.87s/it, now=None]\u001B[A"
     ]
    },
    {
     "name": "stdout",
     "output_type": "stream",
     "text": [
      "MoviePy - Writing audio in ../data/bagoflies/BagOfLies/audio\\.._data_bagoflies_BagOfLies_Finalised_User_4_run_7_video.wav\n"
     ]
    },
    {
     "name": "stderr",
     "output_type": "stream",
     "text": [
      "\n",
      "\n",
      "chunk:   0%|          | 0/130 [00:00<?, ?it/s, now=None]\u001B[A\u001B[A\n",
      "\n",
      "chunk:  44%|████▍     | 57/130 [00:00<00:00, 429.60it/s, now=None]\u001B[A\u001B[A\n",
      "\n",
      "chunk:  88%|████████▊ | 114/130 [00:00<00:00, 458.78it/s, now=None]\u001B[A\u001B[A\n",
      "\n",
      "                                                                   \u001B[A\u001B[A\r\n",
      "chunk:  27%|██▋       | 19/70 [02:39<07:07,  8.38s/it, now=None]\n",
      "chunk:  21%|██▏       | 15/70 [01:43<06:18,  6.89s/it, now=None]\u001B[A"
     ]
    },
    {
     "name": "stdout",
     "output_type": "stream",
     "text": [
      "MoviePy - Done.\n"
     ]
    },
    {
     "name": "stderr",
     "output_type": "stream",
     "text": [
      "                                                                \r\n",
      "chunk:  27%|██▋       | 19/70 [02:39<07:09,  8.42s/it, now=None]\n",
      "chunk:  21%|██▏       | 15/70 [01:43<06:21,  6.93s/it, now=None]\u001B[A"
     ]
    },
    {
     "name": "stdout",
     "output_type": "stream",
     "text": [
      "MoviePy - Writing audio in ../data/bagoflies/BagOfLies/audio\\.._data_bagoflies_BagOfLies_Finalised_User_4_run_8_video.wav\n"
     ]
    },
    {
     "name": "stderr",
     "output_type": "stream",
     "text": [
      "\n",
      "\n",
      "chunk:   0%|          | 0/103 [00:00<?, ?it/s, now=None]\u001B[A\u001B[A\n",
      "\n",
      "chunk:  36%|███▌      | 37/103 [00:00<00:00, 113.39it/s, now=None]\u001B[A\u001B[A\n",
      "\n",
      "chunk:  55%|█████▌    | 57/103 [00:00<00:00, 128.14it/s, now=None]\u001B[A\u001B[A\n",
      "\n",
      "                                                                  \u001B[A\u001B[A\r\n",
      "chunk:  27%|██▋       | 19/70 [02:40<07:10,  8.44s/it, now=None]\n",
      "chunk:  21%|██▏       | 15/70 [01:44<06:22,  6.96s/it, now=None]\u001B[A"
     ]
    },
    {
     "name": "stdout",
     "output_type": "stream",
     "text": [
      "MoviePy - Done.\n"
     ]
    },
    {
     "name": "stderr",
     "output_type": "stream",
     "text": [
      "                                                                \r\n",
      "chunk:  27%|██▋       | 19/70 [02:41<07:12,  8.48s/it, now=None]\n",
      "chunk:  21%|██▏       | 15/70 [01:45<06:25,  7.01s/it, now=None]\u001B[A"
     ]
    },
    {
     "name": "stdout",
     "output_type": "stream",
     "text": [
      "MoviePy - Writing audio in ../data/bagoflies/BagOfLies/audio\\.._data_bagoflies_BagOfLies_Finalised_User_4_run_9_video.wav\n"
     ]
    },
    {
     "name": "stderr",
     "output_type": "stream",
     "text": [
      "\n",
      "\n",
      "chunk:   0%|          | 0/114 [00:00<?, ?it/s, now=None]\u001B[A\u001B[A\n",
      "\n",
      "chunk:  33%|███▎      | 38/114 [00:00<00:00, 372.52it/s, now=None]\u001B[A\u001B[A\n",
      "\n",
      "                                                                  \u001B[A\u001B[A\r\n",
      "chunk:  27%|██▋       | 19/70 [02:41<07:13,  8.49s/it, now=None]\n",
      "chunk:  21%|██▏       | 15/70 [01:45<06:26,  7.02s/it, now=None]\u001B[A"
     ]
    },
    {
     "name": "stdout",
     "output_type": "stream",
     "text": [
      "MoviePy - Done.\n"
     ]
    },
    {
     "name": "stderr",
     "output_type": "stream",
     "text": [
      "                                                                \r\n",
      "chunk:  27%|██▋       | 19/70 [02:41<07:14,  8.52s/it, now=None]\n",
      "chunk:  21%|██▏       | 15/70 [01:45<06:28,  7.06s/it, now=None]\u001B[A"
     ]
    },
    {
     "name": "stdout",
     "output_type": "stream",
     "text": [
      "MoviePy - Writing audio in ../data/bagoflies/BagOfLies/audio\\.._data_bagoflies_BagOfLies_Finalised_User_5_run_0_video.wav\n"
     ]
    },
    {
     "name": "stderr",
     "output_type": "stream",
     "text": [
      "\n",
      "\n",
      "chunk:   0%|          | 0/56 [00:00<?, ?it/s, now=None]\u001B[A\u001B[A\n",
      "\n",
      "                                                                \r\n",
      "chunk:  27%|██▋       | 19/70 [02:42<07:15,  8.53s/it, now=None]\n",
      "chunk:  21%|██▏       | 15/70 [01:46<06:28,  7.07s/it, now=None]\u001B[A"
     ]
    },
    {
     "name": "stdout",
     "output_type": "stream",
     "text": [
      "MoviePy - Done.\n"
     ]
    },
    {
     "name": "stderr",
     "output_type": "stream",
     "text": [
      "                                                                \r\n",
      "chunk:  27%|██▋       | 19/70 [02:42<07:16,  8.56s/it, now=None]\n",
      "chunk:  21%|██▏       | 15/70 [01:46<06:31,  7.12s/it, now=None]\u001B[A"
     ]
    },
    {
     "name": "stdout",
     "output_type": "stream",
     "text": [
      "MoviePy - Writing audio in ../data/bagoflies/BagOfLies/audio\\.._data_bagoflies_BagOfLies_Finalised_User_5_run_1_video.wav\n"
     ]
    },
    {
     "name": "stderr",
     "output_type": "stream",
     "text": [
      "\n",
      "\n",
      "chunk:   0%|          | 0/53 [00:00<?, ?it/s, now=None]\u001B[A\u001B[A\n",
      "\n",
      "chunk:  77%|███████▋  | 41/53 [00:00<00:00, 408.92it/s, now=None]\u001B[A\u001B[A\n",
      "\n",
      "                                                                 \u001B[A\u001B[A\r\n",
      "chunk:  27%|██▋       | 19/70 [02:42<07:17,  8.57s/it, now=None]\n",
      "chunk:  21%|██▏       | 15/70 [01:46<06:31,  7.12s/it, now=None]\u001B[A"
     ]
    },
    {
     "name": "stdout",
     "output_type": "stream",
     "text": [
      "MoviePy - Done.\n"
     ]
    },
    {
     "name": "stderr",
     "output_type": "stream",
     "text": [
      "                                                                \r\n",
      "chunk:  27%|██▋       | 19/70 [02:43<07:18,  8.60s/it, now=None]\n",
      "chunk:  21%|██▏       | 15/70 [01:47<06:34,  7.16s/it, now=None]\u001B[A"
     ]
    },
    {
     "name": "stdout",
     "output_type": "stream",
     "text": [
      "MoviePy - Writing audio in ../data/bagoflies/BagOfLies/audio\\.._data_bagoflies_BagOfLies_Finalised_User_5_run_2_video.wav\n"
     ]
    },
    {
     "name": "stderr",
     "output_type": "stream",
     "text": [
      "\n",
      "\n",
      "chunk:   0%|          | 0/59 [00:00<?, ?it/s, now=None]\u001B[A\u001B[A\n",
      "\n",
      "                                                                \r\n",
      "chunk:  27%|██▋       | 19/70 [02:43<07:19,  8.61s/it, now=None]\n",
      "chunk:  21%|██▏       | 15/70 [01:47<06:34,  7.17s/it, now=None]\u001B[A"
     ]
    },
    {
     "name": "stdout",
     "output_type": "stream",
     "text": [
      "MoviePy - Done.\n"
     ]
    },
    {
     "name": "stderr",
     "output_type": "stream",
     "text": [
      "                                                                \r\n",
      "chunk:  27%|██▋       | 19/70 [02:44<07:20,  8.64s/it, now=None]\n",
      "chunk:  21%|██▏       | 15/70 [01:48<06:36,  7.21s/it, now=None]\u001B[A"
     ]
    },
    {
     "name": "stdout",
     "output_type": "stream",
     "text": [
      "MoviePy - Writing audio in ../data/bagoflies/BagOfLies/audio\\.._data_bagoflies_BagOfLies_Finalised_User_5_run_3_video.wav\n"
     ]
    },
    {
     "name": "stderr",
     "output_type": "stream",
     "text": [
      "\n",
      "\n",
      "chunk:   0%|          | 0/50 [00:00<?, ?it/s, now=None]\u001B[A\u001B[A\n",
      "\n",
      "                                                                \r\n",
      "chunk:  27%|██▋       | 19/70 [02:44<07:20,  8.65s/it, now=None]\n",
      "chunk:  21%|██▏       | 15/70 [01:48<06:36,  7.22s/it, now=None]\u001B[A"
     ]
    },
    {
     "name": "stdout",
     "output_type": "stream",
     "text": [
      "MoviePy - Done.\n"
     ]
    },
    {
     "name": "stderr",
     "output_type": "stream",
     "text": [
      "                                                                \r\n",
      "chunk:  27%|██▋       | 19/70 [02:44<07:22,  8.68s/it, now=None]\n",
      "chunk:  21%|██▏       | 15/70 [01:48<06:39,  7.26s/it, now=None]\u001B[A"
     ]
    },
    {
     "name": "stdout",
     "output_type": "stream",
     "text": [
      "MoviePy - Writing audio in ../data/bagoflies/BagOfLies/audio\\.._data_bagoflies_BagOfLies_Finalised_User_5_run_4_video.wav\n"
     ]
    },
    {
     "name": "stderr",
     "output_type": "stream",
     "text": [
      "\n",
      "\n",
      "chunk:   0%|          | 0/45 [00:00<?, ?it/s, now=None]\u001B[A\u001B[A\n",
      "\n",
      "                                                                \r\n",
      "chunk:  27%|██▋       | 19/70 [02:44<07:22,  8.68s/it, now=None]\n",
      "chunk:  21%|██▏       | 15/70 [01:48<06:39,  7.26s/it, now=None]\u001B[A"
     ]
    },
    {
     "name": "stdout",
     "output_type": "stream",
     "text": [
      "MoviePy - Done.\n"
     ]
    },
    {
     "name": "stderr",
     "output_type": "stream",
     "text": [
      "                                                                \r\n",
      "chunk:  27%|██▋       | 19/70 [02:45<07:25,  8.73s/it, now=None]\n",
      "chunk:  21%|██▏       | 15/70 [01:49<06:43,  7.33s/it, now=None]\u001B[A"
     ]
    },
    {
     "name": "stdout",
     "output_type": "stream",
     "text": [
      "MoviePy - Writing audio in ../data/bagoflies/BagOfLies/audio\\.._data_bagoflies_BagOfLies_Finalised_User_5_run_5_video.wav\n"
     ]
    },
    {
     "name": "stderr",
     "output_type": "stream",
     "text": [
      "\n",
      "\n",
      "chunk:   0%|          | 0/39 [00:00<?, ?it/s, now=None]\u001B[A\u001B[A\n",
      "\n",
      "                                                                \r\n",
      "chunk:  27%|██▋       | 19/70 [02:45<07:25,  8.74s/it, now=None]\n",
      "chunk:  21%|██▏       | 15/70 [01:49<06:43,  7.33s/it, now=None]\u001B[A"
     ]
    },
    {
     "name": "stdout",
     "output_type": "stream",
     "text": [
      "MoviePy - Done.\n"
     ]
    },
    {
     "name": "stderr",
     "output_type": "stream",
     "text": [
      "                                                                \r\n",
      "chunk:  27%|██▋       | 19/70 [02:46<07:27,  8.77s/it, now=None]\n",
      "chunk:  21%|██▏       | 15/70 [01:50<06:45,  7.38s/it, now=None]\u001B[A"
     ]
    },
    {
     "name": "stdout",
     "output_type": "stream",
     "text": [
      "MoviePy - Writing audio in ../data/bagoflies/BagOfLies/audio\\.._data_bagoflies_BagOfLies_Finalised_User_5_run_6_video.wav\n"
     ]
    },
    {
     "name": "stderr",
     "output_type": "stream",
     "text": [
      "\n",
      "\n",
      "chunk:   0%|          | 0/40 [00:00<?, ?it/s, now=None]\u001B[A\u001B[A\n",
      "\n",
      "                                                                \r\n",
      "chunk:  27%|██▋       | 19/70 [02:46<07:27,  8.78s/it, now=None]\n",
      "chunk:  21%|██▏       | 15/70 [01:50<06:46,  7.38s/it, now=None]\u001B[A"
     ]
    },
    {
     "name": "stdout",
     "output_type": "stream",
     "text": [
      "MoviePy - Done.\n"
     ]
    },
    {
     "name": "stderr",
     "output_type": "stream",
     "text": [
      "                                                                \r\n",
      "chunk:  27%|██▋       | 19/70 [02:47<07:29,  8.81s/it, now=None]\n",
      "chunk:  21%|██▏       | 15/70 [01:51<06:48,  7.42s/it, now=None]\u001B[A"
     ]
    },
    {
     "name": "stdout",
     "output_type": "stream",
     "text": [
      "MoviePy - Writing audio in ../data/bagoflies/BagOfLies/audio\\.._data_bagoflies_BagOfLies_Finalised_User_5_run_7_video.wav\n"
     ]
    },
    {
     "name": "stderr",
     "output_type": "stream",
     "text": [
      "\n",
      "\n",
      "chunk:   0%|          | 0/42 [00:00<?, ?it/s, now=None]\u001B[A\u001B[A\n",
      "\n",
      "                                                                \r\n",
      "chunk:  27%|██▋       | 19/70 [02:47<07:29,  8.81s/it, now=None]\n",
      "chunk:  21%|██▏       | 15/70 [01:51<06:48,  7.43s/it, now=None]\u001B[A"
     ]
    },
    {
     "name": "stdout",
     "output_type": "stream",
     "text": [
      "MoviePy - Done.\n"
     ]
    },
    {
     "name": "stderr",
     "output_type": "stream",
     "text": [
      "                                                                \r\n",
      "chunk:  27%|██▋       | 19/70 [02:48<07:31,  8.84s/it, now=None]\n",
      "chunk:  21%|██▏       | 15/70 [01:52<06:50,  7.47s/it, now=None]\u001B[A"
     ]
    },
    {
     "name": "stdout",
     "output_type": "stream",
     "text": [
      "MoviePy - Writing audio in ../data/bagoflies/BagOfLies/audio\\.._data_bagoflies_BagOfLies_Finalised_User_5_run_8_video.wav\n"
     ]
    },
    {
     "name": "stderr",
     "output_type": "stream",
     "text": [
      "\n",
      "\n",
      "chunk:   0%|          | 0/35 [00:00<?, ?it/s, now=None]\u001B[A\u001B[A\n",
      "\n",
      "                                                                \r\n",
      "chunk:  27%|██▋       | 19/70 [02:48<07:31,  8.85s/it, now=None]\n",
      "chunk:  21%|██▏       | 15/70 [01:52<06:51,  7.48s/it, now=None]\u001B[A"
     ]
    },
    {
     "name": "stdout",
     "output_type": "stream",
     "text": [
      "MoviePy - Done.\n"
     ]
    },
    {
     "name": "stderr",
     "output_type": "stream",
     "text": [
      "                                                                \r\n",
      "chunk:  27%|██▋       | 19/70 [02:48<07:33,  8.88s/it, now=None]\n",
      "chunk:  21%|██▏       | 15/70 [01:52<06:53,  7.52s/it, now=None]\u001B[A"
     ]
    },
    {
     "name": "stdout",
     "output_type": "stream",
     "text": [
      "MoviePy - Writing audio in ../data/bagoflies/BagOfLies/audio\\.._data_bagoflies_BagOfLies_Finalised_User_5_run_9_video.wav\n"
     ]
    },
    {
     "name": "stderr",
     "output_type": "stream",
     "text": [
      "\n",
      "\n",
      "chunk:   0%|          | 0/40 [00:00<?, ?it/s, now=None]\u001B[A\u001B[A\n",
      "\n",
      "                                                                \r\n",
      "chunk:  27%|██▋       | 19/70 [02:48<07:33,  8.89s/it, now=None]\n",
      "chunk:  21%|██▏       | 15/70 [01:52<06:53,  7.52s/it, now=None]\u001B[A"
     ]
    },
    {
     "name": "stdout",
     "output_type": "stream",
     "text": [
      "MoviePy - Done.\n"
     ]
    },
    {
     "name": "stderr",
     "output_type": "stream",
     "text": [
      "                                                                \r\n",
      "chunk:  27%|██▋       | 19/70 [02:49<07:34,  8.92s/it, now=None]\n",
      "chunk:  21%|██▏       | 15/70 [01:53<06:56,  7.57s/it, now=None]\u001B[A"
     ]
    },
    {
     "name": "stdout",
     "output_type": "stream",
     "text": [
      "MoviePy - Writing audio in ../data/bagoflies/BagOfLies/audio\\.._data_bagoflies_BagOfLies_Finalised_User_6_run_0_video.wav\n"
     ]
    },
    {
     "name": "stderr",
     "output_type": "stream",
     "text": [
      "\n",
      "\n",
      "chunk:   0%|          | 0/74 [00:00<?, ?it/s, now=None]\u001B[A\u001B[A\n",
      "\n",
      "chunk:  77%|███████▋  | 57/74 [00:00<00:00, 468.97it/s, now=None]\u001B[A\u001B[A\n",
      "\n",
      "                                                                 \u001B[A\u001B[A\r\n",
      "chunk:  27%|██▋       | 19/70 [02:49<07:35,  8.93s/it, now=None]\n",
      "chunk:  21%|██▏       | 15/70 [01:53<06:56,  7.58s/it, now=None]\u001B[A"
     ]
    },
    {
     "name": "stdout",
     "output_type": "stream",
     "text": [
      "MoviePy - Done.\n"
     ]
    },
    {
     "name": "stderr",
     "output_type": "stream",
     "text": [
      "                                                                \r\n",
      "chunk:  27%|██▋       | 19/70 [02:50<07:36,  8.96s/it, now=None]\n",
      "chunk:  21%|██▏       | 15/70 [01:54<06:58,  7.61s/it, now=None]\u001B[A"
     ]
    },
    {
     "name": "stdout",
     "output_type": "stream",
     "text": [
      "MoviePy - Writing audio in ../data/bagoflies/BagOfLies/audio\\.._data_bagoflies_BagOfLies_Finalised_User_6_run_1_video.wav\n"
     ]
    },
    {
     "name": "stderr",
     "output_type": "stream",
     "text": [
      "\n",
      "\n",
      "chunk:   0%|          | 0/65 [00:00<?, ?it/s, now=None]\u001B[A\u001B[A\n",
      "\n",
      "chunk:  88%|████████▊ | 57/65 [00:00<00:00, 382.67it/s, now=None]\u001B[A\u001B[A\n",
      "\n",
      "                                                                 \u001B[A\u001B[A\r\n",
      "chunk:  27%|██▋       | 19/70 [02:50<07:37,  8.97s/it, now=None]\n",
      "chunk:  21%|██▏       | 15/70 [01:54<06:59,  7.62s/it, now=None]\u001B[A"
     ]
    },
    {
     "name": "stdout",
     "output_type": "stream",
     "text": [
      "MoviePy - Done.\n"
     ]
    },
    {
     "name": "stderr",
     "output_type": "stream",
     "text": [
      "                                                                \r\n",
      "chunk:  27%|██▋       | 19/70 [02:51<07:39,  9.01s/it, now=None]\n",
      "chunk:  21%|██▏       | 15/70 [01:55<07:02,  7.68s/it, now=None]\u001B[A"
     ]
    },
    {
     "name": "stdout",
     "output_type": "stream",
     "text": [
      "MoviePy - Writing audio in ../data/bagoflies/BagOfLies/audio\\.._data_bagoflies_BagOfLies_Finalised_User_6_run_2_video.wav\n"
     ]
    },
    {
     "name": "stderr",
     "output_type": "stream",
     "text": [
      "\n",
      "\n",
      "chunk:   0%|          | 0/83 [00:00<?, ?it/s, now=None]\u001B[A\u001B[A\n",
      "\n",
      "chunk:  69%|██████▊   | 57/83 [00:00<00:00, 464.15it/s, now=None]\u001B[A\u001B[A\n",
      "\n",
      "                                                                 \u001B[A\u001B[A\r\n",
      "chunk:  27%|██▋       | 19/70 [02:51<07:39,  9.02s/it, now=None]\n",
      "chunk:  21%|██▏       | 15/70 [01:55<07:02,  7.69s/it, now=None]\u001B[A"
     ]
    },
    {
     "name": "stdout",
     "output_type": "stream",
     "text": [
      "MoviePy - Done.\n"
     ]
    },
    {
     "name": "stderr",
     "output_type": "stream",
     "text": [
      "                                                                \r\n",
      "chunk:  27%|██▋       | 19/70 [02:51<07:41,  9.05s/it, now=None]\n",
      "chunk:  21%|██▏       | 15/70 [01:55<07:05,  7.73s/it, now=None]\u001B[A"
     ]
    },
    {
     "name": "stdout",
     "output_type": "stream",
     "text": [
      "MoviePy - Writing audio in ../data/bagoflies/BagOfLies/audio\\.._data_bagoflies_BagOfLies_Finalised_User_6_run_3_video.wav\n"
     ]
    },
    {
     "name": "stderr",
     "output_type": "stream",
     "text": [
      "\n",
      "\n",
      "chunk:   0%|          | 0/54 [00:00<?, ?it/s, now=None]\u001B[A\u001B[A\n",
      "\n",
      "                                                                \r\n",
      "chunk:  27%|██▋       | 19/70 [02:52<07:41,  9.06s/it, now=None]\n",
      "chunk:  21%|██▏       | 15/70 [01:56<07:05,  7.74s/it, now=None]\u001B[A"
     ]
    },
    {
     "name": "stdout",
     "output_type": "stream",
     "text": [
      "MoviePy - Done.\n"
     ]
    },
    {
     "name": "stderr",
     "output_type": "stream",
     "text": [
      "                                                                \r\n",
      "chunk:  27%|██▋       | 19/70 [02:52<07:43,  9.09s/it, now=None]\n",
      "chunk:  21%|██▏       | 15/70 [01:56<07:07,  7.78s/it, now=None]\u001B[A"
     ]
    },
    {
     "name": "stdout",
     "output_type": "stream",
     "text": [
      "MoviePy - Writing audio in ../data/bagoflies/BagOfLies/audio\\.._data_bagoflies_BagOfLies_Finalised_User_6_run_4_video.wav\n"
     ]
    },
    {
     "name": "stderr",
     "output_type": "stream",
     "text": [
      "\n",
      "\n",
      "chunk:   0%|          | 0/42 [00:00<?, ?it/s, now=None]\u001B[A\u001B[A\n",
      "\n",
      "                                                                \r\n",
      "chunk:  27%|██▋       | 19/70 [02:52<07:43,  9.09s/it, now=None]\n",
      "chunk:  21%|██▏       | 15/70 [01:56<07:08,  7.79s/it, now=None]\u001B[A"
     ]
    },
    {
     "name": "stdout",
     "output_type": "stream",
     "text": [
      "MoviePy - Done.\n"
     ]
    },
    {
     "name": "stderr",
     "output_type": "stream",
     "text": [
      "                                                                \r\n",
      "chunk:  27%|██▋       | 19/70 [02:53<07:45,  9.13s/it, now=None]\n",
      "chunk:  21%|██▏       | 15/70 [01:57<07:10,  7.83s/it, now=None]\u001B[A"
     ]
    },
    {
     "name": "stdout",
     "output_type": "stream",
     "text": [
      "MoviePy - Writing audio in ../data/bagoflies/BagOfLies/audio\\.._data_bagoflies_BagOfLies_Finalised_User_6_run_5_video.wav\n"
     ]
    },
    {
     "name": "stderr",
     "output_type": "stream",
     "text": [
      "\n",
      "\n",
      "chunk:   0%|          | 0/37 [00:00<?, ?it/s, now=None]\u001B[A\u001B[A\n",
      "\n",
      "                                                                \r\n",
      "chunk:  27%|██▋       | 19/70 [02:53<07:45,  9.13s/it, now=None]\n",
      "chunk:  21%|██▏       | 15/70 [01:57<07:10,  7.83s/it, now=None]\u001B[A"
     ]
    },
    {
     "name": "stdout",
     "output_type": "stream",
     "text": [
      "MoviePy - Done.\n"
     ]
    },
    {
     "name": "stderr",
     "output_type": "stream",
     "text": [
      "                                                                \r\n",
      "chunk:  27%|██▋       | 19/70 [02:54<07:47,  9.16s/it, now=None]\n",
      "chunk:  21%|██▏       | 15/70 [01:58<07:12,  7.87s/it, now=None]\u001B[A"
     ]
    },
    {
     "name": "stdout",
     "output_type": "stream",
     "text": [
      "MoviePy - Writing audio in ../data/bagoflies/BagOfLies/audio\\.._data_bagoflies_BagOfLies_Finalised_User_6_run_6_video.wav\n"
     ]
    },
    {
     "name": "stderr",
     "output_type": "stream",
     "text": [
      "\n",
      "\n",
      "chunk:   0%|          | 0/40 [00:00<?, ?it/s, now=None]\u001B[A\u001B[A\n",
      "\n",
      "                                                                \r\n",
      "chunk:  27%|██▋       | 19/70 [02:54<07:47,  9.17s/it, now=None]\n",
      "chunk:  21%|██▏       | 15/70 [01:58<07:13,  7.88s/it, now=None]\u001B[A"
     ]
    },
    {
     "name": "stdout",
     "output_type": "stream",
     "text": [
      "MoviePy - Done.\n"
     ]
    },
    {
     "name": "stderr",
     "output_type": "stream",
     "text": [
      "                                                                \r\n",
      "chunk:  27%|██▋       | 19/70 [02:54<07:49,  9.20s/it, now=None]\n",
      "chunk:  21%|██▏       | 15/70 [01:58<07:15,  7.92s/it, now=None]\u001B[A"
     ]
    },
    {
     "name": "stdout",
     "output_type": "stream",
     "text": [
      "MoviePy - Writing audio in ../data/bagoflies/BagOfLies/audio\\.._data_bagoflies_BagOfLies_Finalised_User_6_run_7_video.wav\n"
     ]
    },
    {
     "name": "stderr",
     "output_type": "stream",
     "text": [
      "\n",
      "\n",
      "chunk:   0%|          | 0/46 [00:00<?, ?it/s, now=None]\u001B[A\u001B[A\n",
      "\n",
      "                                                                \r\n",
      "chunk:  27%|██▋       | 19/70 [02:54<07:49,  9.20s/it, now=None]\n",
      "chunk:  21%|██▏       | 15/70 [01:58<07:15,  7.92s/it, now=None]\u001B[A"
     ]
    },
    {
     "name": "stdout",
     "output_type": "stream",
     "text": [
      "MoviePy - Done.\n"
     ]
    },
    {
     "name": "stderr",
     "output_type": "stream",
     "text": [
      "                                                                \r\n",
      "chunk:  27%|██▋       | 19/70 [02:55<07:50,  9.24s/it, now=None]\n",
      "chunk:  21%|██▏       | 15/70 [01:59<07:18,  7.96s/it, now=None]\u001B[A"
     ]
    },
    {
     "name": "stdout",
     "output_type": "stream",
     "text": [
      "MoviePy - Writing audio in ../data/bagoflies/BagOfLies/audio\\.._data_bagoflies_BagOfLies_Finalised_User_6_run_8_video.wav\n"
     ]
    },
    {
     "name": "stderr",
     "output_type": "stream",
     "text": [
      "\n",
      "\n",
      "chunk:   0%|          | 0/61 [00:00<?, ?it/s, now=None]\u001B[A\u001B[A\n",
      "\n",
      "                                                                \r\n",
      "chunk:  27%|██▋       | 19/70 [02:55<07:51,  9.24s/it, now=None]\n",
      "chunk:  21%|██▏       | 15/70 [01:59<07:18,  7.97s/it, now=None]\u001B[A"
     ]
    },
    {
     "name": "stdout",
     "output_type": "stream",
     "text": [
      "MoviePy - Done.\n"
     ]
    },
    {
     "name": "stderr",
     "output_type": "stream",
     "text": [
      "                                                                \r\n",
      "chunk:  27%|██▋       | 19/70 [02:56<07:52,  9.27s/it, now=None]\n",
      "chunk:  21%|██▏       | 15/70 [02:00<07:20,  8.01s/it, now=None]\u001B[A"
     ]
    },
    {
     "name": "stdout",
     "output_type": "stream",
     "text": [
      "MoviePy - Writing audio in ../data/bagoflies/BagOfLies/audio\\.._data_bagoflies_BagOfLies_Finalised_User_6_run_9_video.wav\n"
     ]
    },
    {
     "name": "stderr",
     "output_type": "stream",
     "text": [
      "\n",
      "\n",
      "chunk:   0%|          | 0/41 [00:00<?, ?it/s, now=None]\u001B[A\u001B[A\n",
      "\n",
      "                                                                \r\n",
      "chunk:  27%|██▋       | 19/70 [02:56<07:53,  9.28s/it, now=None]\n",
      "chunk:  21%|██▏       | 15/70 [02:00<07:20,  8.02s/it, now=None]\u001B[A"
     ]
    },
    {
     "name": "stdout",
     "output_type": "stream",
     "text": [
      "MoviePy - Done.\n"
     ]
    },
    {
     "name": "stderr",
     "output_type": "stream",
     "text": [
      "                                                                \r\n",
      "chunk:  27%|██▋       | 19/70 [02:57<07:55,  9.32s/it, now=None]\n",
      "chunk:  21%|██▏       | 15/70 [02:01<07:23,  8.07s/it, now=None]\u001B[A"
     ]
    },
    {
     "name": "stdout",
     "output_type": "stream",
     "text": [
      "MoviePy - Writing audio in ../data/bagoflies/BagOfLies/audio\\.._data_bagoflies_BagOfLies_Finalised_User_6_run_10_video.wav\n"
     ]
    },
    {
     "name": "stderr",
     "output_type": "stream",
     "text": [
      "\n",
      "\n",
      "chunk:   0%|          | 0/61 [00:00<?, ?it/s, now=None]\u001B[A\u001B[A\n",
      "\n",
      "chunk:  62%|██████▏   | 38/61 [00:00<00:00, 375.04it/s, now=None]\u001B[A\u001B[A\n",
      "\n",
      "                                                                 \u001B[A\u001B[A\r\n",
      "chunk:  27%|██▋       | 19/70 [02:57<07:55,  9.33s/it, now=None]\n",
      "chunk:  21%|██▏       | 15/70 [02:01<07:24,  8.08s/it, now=None]\u001B[A"
     ]
    },
    {
     "name": "stdout",
     "output_type": "stream",
     "text": [
      "MoviePy - Done.\n"
     ]
    },
    {
     "name": "stderr",
     "output_type": "stream",
     "text": [
      "                                                                \r\n",
      "chunk:  27%|██▋       | 19/70 [02:57<07:56,  9.35s/it, now=None]\n",
      "chunk:  21%|██▏       | 15/70 [02:01<07:25,  8.11s/it, now=None]\u001B[A"
     ]
    },
    {
     "name": "stdout",
     "output_type": "stream",
     "text": [
      "MoviePy - Writing audio in ../data/bagoflies/BagOfLies/audio\\.._data_bagoflies_BagOfLies_Finalised_User_7_run_0_video.wav\n"
     ]
    },
    {
     "name": "stderr",
     "output_type": "stream",
     "text": [
      "\n",
      "\n",
      "chunk:   0%|          | 0/91 [00:00<?, ?it/s, now=None]\u001B[A\u001B[A\n",
      "\n",
      "                                                                \r\n",
      "chunk:  27%|██▋       | 19/70 [02:57<07:56,  9.35s/it, now=None]\n",
      "chunk:  21%|██▏       | 15/70 [02:01<07:26,  8.11s/it, now=None]\u001B[A"
     ]
    },
    {
     "name": "stdout",
     "output_type": "stream",
     "text": [
      "MoviePy - Done.\n"
     ]
    },
    {
     "name": "stderr",
     "output_type": "stream",
     "text": [
      "                                                                \r\n",
      "chunk:  27%|██▋       | 19/70 [02:57<07:57,  9.37s/it, now=None]\n",
      "chunk:  21%|██▏       | 15/70 [02:01<07:27,  8.13s/it, now=None]\u001B[A"
     ]
    },
    {
     "name": "stdout",
     "output_type": "stream",
     "text": [
      "MoviePy - Writing audio in ../data/bagoflies/BagOfLies/audio\\.._data_bagoflies_BagOfLies_Finalised_User_7_run_1_video.wav\n"
     ]
    },
    {
     "name": "stderr",
     "output_type": "stream",
     "text": [
      "\n",
      "\n",
      "chunk:   0%|          | 0/79 [00:00<?, ?it/s, now=None]\u001B[A\u001B[A\n",
      "\n",
      "                                                                \r\n",
      "chunk:  27%|██▋       | 19/70 [02:58<07:58,  9.37s/it, now=None]\n",
      "chunk:  21%|██▏       | 15/70 [02:02<07:27,  8.14s/it, now=None]\u001B[A"
     ]
    },
    {
     "name": "stdout",
     "output_type": "stream",
     "text": [
      "MoviePy - Done.\n"
     ]
    },
    {
     "name": "stderr",
     "output_type": "stream",
     "text": [
      "                                                                \r\n",
      "chunk:  27%|██▋       | 19/70 [02:58<07:58,  9.39s/it, now=None]\n",
      "chunk:  21%|██▏       | 15/70 [02:02<07:28,  8.16s/it, now=None]\u001B[A"
     ]
    },
    {
     "name": "stdout",
     "output_type": "stream",
     "text": [
      "MoviePy - Writing audio in ../data/bagoflies/BagOfLies/audio\\.._data_bagoflies_BagOfLies_Finalised_User_7_run_2_video.wav\n"
     ]
    },
    {
     "name": "stderr",
     "output_type": "stream",
     "text": [
      "\n",
      "\n",
      "chunk:   0%|          | 0/117 [00:00<?, ?it/s, now=None]\u001B[A\u001B[A\n",
      "\n",
      "chunk:  96%|█████████▌| 112/117 [00:00<00:00, 1111.17it/s, now=None]\u001B[A\u001B[A\n",
      "\n",
      "                                                                    \u001B[A\u001B[A\r\n",
      "chunk:  27%|██▋       | 19/70 [02:58<07:59,  9.39s/it, now=None]\n",
      "chunk:  21%|██▏       | 15/70 [02:02<07:29,  8.17s/it, now=None]\u001B[A"
     ]
    },
    {
     "name": "stdout",
     "output_type": "stream",
     "text": [
      "MoviePy - Done.\n"
     ]
    },
    {
     "name": "stderr",
     "output_type": "stream",
     "text": [
      "                                                                \r\n",
      "chunk:  27%|██▋       | 19/70 [02:58<07:59,  9.41s/it, now=None]\n",
      "chunk:  21%|██▏       | 15/70 [02:02<07:30,  8.19s/it, now=None]\u001B[A"
     ]
    },
    {
     "name": "stdout",
     "output_type": "stream",
     "text": [
      "MoviePy - Writing audio in ../data/bagoflies/BagOfLies/audio\\.._data_bagoflies_BagOfLies_Finalised_User_7_run_3_video.wav\n"
     ]
    },
    {
     "name": "stderr",
     "output_type": "stream",
     "text": [
      "\n",
      "\n",
      "chunk:   0%|          | 0/107 [00:00<?, ?it/s, now=None]\u001B[A\u001B[A\n",
      "\n",
      "chunk:  69%|██████▉   | 74/107 [00:00<00:00, 736.89it/s, now=None]\u001B[A\u001B[A\n",
      "\n",
      "                                                                  \u001B[A\u001B[A\r\n",
      "chunk:  27%|██▋       | 19/70 [02:58<08:00,  9.42s/it, now=None]\n",
      "chunk:  21%|██▏       | 15/70 [02:02<07:30,  8.20s/it, now=None]\u001B[A"
     ]
    },
    {
     "name": "stdout",
     "output_type": "stream",
     "text": [
      "MoviePy - Done.\n"
     ]
    },
    {
     "name": "stderr",
     "output_type": "stream",
     "text": [
      "                                                                \r\n",
      "chunk:  27%|██▋       | 19/70 [02:59<08:01,  9.43s/it, now=None]\n",
      "chunk:  21%|██▏       | 15/70 [02:03<07:31,  8.22s/it, now=None]\u001B[A"
     ]
    },
    {
     "name": "stdout",
     "output_type": "stream",
     "text": [
      "MoviePy - Writing audio in ../data/bagoflies/BagOfLies/audio\\.._data_bagoflies_BagOfLies_Finalised_User_7_run_4_video.wav\n"
     ]
    },
    {
     "name": "stderr",
     "output_type": "stream",
     "text": [
      "\n",
      "\n",
      "chunk:   0%|          | 0/94 [00:00<?, ?it/s, now=None]\u001B[A\u001B[A\n",
      "\n",
      "                                                                \r\n",
      "chunk:  27%|██▋       | 19/70 [02:59<08:01,  9.44s/it, now=None]\n",
      "chunk:  21%|██▏       | 15/70 [02:03<07:32,  8.22s/it, now=None]\u001B[A"
     ]
    },
    {
     "name": "stdout",
     "output_type": "stream",
     "text": [
      "MoviePy - Done.\n"
     ]
    },
    {
     "name": "stderr",
     "output_type": "stream",
     "text": [
      "                                                                \r\n",
      "chunk:  27%|██▋       | 19/70 [02:59<08:02,  9.45s/it, now=None]\n",
      "chunk:  21%|██▏       | 15/70 [02:03<07:33,  8.24s/it, now=None]\u001B[A"
     ]
    },
    {
     "name": "stdout",
     "output_type": "stream",
     "text": [
      "MoviePy - Writing audio in ../data/bagoflies/BagOfLies/audio\\.._data_bagoflies_BagOfLies_Finalised_User_7_run_5_video.wav\n"
     ]
    },
    {
     "name": "stderr",
     "output_type": "stream",
     "text": [
      "\n",
      "\n",
      "chunk:   0%|          | 0/124 [00:00<?, ?it/s, now=None]\u001B[A\u001B[A\n",
      "\n",
      "chunk:  92%|█████████▏| 114/124 [00:00<00:00, 1137.25it/s, now=None]\u001B[A\u001B[A\n",
      "\n",
      "                                                                    \u001B[A\u001B[A\r\n",
      "chunk:  27%|██▋       | 19/70 [02:59<08:02,  9.46s/it, now=None]\n",
      "chunk:  21%|██▏       | 15/70 [02:03<07:33,  8.25s/it, now=None]\u001B[A"
     ]
    },
    {
     "name": "stdout",
     "output_type": "stream",
     "text": [
      "MoviePy - Done.\n"
     ]
    },
    {
     "name": "stderr",
     "output_type": "stream",
     "text": [
      "                                                                \r\n",
      "chunk:  27%|██▋       | 19/70 [03:00<08:03,  9.48s/it, now=None]\n",
      "chunk:  21%|██▏       | 15/70 [02:04<07:34,  8.27s/it, now=None]\u001B[A"
     ]
    },
    {
     "name": "stdout",
     "output_type": "stream",
     "text": [
      "MoviePy - Writing audio in ../data/bagoflies/BagOfLies/audio\\.._data_bagoflies_BagOfLies_Finalised_User_7_run_6_video.wav\n"
     ]
    },
    {
     "name": "stderr",
     "output_type": "stream",
     "text": [
      "\n",
      "\n",
      "chunk:   0%|          | 0/140 [00:00<?, ?it/s, now=None]\u001B[A\u001B[A\n",
      "\n",
      "chunk:  68%|██████▊   | 95/140 [00:00<00:00, 782.79it/s, now=None]\u001B[A\u001B[A\n",
      "\n",
      "                                                                  \u001B[A\u001B[A\r\n",
      "chunk:  27%|██▋       | 19/70 [03:00<08:03,  9.48s/it, now=None]\n",
      "chunk:  21%|██▏       | 15/70 [02:04<07:35,  8.28s/it, now=None]\u001B[A"
     ]
    },
    {
     "name": "stdout",
     "output_type": "stream",
     "text": [
      "MoviePy - Done.\n"
     ]
    },
    {
     "name": "stderr",
     "output_type": "stream",
     "text": [
      "                                                                \r\n",
      "chunk:  27%|██▋       | 19/70 [03:00<08:04,  9.50s/it, now=None]\n",
      "chunk:  21%|██▏       | 15/70 [02:04<07:36,  8.30s/it, now=None]\u001B[A"
     ]
    },
    {
     "name": "stdout",
     "output_type": "stream",
     "text": [
      "MoviePy - Writing audio in ../data/bagoflies/BagOfLies/audio\\.._data_bagoflies_BagOfLies_Finalised_User_7_run_7_video.wav\n"
     ]
    },
    {
     "name": "stderr",
     "output_type": "stream",
     "text": [
      "\n",
      "\n",
      "chunk:   0%|          | 0/125 [00:00<?, ?it/s, now=None]\u001B[A\u001B[A\n",
      "\n",
      "chunk:  91%|█████████ | 114/125 [00:00<00:00, 1088.63it/s, now=None]\u001B[A\u001B[A\n",
      "\n",
      "                                                                    \u001B[A\u001B[A\r\n",
      "chunk:  27%|██▋       | 19/70 [03:00<08:04,  9.51s/it, now=None]\n",
      "chunk:  21%|██▏       | 15/70 [02:04<07:37,  8.31s/it, now=None]\u001B[A"
     ]
    },
    {
     "name": "stdout",
     "output_type": "stream",
     "text": [
      "MoviePy - Done.\n"
     ]
    },
    {
     "name": "stderr",
     "output_type": "stream",
     "text": [
      "                                                                \r\n",
      "chunk:  27%|██▋       | 19/70 [03:00<08:05,  9.52s/it, now=None]\n",
      "chunk:  21%|██▏       | 15/70 [02:04<07:38,  8.33s/it, now=None]\u001B[A"
     ]
    },
    {
     "name": "stdout",
     "output_type": "stream",
     "text": [
      "MoviePy - Writing audio in ../data/bagoflies/BagOfLies/audio\\.._data_bagoflies_BagOfLies_Finalised_User_7_run_8_video.wav\n"
     ]
    },
    {
     "name": "stderr",
     "output_type": "stream",
     "text": [
      "\n",
      "\n",
      "chunk:   0%|          | 0/112 [00:00<?, ?it/s, now=None]\u001B[A\u001B[A\n",
      "\n",
      "chunk:  91%|█████████ | 102/112 [00:00<00:00, 1016.39it/s, now=None]\u001B[A\u001B[A\n",
      "\n",
      "                                                                    \u001B[A\u001B[A\r\n",
      "chunk:  27%|██▋       | 19/70 [03:01<08:06,  9.53s/it, now=None]\n",
      "chunk:  21%|██▏       | 15/70 [02:05<07:38,  8.34s/it, now=None]\u001B[A"
     ]
    },
    {
     "name": "stdout",
     "output_type": "stream",
     "text": [
      "MoviePy - Done.\n"
     ]
    },
    {
     "name": "stderr",
     "output_type": "stream",
     "text": [
      "                                                                \r\n",
      "chunk:  27%|██▋       | 19/70 [03:01<08:06,  9.55s/it, now=None]\n",
      "chunk:  21%|██▏       | 15/70 [02:05<07:39,  8.36s/it, now=None]\u001B[A"
     ]
    },
    {
     "name": "stdout",
     "output_type": "stream",
     "text": [
      "MoviePy - Writing audio in ../data/bagoflies/BagOfLies/audio\\.._data_bagoflies_BagOfLies_Finalised_User_7_run_9_video.wav\n"
     ]
    },
    {
     "name": "stderr",
     "output_type": "stream",
     "text": [
      "\n",
      "\n",
      "chunk:   0%|          | 0/127 [00:00<?, ?it/s, now=None]\u001B[A\u001B[A\n",
      "\n",
      "chunk:  98%|█████████▊| 125/127 [00:00<00:00, 1249.05it/s, now=None]\u001B[A\u001B[A\n",
      "\n",
      "                                                                    \u001B[A\u001B[A\r\n",
      "chunk:  27%|██▋       | 19/70 [03:01<08:07,  9.55s/it, now=None]\n",
      "chunk:  21%|██▏       | 15/70 [02:05<07:40,  8.37s/it, now=None]\u001B[A"
     ]
    },
    {
     "name": "stdout",
     "output_type": "stream",
     "text": [
      "MoviePy - Done.\n"
     ]
    },
    {
     "name": "stderr",
     "output_type": "stream",
     "text": [
      "                                                                \r\n",
      "chunk:  27%|██▋       | 19/70 [03:02<08:08,  9.58s/it, now=None]\n",
      "chunk:  21%|██▏       | 15/70 [02:06<07:42,  8.41s/it, now=None]\u001B[A"
     ]
    },
    {
     "name": "stdout",
     "output_type": "stream",
     "text": [
      "MoviePy - Writing audio in ../data/bagoflies/BagOfLies/audio\\.._data_bagoflies_BagOfLies_Finalised_User_8_run_0_video.wav\n"
     ]
    },
    {
     "name": "stderr",
     "output_type": "stream",
     "text": [
      "\n",
      "\n",
      "chunk:   0%|          | 0/105 [00:00<?, ?it/s, now=None]\u001B[A\u001B[A\n",
      "\n",
      "chunk:  54%|█████▍    | 57/105 [00:00<00:00, 505.90it/s, now=None]\u001B[A\u001B[A\n",
      "\n",
      "                                                                  \u001B[A\u001B[A\r\n",
      "chunk:  27%|██▋       | 19/70 [03:02<08:10,  9.61s/it, now=None]\n",
      "chunk:  21%|██▏       | 15/70 [02:06<07:44,  8.44s/it, now=None]\u001B[A"
     ]
    },
    {
     "name": "stdout",
     "output_type": "stream",
     "text": [
      "MoviePy - Done.\n"
     ]
    },
    {
     "name": "stderr",
     "output_type": "stream",
     "text": [
      "                                                                \r\n",
      "chunk:  27%|██▋       | 19/70 [03:03<08:11,  9.65s/it, now=None]\n",
      "chunk:  21%|██▏       | 15/70 [02:07<07:46,  8.48s/it, now=None]\u001B[A"
     ]
    },
    {
     "name": "stdout",
     "output_type": "stream",
     "text": [
      "MoviePy - Writing audio in ../data/bagoflies/BagOfLies/audio\\.._data_bagoflies_BagOfLies_Finalised_User_8_run_1_video.wav\n"
     ]
    },
    {
     "name": "stderr",
     "output_type": "stream",
     "text": [
      "\n",
      "\n",
      "chunk:   0%|          | 0/111 [00:00<?, ?it/s, now=None]\u001B[A\u001B[A\n",
      "\n",
      "chunk:  41%|████      | 45/111 [00:00<00:00, 447.06it/s, now=None]\u001B[A\u001B[A\n",
      "\n",
      "                                                                  \u001B[A\u001B[A\r\n",
      "chunk:  27%|██▋       | 19/70 [03:03<08:12,  9.66s/it, now=None]\n",
      "chunk:  21%|██▏       | 15/70 [02:07<07:47,  8.50s/it, now=None]\u001B[A"
     ]
    },
    {
     "name": "stdout",
     "output_type": "stream",
     "text": [
      "MoviePy - Done.\n"
     ]
    },
    {
     "name": "stderr",
     "output_type": "stream",
     "text": [
      "                                                                \r\n",
      "chunk:  27%|██▋       | 19/70 [03:04<08:14,  9.69s/it, now=None]\n",
      "chunk:  21%|██▏       | 15/70 [02:08<07:49,  8.54s/it, now=None]\u001B[A"
     ]
    },
    {
     "name": "stdout",
     "output_type": "stream",
     "text": [
      "MoviePy - Writing audio in ../data/bagoflies/BagOfLies/audio\\.._data_bagoflies_BagOfLies_Finalised_User_8_run_2_video.wav\n"
     ]
    },
    {
     "name": "stderr",
     "output_type": "stream",
     "text": [
      "\n",
      "\n",
      "chunk:   0%|          | 0/83 [00:00<?, ?it/s, now=None]\u001B[A\u001B[A\n",
      "\n",
      "chunk:  69%|██████▊   | 57/83 [00:00<00:00, 351.19it/s, now=None]\u001B[A\u001B[A\n",
      "\n",
      "                                                                 \u001B[A\u001B[A\r\n",
      "chunk:  27%|██▋       | 19/70 [03:04<08:14,  9.70s/it, now=None]\n",
      "chunk:  21%|██▏       | 15/70 [02:08<07:50,  8.55s/it, now=None]\u001B[A"
     ]
    },
    {
     "name": "stdout",
     "output_type": "stream",
     "text": [
      "MoviePy - Done.\n"
     ]
    },
    {
     "name": "stderr",
     "output_type": "stream",
     "text": [
      "                                                                \r\n",
      "chunk:  27%|██▋       | 19/70 [03:04<08:16,  9.73s/it, now=None]\n",
      "chunk:  21%|██▏       | 15/70 [02:08<07:52,  8.59s/it, now=None]\u001B[A"
     ]
    },
    {
     "name": "stdout",
     "output_type": "stream",
     "text": [
      "MoviePy - Writing audio in ../data/bagoflies/BagOfLies/audio\\.._data_bagoflies_BagOfLies_Finalised_User_8_run_3_video.wav\n"
     ]
    },
    {
     "name": "stderr",
     "output_type": "stream",
     "text": [
      "\n",
      "\n",
      "chunk:   0%|          | 0/85 [00:00<?, ?it/s, now=None]\u001B[A\u001B[A\n",
      "\n",
      "chunk:  67%|██████▋   | 57/85 [00:00<00:00, 515.41it/s, now=None]\u001B[A\u001B[A\n",
      "\n",
      "                                                                 \u001B[A\u001B[A\r\n",
      "chunk:  27%|██▋       | 19/70 [03:05<08:16,  9.74s/it, now=None]\n",
      "chunk:  21%|██▏       | 15/70 [02:09<07:53,  8.60s/it, now=None]\u001B[A"
     ]
    },
    {
     "name": "stdout",
     "output_type": "stream",
     "text": [
      "MoviePy - Done.\n"
     ]
    },
    {
     "name": "stderr",
     "output_type": "stream",
     "text": [
      "                                                                \r\n",
      "chunk:  27%|██▋       | 19/70 [03:05<08:18,  9.77s/it, now=None]\n",
      "chunk:  21%|██▏       | 15/70 [02:09<07:55,  8.64s/it, now=None]\u001B[A"
     ]
    },
    {
     "name": "stdout",
     "output_type": "stream",
     "text": [
      "MoviePy - Writing audio in ../data/bagoflies/BagOfLies/audio\\.._data_bagoflies_BagOfLies_Finalised_User_8_run_4_video.wav\n"
     ]
    },
    {
     "name": "stderr",
     "output_type": "stream",
     "text": [
      "\n",
      "\n",
      "chunk:   0%|          | 0/66 [00:00<?, ?it/s, now=None]\u001B[A\u001B[A\n",
      "\n",
      "chunk:  58%|█████▊    | 38/66 [00:00<00:00, 374.73it/s, now=None]\u001B[A\u001B[A\n",
      "\n",
      "                                                                 \u001B[A\u001B[A\r\n",
      "chunk:  27%|██▋       | 19/70 [03:05<08:18,  9.77s/it, now=None]\n",
      "chunk:  21%|██▏       | 15/70 [02:09<07:55,  8.65s/it, now=None]\u001B[A"
     ]
    },
    {
     "name": "stdout",
     "output_type": "stream",
     "text": [
      "MoviePy - Done.\n"
     ]
    },
    {
     "name": "stderr",
     "output_type": "stream",
     "text": [
      "                                                                \r\n",
      "chunk:  27%|██▋       | 19/70 [03:06<08:20,  9.81s/it, now=None]\n",
      "chunk:  21%|██▏       | 15/70 [02:10<07:57,  8.69s/it, now=None]\u001B[A"
     ]
    },
    {
     "name": "stdout",
     "output_type": "stream",
     "text": [
      "MoviePy - Writing audio in ../data/bagoflies/BagOfLies/audio\\.._data_bagoflies_BagOfLies_Finalised_User_8_run_5_video.wav\n"
     ]
    },
    {
     "name": "stderr",
     "output_type": "stream",
     "text": [
      "\n",
      "\n",
      "chunk:   0%|          | 0/109 [00:00<?, ?it/s, now=None]\u001B[A\u001B[A\n",
      "\n",
      "chunk:  52%|█████▏    | 57/109 [00:00<00:00, 461.83it/s, now=None]\u001B[A\u001B[A\n",
      "\n",
      "                                                                  \u001B[A\u001B[A\r\n",
      "chunk:  27%|██▋       | 19/70 [03:06<08:20,  9.82s/it, now=None]\n",
      "chunk:  21%|██▏       | 15/70 [02:10<07:58,  8.70s/it, now=None]\u001B[A"
     ]
    },
    {
     "name": "stdout",
     "output_type": "stream",
     "text": [
      "MoviePy - Done.\n"
     ]
    },
    {
     "name": "stderr",
     "output_type": "stream",
     "text": [
      "                                                                \r\n",
      "chunk:  27%|██▋       | 19/70 [03:07<08:22,  9.85s/it, now=None]\n",
      "chunk:  21%|██▏       | 15/70 [02:11<08:01,  8.75s/it, now=None]\u001B[A"
     ]
    },
    {
     "name": "stdout",
     "output_type": "stream",
     "text": [
      "MoviePy - Writing audio in ../data/bagoflies/BagOfLies/audio\\.._data_bagoflies_BagOfLies_Finalised_User_8_run_6_video.wav\n"
     ]
    },
    {
     "name": "stderr",
     "output_type": "stream",
     "text": [
      "\n",
      "\n",
      "chunk:   0%|          | 0/87 [00:00<?, ?it/s, now=None]\u001B[A\u001B[A\n",
      "\n",
      "chunk:  44%|████▎     | 38/87 [00:00<00:00, 368.38it/s, now=None]\u001B[A\u001B[A\n",
      "\n",
      "                                                                 \u001B[A\u001B[A\r\n",
      "chunk:  27%|██▋       | 19/70 [03:07<08:23,  9.86s/it, now=None]\n",
      "chunk:  21%|██▏       | 15/70 [02:11<08:01,  8.76s/it, now=None]\u001B[A"
     ]
    },
    {
     "name": "stdout",
     "output_type": "stream",
     "text": [
      "MoviePy - Done.\n"
     ]
    },
    {
     "name": "stderr",
     "output_type": "stream",
     "text": [
      "                                                                \r\n",
      "chunk:  27%|██▋       | 19/70 [03:08<08:24,  9.90s/it, now=None]\n",
      "chunk:  21%|██▏       | 15/70 [02:12<08:04,  8.81s/it, now=None]\u001B[A"
     ]
    },
    {
     "name": "stdout",
     "output_type": "stream",
     "text": [
      "MoviePy - Writing audio in ../data/bagoflies/BagOfLies/audio\\.._data_bagoflies_BagOfLies_Finalised_User_8_run_7_video.wav\n"
     ]
    },
    {
     "name": "stderr",
     "output_type": "stream",
     "text": [
      "\n",
      "\n",
      "chunk:   0%|          | 0/59 [00:00<?, ?it/s, now=None]\u001B[A\u001B[A\n",
      "\n",
      "                                                                \r\n",
      "chunk:  27%|██▋       | 19/70 [03:08<08:25,  9.91s/it, now=None]\n",
      "chunk:  21%|██▏       | 15/70 [02:12<08:04,  8.81s/it, now=None]\u001B[A"
     ]
    },
    {
     "name": "stdout",
     "output_type": "stream",
     "text": [
      "MoviePy - Done.\n"
     ]
    },
    {
     "name": "stderr",
     "output_type": "stream",
     "text": [
      "                                                                \r\n",
      "chunk:  27%|██▋       | 19/70 [03:08<08:26,  9.94s/it, now=None]\n",
      "chunk:  21%|██▏       | 15/70 [02:12<08:07,  8.86s/it, now=None]\u001B[A"
     ]
    },
    {
     "name": "stdout",
     "output_type": "stream",
     "text": [
      "MoviePy - Writing audio in ../data/bagoflies/BagOfLies/audio\\.._data_bagoflies_BagOfLies_Finalised_User_8_run_8_video.wav\n"
     ]
    },
    {
     "name": "stderr",
     "output_type": "stream",
     "text": [
      "\n",
      "\n",
      "chunk:   0%|          | 0/65 [00:00<?, ?it/s, now=None]\u001B[A\u001B[A\n",
      "\n",
      "chunk:  88%|████████▊ | 57/65 [00:00<00:00, 569.65it/s, now=None]\u001B[A\u001B[A\n",
      "\n",
      "                                                                 \u001B[A\u001B[A\r\n",
      "chunk:  27%|██▋       | 19/70 [03:08<08:27,  9.94s/it, now=None]\n",
      "chunk:  21%|██▏       | 15/70 [02:12<08:07,  8.86s/it, now=None]\u001B[A"
     ]
    },
    {
     "name": "stdout",
     "output_type": "stream",
     "text": [
      "MoviePy - Done.\n"
     ]
    },
    {
     "name": "stderr",
     "output_type": "stream",
     "text": [
      "                                                                \r\n",
      "chunk:  27%|██▋       | 19/70 [03:09<08:28,  9.98s/it, now=None]\n",
      "chunk:  21%|██▏       | 15/70 [02:13<08:09,  8.91s/it, now=None]\u001B[A"
     ]
    },
    {
     "name": "stdout",
     "output_type": "stream",
     "text": [
      "MoviePy - Writing audio in ../data/bagoflies/BagOfLies/audio\\.._data_bagoflies_BagOfLies_Finalised_User_8_run_9_video.wav\n"
     ]
    },
    {
     "name": "stderr",
     "output_type": "stream",
     "text": [
      "\n",
      "\n",
      "chunk:   0%|          | 0/59 [00:00<?, ?it/s, now=None]\u001B[A\u001B[A\n",
      "\n",
      "chunk:  64%|██████▍   | 38/59 [00:00<00:00, 299.97it/s, now=None]\u001B[A\u001B[A\n",
      "\n",
      "                                                                 \u001B[A\u001B[A\r\n",
      "chunk:  27%|██▋       | 19/70 [03:09<08:29,  9.99s/it, now=None]\n",
      "chunk:  21%|██▏       | 15/70 [02:13<08:10,  8.92s/it, now=None]\u001B[A"
     ]
    },
    {
     "name": "stdout",
     "output_type": "stream",
     "text": [
      "MoviePy - Done.\n"
     ]
    },
    {
     "name": "stderr",
     "output_type": "stream",
     "text": [
      "                                                                \r\n",
      "chunk:  27%|██▋       | 19/70 [03:10<08:30, 10.02s/it, now=None]\n",
      "chunk:  21%|██▏       | 15/70 [02:14<08:12,  8.96s/it, now=None]\u001B[A"
     ]
    },
    {
     "name": "stdout",
     "output_type": "stream",
     "text": [
      "MoviePy - Writing audio in ../data/bagoflies/BagOfLies/audio\\.._data_bagoflies_BagOfLies_Finalised_User_9_run_0_video.wav\n"
     ]
    },
    {
     "name": "stderr",
     "output_type": "stream",
     "text": [
      "\n",
      "\n",
      "chunk:   0%|          | 0/152 [00:00<?, ?it/s, now=None]\u001B[A\u001B[A\n",
      "\n",
      "chunk:  38%|███▊      | 57/152 [00:00<00:00, 474.97it/s, now=None]\u001B[A\u001B[A\n",
      "\n",
      "chunk:  88%|████████▊ | 133/152 [00:00<00:00, 539.02it/s, now=None]\u001B[A\u001B[A\n",
      "\n",
      "                                                                   \u001B[A\u001B[A\r\n",
      "chunk:  27%|██▋       | 19/70 [03:10<08:31, 10.03s/it, now=None]\n",
      "chunk:  21%|██▏       | 15/70 [02:14<08:13,  8.98s/it, now=None]\u001B[A"
     ]
    },
    {
     "name": "stdout",
     "output_type": "stream",
     "text": [
      "MoviePy - Done.\n"
     ]
    },
    {
     "name": "stderr",
     "output_type": "stream",
     "text": [
      "                                                                \r\n",
      "chunk:  27%|██▋       | 19/70 [03:11<08:33, 10.06s/it, now=None]\n",
      "chunk:  21%|██▏       | 15/70 [02:15<08:15,  9.02s/it, now=None]\u001B[A"
     ]
    },
    {
     "name": "stdout",
     "output_type": "stream",
     "text": [
      "MoviePy - Writing audio in ../data/bagoflies/BagOfLies/audio\\.._data_bagoflies_BagOfLies_Finalised_User_9_run_1_video.wav\n"
     ]
    },
    {
     "name": "stderr",
     "output_type": "stream",
     "text": [
      "\n",
      "\n",
      "chunk:   0%|          | 0/103 [00:00<?, ?it/s, now=None]\u001B[A\u001B[A\n",
      "\n",
      "chunk:  55%|█████▌    | 57/103 [00:00<00:00, 527.89it/s, now=None]\u001B[A\u001B[A\n",
      "\n",
      "                                                                  \u001B[A\u001B[A\r\n",
      "chunk:  27%|██▋       | 19/70 [03:11<08:33, 10.07s/it, now=None]\n",
      "chunk:  21%|██▏       | 15/70 [02:15<08:16,  9.03s/it, now=None]\u001B[A"
     ]
    },
    {
     "name": "stdout",
     "output_type": "stream",
     "text": [
      "MoviePy - Done.\n"
     ]
    },
    {
     "name": "stderr",
     "output_type": "stream",
     "text": [
      "                                                                \r\n",
      "chunk:  27%|██▋       | 19/70 [03:12<08:35, 10.11s/it, now=None]\n",
      "chunk:  21%|██▏       | 15/70 [02:16<08:18,  9.07s/it, now=None]\u001B[A"
     ]
    },
    {
     "name": "stdout",
     "output_type": "stream",
     "text": [
      "MoviePy - Writing audio in ../data/bagoflies/BagOfLies/audio\\.._data_bagoflies_BagOfLies_Finalised_User_9_run_2_video.wav\n"
     ]
    },
    {
     "name": "stderr",
     "output_type": "stream",
     "text": [
      "\n",
      "\n",
      "chunk:   0%|          | 0/171 [00:00<?, ?it/s, now=None]\u001B[A\u001B[A\n",
      "\n",
      "chunk:  33%|███▎      | 57/171 [00:00<00:00, 458.63it/s, now=None]\u001B[A\u001B[A\n",
      "\n",
      "chunk:  78%|███████▊  | 133/171 [00:00<00:00, 529.72it/s, now=None]\u001B[A\u001B[A\n",
      "\n",
      "                                                                   \u001B[A\u001B[A\r\n",
      "chunk:  27%|██▋       | 19/70 [03:12<08:36, 10.12s/it, now=None]\n",
      "chunk:  21%|██▏       | 15/70 [02:16<08:19,  9.09s/it, now=None]\u001B[A"
     ]
    },
    {
     "name": "stdout",
     "output_type": "stream",
     "text": [
      "MoviePy - Done.\n"
     ]
    },
    {
     "name": "stderr",
     "output_type": "stream",
     "text": [
      "                                                                \r\n",
      "chunk:  27%|██▋       | 19/70 [03:12<08:37, 10.15s/it, now=None]\n",
      "chunk:  21%|██▏       | 15/70 [02:16<08:21,  9.13s/it, now=None]\u001B[A"
     ]
    },
    {
     "name": "stdout",
     "output_type": "stream",
     "text": [
      "MoviePy - Writing audio in ../data/bagoflies/BagOfLies/audio\\.._data_bagoflies_BagOfLies_Finalised_User_9_run_3_video.wav\n"
     ]
    },
    {
     "name": "stderr",
     "output_type": "stream",
     "text": [
      "\n",
      "\n",
      "chunk:   0%|          | 0/110 [00:00<?, ?it/s, now=None]\u001B[A\u001B[A\n",
      "\n",
      "chunk:  52%|█████▏    | 57/110 [00:00<00:00, 473.23it/s, now=None]\u001B[A\u001B[A\n",
      "\n",
      "                                                                  \u001B[A\u001B[A\r\n",
      "chunk:  27%|██▋       | 19/70 [03:13<08:38, 10.16s/it, now=None]\n",
      "chunk:  21%|██▏       | 15/70 [02:17<08:22,  9.14s/it, now=None]\u001B[A"
     ]
    },
    {
     "name": "stdout",
     "output_type": "stream",
     "text": [
      "MoviePy - Done.\n"
     ]
    },
    {
     "name": "stderr",
     "output_type": "stream",
     "text": [
      "                                                                \r\n",
      "chunk:  27%|██▋       | 19/70 [03:13<08:40, 10.21s/it, now=None]\n",
      "chunk:  21%|██▏       | 15/70 [02:17<08:25,  9.19s/it, now=None]\u001B[A"
     ]
    },
    {
     "name": "stdout",
     "output_type": "stream",
     "text": [
      "MoviePy - Writing audio in ../data/bagoflies/BagOfLies/audio\\.._data_bagoflies_BagOfLies_Finalised_User_9_run_4_video.wav\n"
     ]
    },
    {
     "name": "stderr",
     "output_type": "stream",
     "text": [
      "\n",
      "\n",
      "chunk:   0%|          | 0/81 [00:00<?, ?it/s, now=None]\u001B[A\u001B[A\n",
      "\n",
      "chunk:  70%|███████   | 57/81 [00:00<00:00, 489.76it/s, now=None]\u001B[A\u001B[A\n",
      "\n",
      "                                                                 \u001B[A\u001B[A\r\n",
      "chunk:  27%|██▋       | 19/70 [03:14<08:40, 10.21s/it, now=None]\n",
      "chunk:  21%|██▏       | 15/70 [02:18<08:26,  9.20s/it, now=None]\u001B[A"
     ]
    },
    {
     "name": "stdout",
     "output_type": "stream",
     "text": [
      "MoviePy - Done.\n"
     ]
    },
    {
     "name": "stderr",
     "output_type": "stream",
     "text": [
      "                                                                \r\n",
      "chunk:  27%|██▋       | 19/70 [03:14<08:42, 10.24s/it, now=None]\n",
      "chunk:  21%|██▏       | 15/70 [02:18<08:28,  9.24s/it, now=None]\u001B[A"
     ]
    },
    {
     "name": "stdout",
     "output_type": "stream",
     "text": [
      "MoviePy - Writing audio in ../data/bagoflies/BagOfLies/audio\\.._data_bagoflies_BagOfLies_Finalised_User_9_run_5_video.wav\n"
     ]
    },
    {
     "name": "stderr",
     "output_type": "stream",
     "text": [
      "\n",
      "\n",
      "chunk:   0%|          | 0/96 [00:00<?, ?it/s, now=None]\u001B[A\u001B[A\n",
      "\n",
      "chunk:  59%|█████▉    | 57/96 [00:00<00:00, 468.36it/s, now=None]\u001B[A\u001B[A\n",
      "\n",
      "                                                                 \u001B[A\u001B[A\r\n",
      "chunk:  27%|██▋       | 19/70 [03:14<08:42, 10.25s/it, now=None]\n",
      "chunk:  21%|██▏       | 15/70 [02:18<08:28,  9.25s/it, now=None]\u001B[A"
     ]
    },
    {
     "name": "stdout",
     "output_type": "stream",
     "text": [
      "MoviePy - Done.\n"
     ]
    },
    {
     "name": "stderr",
     "output_type": "stream",
     "text": [
      "                                                                \r\n",
      "chunk:  27%|██▋       | 19/70 [03:15<08:44, 10.28s/it, now=None]\n",
      "chunk:  21%|██▏       | 15/70 [02:19<08:31,  9.29s/it, now=None]\u001B[A"
     ]
    },
    {
     "name": "stdout",
     "output_type": "stream",
     "text": [
      "MoviePy - Writing audio in ../data/bagoflies/BagOfLies/audio\\.._data_bagoflies_BagOfLies_Finalised_User_9_run_6_video.wav\n"
     ]
    },
    {
     "name": "stderr",
     "output_type": "stream",
     "text": [
      "\n",
      "\n",
      "chunk:   0%|          | 0/71 [00:00<?, ?it/s, now=None]\u001B[A\u001B[A\n",
      "\n",
      "chunk:  80%|████████  | 57/71 [00:00<00:00, 525.06it/s, now=None]\u001B[A\u001B[A\n",
      "\n",
      "                                                                 \u001B[A\u001B[A\r\n",
      "chunk:  27%|██▋       | 19/70 [03:15<08:44, 10.29s/it, now=None]\n",
      "chunk:  21%|██▏       | 15/70 [02:19<08:31,  9.30s/it, now=None]\u001B[A"
     ]
    },
    {
     "name": "stdout",
     "output_type": "stream",
     "text": [
      "MoviePy - Done.\n"
     ]
    },
    {
     "name": "stderr",
     "output_type": "stream",
     "text": [
      "                                                                \r\n",
      "chunk:  27%|██▋       | 19/70 [03:16<08:46, 10.32s/it, now=None]\n",
      "chunk:  21%|██▏       | 15/70 [02:20<08:33,  9.34s/it, now=None]\u001B[A"
     ]
    },
    {
     "name": "stdout",
     "output_type": "stream",
     "text": [
      "MoviePy - Writing audio in ../data/bagoflies/BagOfLies/audio\\.._data_bagoflies_BagOfLies_Finalised_User_9_run_7_video.wav\n"
     ]
    },
    {
     "name": "stderr",
     "output_type": "stream",
     "text": [
      "\n",
      "\n",
      "chunk:   0%|          | 0/75 [00:00<?, ?it/s, now=None]\u001B[A\u001B[A\n",
      "\n",
      "chunk:  76%|███████▌  | 57/75 [00:00<00:00, 463.13it/s, now=None]\u001B[A\u001B[A\n",
      "\n",
      "                                                                 \u001B[A\u001B[A\r\n",
      "chunk:  27%|██▋       | 19/70 [03:16<08:46, 10.33s/it, now=None]\n",
      "chunk:  21%|██▏       | 15/70 [02:20<08:34,  9.35s/it, now=None]\u001B[A"
     ]
    },
    {
     "name": "stdout",
     "output_type": "stream",
     "text": [
      "MoviePy - Done.\n"
     ]
    },
    {
     "name": "stderr",
     "output_type": "stream",
     "text": [
      "                                                                \r\n",
      "chunk:  27%|██▋       | 19/70 [03:16<08:48, 10.36s/it, now=None]\n",
      "chunk:  21%|██▏       | 15/70 [02:20<08:36,  9.39s/it, now=None]\u001B[A"
     ]
    },
    {
     "name": "stdout",
     "output_type": "stream",
     "text": [
      "MoviePy - Writing audio in ../data/bagoflies/BagOfLies/audio\\.._data_bagoflies_BagOfLies_Finalised_User_10_run_0_video.wav\n"
     ]
    },
    {
     "name": "stderr",
     "output_type": "stream",
     "text": [
      "\n",
      "\n",
      "chunk:   0%|          | 0/51 [00:00<?, ?it/s, now=None]\u001B[A\u001B[A\n",
      "\n",
      "                                                                \r\n",
      "chunk:  27%|██▋       | 19/70 [03:16<08:48, 10.36s/it, now=None]\n",
      "chunk:  21%|██▏       | 15/70 [02:20<08:36,  9.39s/it, now=None]\u001B[A"
     ]
    },
    {
     "name": "stdout",
     "output_type": "stream",
     "text": [
      "MoviePy - Done.\n"
     ]
    },
    {
     "name": "stderr",
     "output_type": "stream",
     "text": [
      "                                                                \r\n",
      "chunk:  27%|██▋       | 19/70 [03:17<08:50, 10.39s/it, now=None]\n",
      "chunk:  21%|██▏       | 15/70 [02:21<08:38,  9.43s/it, now=None]\u001B[A"
     ]
    },
    {
     "name": "stdout",
     "output_type": "stream",
     "text": [
      "MoviePy - Writing audio in ../data/bagoflies/BagOfLies/audio\\.._data_bagoflies_BagOfLies_Finalised_User_10_run_1_video.wav\n"
     ]
    },
    {
     "name": "stderr",
     "output_type": "stream",
     "text": [
      "\n",
      "\n",
      "chunk:   0%|          | 0/57 [00:00<?, ?it/s, now=None]\u001B[A\u001B[A\n",
      "\n",
      "                                                                \r\n",
      "chunk:  27%|██▋       | 19/70 [03:17<08:50, 10.40s/it, now=None]\n",
      "chunk:  21%|██▏       | 15/70 [02:21<08:39,  9.44s/it, now=None]\u001B[A"
     ]
    },
    {
     "name": "stdout",
     "output_type": "stream",
     "text": [
      "MoviePy - Done.\n"
     ]
    },
    {
     "name": "stderr",
     "output_type": "stream",
     "text": [
      "                                                                \r\n",
      "chunk:  27%|██▋       | 19/70 [03:18<08:51, 10.43s/it, now=None]\n",
      "chunk:  21%|██▏       | 15/70 [02:22<08:41,  9.48s/it, now=None]\u001B[A"
     ]
    },
    {
     "name": "stdout",
     "output_type": "stream",
     "text": [
      "MoviePy - Writing audio in ../data/bagoflies/BagOfLies/audio\\.._data_bagoflies_BagOfLies_Finalised_User_10_run_2_video.wav\n"
     ]
    },
    {
     "name": "stderr",
     "output_type": "stream",
     "text": [
      "\n",
      "\n",
      "chunk:   0%|          | 0/66 [00:00<?, ?it/s, now=None]\u001B[A\u001B[A\n",
      "\n",
      "                                                                \r\n",
      "chunk:  27%|██▋       | 19/70 [03:18<08:52, 10.43s/it, now=None]\n",
      "chunk:  21%|██▏       | 15/70 [02:22<08:41,  9.48s/it, now=None]\u001B[A"
     ]
    },
    {
     "name": "stdout",
     "output_type": "stream",
     "text": [
      "MoviePy - Done.\n"
     ]
    },
    {
     "name": "stderr",
     "output_type": "stream",
     "text": [
      "                                                                \r\n",
      "chunk:  27%|██▋       | 19/70 [03:19<08:54, 10.48s/it, now=None]\n",
      "chunk:  21%|██▏       | 15/70 [02:23<08:44,  9.54s/it, now=None]\u001B[A"
     ]
    },
    {
     "name": "stdout",
     "output_type": "stream",
     "text": [
      "MoviePy - Writing audio in ../data/bagoflies/BagOfLies/audio\\.._data_bagoflies_BagOfLies_Finalised_User_10_run_3_video.wav\n"
     ]
    },
    {
     "name": "stderr",
     "output_type": "stream",
     "text": [
      "\n",
      "\n",
      "chunk:   0%|          | 0/71 [00:00<?, ?it/s, now=None]\u001B[A\u001B[A\n",
      "\n",
      "chunk:  80%|████████  | 57/71 [00:00<00:00, 540.53it/s, now=None]\u001B[A\u001B[A\n",
      "\n",
      "                                                                 \u001B[A\u001B[A\r\n",
      "chunk:  27%|██▋       | 19/70 [03:19<08:54, 10.48s/it, now=None]\n",
      "chunk:  21%|██▏       | 15/70 [02:23<08:44,  9.54s/it, now=None]\u001B[A"
     ]
    },
    {
     "name": "stdout",
     "output_type": "stream",
     "text": [
      "MoviePy - Done.\n"
     ]
    },
    {
     "name": "stderr",
     "output_type": "stream",
     "text": [
      "                                                                \r\n",
      "chunk:  27%|██▋       | 19/70 [03:19<08:56, 10.51s/it, now=None]\n",
      "chunk:  21%|██▏       | 15/70 [02:23<08:47,  9.58s/it, now=None]\u001B[A"
     ]
    },
    {
     "name": "stdout",
     "output_type": "stream",
     "text": [
      "MoviePy - Writing audio in ../data/bagoflies/BagOfLies/audio\\.._data_bagoflies_BagOfLies_Finalised_User_10_run_4_video.wav\n"
     ]
    },
    {
     "name": "stderr",
     "output_type": "stream",
     "text": [
      "\n",
      "\n",
      "chunk:   0%|          | 0/72 [00:00<?, ?it/s, now=None]\u001B[A\u001B[A\n",
      "\n",
      "                                                                \r\n",
      "chunk:  27%|██▋       | 19/70 [03:19<08:56, 10.52s/it, now=None]\n",
      "chunk:  21%|██▏       | 15/70 [02:23<08:47,  9.59s/it, now=None]\u001B[A"
     ]
    },
    {
     "name": "stdout",
     "output_type": "stream",
     "text": [
      "MoviePy - Done.\n"
     ]
    },
    {
     "name": "stderr",
     "output_type": "stream",
     "text": [
      "                                                                \r\n",
      "chunk:  27%|██▋       | 19/70 [03:20<08:57, 10.55s/it, now=None]\n",
      "chunk:  21%|██▏       | 15/70 [02:24<08:49,  9.63s/it, now=None]\u001B[A"
     ]
    },
    {
     "name": "stdout",
     "output_type": "stream",
     "text": [
      "MoviePy - Writing audio in ../data/bagoflies/BagOfLies/audio\\.._data_bagoflies_BagOfLies_Finalised_User_10_run_5_video.wav\n"
     ]
    },
    {
     "name": "stderr",
     "output_type": "stream",
     "text": [
      "\n",
      "\n",
      "chunk:   0%|          | 0/68 [00:00<?, ?it/s, now=None]\u001B[A\u001B[A\n",
      "\n",
      "                                                                \r\n",
      "chunk:  27%|██▋       | 19/70 [03:20<08:58, 10.55s/it, now=None]\n",
      "chunk:  21%|██▏       | 15/70 [02:24<08:49,  9.63s/it, now=None]\u001B[A"
     ]
    },
    {
     "name": "stdout",
     "output_type": "stream",
     "text": [
      "MoviePy - Done.\n"
     ]
    },
    {
     "name": "stderr",
     "output_type": "stream",
     "text": [
      "                                                                \r\n",
      "chunk:  27%|██▋       | 19/70 [03:21<08:59, 10.58s/it, now=None]\n",
      "chunk:  21%|██▏       | 15/70 [02:25<08:51,  9.67s/it, now=None]\u001B[A"
     ]
    },
    {
     "name": "stdout",
     "output_type": "stream",
     "text": [
      "MoviePy - Writing audio in ../data/bagoflies/BagOfLies/audio\\.._data_bagoflies_BagOfLies_Finalised_User_10_run_6_video.wav\n"
     ]
    },
    {
     "name": "stderr",
     "output_type": "stream",
     "text": [
      "\n",
      "\n",
      "chunk:   0%|          | 0/67 [00:00<?, ?it/s, now=None]\u001B[A\u001B[A\n",
      "\n",
      "                                                                \r\n",
      "chunk:  27%|██▋       | 19/70 [03:21<08:59, 10.59s/it, now=None]\n",
      "chunk:  21%|██▏       | 15/70 [02:25<08:52,  9.68s/it, now=None]\u001B[A"
     ]
    },
    {
     "name": "stdout",
     "output_type": "stream",
     "text": [
      "MoviePy - Done.\n"
     ]
    },
    {
     "name": "stderr",
     "output_type": "stream",
     "text": [
      "                                                                \r\n",
      "chunk:  27%|██▋       | 19/70 [03:21<09:01, 10.62s/it, now=None]\n",
      "chunk:  21%|██▏       | 15/70 [02:25<08:54,  9.72s/it, now=None]\u001B[A"
     ]
    },
    {
     "name": "stdout",
     "output_type": "stream",
     "text": [
      "MoviePy - Writing audio in ../data/bagoflies/BagOfLies/audio\\.._data_bagoflies_BagOfLies_Finalised_User_10_run_7_video.wav\n"
     ]
    },
    {
     "name": "stderr",
     "output_type": "stream",
     "text": [
      "\n",
      "\n",
      "chunk:   0%|          | 0/59 [00:00<?, ?it/s, now=None]\u001B[A\u001B[A\n",
      "\n",
      "                                                                \r\n",
      "chunk:  27%|██▋       | 19/70 [03:21<09:01, 10.62s/it, now=None]\n",
      "chunk:  21%|██▏       | 15/70 [02:25<08:54,  9.72s/it, now=None]\u001B[A"
     ]
    },
    {
     "name": "stdout",
     "output_type": "stream",
     "text": [
      "MoviePy - Done.\n"
     ]
    },
    {
     "name": "stderr",
     "output_type": "stream",
     "text": [
      "                                                                \r\n",
      "chunk:  27%|██▋       | 19/70 [03:22<09:03, 10.65s/it, now=None]\n",
      "chunk:  21%|██▏       | 15/70 [02:26<08:56,  9.76s/it, now=None]\u001B[A"
     ]
    },
    {
     "name": "stdout",
     "output_type": "stream",
     "text": [
      "MoviePy - Writing audio in ../data/bagoflies/BagOfLies/audio\\.._data_bagoflies_BagOfLies_Finalised_User_10_run_8_video.wav\n"
     ]
    },
    {
     "name": "stderr",
     "output_type": "stream",
     "text": [
      "\n",
      "\n",
      "chunk:   0%|          | 0/40 [00:00<?, ?it/s, now=None]\u001B[A\u001B[A\n",
      "\n",
      "                                                                \r\n",
      "chunk:  27%|██▋       | 19/70 [03:22<09:03, 10.66s/it, now=None]\n",
      "chunk:  21%|██▏       | 15/70 [02:26<08:57,  9.77s/it, now=None]\u001B[A"
     ]
    },
    {
     "name": "stdout",
     "output_type": "stream",
     "text": [
      "MoviePy - Done.\n"
     ]
    },
    {
     "name": "stderr",
     "output_type": "stream",
     "text": [
      "                                                                \r\n",
      "chunk:  27%|██▋       | 19/70 [03:23<09:05, 10.69s/it, now=None]\n",
      "chunk:  21%|██▏       | 15/70 [02:27<08:59,  9.81s/it, now=None]\u001B[A"
     ]
    },
    {
     "name": "stdout",
     "output_type": "stream",
     "text": [
      "MoviePy - Writing audio in ../data/bagoflies/BagOfLies/audio\\.._data_bagoflies_BagOfLies_Finalised_User_11_run_0_video.wav\n"
     ]
    },
    {
     "name": "stderr",
     "output_type": "stream",
     "text": [
      "\n",
      "\n",
      "chunk:   0%|          | 0/51 [00:00<?, ?it/s, now=None]\u001B[A\u001B[A\n",
      "\n",
      "                                                                \r\n",
      "chunk:  27%|██▋       | 19/70 [03:23<09:05, 10.69s/it, now=None]\n",
      "chunk:  21%|██▏       | 15/70 [02:27<08:59,  9.81s/it, now=None]\u001B[A"
     ]
    },
    {
     "name": "stdout",
     "output_type": "stream",
     "text": [
      "MoviePy - Done.\n"
     ]
    },
    {
     "name": "stderr",
     "output_type": "stream",
     "text": [
      "                                                                \r\n",
      "chunk:  27%|██▋       | 19/70 [03:23<09:07, 10.73s/it, now=None]\n",
      "chunk:  21%|██▏       | 15/70 [02:27<09:02,  9.86s/it, now=None]\u001B[A"
     ]
    },
    {
     "name": "stdout",
     "output_type": "stream",
     "text": [
      "MoviePy - Writing audio in ../data/bagoflies/BagOfLies/audio\\.._data_bagoflies_BagOfLies_Finalised_User_11_run_1_video.wav\n"
     ]
    },
    {
     "name": "stderr",
     "output_type": "stream",
     "text": [
      "\n",
      "\n",
      "chunk:   0%|          | 0/58 [00:00<?, ?it/s, now=None]\u001B[A\u001B[A\n",
      "\n",
      "                                                                \r\n",
      "chunk:  27%|██▋       | 19/70 [03:24<09:07, 10.74s/it, now=None]\n",
      "chunk:  21%|██▏       | 15/70 [02:28<09:02,  9.87s/it, now=None]\u001B[A"
     ]
    },
    {
     "name": "stdout",
     "output_type": "stream",
     "text": [
      "MoviePy - Done.\n"
     ]
    },
    {
     "name": "stderr",
     "output_type": "stream",
     "text": [
      "                                                                \r\n",
      "chunk:  27%|██▋       | 19/70 [03:24<09:09, 10.77s/it, now=None]\n",
      "chunk:  21%|██▏       | 15/70 [02:28<09:04,  9.90s/it, now=None]\u001B[A"
     ]
    },
    {
     "name": "stdout",
     "output_type": "stream",
     "text": [
      "MoviePy - Writing audio in ../data/bagoflies/BagOfLies/audio\\.._data_bagoflies_BagOfLies_Finalised_User_11_run_2_video.wav\n"
     ]
    },
    {
     "name": "stderr",
     "output_type": "stream",
     "text": [
      "\n",
      "\n",
      "chunk:   0%|          | 0/65 [00:00<?, ?it/s, now=None]\u001B[A\u001B[A\n",
      "\n",
      "                                                                \r\n",
      "chunk:  27%|██▋       | 19/70 [03:24<09:09, 10.77s/it, now=None]\n",
      "chunk:  21%|██▏       | 15/70 [02:28<09:05,  9.91s/it, now=None]\u001B[A"
     ]
    },
    {
     "name": "stdout",
     "output_type": "stream",
     "text": [
      "MoviePy - Done.\n"
     ]
    },
    {
     "name": "stderr",
     "output_type": "stream",
     "text": [
      "                                                                \r\n",
      "chunk:  27%|██▋       | 19/70 [03:25<09:10, 10.80s/it, now=None]\n",
      "chunk:  21%|██▏       | 15/70 [02:29<09:07,  9.95s/it, now=None]\u001B[A"
     ]
    },
    {
     "name": "stdout",
     "output_type": "stream",
     "text": [
      "MoviePy - Writing audio in ../data/bagoflies/BagOfLies/audio\\.._data_bagoflies_BagOfLies_Finalised_User_11_run_3_video.wav\n"
     ]
    },
    {
     "name": "stderr",
     "output_type": "stream",
     "text": [
      "\n",
      "\n",
      "chunk:   0%|          | 0/75 [00:00<?, ?it/s, now=None]\u001B[A\u001B[A\n",
      "\n",
      "                                                                \r\n",
      "chunk:  27%|██▋       | 19/70 [03:25<09:11, 10.80s/it, now=None]\n",
      "chunk:  21%|██▏       | 15/70 [02:29<09:07,  9.95s/it, now=None]\u001B[A"
     ]
    },
    {
     "name": "stdout",
     "output_type": "stream",
     "text": [
      "MoviePy - Done.\n"
     ]
    },
    {
     "name": "stderr",
     "output_type": "stream",
     "text": [
      "                                                                \r\n",
      "chunk:  27%|██▋       | 19/70 [03:25<09:12, 10.84s/it, now=None]\n",
      "chunk:  21%|██▏       | 15/70 [02:29<09:09,  9.99s/it, now=None]\u001B[A"
     ]
    },
    {
     "name": "stdout",
     "output_type": "stream",
     "text": [
      "MoviePy - Writing audio in ../data/bagoflies/BagOfLies/audio\\.._data_bagoflies_BagOfLies_Finalised_User_11_run_4_video.wav\n"
     ]
    },
    {
     "name": "stderr",
     "output_type": "stream",
     "text": [
      "\n",
      "\n",
      "chunk:   0%|          | 0/63 [00:00<?, ?it/s, now=None]\u001B[A\u001B[A\n",
      "\n",
      "                                                                \r\n",
      "chunk:  27%|██▋       | 19/70 [03:25<09:12, 10.84s/it, now=None]\n",
      "chunk:  21%|██▏       | 15/70 [02:29<09:09, 10.00s/it, now=None]\u001B[A"
     ]
    },
    {
     "name": "stdout",
     "output_type": "stream",
     "text": [
      "MoviePy - Done.\n"
     ]
    },
    {
     "name": "stderr",
     "output_type": "stream",
     "text": [
      "                                                                \r\n",
      "chunk:  27%|██▋       | 19/70 [03:26<09:14, 10.87s/it, now=None]\n",
      "chunk:  21%|██▏       | 15/70 [02:30<09:11, 10.03s/it, now=None]\u001B[A"
     ]
    },
    {
     "name": "stdout",
     "output_type": "stream",
     "text": [
      "MoviePy - Writing audio in ../data/bagoflies/BagOfLies/audio\\.._data_bagoflies_BagOfLies_Finalised_User_11_run_5_video.wav\n"
     ]
    },
    {
     "name": "stderr",
     "output_type": "stream",
     "text": [
      "\n",
      "\n",
      "chunk:   0%|          | 0/53 [00:00<?, ?it/s, now=None]\u001B[A\u001B[A\n",
      "\n",
      "                                                                \r\n",
      "chunk:  27%|██▋       | 19/70 [03:26<09:14, 10.87s/it, now=None]\n",
      "chunk:  21%|██▏       | 15/70 [02:30<09:12, 10.04s/it, now=None]\u001B[A"
     ]
    },
    {
     "name": "stdout",
     "output_type": "stream",
     "text": [
      "MoviePy - Done.\n"
     ]
    },
    {
     "name": "stderr",
     "output_type": "stream",
     "text": [
      "                                                                \r\n",
      "chunk:  27%|██▋       | 19/70 [03:27<09:16, 10.90s/it, now=None]\n",
      "chunk:  21%|██▏       | 15/70 [02:31<09:14, 10.08s/it, now=None]\u001B[A"
     ]
    },
    {
     "name": "stdout",
     "output_type": "stream",
     "text": [
      "MoviePy - Writing audio in ../data/bagoflies/BagOfLies/audio\\.._data_bagoflies_BagOfLies_Finalised_User_11_run_6_video.wav\n"
     ]
    },
    {
     "name": "stderr",
     "output_type": "stream",
     "text": [
      "\n",
      "\n",
      "chunk:   0%|          | 0/58 [00:00<?, ?it/s, now=None]\u001B[A\u001B[A\n",
      "\n",
      "                                                                \r\n",
      "chunk:  27%|██▋       | 19/70 [03:27<09:16, 10.91s/it, now=None]\n",
      "chunk:  21%|██▏       | 15/70 [02:31<09:14, 10.08s/it, now=None]\u001B[A"
     ]
    },
    {
     "name": "stdout",
     "output_type": "stream",
     "text": [
      "MoviePy - Done.\n"
     ]
    },
    {
     "name": "stderr",
     "output_type": "stream",
     "text": [
      "                                                                \r\n",
      "chunk:  27%|██▋       | 19/70 [03:27<09:17, 10.94s/it, now=None]\n",
      "chunk:  21%|██▏       | 15/70 [02:31<09:16, 10.12s/it, now=None]\u001B[A"
     ]
    },
    {
     "name": "stdout",
     "output_type": "stream",
     "text": [
      "MoviePy - Writing audio in ../data/bagoflies/BagOfLies/audio\\.._data_bagoflies_BagOfLies_Finalised_User_11_run_7_video.wav\n"
     ]
    },
    {
     "name": "stderr",
     "output_type": "stream",
     "text": [
      "\n",
      "\n",
      "chunk:   0%|          | 0/63 [00:00<?, ?it/s, now=None]\u001B[A\u001B[A\n",
      "\n",
      "                                                                \r\n",
      "chunk:  27%|██▋       | 19/70 [03:27<09:18, 10.94s/it, now=None]\n",
      "chunk:  21%|██▏       | 15/70 [02:31<09:16, 10.13s/it, now=None]\u001B[A"
     ]
    },
    {
     "name": "stdout",
     "output_type": "stream",
     "text": [
      "MoviePy - Done.\n"
     ]
    },
    {
     "name": "stderr",
     "output_type": "stream",
     "text": [
      "                                                                \r\n",
      "chunk:  27%|██▋       | 19/70 [03:28<09:19, 10.97s/it, now=None]\n",
      "chunk:  21%|██▏       | 15/70 [02:32<09:18, 10.16s/it, now=None]\u001B[A"
     ]
    },
    {
     "name": "stdout",
     "output_type": "stream",
     "text": [
      "MoviePy - Writing audio in ../data/bagoflies/BagOfLies/audio\\.._data_bagoflies_BagOfLies_Finalised_User_11_run_8_video.wav\n"
     ]
    },
    {
     "name": "stderr",
     "output_type": "stream",
     "text": [
      "\n",
      "\n",
      "chunk:   0%|          | 0/74 [00:00<?, ?it/s, now=None]\u001B[A\u001B[A\n",
      "\n",
      "                                                                \r\n",
      "chunk:  27%|██▋       | 19/70 [03:28<09:19, 10.98s/it, now=None]\n",
      "chunk:  21%|██▏       | 15/70 [02:32<09:19, 10.17s/it, now=None]\u001B[A"
     ]
    },
    {
     "name": "stdout",
     "output_type": "stream",
     "text": [
      "MoviePy - Done.\n"
     ]
    },
    {
     "name": "stderr",
     "output_type": "stream",
     "text": [
      "                                                                \r\n",
      "chunk:  27%|██▋       | 19/70 [03:29<09:21, 11.00s/it, now=None]\n",
      "chunk:  21%|██▏       | 15/70 [02:33<09:21, 10.21s/it, now=None]\u001B[A"
     ]
    },
    {
     "name": "stdout",
     "output_type": "stream",
     "text": [
      "MoviePy - Writing audio in ../data/bagoflies/BagOfLies/audio\\.._data_bagoflies_BagOfLies_Finalised_User_11_run_9_video.wav\n"
     ]
    },
    {
     "name": "stderr",
     "output_type": "stream",
     "text": [
      "\n",
      "\n",
      "chunk:   0%|          | 0/47 [00:00<?, ?it/s, now=None]\u001B[A\u001B[A\n",
      "\n",
      "                                                                \r\n",
      "chunk:  27%|██▋       | 19/70 [03:29<09:21, 11.01s/it, now=None]\n",
      "chunk:  21%|██▏       | 15/70 [02:33<09:21, 10.21s/it, now=None]\u001B[A"
     ]
    },
    {
     "name": "stdout",
     "output_type": "stream",
     "text": [
      "MoviePy - Done.\n"
     ]
    },
    {
     "name": "stderr",
     "output_type": "stream",
     "text": [
      "                                                                \r\n",
      "chunk:  27%|██▋       | 19/70 [03:29<09:22, 11.04s/it, now=None]\n",
      "chunk:  21%|██▏       | 15/70 [02:33<09:23, 10.25s/it, now=None]\u001B[A"
     ]
    },
    {
     "name": "stdout",
     "output_type": "stream",
     "text": [
      "MoviePy - Writing audio in ../data/bagoflies/BagOfLies/audio\\.._data_bagoflies_BagOfLies_Finalised_User_12_run_0_video.wav\n"
     ]
    },
    {
     "name": "stderr",
     "output_type": "stream",
     "text": [
      "\n",
      "\n",
      "chunk:   0%|          | 0/55 [00:00<?, ?it/s, now=None]\u001B[A\u001B[A\n",
      "\n",
      "                                                                \r\n",
      "chunk:  27%|██▋       | 19/70 [03:29<09:23, 11.04s/it, now=None]\n",
      "chunk:  21%|██▏       | 15/70 [02:33<09:23, 10.25s/it, now=None]\u001B[A"
     ]
    },
    {
     "name": "stdout",
     "output_type": "stream",
     "text": [
      "MoviePy - Done.\n"
     ]
    },
    {
     "name": "stderr",
     "output_type": "stream",
     "text": [
      "                                                                \r\n",
      "chunk:  27%|██▋       | 19/70 [03:30<09:23, 11.06s/it, now=None]\n",
      "chunk:  21%|██▏       | 15/70 [02:34<09:24, 10.27s/it, now=None]\u001B[A"
     ]
    },
    {
     "name": "stdout",
     "output_type": "stream",
     "text": [
      "MoviePy - Writing audio in ../data/bagoflies/BagOfLies/audio\\.._data_bagoflies_BagOfLies_Finalised_User_12_run_1_video.wav\n"
     ]
    },
    {
     "name": "stderr",
     "output_type": "stream",
     "text": [
      "\n",
      "\n",
      "chunk:   0%|          | 0/72 [00:00<?, ?it/s, now=None]\u001B[A\u001B[A\n",
      "\n",
      "                                                                \r\n",
      "chunk:  27%|██▋       | 19/70 [03:30<09:24, 11.06s/it, now=None]\n",
      "chunk:  21%|██▏       | 15/70 [02:34<09:25, 10.28s/it, now=None]\u001B[A"
     ]
    },
    {
     "name": "stdout",
     "output_type": "stream",
     "text": [
      "MoviePy - Done.\n"
     ]
    },
    {
     "name": "stderr",
     "output_type": "stream",
     "text": [
      "                                                                \r\n",
      "chunk:  27%|██▋       | 19/70 [03:30<09:25, 11.08s/it, now=None]\n",
      "chunk:  21%|██▏       | 15/70 [02:34<09:26, 10.30s/it, now=None]\u001B[A"
     ]
    },
    {
     "name": "stdout",
     "output_type": "stream",
     "text": [
      "MoviePy - Writing audio in ../data/bagoflies/BagOfLies/audio\\.._data_bagoflies_BagOfLies_Finalised_User_12_run_2_video.wav\n"
     ]
    },
    {
     "name": "stderr",
     "output_type": "stream",
     "text": [
      "\n",
      "\n",
      "chunk:   0%|          | 0/66 [00:00<?, ?it/s, now=None]\u001B[A\u001B[A\n",
      "\n",
      "                                                                \r\n",
      "chunk:  27%|██▋       | 19/70 [03:30<09:25, 11.08s/it, now=None]\n",
      "chunk:  21%|██▏       | 15/70 [02:34<09:26, 10.31s/it, now=None]\u001B[A"
     ]
    },
    {
     "name": "stdout",
     "output_type": "stream",
     "text": [
      "MoviePy - Done.\n"
     ]
    },
    {
     "name": "stderr",
     "output_type": "stream",
     "text": [
      "                                                                \r\n",
      "chunk:  27%|██▋       | 19/70 [03:30<09:26, 11.10s/it, now=None]\n",
      "chunk:  21%|██▏       | 15/70 [02:34<09:27, 10.33s/it, now=None]\u001B[A"
     ]
    },
    {
     "name": "stdout",
     "output_type": "stream",
     "text": [
      "MoviePy - Writing audio in ../data/bagoflies/BagOfLies/audio\\.._data_bagoflies_BagOfLies_Finalised_User_12_run_3_video.wav\n"
     ]
    },
    {
     "name": "stderr",
     "output_type": "stream",
     "text": [
      "\n",
      "\n",
      "chunk:   0%|          | 0/49 [00:00<?, ?it/s, now=None]\u001B[A\u001B[A\n",
      "\n",
      "                                                                \r\n",
      "chunk:  27%|██▋       | 19/70 [03:30<09:26, 11.10s/it, now=None]\n",
      "chunk:  21%|██▏       | 15/70 [02:34<09:28, 10.33s/it, now=None]\u001B[A"
     ]
    },
    {
     "name": "stdout",
     "output_type": "stream",
     "text": [
      "MoviePy - Done.\n"
     ]
    },
    {
     "name": "stderr",
     "output_type": "stream",
     "text": [
      "                                                                \r\n",
      "chunk:  27%|██▋       | 19/70 [03:31<09:27, 11.12s/it, now=None]\n",
      "chunk:  21%|██▏       | 15/70 [02:35<09:29, 10.35s/it, now=None]\u001B[A"
     ]
    },
    {
     "name": "stdout",
     "output_type": "stream",
     "text": [
      "MoviePy - Writing audio in ../data/bagoflies/BagOfLies/audio\\.._data_bagoflies_BagOfLies_Finalised_User_12_run_4_video.wav\n"
     ]
    },
    {
     "name": "stderr",
     "output_type": "stream",
     "text": [
      "\n",
      "\n",
      "chunk:   0%|          | 0/51 [00:00<?, ?it/s, now=None]\u001B[A\u001B[A\n",
      "\n",
      "                                                                \r\n",
      "chunk:  27%|██▋       | 19/70 [03:31<09:27, 11.12s/it, now=None]\n",
      "chunk:  21%|██▏       | 15/70 [02:35<09:29, 10.36s/it, now=None]\u001B[A"
     ]
    },
    {
     "name": "stdout",
     "output_type": "stream",
     "text": [
      "MoviePy - Done.\n"
     ]
    },
    {
     "name": "stderr",
     "output_type": "stream",
     "text": [
      "                                                                \r\n",
      "chunk:  27%|██▋       | 19/70 [03:31<09:27, 11.14s/it, now=None]\n",
      "chunk:  21%|██▏       | 15/70 [02:35<09:30, 10.37s/it, now=None]\u001B[A"
     ]
    },
    {
     "name": "stdout",
     "output_type": "stream",
     "text": [
      "MoviePy - Writing audio in ../data/bagoflies/BagOfLies/audio\\.._data_bagoflies_BagOfLies_Finalised_User_12_run_5_video.wav\n"
     ]
    },
    {
     "name": "stderr",
     "output_type": "stream",
     "text": [
      "\n",
      "\n",
      "chunk:   0%|          | 0/55 [00:00<?, ?it/s, now=None]\u001B[A\u001B[A\n",
      "\n",
      "                                                                \r\n",
      "chunk:  27%|██▋       | 19/70 [03:31<09:28, 11.14s/it, now=None]\n",
      "chunk:  21%|██▏       | 15/70 [02:35<09:30, 10.38s/it, now=None]\u001B[A"
     ]
    },
    {
     "name": "stdout",
     "output_type": "stream",
     "text": [
      "MoviePy - Done.\n"
     ]
    },
    {
     "name": "stderr",
     "output_type": "stream",
     "text": [
      "                                                                \r\n",
      "chunk:  27%|██▋       | 19/70 [03:32<09:29, 11.16s/it, now=None]\n",
      "chunk:  21%|██▏       | 15/70 [02:36<09:32, 10.40s/it, now=None]\u001B[A"
     ]
    },
    {
     "name": "stdout",
     "output_type": "stream",
     "text": [
      "MoviePy - Writing audio in ../data/bagoflies/BagOfLies/audio\\.._data_bagoflies_BagOfLies_Finalised_User_12_run_6_video.wav\n"
     ]
    },
    {
     "name": "stderr",
     "output_type": "stream",
     "text": [
      "\n",
      "\n",
      "chunk:   0%|          | 0/44 [00:00<?, ?it/s, now=None]\u001B[A\u001B[A\n",
      "\n",
      "                                                                \r\n",
      "chunk:  27%|██▋       | 19/70 [03:32<09:29, 11.16s/it, now=None]\n",
      "chunk:  21%|██▏       | 15/70 [02:36<09:32, 10.41s/it, now=None]\u001B[A"
     ]
    },
    {
     "name": "stdout",
     "output_type": "stream",
     "text": [
      "MoviePy - Done.\n"
     ]
    },
    {
     "name": "stderr",
     "output_type": "stream",
     "text": [
      "                                                                \r\n",
      "chunk:  27%|██▋       | 19/70 [03:32<09:30, 11.18s/it, now=None]\n",
      "chunk:  21%|██▏       | 15/70 [02:36<09:33, 10.42s/it, now=None]\u001B[A"
     ]
    },
    {
     "name": "stdout",
     "output_type": "stream",
     "text": [
      "MoviePy - Writing audio in ../data/bagoflies/BagOfLies/audio\\.._data_bagoflies_BagOfLies_Finalised_User_12_run_7_video.wav\n"
     ]
    },
    {
     "name": "stderr",
     "output_type": "stream",
     "text": [
      "\n",
      "\n",
      "chunk:   0%|          | 0/40 [00:00<?, ?it/s, now=None]\u001B[A\u001B[A\n",
      "\n",
      "                                                                \r\n",
      "chunk:  27%|██▋       | 19/70 [03:32<09:30, 11.18s/it, now=None]\n",
      "chunk:  21%|██▏       | 15/70 [02:36<09:33, 10.43s/it, now=None]\u001B[A"
     ]
    },
    {
     "name": "stdout",
     "output_type": "stream",
     "text": [
      "MoviePy - Done.\n"
     ]
    },
    {
     "name": "stderr",
     "output_type": "stream",
     "text": [
      "                                                                \r\n",
      "chunk:  27%|██▋       | 19/70 [03:32<09:31, 11.20s/it, now=None]\n",
      "chunk:  21%|██▏       | 15/70 [02:36<09:34, 10.45s/it, now=None]\u001B[A"
     ]
    },
    {
     "name": "stdout",
     "output_type": "stream",
     "text": [
      "MoviePy - Writing audio in ../data/bagoflies/BagOfLies/audio\\.._data_bagoflies_BagOfLies_Finalised_User_12_run_8_video.wav\n"
     ]
    },
    {
     "name": "stderr",
     "output_type": "stream",
     "text": [
      "\n",
      "\n",
      "chunk:   0%|          | 0/39 [00:00<?, ?it/s, now=None]\u001B[A\u001B[A\n",
      "\n",
      "                                                                \r\n",
      "chunk:  27%|██▋       | 19/70 [03:32<09:31, 11.20s/it, now=None]\n",
      "chunk:  21%|██▏       | 15/70 [02:36<09:34, 10.45s/it, now=None]\u001B[A"
     ]
    },
    {
     "name": "stdout",
     "output_type": "stream",
     "text": [
      "MoviePy - Done.\n"
     ]
    },
    {
     "name": "stderr",
     "output_type": "stream",
     "text": [
      "                                                                \r\n",
      "chunk:  27%|██▋       | 19/70 [03:33<09:32, 11.22s/it, now=None]\n",
      "chunk:  21%|██▏       | 15/70 [02:37<09:36, 10.47s/it, now=None]\u001B[A"
     ]
    },
    {
     "name": "stdout",
     "output_type": "stream",
     "text": [
      "MoviePy - Writing audio in ../data/bagoflies/BagOfLies/audio\\.._data_bagoflies_BagOfLies_Finalised_User_12_run_9_video.wav\n"
     ]
    },
    {
     "name": "stderr",
     "output_type": "stream",
     "text": [
      "\n",
      "\n",
      "chunk:   0%|          | 0/31 [00:00<?, ?it/s, now=None]\u001B[A\u001B[A\n",
      "\n",
      "                                                                \r\n",
      "chunk:  27%|██▋       | 19/70 [03:33<09:32, 11.22s/it, now=None]\n",
      "chunk:  21%|██▏       | 15/70 [02:37<09:36, 10.48s/it, now=None]\u001B[A"
     ]
    },
    {
     "name": "stdout",
     "output_type": "stream",
     "text": [
      "MoviePy - Done.\n"
     ]
    },
    {
     "name": "stderr",
     "output_type": "stream",
     "text": [
      "                                                                \r\n",
      "chunk:  27%|██▋       | 19/70 [03:33<09:33, 11.24s/it, now=None]\n",
      "chunk:  21%|██▏       | 15/70 [02:37<09:37, 10.50s/it, now=None]\u001B[A"
     ]
    },
    {
     "name": "stdout",
     "output_type": "stream",
     "text": [
      "MoviePy - Writing audio in ../data/bagoflies/BagOfLies/audio\\.._data_bagoflies_BagOfLies_Finalised_User_13_run_0_video.wav\n"
     ]
    },
    {
     "name": "stderr",
     "output_type": "stream",
     "text": [
      "\n",
      "\n",
      "chunk:   0%|          | 0/52 [00:00<?, ?it/s, now=None]\u001B[A\u001B[A\n",
      "\n",
      "                                                                \r\n",
      "chunk:  27%|██▋       | 19/70 [03:33<09:33, 11.24s/it, now=None]\n",
      "chunk:  21%|██▏       | 15/70 [02:37<09:37, 10.50s/it, now=None]\u001B[A"
     ]
    },
    {
     "name": "stdout",
     "output_type": "stream",
     "text": [
      "MoviePy - Done.\n"
     ]
    },
    {
     "name": "stderr",
     "output_type": "stream",
     "text": [
      "                                                                \r\n",
      "chunk:  27%|██▋       | 19/70 [03:33<09:34, 11.26s/it, now=None]\n",
      "chunk:  21%|██▏       | 15/70 [02:37<09:38, 10.52s/it, now=None]\u001B[A"
     ]
    },
    {
     "name": "stdout",
     "output_type": "stream",
     "text": [
      "MoviePy - Writing audio in ../data/bagoflies/BagOfLies/audio\\.._data_bagoflies_BagOfLies_Finalised_User_13_run_1_video.wav\n"
     ]
    },
    {
     "name": "stderr",
     "output_type": "stream",
     "text": [
      "\n",
      "\n",
      "chunk:   0%|          | 0/57 [00:00<?, ?it/s, now=None]\u001B[A\u001B[A\n",
      "\n",
      "                                                                \r\n",
      "chunk:  27%|██▋       | 19/70 [03:33<09:34, 11.26s/it, now=None]\n",
      "chunk:  21%|██▏       | 15/70 [02:37<09:39, 10.53s/it, now=None]\u001B[A"
     ]
    },
    {
     "name": "stdout",
     "output_type": "stream",
     "text": [
      "MoviePy - Done.\n"
     ]
    },
    {
     "name": "stderr",
     "output_type": "stream",
     "text": [
      "                                                                \r\n",
      "chunk:  27%|██▋       | 19/70 [03:34<09:35, 11.28s/it, now=None]\n",
      "chunk:  21%|██▏       | 15/70 [02:38<09:40, 10.55s/it, now=None]\u001B[A"
     ]
    },
    {
     "name": "stdout",
     "output_type": "stream",
     "text": [
      "MoviePy - Writing audio in ../data/bagoflies/BagOfLies/audio\\.._data_bagoflies_BagOfLies_Finalised_User_13_run_2_video.wav\n"
     ]
    },
    {
     "name": "stderr",
     "output_type": "stream",
     "text": [
      "\n",
      "\n",
      "chunk:   0%|          | 0/55 [00:00<?, ?it/s, now=None]\u001B[A\u001B[A\n",
      "\n",
      "                                                                \r\n",
      "chunk:  27%|██▋       | 19/70 [03:34<09:35, 11.28s/it, now=None]\n",
      "chunk:  21%|██▏       | 15/70 [02:38<09:40, 10.56s/it, now=None]\u001B[A"
     ]
    },
    {
     "name": "stdout",
     "output_type": "stream",
     "text": [
      "MoviePy - Done.\n"
     ]
    },
    {
     "name": "stderr",
     "output_type": "stream",
     "text": [
      "                                                                \r\n",
      "chunk:  27%|██▋       | 19/70 [03:34<09:36, 11.30s/it, now=None]\n",
      "chunk:  21%|██▏       | 15/70 [02:38<09:41, 10.58s/it, now=None]\u001B[A"
     ]
    },
    {
     "name": "stdout",
     "output_type": "stream",
     "text": [
      "MoviePy - Writing audio in ../data/bagoflies/BagOfLies/audio\\.._data_bagoflies_BagOfLies_Finalised_User_13_run_3_video.wav\n"
     ]
    },
    {
     "name": "stderr",
     "output_type": "stream",
     "text": [
      "\n",
      "\n",
      "chunk:   0%|          | 0/49 [00:00<?, ?it/s, now=None]\u001B[A\u001B[A\n",
      "\n",
      "                                                                \r\n",
      "chunk:  27%|██▋       | 19/70 [03:34<09:36, 11.30s/it, now=None]\n",
      "chunk:  21%|██▏       | 15/70 [02:38<09:41, 10.58s/it, now=None]\u001B[A"
     ]
    },
    {
     "name": "stdout",
     "output_type": "stream",
     "text": [
      "MoviePy - Done.\n"
     ]
    },
    {
     "name": "stderr",
     "output_type": "stream",
     "text": [
      "                                                                \r\n",
      "chunk:  27%|██▋       | 19/70 [03:34<09:37, 11.32s/it, now=None]\n",
      "chunk:  21%|██▏       | 15/70 [02:38<09:42, 10.60s/it, now=None]\u001B[A"
     ]
    },
    {
     "name": "stdout",
     "output_type": "stream",
     "text": [
      "MoviePy - Writing audio in ../data/bagoflies/BagOfLies/audio\\.._data_bagoflies_BagOfLies_Finalised_User_13_run_4_video.wav\n"
     ]
    },
    {
     "name": "stderr",
     "output_type": "stream",
     "text": [
      "\n",
      "\n",
      "chunk:   0%|          | 0/33 [00:00<?, ?it/s, now=None]\u001B[A\u001B[A\n",
      "\n",
      "                                                                \r\n",
      "chunk:  27%|██▋       | 19/70 [03:35<09:37, 11.32s/it, now=None]\n",
      "chunk:  21%|██▏       | 15/70 [02:39<09:43, 10.60s/it, now=None]\u001B[A"
     ]
    },
    {
     "name": "stdout",
     "output_type": "stream",
     "text": [
      "MoviePy - Done.\n"
     ]
    },
    {
     "name": "stderr",
     "output_type": "stream",
     "text": [
      "                                                                \r\n",
      "chunk:  27%|██▋       | 19/70 [03:35<09:38, 11.34s/it, now=None]\n",
      "chunk:  21%|██▏       | 15/70 [02:39<09:44, 10.63s/it, now=None]\u001B[A"
     ]
    },
    {
     "name": "stdout",
     "output_type": "stream",
     "text": [
      "MoviePy - Writing audio in ../data/bagoflies/BagOfLies/audio\\.._data_bagoflies_BagOfLies_Finalised_User_13_run_5_video.wav\n"
     ]
    },
    {
     "name": "stderr",
     "output_type": "stream",
     "text": [
      "\n",
      "\n",
      "chunk:   0%|          | 0/46 [00:00<?, ?it/s, now=None]\u001B[A\u001B[A\n",
      "\n",
      "                                                                \r\n",
      "chunk:  27%|██▋       | 19/70 [03:35<09:38, 11.35s/it, now=None]\n",
      "chunk:  21%|██▏       | 15/70 [02:39<09:45, 10.64s/it, now=None]\u001B[A"
     ]
    },
    {
     "name": "stdout",
     "output_type": "stream",
     "text": [
      "MoviePy - Done.\n"
     ]
    },
    {
     "name": "stderr",
     "output_type": "stream",
     "text": [
      "                                                                \r\n",
      "chunk:  27%|██▋       | 19/70 [03:35<09:39, 11.36s/it, now=None]\n",
      "chunk:  21%|██▏       | 15/70 [02:39<09:46, 10.66s/it, now=None]\u001B[A"
     ]
    },
    {
     "name": "stdout",
     "output_type": "stream",
     "text": [
      "MoviePy - Writing audio in ../data/bagoflies/BagOfLies/audio\\.._data_bagoflies_BagOfLies_Finalised_User_13_run_6_video.wav\n"
     ]
    },
    {
     "name": "stderr",
     "output_type": "stream",
     "text": [
      "\n",
      "\n",
      "chunk:   0%|          | 0/49 [00:00<?, ?it/s, now=None]\u001B[A\u001B[A\n",
      "\n",
      "                                                                \r\n",
      "chunk:  27%|██▋       | 19/70 [03:36<09:39, 11.37s/it, now=None]\n",
      "chunk:  21%|██▏       | 15/70 [02:40<09:46, 10.67s/it, now=None]\u001B[A"
     ]
    },
    {
     "name": "stdout",
     "output_type": "stream",
     "text": [
      "MoviePy - Done.\n"
     ]
    },
    {
     "name": "stderr",
     "output_type": "stream",
     "text": [
      "                                                                \r\n",
      "chunk:  27%|██▋       | 19/70 [03:36<09:40, 11.38s/it, now=None]\n",
      "chunk:  21%|██▏       | 15/70 [02:40<09:47, 10.69s/it, now=None]\u001B[A"
     ]
    },
    {
     "name": "stdout",
     "output_type": "stream",
     "text": [
      "MoviePy - Writing audio in ../data/bagoflies/BagOfLies/audio\\.._data_bagoflies_BagOfLies_Finalised_User_13_run_7_video.wav\n"
     ]
    },
    {
     "name": "stderr",
     "output_type": "stream",
     "text": [
      "\n",
      "\n",
      "chunk:   0%|          | 0/46 [00:00<?, ?it/s, now=None]\u001B[A\u001B[A\n",
      "\n",
      "                                                                \r\n",
      "chunk:  27%|██▋       | 19/70 [03:36<09:40, 11.39s/it, now=None]\n",
      "chunk:  21%|██▏       | 15/70 [02:40<09:48, 10.69s/it, now=None]\u001B[A"
     ]
    },
    {
     "name": "stdout",
     "output_type": "stream",
     "text": [
      "MoviePy - Done.\n"
     ]
    },
    {
     "name": "stderr",
     "output_type": "stream",
     "text": [
      "                                                                \r\n",
      "chunk:  27%|██▋       | 19/70 [03:36<09:41, 11.40s/it, now=None]\n",
      "chunk:  21%|██▏       | 15/70 [02:40<09:49, 10.71s/it, now=None]\u001B[A"
     ]
    },
    {
     "name": "stdout",
     "output_type": "stream",
     "text": [
      "MoviePy - Writing audio in ../data/bagoflies/BagOfLies/audio\\.._data_bagoflies_BagOfLies_Finalised_User_13_run_8_video.wav\n"
     ]
    },
    {
     "name": "stderr",
     "output_type": "stream",
     "text": [
      "\n",
      "\n",
      "chunk:   0%|          | 0/39 [00:00<?, ?it/s, now=None]\u001B[A\u001B[A\n",
      "\n",
      "                                                                \r\n",
      "chunk:  27%|██▋       | 19/70 [03:36<09:41, 11.41s/it, now=None]\n",
      "chunk:  21%|██▏       | 15/70 [02:40<09:49, 10.72s/it, now=None]\u001B[A"
     ]
    },
    {
     "name": "stdout",
     "output_type": "stream",
     "text": [
      "MoviePy - Done.\n"
     ]
    },
    {
     "name": "stderr",
     "output_type": "stream",
     "text": [
      "                                                                \r\n",
      "chunk:  27%|██▋       | 19/70 [03:37<09:42, 11.43s/it, now=None]\n",
      "chunk:  21%|██▏       | 15/70 [02:41<09:50, 10.74s/it, now=None]\u001B[A"
     ]
    },
    {
     "name": "stdout",
     "output_type": "stream",
     "text": [
      "MoviePy - Writing audio in ../data/bagoflies/BagOfLies/audio\\.._data_bagoflies_BagOfLies_Finalised_User_13_run_9_video.wav\n"
     ]
    },
    {
     "name": "stderr",
     "output_type": "stream",
     "text": [
      "\n",
      "\n",
      "chunk:   0%|          | 0/71 [00:00<?, ?it/s, now=None]\u001B[A\u001B[A\n",
      "\n",
      "                                                                \r\n",
      "chunk:  27%|██▋       | 19/70 [03:37<09:42, 11.43s/it, now=None]\n",
      "chunk:  21%|██▏       | 15/70 [02:41<09:50, 10.75s/it, now=None]\u001B[A"
     ]
    },
    {
     "name": "stdout",
     "output_type": "stream",
     "text": [
      "MoviePy - Done.\n"
     ]
    },
    {
     "name": "stderr",
     "output_type": "stream",
     "text": [
      "                                                                \r\n",
      "chunk:  27%|██▋       | 19/70 [03:37<09:44, 11.46s/it, now=None]\n",
      "chunk:  21%|██▏       | 15/70 [02:41<09:53, 10.79s/it, now=None]\u001B[A"
     ]
    },
    {
     "name": "stdout",
     "output_type": "stream",
     "text": [
      "MoviePy - Writing audio in ../data/bagoflies/BagOfLies/audio\\.._data_bagoflies_BagOfLies_Finalised_User_14_run_0_video.wav\n"
     ]
    },
    {
     "name": "stderr",
     "output_type": "stream",
     "text": [
      "\n",
      "\n",
      "chunk:   0%|          | 0/160 [00:00<?, ?it/s, now=None]\u001B[A\u001B[A\n",
      "\n",
      "chunk:  36%|███▌      | 57/160 [00:00<00:00, 449.14it/s, now=None]\u001B[A\u001B[A\n",
      "\n",
      "chunk:  71%|███████▏  | 114/160 [00:00<00:00, 402.84it/s, now=None]\u001B[A\u001B[A\n",
      "\n",
      "                                                                   \u001B[A\u001B[A\r\n",
      "chunk:  27%|██▋       | 19/70 [03:38<09:45, 11.48s/it, now=None]\n",
      "chunk:  21%|██▏       | 15/70 [02:42<09:54, 10.81s/it, now=None]\u001B[A"
     ]
    },
    {
     "name": "stdout",
     "output_type": "stream",
     "text": [
      "MoviePy - Done.\n"
     ]
    },
    {
     "name": "stderr",
     "output_type": "stream",
     "text": [
      "                                                                \r\n",
      "chunk:  27%|██▋       | 19/70 [03:38<09:47, 11.51s/it, now=None]\n",
      "chunk:  21%|██▏       | 15/70 [02:42<09:56, 10.85s/it, now=None]\u001B[A"
     ]
    },
    {
     "name": "stdout",
     "output_type": "stream",
     "text": [
      "MoviePy - Writing audio in ../data/bagoflies/BagOfLies/audio\\.._data_bagoflies_BagOfLies_Finalised_User_14_run_1_video.wav\n"
     ]
    },
    {
     "name": "stderr",
     "output_type": "stream",
     "text": [
      "\n",
      "\n",
      "chunk:   0%|          | 0/112 [00:00<?, ?it/s, now=None]\u001B[A\u001B[A\n",
      "\n",
      "chunk:  51%|█████     | 57/112 [00:00<00:00, 543.34it/s, now=None]\u001B[A\u001B[A\n",
      "\n",
      "                                                                  \u001B[A\u001B[A\r\n",
      "chunk:  27%|██▋       | 19/70 [03:38<09:47, 11.52s/it, now=None]\n",
      "chunk:  21%|██▏       | 15/70 [02:42<09:57, 10.86s/it, now=None]\u001B[A"
     ]
    },
    {
     "name": "stdout",
     "output_type": "stream",
     "text": [
      "MoviePy - Done.\n"
     ]
    },
    {
     "name": "stderr",
     "output_type": "stream",
     "text": [
      "                                                                \r\n",
      "chunk:  27%|██▋       | 19/70 [03:39<09:49, 11.56s/it, now=None]\n",
      "chunk:  21%|██▏       | 15/70 [02:43<09:59, 10.90s/it, now=None]\u001B[A"
     ]
    },
    {
     "name": "stdout",
     "output_type": "stream",
     "text": [
      "MoviePy - Writing audio in ../data/bagoflies/BagOfLies/audio\\.._data_bagoflies_BagOfLies_Finalised_User_14_run_2_video.wav\n"
     ]
    },
    {
     "name": "stderr",
     "output_type": "stream",
     "text": [
      "\n",
      "\n",
      "chunk:   0%|          | 0/95 [00:00<?, ?it/s, now=None]\u001B[A\u001B[A\n",
      "\n",
      "chunk:  40%|████      | 38/95 [00:00<00:00, 101.36it/s, now=None]\u001B[A\u001B[A\n",
      "\n",
      "                                                                 \u001B[A\u001B[A\r\n",
      "chunk:  27%|██▋       | 19/70 [03:40<09:50, 11.58s/it, now=None]\n",
      "chunk:  21%|██▏       | 15/70 [02:44<10:01, 10.93s/it, now=None]\u001B[A"
     ]
    },
    {
     "name": "stdout",
     "output_type": "stream",
     "text": [
      "MoviePy - Done.\n"
     ]
    },
    {
     "name": "stderr",
     "output_type": "stream",
     "text": [
      "                                                                \r\n",
      "chunk:  27%|██▋       | 19/70 [03:40<09:52, 11.61s/it, now=None]\n",
      "chunk:  21%|██▏       | 15/70 [02:44<10:03, 10.97s/it, now=None]\u001B[A"
     ]
    },
    {
     "name": "stdout",
     "output_type": "stream",
     "text": [
      "MoviePy - Writing audio in ../data/bagoflies/BagOfLies/audio\\.._data_bagoflies_BagOfLies_Finalised_User_14_run_3_video.wav\n"
     ]
    },
    {
     "name": "stderr",
     "output_type": "stream",
     "text": [
      "\n",
      "\n",
      "chunk:   0%|          | 0/83 [00:00<?, ?it/s, now=None]\u001B[A\u001B[A\n",
      "\n",
      "chunk:  69%|██████▊   | 57/83 [00:00<00:00, 509.75it/s, now=None]\u001B[A\u001B[A\n",
      "\n",
      "                                                                 \u001B[A\u001B[A\r\n",
      "chunk:  27%|██▋       | 19/70 [03:40<09:52, 11.62s/it, now=None]\n",
      "chunk:  21%|██▏       | 15/70 [02:44<10:04, 10.98s/it, now=None]\u001B[A"
     ]
    },
    {
     "name": "stdout",
     "output_type": "stream",
     "text": [
      "MoviePy - Done.\n"
     ]
    },
    {
     "name": "stderr",
     "output_type": "stream",
     "text": [
      "                                                                \r\n",
      "chunk:  27%|██▋       | 19/70 [03:41<09:54, 11.65s/it, now=None]\n",
      "chunk:  21%|██▏       | 15/70 [02:45<10:06, 11.03s/it, now=None]\u001B[A"
     ]
    },
    {
     "name": "stdout",
     "output_type": "stream",
     "text": [
      "MoviePy - Writing audio in ../data/bagoflies/BagOfLies/audio\\.._data_bagoflies_BagOfLies_Finalised_User_14_run_4_video.wav\n"
     ]
    },
    {
     "name": "stderr",
     "output_type": "stream",
     "text": [
      "\n",
      "\n",
      "chunk:   0%|          | 0/98 [00:00<?, ?it/s, now=None]\u001B[A\u001B[A\n",
      "\n",
      "chunk:  58%|█████▊    | 57/98 [00:00<00:00, 453.21it/s, now=None]\u001B[A\u001B[A\n",
      "\n",
      "                                                                 \u001B[A\u001B[A\r\n",
      "chunk:  27%|██▋       | 19/70 [03:41<09:54, 11.66s/it, now=None]\n",
      "chunk:  21%|██▏       | 15/70 [02:45<10:07, 11.04s/it, now=None]\u001B[A"
     ]
    },
    {
     "name": "stdout",
     "output_type": "stream",
     "text": [
      "MoviePy - Done.\n"
     ]
    },
    {
     "name": "stderr",
     "output_type": "stream",
     "text": [
      "                                                                \r\n",
      "chunk:  27%|██▋       | 19/70 [03:42<09:56, 11.69s/it, now=None]\n",
      "chunk:  21%|██▏       | 15/70 [02:46<10:09, 11.08s/it, now=None]\u001B[A"
     ]
    },
    {
     "name": "stdout",
     "output_type": "stream",
     "text": [
      "MoviePy - Writing audio in ../data/bagoflies/BagOfLies/audio\\.._data_bagoflies_BagOfLies_Finalised_User_14_run_5_video.wav\n"
     ]
    },
    {
     "name": "stderr",
     "output_type": "stream",
     "text": [
      "\n",
      "\n",
      "chunk:   0%|          | 0/93 [00:00<?, ?it/s, now=None]\u001B[A\u001B[A\n",
      "\n",
      "chunk:  61%|██████▏   | 57/93 [00:00<00:00, 487.83it/s, now=None]\u001B[A\u001B[A\n",
      "\n",
      "                                                                 \u001B[A\u001B[A\r\n",
      "chunk:  27%|██▋       | 19/70 [03:42<09:56, 11.70s/it, now=None]\n",
      "chunk:  21%|██▏       | 15/70 [02:46<10:10, 11.09s/it, now=None]\u001B[A"
     ]
    },
    {
     "name": "stdout",
     "output_type": "stream",
     "text": [
      "MoviePy - Done.\n"
     ]
    },
    {
     "name": "stderr",
     "output_type": "stream",
     "text": [
      "                                                                \r\n",
      "chunk:  27%|██▋       | 19/70 [03:43<09:58, 11.74s/it, now=None]\n",
      "chunk:  21%|██▏       | 15/70 [02:47<10:12, 11.14s/it, now=None]\u001B[A"
     ]
    },
    {
     "name": "stdout",
     "output_type": "stream",
     "text": [
      "MoviePy - Writing audio in ../data/bagoflies/BagOfLies/audio\\.._data_bagoflies_BagOfLies_Finalised_User_14_run_6_video.wav\n"
     ]
    },
    {
     "name": "stderr",
     "output_type": "stream",
     "text": [
      "\n",
      "\n",
      "chunk:   0%|          | 0/128 [00:00<?, ?it/s, now=None]\u001B[A\u001B[A\n",
      "\n",
      "chunk:  45%|████▍     | 57/128 [00:00<00:00, 538.39it/s, now=None]\u001B[A\u001B[A\n",
      "\n",
      "                                                                  \u001B[A\u001B[A\r\n",
      "chunk:  27%|██▋       | 19/70 [03:43<09:59, 11.75s/it, now=None]\n",
      "chunk:  21%|██▏       | 15/70 [02:47<10:13, 11.15s/it, now=None]\u001B[A"
     ]
    },
    {
     "name": "stdout",
     "output_type": "stream",
     "text": [
      "MoviePy - Done.\n"
     ]
    },
    {
     "name": "stderr",
     "output_type": "stream",
     "text": [
      "                                                                \r\n",
      "chunk:  27%|██▋       | 19/70 [03:43<10:00, 11.78s/it, now=None]\n",
      "chunk:  21%|██▏       | 15/70 [02:47<10:15, 11.19s/it, now=None]\u001B[A"
     ]
    },
    {
     "name": "stdout",
     "output_type": "stream",
     "text": [
      "MoviePy - Writing audio in ../data/bagoflies/BagOfLies/audio\\.._data_bagoflies_BagOfLies_Finalised_User_14_run_7_video.wav\n"
     ]
    },
    {
     "name": "stderr",
     "output_type": "stream",
     "text": [
      "\n",
      "\n",
      "chunk:   0%|          | 0/100 [00:00<?, ?it/s, now=None]\u001B[A\u001B[A\n",
      "\n",
      "chunk:  57%|█████▋    | 57/100 [00:00<00:00, 502.59it/s, now=None]\u001B[A\u001B[A\n",
      "\n",
      "                                                                  \u001B[A\u001B[A\r\n",
      "chunk:  27%|██▋       | 19/70 [03:44<10:01, 11.79s/it, now=None]\n",
      "chunk:  21%|██▏       | 15/70 [02:48<10:16, 11.20s/it, now=None]\u001B[A"
     ]
    },
    {
     "name": "stdout",
     "output_type": "stream",
     "text": [
      "MoviePy - Done.\n"
     ]
    },
    {
     "name": "stderr",
     "output_type": "stream",
     "text": [
      "                                                                \r\n",
      "chunk:  27%|██▋       | 19/70 [03:44<10:02, 11.82s/it, now=None]\n",
      "chunk:  21%|██▏       | 15/70 [02:48<10:18, 11.24s/it, now=None]\u001B[A"
     ]
    },
    {
     "name": "stdout",
     "output_type": "stream",
     "text": [
      "MoviePy - Writing audio in ../data/bagoflies/BagOfLies/audio\\.._data_bagoflies_BagOfLies_Finalised_User_14_run_8_video.wav\n"
     ]
    },
    {
     "name": "stderr",
     "output_type": "stream",
     "text": [
      "\n",
      "\n",
      "chunk:   0%|          | 0/131 [00:00<?, ?it/s, now=None]\u001B[A\u001B[A\n",
      "\n",
      "chunk:  44%|████▎     | 57/131 [00:00<00:00, 516.06it/s, now=None]\u001B[A\u001B[A\n",
      "\n",
      "                                                                  \u001B[A\u001B[A\r\n",
      "chunk:  27%|██▋       | 19/70 [03:44<10:03, 11.83s/it, now=None]\n",
      "chunk:  21%|██▏       | 15/70 [02:48<10:19, 11.26s/it, now=None]\u001B[A"
     ]
    },
    {
     "name": "stdout",
     "output_type": "stream",
     "text": [
      "MoviePy - Done.\n"
     ]
    },
    {
     "name": "stderr",
     "output_type": "stream",
     "text": [
      "                                                                \r\n",
      "chunk:  27%|██▋       | 19/70 [03:45<10:05, 11.87s/it, now=None]\n",
      "chunk:  21%|██▏       | 15/70 [02:49<10:21, 11.30s/it, now=None]\u001B[A"
     ]
    },
    {
     "name": "stdout",
     "output_type": "stream",
     "text": [
      "MoviePy - Writing audio in ../data/bagoflies/BagOfLies/audio\\.._data_bagoflies_BagOfLies_Finalised_User_14_run_9_video.wav\n"
     ]
    },
    {
     "name": "stderr",
     "output_type": "stream",
     "text": [
      "\n",
      "\n",
      "chunk:   0%|          | 0/114 [00:00<?, ?it/s, now=None]\u001B[A\u001B[A\n",
      "\n",
      "chunk:  50%|█████     | 57/114 [00:00<00:00, 534.69it/s, now=None]\u001B[A\u001B[A\n",
      "\n",
      "                                                                  \u001B[A\u001B[A\r\n",
      "chunk:  27%|██▋       | 19/70 [03:45<10:05, 11.88s/it, now=None]\n",
      "chunk:  21%|██▏       | 15/70 [02:49<10:21, 11.31s/it, now=None]\u001B[A"
     ]
    },
    {
     "name": "stdout",
     "output_type": "stream",
     "text": [
      "MoviePy - Done.\n"
     ]
    },
    {
     "name": "stderr",
     "output_type": "stream",
     "text": [
      "                                                                \r\n",
      "chunk:  27%|██▋       | 19/70 [03:46<10:07, 11.92s/it, now=None]\n",
      "chunk:  21%|██▏       | 15/70 [02:50<10:25, 11.37s/it, now=None]\u001B[A"
     ]
    },
    {
     "name": "stdout",
     "output_type": "stream",
     "text": [
      "MoviePy - Writing audio in ../data/bagoflies/BagOfLies/audio\\.._data_bagoflies_BagOfLies_Finalised_User_15_run_0_video.wav\n"
     ]
    },
    {
     "name": "stderr",
     "output_type": "stream",
     "text": [
      "\n",
      "\n",
      "chunk:   0%|          | 0/91 [00:00<?, ?it/s, now=None]\u001B[A\u001B[A\n",
      "\n",
      "chunk:  51%|█████     | 46/91 [00:00<00:00, 459.30it/s, now=None]\u001B[A\u001B[A\n",
      "\n",
      "                                                                 \u001B[A\u001B[A\r\n",
      "chunk:  27%|██▋       | 19/70 [03:46<10:08, 11.93s/it, now=None]\n",
      "chunk:  21%|██▏       | 15/70 [02:50<10:25, 11.38s/it, now=None]\u001B[A"
     ]
    },
    {
     "name": "stdout",
     "output_type": "stream",
     "text": [
      "MoviePy - Done.\n"
     ]
    },
    {
     "name": "stderr",
     "output_type": "stream",
     "text": [
      "                                                                \r\n",
      "chunk:  27%|██▋       | 19/70 [03:47<10:09, 11.96s/it, now=None]\n",
      "chunk:  21%|██▏       | 15/70 [02:51<10:27, 11.41s/it, now=None]\u001B[A"
     ]
    },
    {
     "name": "stdout",
     "output_type": "stream",
     "text": [
      "MoviePy - Writing audio in ../data/bagoflies/BagOfLies/audio\\.._data_bagoflies_BagOfLies_Finalised_User_15_run_1_video.wav\n"
     ]
    },
    {
     "name": "stderr",
     "output_type": "stream",
     "text": [
      "\n",
      "\n",
      "chunk:   0%|          | 0/107 [00:00<?, ?it/s, now=None]\u001B[A\u001B[A\n",
      "\n",
      "chunk:  53%|█████▎    | 57/107 [00:00<00:00, 525.48it/s, now=None]\u001B[A\u001B[A\n",
      "\n",
      "                                                                  \u001B[A\u001B[A\r\n",
      "chunk:  27%|██▋       | 19/70 [03:47<10:10, 11.97s/it, now=None]\n",
      "chunk:  21%|██▏       | 15/70 [02:51<10:28, 11.43s/it, now=None]\u001B[A"
     ]
    },
    {
     "name": "stdout",
     "output_type": "stream",
     "text": [
      "MoviePy - Done.\n"
     ]
    },
    {
     "name": "stderr",
     "output_type": "stream",
     "text": [
      "                                                                \r\n",
      "chunk:  27%|██▋       | 19/70 [03:48<10:12, 12.00s/it, now=None]\n",
      "chunk:  21%|██▏       | 15/70 [02:52<10:30, 11.47s/it, now=None]\u001B[A"
     ]
    },
    {
     "name": "stdout",
     "output_type": "stream",
     "text": [
      "MoviePy - Writing audio in ../data/bagoflies/BagOfLies/audio\\.._data_bagoflies_BagOfLies_Finalised_User_15_run_2_video.wav\n"
     ]
    },
    {
     "name": "stderr",
     "output_type": "stream",
     "text": [
      "\n",
      "\n",
      "chunk:   0%|          | 0/109 [00:00<?, ?it/s, now=None]\u001B[A\u001B[A\n",
      "\n",
      "chunk:  52%|█████▏    | 57/109 [00:00<00:00, 489.33it/s, now=None]\u001B[A\u001B[A\n",
      "\n",
      "                                                                  \u001B[A\u001B[A\r\n",
      "chunk:  27%|██▋       | 19/70 [03:48<10:12, 12.01s/it, now=None]\n",
      "chunk:  21%|██▏       | 15/70 [02:52<10:31, 11.48s/it, now=None]\u001B[A"
     ]
    },
    {
     "name": "stdout",
     "output_type": "stream",
     "text": [
      "MoviePy - Done.\n"
     ]
    },
    {
     "name": "stderr",
     "output_type": "stream",
     "text": [
      "                                                                \r\n",
      "chunk:  27%|██▋       | 19/70 [03:48<10:14, 12.05s/it, now=None]\n",
      "chunk:  21%|██▏       | 15/70 [02:52<10:34, 11.53s/it, now=None]\u001B[A"
     ]
    },
    {
     "name": "stdout",
     "output_type": "stream",
     "text": [
      "MoviePy - Writing audio in ../data/bagoflies/BagOfLies/audio\\.._data_bagoflies_BagOfLies_Finalised_User_15_run_3_video.wav\n"
     ]
    },
    {
     "name": "stderr",
     "output_type": "stream",
     "text": [
      "\n",
      "\n",
      "chunk:   0%|          | 0/115 [00:00<?, ?it/s, now=None]\u001B[A\u001B[A\n",
      "\n",
      "chunk:  50%|████▉     | 57/115 [00:00<00:00, 487.34it/s, now=None]\u001B[A\u001B[A\n",
      "\n",
      "                                                                  \u001B[A\u001B[A\r\n",
      "chunk:  27%|██▋       | 19/70 [03:49<10:15, 12.06s/it, now=None]\n",
      "chunk:  21%|██▏       | 15/70 [02:53<10:34, 11.54s/it, now=None]\u001B[A"
     ]
    },
    {
     "name": "stdout",
     "output_type": "stream",
     "text": [
      "MoviePy - Done.\n"
     ]
    },
    {
     "name": "stderr",
     "output_type": "stream",
     "text": [
      "                                                                \r\n",
      "chunk:  27%|██▋       | 19/70 [03:49<10:16, 12.09s/it, now=None]\n",
      "chunk:  21%|██▏       | 15/70 [02:53<10:37, 11.58s/it, now=None]\u001B[A"
     ]
    },
    {
     "name": "stdout",
     "output_type": "stream",
     "text": [
      "MoviePy - Writing audio in ../data/bagoflies/BagOfLies/audio\\.._data_bagoflies_BagOfLies_Finalised_User_15_run_4_video.wav\n"
     ]
    },
    {
     "name": "stderr",
     "output_type": "stream",
     "text": [
      "\n",
      "\n",
      "chunk:   0%|          | 0/98 [00:00<?, ?it/s, now=None]\u001B[A\u001B[A\n",
      "\n",
      "chunk:  59%|█████▉    | 58/98 [00:00<00:00, 576.32it/s, now=None]\u001B[A\u001B[A\n",
      "\n",
      "                                                                 \u001B[A\u001B[A\r\n",
      "chunk:  27%|██▋       | 19/70 [03:49<10:17, 12.10s/it, now=None]\n",
      "chunk:  21%|██▏       | 15/70 [02:53<10:37, 11.59s/it, now=None]\u001B[A"
     ]
    },
    {
     "name": "stdout",
     "output_type": "stream",
     "text": [
      "MoviePy - Done.\n"
     ]
    },
    {
     "name": "stderr",
     "output_type": "stream",
     "text": [
      "                                                                \r\n",
      "chunk:  27%|██▋       | 19/70 [03:50<10:18, 12.13s/it, now=None]\n",
      "chunk:  21%|██▏       | 15/70 [02:54<10:39, 11.63s/it, now=None]\u001B[A"
     ]
    },
    {
     "name": "stdout",
     "output_type": "stream",
     "text": [
      "MoviePy - Writing audio in ../data/bagoflies/BagOfLies/audio\\.._data_bagoflies_BagOfLies_Finalised_User_15_run_5_video.wav\n"
     ]
    },
    {
     "name": "stderr",
     "output_type": "stream",
     "text": [
      "\n",
      "\n",
      "chunk:   0%|          | 0/100 [00:00<?, ?it/s, now=None]\u001B[A\u001B[A\n",
      "\n",
      "chunk:  38%|███▊      | 38/100 [00:00<00:00, 262.54it/s, now=None]\u001B[A\u001B[A\n",
      "\n",
      "                                                                  \u001B[A\u001B[A\r\n",
      "chunk:  27%|██▋       | 19/70 [03:50<10:19, 12.14s/it, now=None]\n",
      "chunk:  21%|██▏       | 15/70 [02:54<10:40, 11.65s/it, now=None]\u001B[A"
     ]
    },
    {
     "name": "stdout",
     "output_type": "stream",
     "text": [
      "MoviePy - Done.\n"
     ]
    },
    {
     "name": "stderr",
     "output_type": "stream",
     "text": [
      "                                                                \r\n",
      "chunk:  27%|██▋       | 19/70 [03:51<10:21, 12.18s/it, now=None]\n",
      "chunk:  21%|██▏       | 15/70 [02:55<10:42, 11.69s/it, now=None]\u001B[A"
     ]
    },
    {
     "name": "stdout",
     "output_type": "stream",
     "text": [
      "MoviePy - Writing audio in ../data/bagoflies/BagOfLies/audio\\.._data_bagoflies_BagOfLies_Finalised_User_15_run_6_video.wav\n"
     ]
    },
    {
     "name": "stderr",
     "output_type": "stream",
     "text": [
      "\n",
      "\n",
      "chunk:   0%|          | 0/102 [00:00<?, ?it/s, now=None]\u001B[A\u001B[A\n",
      "\n",
      "chunk:  56%|█████▌    | 57/102 [00:00<00:00, 477.54it/s, now=None]\u001B[A\u001B[A\n",
      "\n",
      "                                                                  \u001B[A\u001B[A\r\n",
      "chunk:  27%|██▋       | 19/70 [03:51<10:22, 12.20s/it, now=None]\n",
      "chunk:  21%|██▏       | 15/70 [02:55<10:44, 11.73s/it, now=None]\u001B[A"
     ]
    },
    {
     "name": "stdout",
     "output_type": "stream",
     "text": [
      "MoviePy - Done.\n"
     ]
    },
    {
     "name": "stderr",
     "output_type": "stream",
     "text": [
      "                                                                \r\n",
      "chunk:  27%|██▋       | 19/70 [03:52<10:24, 12.24s/it, now=None]\n",
      "chunk:  21%|██▏       | 15/70 [02:56<10:47, 11.78s/it, now=None]\u001B[A"
     ]
    },
    {
     "name": "stdout",
     "output_type": "stream",
     "text": [
      "MoviePy - Writing audio in ../data/bagoflies/BagOfLies/audio\\.._data_bagoflies_BagOfLies_Finalised_User_15_run_7_video.wav\n"
     ]
    },
    {
     "name": "stderr",
     "output_type": "stream",
     "text": [
      "\n",
      "\n",
      "chunk:   0%|          | 0/86 [00:00<?, ?it/s, now=None]\u001B[A\u001B[A\n",
      "\n",
      "chunk:  44%|████▍     | 38/86 [00:00<00:00, 352.19it/s, now=None]\u001B[A\u001B[A\n",
      "\n",
      "                                                                 \u001B[A\u001B[A\r\n",
      "chunk:  27%|██▋       | 19/70 [03:52<10:24, 12.25s/it, now=None]\n",
      "chunk:  21%|██▏       | 15/70 [02:56<10:48, 11.79s/it, now=None]\u001B[A"
     ]
    },
    {
     "name": "stdout",
     "output_type": "stream",
     "text": [
      "MoviePy - Done.\n"
     ]
    },
    {
     "name": "stderr",
     "output_type": "stream",
     "text": [
      "                                                                \r\n",
      "chunk:  27%|██▋       | 19/70 [03:53<10:26, 12.28s/it, now=None]\n",
      "chunk:  21%|██▏       | 15/70 [02:57<10:50, 11.83s/it, now=None]\u001B[A"
     ]
    },
    {
     "name": "stdout",
     "output_type": "stream",
     "text": [
      "MoviePy - Writing audio in ../data/bagoflies/BagOfLies/audio\\.._data_bagoflies_BagOfLies_Finalised_User_15_run_8_video.wav\n"
     ]
    },
    {
     "name": "stderr",
     "output_type": "stream",
     "text": [
      "\n",
      "\n",
      "chunk:   0%|          | 0/117 [00:00<?, ?it/s, now=None]\u001B[A\u001B[A\n",
      "\n",
      "chunk:  49%|████▊     | 57/117 [00:00<00:00, 522.81it/s, now=None]\u001B[A\u001B[A\n",
      "\n",
      "                                                                  \u001B[A\u001B[A\r\n",
      "chunk:  27%|██▋       | 19/70 [03:53<10:27, 12.29s/it, now=None]\n",
      "chunk:  21%|██▏       | 15/70 [02:57<10:51, 11.84s/it, now=None]\u001B[A"
     ]
    },
    {
     "name": "stdout",
     "output_type": "stream",
     "text": [
      "MoviePy - Done.\n"
     ]
    },
    {
     "name": "stderr",
     "output_type": "stream",
     "text": [
      "                                                                \r\n",
      "chunk:  27%|██▋       | 19/70 [03:54<10:28, 12.33s/it, now=None]\n",
      "chunk:  21%|██▏       | 15/70 [02:58<10:53, 11.88s/it, now=None]\u001B[A"
     ]
    },
    {
     "name": "stdout",
     "output_type": "stream",
     "text": [
      "MoviePy - Writing audio in ../data/bagoflies/BagOfLies/audio\\.._data_bagoflies_BagOfLies_Finalised_User_15_run_9_video.wav\n"
     ]
    },
    {
     "name": "stderr",
     "output_type": "stream",
     "text": [
      "\n",
      "\n",
      "chunk:   0%|          | 0/103 [00:00<?, ?it/s, now=None]\u001B[A\u001B[A\n",
      "\n",
      "chunk:  55%|█████▌    | 57/103 [00:00<00:00, 562.29it/s, now=None]\u001B[A\u001B[A\n",
      "\n",
      "                                                                  \u001B[A\u001B[A\r\n",
      "chunk:  27%|██▋       | 19/70 [03:54<10:29, 12.33s/it, now=None]\n",
      "chunk:  21%|██▏       | 15/70 [02:58<10:53, 11.89s/it, now=None]\u001B[A"
     ]
    },
    {
     "name": "stdout",
     "output_type": "stream",
     "text": [
      "MoviePy - Done.\n"
     ]
    },
    {
     "name": "stderr",
     "output_type": "stream",
     "text": [
      "                                                                \r\n",
      "chunk:  27%|██▋       | 19/70 [03:54<10:30, 12.37s/it, now=None]\n",
      "chunk:  21%|██▏       | 15/70 [02:58<10:56, 11.93s/it, now=None]\u001B[A"
     ]
    },
    {
     "name": "stdout",
     "output_type": "stream",
     "text": [
      "MoviePy - Writing audio in ../data/bagoflies/BagOfLies/audio\\.._data_bagoflies_BagOfLies_Finalised_User_16_run_0_video.wav\n"
     ]
    },
    {
     "name": "stderr",
     "output_type": "stream",
     "text": [
      "\n",
      "\n",
      "chunk:   0%|          | 0/100 [00:00<?, ?it/s, now=None]\u001B[A\u001B[A\n",
      "\n",
      "chunk:  57%|█████▋    | 57/100 [00:00<00:00, 541.17it/s, now=None]\u001B[A\u001B[A\n",
      "\n",
      "                                                                  \u001B[A\u001B[A\r\n",
      "chunk:  27%|██▋       | 19/70 [03:55<10:31, 12.37s/it, now=None]\n",
      "chunk:  21%|██▏       | 15/70 [02:59<10:56, 11.94s/it, now=None]\u001B[A"
     ]
    },
    {
     "name": "stdout",
     "output_type": "stream",
     "text": [
      "MoviePy - Done.\n"
     ]
    },
    {
     "name": "stderr",
     "output_type": "stream",
     "text": [
      "                                                                \r\n",
      "chunk:  27%|██▋       | 19/70 [03:55<10:32, 12.41s/it, now=None]\n",
      "chunk:  21%|██▏       | 15/70 [02:59<10:58, 11.98s/it, now=None]\u001B[A"
     ]
    },
    {
     "name": "stdout",
     "output_type": "stream",
     "text": [
      "MoviePy - Writing audio in ../data/bagoflies/BagOfLies/audio\\.._data_bagoflies_BagOfLies_Finalised_User_16_run_1_video.wav\n"
     ]
    },
    {
     "name": "stderr",
     "output_type": "stream",
     "text": [
      "\n",
      "\n",
      "chunk:   0%|          | 0/92 [00:00<?, ?it/s, now=None]\u001B[A\u001B[A\n",
      "\n",
      "chunk:  62%|██████▏   | 57/92 [00:00<00:00, 538.96it/s, now=None]\u001B[A\u001B[A\n",
      "\n",
      "                                                                 \u001B[A\u001B[A\r\n",
      "chunk:  27%|██▋       | 19/70 [03:55<10:33, 12.41s/it, now=None]\n",
      "chunk:  21%|██▏       | 15/70 [02:59<10:59, 11.99s/it, now=None]\u001B[A"
     ]
    },
    {
     "name": "stdout",
     "output_type": "stream",
     "text": [
      "MoviePy - Done.\n"
     ]
    },
    {
     "name": "stderr",
     "output_type": "stream",
     "text": [
      "                                                                \r\n",
      "chunk:  27%|██▋       | 19/70 [03:56<10:35, 12.47s/it, now=None]\n",
      "chunk:  21%|██▏       | 15/70 [03:00<11:03, 12.06s/it, now=None]\u001B[A"
     ]
    },
    {
     "name": "stdout",
     "output_type": "stream",
     "text": [
      "MoviePy - Writing audio in ../data/bagoflies/BagOfLies/audio\\.._data_bagoflies_BagOfLies_Finalised_User_16_run_2_video.wav\n"
     ]
    },
    {
     "name": "stderr",
     "output_type": "stream",
     "text": [
      "\n",
      "\n",
      "chunk:   0%|          | 0/102 [00:00<?, ?it/s, now=None]\u001B[A\u001B[A\n",
      "\n",
      "chunk:  56%|█████▌    | 57/102 [00:00<00:00, 430.67it/s, now=None]\u001B[A\u001B[A\n",
      "\n",
      "                                                                  \u001B[A\u001B[A\r\n",
      "chunk:  27%|██▋       | 19/70 [03:57<10:36, 12.48s/it, now=None]\n",
      "chunk:  21%|██▏       | 15/70 [03:01<11:03, 12.07s/it, now=None]\u001B[A"
     ]
    },
    {
     "name": "stdout",
     "output_type": "stream",
     "text": [
      "MoviePy - Done.\n"
     ]
    },
    {
     "name": "stderr",
     "output_type": "stream",
     "text": [
      "                                                                \r\n",
      "chunk:  27%|██▋       | 19/70 [03:57<10:37, 12.51s/it, now=None]\n",
      "chunk:  21%|██▏       | 15/70 [03:01<11:05, 12.11s/it, now=None]\u001B[A"
     ]
    },
    {
     "name": "stdout",
     "output_type": "stream",
     "text": [
      "MoviePy - Writing audio in ../data/bagoflies/BagOfLies/audio\\.._data_bagoflies_BagOfLies_Finalised_User_16_run_3_video.wav\n"
     ]
    },
    {
     "name": "stderr",
     "output_type": "stream",
     "text": [
      "\n",
      "\n",
      "chunk:   0%|          | 0/90 [00:00<?, ?it/s, now=None]\u001B[A\u001B[A\n",
      "\n",
      "chunk:  63%|██████▎   | 57/90 [00:00<00:00, 545.65it/s, now=None]\u001B[A\u001B[A\n",
      "\n",
      "                                                                 \u001B[A\u001B[A\r\n",
      "chunk:  27%|██▋       | 19/70 [03:57<10:38, 12.51s/it, now=None]\n",
      "chunk:  21%|██▏       | 15/70 [03:01<11:06, 12.12s/it, now=None]\u001B[A"
     ]
    },
    {
     "name": "stdout",
     "output_type": "stream",
     "text": [
      "MoviePy - Done.\n"
     ]
    },
    {
     "name": "stderr",
     "output_type": "stream",
     "text": [
      "                                                                \r\n",
      "chunk:  27%|██▋       | 19/70 [03:58<10:39, 12.54s/it, now=None]\n",
      "chunk:  21%|██▏       | 15/70 [03:02<11:08, 12.16s/it, now=None]\u001B[A"
     ]
    },
    {
     "name": "stdout",
     "output_type": "stream",
     "text": [
      "MoviePy - Writing audio in ../data/bagoflies/BagOfLies/audio\\.._data_bagoflies_BagOfLies_Finalised_User_16_run_4_video.wav\n"
     ]
    },
    {
     "name": "stderr",
     "output_type": "stream",
     "text": [
      "\n",
      "\n",
      "chunk:   0%|          | 0/114 [00:00<?, ?it/s, now=None]\u001B[A\u001B[A\n",
      "\n",
      "chunk:  50%|█████     | 57/114 [00:00<00:00, 503.32it/s, now=None]\u001B[A\u001B[A\n",
      "\n",
      "                                                                  \u001B[A\u001B[A\r\n",
      "chunk:  27%|██▋       | 19/70 [03:58<10:40, 12.55s/it, now=None]\n",
      "chunk:  21%|██▏       | 15/70 [03:02<11:09, 12.17s/it, now=None]\u001B[A"
     ]
    },
    {
     "name": "stdout",
     "output_type": "stream",
     "text": [
      "MoviePy - Done.\n"
     ]
    },
    {
     "name": "stderr",
     "output_type": "stream",
     "text": [
      "                                                                \r\n",
      "chunk:  27%|██▋       | 19/70 [03:59<10:41, 12.58s/it, now=None]\n",
      "chunk:  21%|██▏       | 15/70 [03:03<11:11, 12.21s/it, now=None]\u001B[A"
     ]
    },
    {
     "name": "stdout",
     "output_type": "stream",
     "text": [
      "MoviePy - Writing audio in ../data/bagoflies/BagOfLies/audio\\.._data_bagoflies_BagOfLies_Finalised_User_16_run_5_video.wav\n"
     ]
    },
    {
     "name": "stderr",
     "output_type": "stream",
     "text": [
      "\n",
      "\n",
      "chunk:   0%|          | 0/127 [00:00<?, ?it/s, now=None]\u001B[A\u001B[A\n",
      "\n",
      "chunk:  45%|████▍     | 57/127 [00:00<00:00, 548.57it/s, now=None]\u001B[A\u001B[A\n",
      "\n",
      "                                                                  \u001B[A\u001B[A\r\n",
      "chunk:  27%|██▋       | 19/70 [03:59<10:42, 12.59s/it, now=None]\n",
      "chunk:  21%|██▏       | 15/70 [03:03<11:12, 12.22s/it, now=None]\u001B[A"
     ]
    },
    {
     "name": "stdout",
     "output_type": "stream",
     "text": [
      "MoviePy - Done.\n"
     ]
    },
    {
     "name": "stderr",
     "output_type": "stream",
     "text": [
      "                                                                \r\n",
      "chunk:  27%|██▋       | 19/70 [03:59<10:43, 12.63s/it, now=None]\n",
      "chunk:  21%|██▏       | 15/70 [03:03<11:14, 12.26s/it, now=None]\u001B[A"
     ]
    },
    {
     "name": "stdout",
     "output_type": "stream",
     "text": [
      "MoviePy - Writing audio in ../data/bagoflies/BagOfLies/audio\\.._data_bagoflies_BagOfLies_Finalised_User_16_run_6_video.wav\n"
     ]
    },
    {
     "name": "stderr",
     "output_type": "stream",
     "text": [
      "\n",
      "\n",
      "chunk:   0%|          | 0/109 [00:00<?, ?it/s, now=None]\u001B[A\u001B[A\n",
      "\n",
      "chunk:  58%|█████▊    | 63/109 [00:00<00:00, 624.87it/s, now=None]\u001B[A\u001B[A\n",
      "\n",
      "                                                                  \u001B[A\u001B[A\r\n",
      "chunk:  27%|██▋       | 19/70 [04:00<10:44, 12.63s/it, now=None]\n",
      "chunk:  21%|██▏       | 15/70 [03:04<11:14, 12.27s/it, now=None]\u001B[A"
     ]
    },
    {
     "name": "stdout",
     "output_type": "stream",
     "text": [
      "MoviePy - Done.\n"
     ]
    },
    {
     "name": "stderr",
     "output_type": "stream",
     "text": [
      "                                                                \r\n",
      "chunk:  27%|██▋       | 19/70 [04:00<10:45, 12.66s/it, now=None]\n",
      "chunk:  21%|██▏       | 15/70 [03:04<11:16, 12.31s/it, now=None]\u001B[A"
     ]
    },
    {
     "name": "stdout",
     "output_type": "stream",
     "text": [
      "MoviePy - Writing audio in ../data/bagoflies/BagOfLies/audio\\.._data_bagoflies_BagOfLies_Finalised_User_16_run_7_video.wav\n"
     ]
    },
    {
     "name": "stderr",
     "output_type": "stream",
     "text": [
      "\n",
      "\n",
      "chunk:   0%|          | 0/93 [00:00<?, ?it/s, now=None]\u001B[A\u001B[A\n",
      "\n",
      "chunk:  61%|██████▏   | 57/93 [00:00<00:00, 533.65it/s, now=None]\u001B[A\u001B[A\n",
      "\n",
      "                                                                 \u001B[A\u001B[A\r\n",
      "chunk:  27%|██▋       | 19/70 [04:00<10:46, 12.67s/it, now=None]\n",
      "chunk:  21%|██▏       | 15/70 [03:04<11:17, 12.32s/it, now=None]\u001B[A"
     ]
    },
    {
     "name": "stdout",
     "output_type": "stream",
     "text": [
      "MoviePy - Done.\n"
     ]
    },
    {
     "name": "stderr",
     "output_type": "stream",
     "text": [
      "                                                                \r\n",
      "chunk:  27%|██▋       | 19/70 [04:01<10:47, 12.70s/it, now=None]\n",
      "chunk:  21%|██▏       | 15/70 [03:05<11:19, 12.36s/it, now=None]\u001B[A"
     ]
    },
    {
     "name": "stdout",
     "output_type": "stream",
     "text": [
      "MoviePy - Writing audio in ../data/bagoflies/BagOfLies/audio\\.._data_bagoflies_BagOfLies_Finalised_User_16_run_8_video.wav\n"
     ]
    },
    {
     "name": "stderr",
     "output_type": "stream",
     "text": [
      "\n",
      "\n",
      "chunk:   0%|          | 0/100 [00:00<?, ?it/s, now=None]\u001B[A\u001B[A\n",
      "\n",
      "chunk:  57%|█████▋    | 57/100 [00:00<00:00, 518.35it/s, now=None]\u001B[A\u001B[A\n",
      "\n",
      "                                                                  \u001B[A\u001B[A\r\n",
      "chunk:  27%|██▋       | 19/70 [04:01<10:48, 12.71s/it, now=None]\n",
      "chunk:  21%|██▏       | 15/70 [03:05<11:20, 12.37s/it, now=None]\u001B[A"
     ]
    },
    {
     "name": "stdout",
     "output_type": "stream",
     "text": [
      "MoviePy - Done.\n"
     ]
    },
    {
     "name": "stderr",
     "output_type": "stream",
     "text": [
      "                                                                \r\n",
      "chunk:  27%|██▋       | 19/70 [04:02<10:49, 12.74s/it, now=None]\n",
      "chunk:  21%|██▏       | 15/70 [03:06<11:22, 12.41s/it, now=None]\u001B[A"
     ]
    },
    {
     "name": "stdout",
     "output_type": "stream",
     "text": [
      "MoviePy - Writing audio in ../data/bagoflies/BagOfLies/audio\\.._data_bagoflies_BagOfLies_Finalised_User_16_run_9_video.wav\n"
     ]
    },
    {
     "name": "stderr",
     "output_type": "stream",
     "text": [
      "\n",
      "\n",
      "chunk:   0%|          | 0/107 [00:00<?, ?it/s, now=None]\u001B[A\u001B[A\n",
      "\n",
      "chunk:  53%|█████▎    | 57/107 [00:00<00:00, 555.03it/s, now=None]\u001B[A\u001B[A\n",
      "\n",
      "                                                                  \u001B[A\u001B[A\r\n",
      "chunk:  27%|██▋       | 19/70 [04:02<10:50, 12.75s/it, now=None]\n",
      "chunk:  21%|██▏       | 15/70 [03:06<11:23, 12.42s/it, now=None]\u001B[A"
     ]
    },
    {
     "name": "stdout",
     "output_type": "stream",
     "text": [
      "MoviePy - Done.\n"
     ]
    },
    {
     "name": "stderr",
     "output_type": "stream",
     "text": [
      "                                                                \r\n",
      "chunk:  27%|██▋       | 19/70 [04:03<10:52, 12.80s/it, now=None]\n",
      "chunk:  21%|██▏       | 15/70 [03:07<11:26, 12.48s/it, now=None]\u001B[A"
     ]
    },
    {
     "name": "stdout",
     "output_type": "stream",
     "text": [
      "MoviePy - Writing audio in ../data/bagoflies/BagOfLies/audio\\.._data_bagoflies_BagOfLies_Finalised_User_17_run_0_video.wav\n"
     ]
    },
    {
     "name": "stderr",
     "output_type": "stream",
     "text": [
      "\n",
      "\n",
      "chunk:   0%|          | 0/251 [00:00<?, ?it/s, now=None]\u001B[A\u001B[A\n",
      "\n",
      "chunk:  30%|███       | 76/251 [00:00<00:00, 716.23it/s, now=None]\u001B[A\u001B[A\n",
      "\n",
      "chunk:  76%|███████▌  | 191/251 [00:00<00:00, 963.71it/s, now=None]\u001B[A\u001B[A\n",
      "\n",
      "                                                                   \u001B[A\u001B[A\r\n",
      "chunk:  27%|██▋       | 19/70 [04:03<10:53, 12.81s/it, now=None]\n",
      "chunk:  21%|██▏       | 15/70 [03:07<11:27, 12.50s/it, now=None]\u001B[A"
     ]
    },
    {
     "name": "stdout",
     "output_type": "stream",
     "text": [
      "MoviePy - Done.\n"
     ]
    },
    {
     "name": "stderr",
     "output_type": "stream",
     "text": [
      "                                                                \r\n",
      "chunk:  27%|██▋       | 19/70 [04:04<10:55, 12.84s/it, now=None]\n",
      "chunk:  21%|██▏       | 15/70 [03:08<11:29, 12.53s/it, now=None]\u001B[A"
     ]
    },
    {
     "name": "stdout",
     "output_type": "stream",
     "text": [
      "MoviePy - Writing audio in ../data/bagoflies/BagOfLies/audio\\.._data_bagoflies_BagOfLies_Finalised_User_17_run_1_video.wav\n"
     ]
    },
    {
     "name": "stderr",
     "output_type": "stream",
     "text": [
      "\n",
      "\n",
      "chunk:   0%|          | 0/130 [00:00<?, ?it/s, now=None]\u001B[A\u001B[A\n",
      "\n",
      "chunk:  58%|█████▊    | 76/130 [00:00<00:00, 680.55it/s, now=None]\u001B[A\u001B[A\n",
      "\n",
      "                                                                  \u001B[A\u001B[A\r\n",
      "chunk:  27%|██▋       | 19/70 [04:04<10:55, 12.85s/it, now=None]\n",
      "chunk:  21%|██▏       | 15/70 [03:08<11:30, 12.55s/it, now=None]\u001B[A"
     ]
    },
    {
     "name": "stdout",
     "output_type": "stream",
     "text": [
      "MoviePy - Done.\n"
     ]
    },
    {
     "name": "stderr",
     "output_type": "stream",
     "text": [
      "                                                                \r\n",
      "chunk:  27%|██▋       | 19/70 [04:04<10:56, 12.88s/it, now=None]\n",
      "chunk:  21%|██▏       | 15/70 [03:08<11:32, 12.58s/it, now=None]\u001B[A"
     ]
    },
    {
     "name": "stdout",
     "output_type": "stream",
     "text": [
      "MoviePy - Writing audio in ../data/bagoflies/BagOfLies/audio\\.._data_bagoflies_BagOfLies_Finalised_User_17_run_2_video.wav\n"
     ]
    },
    {
     "name": "stderr",
     "output_type": "stream",
     "text": [
      "\n",
      "\n",
      "chunk:   0%|          | 0/110 [00:00<?, ?it/s, now=None]\u001B[A\u001B[A\n",
      "\n",
      "chunk:  69%|██████▉   | 76/110 [00:00<00:00, 672.18it/s, now=None]\u001B[A\u001B[A\n",
      "\n",
      "                                                                  \u001B[A\u001B[A\r\n",
      "chunk:  27%|██▋       | 19/70 [04:04<10:57, 12.89s/it, now=None]\n",
      "chunk:  21%|██▏       | 15/70 [03:08<11:32, 12.59s/it, now=None]\u001B[A"
     ]
    },
    {
     "name": "stdout",
     "output_type": "stream",
     "text": [
      "MoviePy - Done.\n"
     ]
    },
    {
     "name": "stderr",
     "output_type": "stream",
     "text": [
      "                                                                \r\n",
      "chunk:  27%|██▋       | 19/70 [04:05<10:58, 12.92s/it, now=None]\n",
      "chunk:  21%|██▏       | 15/70 [03:09<11:34, 12.63s/it, now=None]\u001B[A"
     ]
    },
    {
     "name": "stdout",
     "output_type": "stream",
     "text": [
      "MoviePy - Writing audio in ../data/bagoflies/BagOfLies/audio\\.._data_bagoflies_BagOfLies_Finalised_User_17_run_3_video.wav\n"
     ]
    },
    {
     "name": "stderr",
     "output_type": "stream",
     "text": [
      "\n",
      "\n",
      "chunk:   0%|          | 0/136 [00:00<?, ?it/s, now=None]\u001B[A\u001B[A\n",
      "\n",
      "chunk:  28%|██▊       | 38/136 [00:00<00:00, 196.63it/s, now=None]\u001B[A\u001B[A\n",
      "\n",
      "chunk:  84%|████████▍ | 114/136 [00:00<00:00, 409.93it/s, now=None]\u001B[A\u001B[A\n",
      "\n",
      "                                                                   \u001B[A\u001B[A\r\n",
      "chunk:  27%|██▋       | 19/70 [04:05<10:59, 12.94s/it, now=None]\n",
      "chunk:  21%|██▏       | 15/70 [03:09<11:36, 12.66s/it, now=None]\u001B[A"
     ]
    },
    {
     "name": "stdout",
     "output_type": "stream",
     "text": [
      "MoviePy - Done.\n"
     ]
    },
    {
     "name": "stderr",
     "output_type": "stream",
     "text": [
      "                                                                \r\n",
      "chunk:  27%|██▋       | 19/70 [04:06<11:01, 12.97s/it, now=None]\n",
      "chunk:  21%|██▏       | 15/70 [03:10<11:38, 12.70s/it, now=None]\u001B[A"
     ]
    },
    {
     "name": "stdout",
     "output_type": "stream",
     "text": [
      "MoviePy - Writing audio in ../data/bagoflies/BagOfLies/audio\\.._data_bagoflies_BagOfLies_Finalised_User_17_run_4_video.wav\n"
     ]
    },
    {
     "name": "stderr",
     "output_type": "stream",
     "text": [
      "\n",
      "\n",
      "chunk:   0%|          | 0/123 [00:00<?, ?it/s, now=None]\u001B[A\u001B[A\n",
      "\n",
      "chunk:  62%|██████▏   | 76/123 [00:00<00:00, 680.20it/s, now=None]\u001B[A\u001B[A\n",
      "\n",
      "                                                                  \u001B[A\u001B[A\r\n",
      "chunk:  27%|██▋       | 19/70 [04:06<11:01, 12.98s/it, now=None]\n",
      "chunk:  21%|██▏       | 15/70 [03:10<11:38, 12.71s/it, now=None]\u001B[A"
     ]
    },
    {
     "name": "stdout",
     "output_type": "stream",
     "text": [
      "MoviePy - Done.\n"
     ]
    },
    {
     "name": "stderr",
     "output_type": "stream",
     "text": [
      "                                                                \r\n",
      "chunk:  27%|██▋       | 19/70 [04:07<11:03, 13.01s/it, now=None]\n",
      "chunk:  21%|██▏       | 15/70 [03:11<11:41, 12.75s/it, now=None]\u001B[A"
     ]
    },
    {
     "name": "stdout",
     "output_type": "stream",
     "text": [
      "MoviePy - Writing audio in ../data/bagoflies/BagOfLies/audio\\.._data_bagoflies_BagOfLies_Finalised_User_17_run_5_video.wav\n"
     ]
    },
    {
     "name": "stderr",
     "output_type": "stream",
     "text": [
      "\n",
      "\n",
      "chunk:   0%|          | 0/185 [00:00<?, ?it/s, now=None]\u001B[A\u001B[A\n",
      "\n",
      "chunk:  41%|████      | 76/185 [00:00<00:00, 651.30it/s, now=None]\u001B[A\u001B[A\n",
      "\n",
      "chunk:  82%|████████▏ | 151/185 [00:00<00:00, 705.25it/s, now=None]\u001B[A\u001B[A\n",
      "\n",
      "                                                                   \u001B[A\u001B[A\r\n",
      "chunk:  27%|██▋       | 19/70 [04:07<11:04, 13.03s/it, now=None]\n",
      "chunk:  21%|██▏       | 15/70 [03:11<11:42, 12.77s/it, now=None]\u001B[A"
     ]
    },
    {
     "name": "stdout",
     "output_type": "stream",
     "text": [
      "MoviePy - Done.\n"
     ]
    },
    {
     "name": "stderr",
     "output_type": "stream",
     "text": [
      "                                                                \r\n",
      "chunk:  27%|██▋       | 19/70 [04:08<11:05, 13.05s/it, now=None]\n",
      "chunk:  21%|██▏       | 15/70 [03:12<11:44, 12.80s/it, now=None]\u001B[A"
     ]
    },
    {
     "name": "stdout",
     "output_type": "stream",
     "text": [
      "MoviePy - Writing audio in ../data/bagoflies/BagOfLies/audio\\.._data_bagoflies_BagOfLies_Finalised_User_17_run_6_video.wav\n"
     ]
    },
    {
     "name": "stderr",
     "output_type": "stream",
     "text": [
      "\n",
      "\n",
      "chunk:   0%|          | 0/126 [00:00<?, ?it/s, now=None]\u001B[A\u001B[A\n",
      "\n",
      "chunk:  60%|██████    | 76/126 [00:00<00:00, 733.67it/s, now=None]\u001B[A\u001B[A\n",
      "\n",
      "                                                                  \u001B[A\u001B[A\r\n",
      "chunk:  27%|██▋       | 19/70 [04:08<11:06, 13.06s/it, now=None]\n",
      "chunk:  21%|██▏       | 15/70 [03:12<11:44, 12.81s/it, now=None]\u001B[A"
     ]
    },
    {
     "name": "stdout",
     "output_type": "stream",
     "text": [
      "MoviePy - Done.\n"
     ]
    },
    {
     "name": "stderr",
     "output_type": "stream",
     "text": [
      "                                                                \r\n",
      "chunk:  27%|██▋       | 19/70 [04:09<11:08, 13.11s/it, now=None]\n",
      "chunk:  21%|██▏       | 15/70 [03:13<11:47, 12.87s/it, now=None]\u001B[A"
     ]
    },
    {
     "name": "stdout",
     "output_type": "stream",
     "text": [
      "MoviePy - Writing audio in ../data/bagoflies/BagOfLies/audio\\.._data_bagoflies_BagOfLies_Finalised_User_17_run_7_video.wav\n"
     ]
    },
    {
     "name": "stderr",
     "output_type": "stream",
     "text": [
      "\n",
      "\n",
      "chunk:   0%|          | 0/115 [00:00<?, ?it/s, now=None]\u001B[A\u001B[A\n",
      "\n",
      "chunk:  66%|██████▌   | 76/115 [00:00<00:00, 716.00it/s, now=None]\u001B[A\u001B[A\n",
      "\n",
      "                                                                  \u001B[A\u001B[A\r\n",
      "chunk:  27%|██▋       | 19/70 [04:09<11:08, 13.12s/it, now=None]\n",
      "chunk:  21%|██▏       | 15/70 [03:13<11:48, 12.88s/it, now=None]\u001B[A"
     ]
    },
    {
     "name": "stdout",
     "output_type": "stream",
     "text": [
      "MoviePy - Done.\n"
     ]
    },
    {
     "name": "stderr",
     "output_type": "stream",
     "text": [
      "                                                                \r\n",
      "chunk:  27%|██▋       | 19/70 [04:09<11:10, 13.15s/it, now=None]\n",
      "chunk:  21%|██▏       | 15/70 [03:13<11:50, 12.92s/it, now=None]\u001B[A"
     ]
    },
    {
     "name": "stdout",
     "output_type": "stream",
     "text": [
      "MoviePy - Writing audio in ../data/bagoflies/BagOfLies/audio\\.._data_bagoflies_BagOfLies_Finalised_User_17_run_8_video.wav\n"
     ]
    },
    {
     "name": "stderr",
     "output_type": "stream",
     "text": [
      "\n",
      "\n",
      "chunk:   0%|          | 0/153 [00:00<?, ?it/s, now=None]\u001B[A\u001B[A\n",
      "\n",
      "chunk:  50%|█████     | 77/153 [00:00<00:00, 768.09it/s, now=None]\u001B[A\u001B[A\n",
      "\n",
      "                                                                  \u001B[A\u001B[A\r\n",
      "chunk:  27%|██▋       | 19/70 [04:09<11:10, 13.16s/it, now=None]\n",
      "chunk:  21%|██▏       | 15/70 [03:13<11:51, 12.93s/it, now=None]\u001B[A"
     ]
    },
    {
     "name": "stdout",
     "output_type": "stream",
     "text": [
      "MoviePy - Done.\n"
     ]
    },
    {
     "name": "stderr",
     "output_type": "stream",
     "text": [
      "                                                                \r\n",
      "chunk:  27%|██▋       | 19/70 [04:10<11:12, 13.18s/it, now=None]\n",
      "chunk:  21%|██▏       | 15/70 [03:14<11:53, 12.97s/it, now=None]\u001B[A"
     ]
    },
    {
     "name": "stdout",
     "output_type": "stream",
     "text": [
      "MoviePy - Writing audio in ../data/bagoflies/BagOfLies/audio\\.._data_bagoflies_BagOfLies_Finalised_User_17_run_9_video.wav\n"
     ]
    },
    {
     "name": "stderr",
     "output_type": "stream",
     "text": [
      "\n",
      "\n",
      "chunk:   0%|          | 0/118 [00:00<?, ?it/s, now=None]\u001B[A\u001B[A\n",
      "\n",
      "chunk:  64%|██████▍   | 76/118 [00:00<00:00, 722.81it/s, now=None]\u001B[A\u001B[A\n",
      "\n",
      "                                                                  \u001B[A\u001B[A\r\n",
      "chunk:  27%|██▋       | 19/70 [04:10<11:12, 13.19s/it, now=None]\n",
      "chunk:  21%|██▏       | 15/70 [03:14<11:53, 12.98s/it, now=None]\u001B[A"
     ]
    },
    {
     "name": "stdout",
     "output_type": "stream",
     "text": [
      "MoviePy - Done.\n"
     ]
    },
    {
     "name": "stderr",
     "output_type": "stream",
     "text": [
      "                                                                \r\n",
      "chunk:  27%|██▋       | 19/70 [04:11<11:14, 13.22s/it, now=None]\n",
      "chunk:  21%|██▏       | 15/70 [03:15<11:55, 13.02s/it, now=None]\u001B[A"
     ]
    },
    {
     "name": "stdout",
     "output_type": "stream",
     "text": [
      "MoviePy - Writing audio in ../data/bagoflies/BagOfLies/audio\\.._data_bagoflies_BagOfLies_Finalised_User_18_run_0_video.wav\n"
     ]
    },
    {
     "name": "stderr",
     "output_type": "stream",
     "text": [
      "\n",
      "\n",
      "chunk:   0%|          | 0/101 [00:00<?, ?it/s, now=None]\u001B[A\u001B[A\n",
      "\n",
      "chunk:  75%|███████▌  | 76/101 [00:00<00:00, 721.80it/s, now=None]\u001B[A\u001B[A\n",
      "\n",
      "                                                                  \u001B[A\u001B[A\r\n",
      "chunk:  27%|██▋       | 19/70 [04:11<11:14, 13.23s/it, now=None]\n",
      "chunk:  21%|██▏       | 15/70 [03:15<11:56, 13.02s/it, now=None]\u001B[A"
     ]
    },
    {
     "name": "stdout",
     "output_type": "stream",
     "text": [
      "MoviePy - Done.\n"
     ]
    },
    {
     "name": "stderr",
     "output_type": "stream",
     "text": [
      "                                                                \r\n",
      "chunk:  27%|██▋       | 19/70 [04:11<11:16, 13.26s/it, now=None]\n",
      "chunk:  21%|██▏       | 15/70 [03:15<11:58, 13.06s/it, now=None]\u001B[A"
     ]
    },
    {
     "name": "stdout",
     "output_type": "stream",
     "text": [
      "MoviePy - Writing audio in ../data/bagoflies/BagOfLies/audio\\.._data_bagoflies_BagOfLies_Finalised_User_18_run_1_video.wav\n"
     ]
    },
    {
     "name": "stderr",
     "output_type": "stream",
     "text": [
      "\n",
      "\n",
      "chunk:   0%|          | 0/90 [00:00<?, ?it/s, now=None]\u001B[A\u001B[A\n",
      "\n",
      "chunk:  84%|████████▍ | 76/90 [00:00<00:00, 689.04it/s, now=None]\u001B[A\u001B[A\n",
      "\n",
      "                                                                 \u001B[A\u001B[A\r\n",
      "chunk:  27%|██▋       | 19/70 [04:12<11:16, 13.27s/it, now=None]\n",
      "chunk:  21%|██▏       | 15/70 [03:16<11:58, 13.07s/it, now=None]\u001B[A"
     ]
    },
    {
     "name": "stdout",
     "output_type": "stream",
     "text": [
      "MoviePy - Done.\n"
     ]
    },
    {
     "name": "stderr",
     "output_type": "stream",
     "text": [
      "                                                                \r\n",
      "chunk:  27%|██▋       | 19/70 [04:12<11:18, 13.30s/it, now=None]\n",
      "chunk:  21%|██▏       | 15/70 [03:16<12:01, 13.11s/it, now=None]\u001B[A"
     ]
    },
    {
     "name": "stdout",
     "output_type": "stream",
     "text": [
      "MoviePy - Writing audio in ../data/bagoflies/BagOfLies/audio\\.._data_bagoflies_BagOfLies_Finalised_User_18_run_2_video.wav\n"
     ]
    },
    {
     "name": "stderr",
     "output_type": "stream",
     "text": [
      "\n",
      "\n",
      "chunk:   0%|          | 0/84 [00:00<?, ?it/s, now=None]\u001B[A\u001B[A\n",
      "\n",
      "chunk:  50%|█████     | 42/84 [00:00<00:00, 417.52it/s, now=None]\u001B[A\u001B[A\n",
      "\n",
      "                                                                 \u001B[A\u001B[A\r\n",
      "chunk:  27%|██▋       | 19/70 [04:12<11:18, 13.31s/it, now=None]\n",
      "chunk:  21%|██▏       | 15/70 [03:16<12:01, 13.12s/it, now=None]\u001B[A"
     ]
    },
    {
     "name": "stdout",
     "output_type": "stream",
     "text": [
      "MoviePy - Done.\n"
     ]
    },
    {
     "name": "stderr",
     "output_type": "stream",
     "text": [
      "                                                                \r\n",
      "chunk:  27%|██▋       | 19/70 [04:13<11:20, 13.34s/it, now=None]\n",
      "chunk:  21%|██▏       | 15/70 [03:17<12:03, 13.16s/it, now=None]\u001B[A"
     ]
    },
    {
     "name": "stdout",
     "output_type": "stream",
     "text": [
      "MoviePy - Writing audio in ../data/bagoflies/BagOfLies/audio\\.._data_bagoflies_BagOfLies_Finalised_User_18_run_3_video.wav\n"
     ]
    },
    {
     "name": "stderr",
     "output_type": "stream",
     "text": [
      "\n",
      "\n",
      "chunk:   0%|          | 0/102 [00:00<?, ?it/s, now=None]\u001B[A\u001B[A\n",
      "\n",
      "chunk:  37%|███▋      | 38/102 [00:00<00:00, 379.44it/s, now=None]\u001B[A\u001B[A\n",
      "\n",
      "                                                                  \u001B[A\u001B[A\r\n",
      "chunk:  27%|██▋       | 19/70 [04:13<11:20, 13.34s/it, now=None]\n",
      "chunk:  21%|██▏       | 15/70 [03:17<12:04, 13.17s/it, now=None]\u001B[A"
     ]
    },
    {
     "name": "stdout",
     "output_type": "stream",
     "text": [
      "MoviePy - Done.\n"
     ]
    },
    {
     "name": "stderr",
     "output_type": "stream",
     "text": [
      "                                                                \r\n",
      "chunk:  27%|██▋       | 19/70 [04:14<11:22, 13.38s/it, now=None]\n",
      "chunk:  21%|██▏       | 15/70 [03:18<12:06, 13.21s/it, now=None]\u001B[A"
     ]
    },
    {
     "name": "stdout",
     "output_type": "stream",
     "text": [
      "MoviePy - Writing audio in ../data/bagoflies/BagOfLies/audio\\.._data_bagoflies_BagOfLies_Finalised_User_18_run_4_video.wav\n"
     ]
    },
    {
     "name": "stderr",
     "output_type": "stream",
     "text": [
      "\n",
      "\n",
      "chunk:   0%|          | 0/81 [00:00<?, ?it/s, now=None]\u001B[A\u001B[A\n",
      "\n",
      "chunk:  94%|█████████▍| 76/81 [00:00<00:00, 759.01it/s, now=None]\u001B[A\u001B[A\n",
      "\n",
      "                                                                 \u001B[A\u001B[A\r\n",
      "chunk:  27%|██▋       | 19/70 [04:14<11:22, 13.38s/it, now=None]\n",
      "chunk:  21%|██▏       | 15/70 [03:18<12:06, 13.22s/it, now=None]\u001B[A"
     ]
    },
    {
     "name": "stdout",
     "output_type": "stream",
     "text": [
      "MoviePy - Done.\n"
     ]
    },
    {
     "name": "stderr",
     "output_type": "stream",
     "text": [
      "                                                                \r\n",
      "chunk:  27%|██▋       | 19/70 [04:15<11:24, 13.43s/it, now=None]\n",
      "chunk:  21%|██▏       | 15/70 [03:19<12:10, 13.28s/it, now=None]\u001B[A"
     ]
    },
    {
     "name": "stdout",
     "output_type": "stream",
     "text": [
      "MoviePy - Writing audio in ../data/bagoflies/BagOfLies/audio\\.._data_bagoflies_BagOfLies_Finalised_User_18_run_5_video.wav\n"
     ]
    },
    {
     "name": "stderr",
     "output_type": "stream",
     "text": [
      "\n",
      "\n",
      "chunk:   0%|          | 0/102 [00:00<?, ?it/s, now=None]\u001B[A\u001B[A\n",
      "\n",
      "chunk:  75%|███████▍  | 76/102 [00:00<00:00, 703.96it/s, now=None]\u001B[A\u001B[A\n",
      "\n",
      "                                                                  \u001B[A\u001B[A\r\n",
      "chunk:  27%|██▋       | 19/70 [04:15<11:25, 13.44s/it, now=None]\n",
      "chunk:  21%|██▏       | 15/70 [03:19<12:10, 13.29s/it, now=None]\u001B[A"
     ]
    },
    {
     "name": "stdout",
     "output_type": "stream",
     "text": [
      "MoviePy - Done.\n"
     ]
    },
    {
     "name": "stderr",
     "output_type": "stream",
     "text": [
      "                                                                \r\n",
      "chunk:  27%|██▋       | 19/70 [04:15<11:26, 13.46s/it, now=None]\n",
      "chunk:  21%|██▏       | 15/70 [03:19<12:12, 13.32s/it, now=None]\u001B[A"
     ]
    },
    {
     "name": "stdout",
     "output_type": "stream",
     "text": [
      "MoviePy - Writing audio in ../data/bagoflies/BagOfLies/audio\\.._data_bagoflies_BagOfLies_Finalised_User_18_run_6_video.wav\n"
     ]
    },
    {
     "name": "stderr",
     "output_type": "stream",
     "text": [
      "\n",
      "\n",
      "chunk:   0%|          | 0/102 [00:00<?, ?it/s, now=None]\u001B[A\u001B[A\n",
      "\n",
      "chunk:  75%|███████▍  | 76/102 [00:00<00:00, 697.37it/s, now=None]\u001B[A\u001B[A\n",
      "\n",
      "                                                                  \u001B[A\u001B[A\r\n",
      "chunk:  27%|██▋       | 19/70 [04:15<11:27, 13.47s/it, now=None]\n",
      "chunk:  21%|██▏       | 15/70 [03:19<12:13, 13.33s/it, now=None]\u001B[A"
     ]
    },
    {
     "name": "stdout",
     "output_type": "stream",
     "text": [
      "MoviePy - Done.\n"
     ]
    },
    {
     "name": "stderr",
     "output_type": "stream",
     "text": [
      "                                                                \r\n",
      "chunk:  27%|██▋       | 19/70 [04:16<11:28, 13.50s/it, now=None]\n",
      "chunk:  21%|██▏       | 15/70 [03:20<12:15, 13.37s/it, now=None]\u001B[A"
     ]
    },
    {
     "name": "stdout",
     "output_type": "stream",
     "text": [
      "MoviePy - Writing audio in ../data/bagoflies/BagOfLies/audio\\.._data_bagoflies_BagOfLies_Finalised_User_18_run_7_video.wav\n"
     ]
    },
    {
     "name": "stderr",
     "output_type": "stream",
     "text": [
      "\n",
      "\n",
      "chunk:   0%|          | 0/90 [00:00<?, ?it/s, now=None]\u001B[A\u001B[A\n",
      "\n",
      "chunk:  42%|████▏     | 38/90 [00:00<00:00, 273.82it/s, now=None]\u001B[A\u001B[A\n",
      "\n",
      "                                                                 \u001B[A\u001B[A\r\n",
      "chunk:  27%|██▋       | 19/70 [04:16<11:29, 13.51s/it, now=None]\n",
      "chunk:  21%|██▏       | 15/70 [03:20<12:16, 13.38s/it, now=None]\u001B[A"
     ]
    },
    {
     "name": "stdout",
     "output_type": "stream",
     "text": [
      "MoviePy - Done.\n"
     ]
    },
    {
     "name": "stderr",
     "output_type": "stream",
     "text": [
      "                                                                \r\n",
      "chunk:  27%|██▋       | 19/70 [04:17<11:30, 13.54s/it, now=None]\n",
      "chunk:  21%|██▏       | 15/70 [03:21<12:18, 13.42s/it, now=None]\u001B[A"
     ]
    },
    {
     "name": "stdout",
     "output_type": "stream",
     "text": [
      "MoviePy - Writing audio in ../data/bagoflies/BagOfLies/audio\\.._data_bagoflies_BagOfLies_Finalised_User_18_run_8_video.wav\n"
     ]
    },
    {
     "name": "stderr",
     "output_type": "stream",
     "text": [
      "\n",
      "\n",
      "chunk:   0%|          | 0/73 [00:00<?, ?it/s, now=None]\u001B[A\u001B[A\n",
      "\n",
      "                                                                \r\n",
      "chunk:  27%|██▋       | 19/70 [04:17<11:30, 13.55s/it, now=None]\n",
      "chunk:  21%|██▏       | 15/70 [03:21<12:18, 13.43s/it, now=None]\u001B[A"
     ]
    },
    {
     "name": "stdout",
     "output_type": "stream",
     "text": [
      "MoviePy - Done.\n"
     ]
    },
    {
     "name": "stderr",
     "output_type": "stream",
     "text": [
      "                                                                \r\n",
      "chunk:  27%|██▋       | 19/70 [04:17<11:32, 13.58s/it, now=None]\n",
      "chunk:  21%|██▏       | 15/70 [03:21<12:20, 13.46s/it, now=None]\u001B[A"
     ]
    },
    {
     "name": "stdout",
     "output_type": "stream",
     "text": [
      "MoviePy - Writing audio in ../data/bagoflies/BagOfLies/audio\\.._data_bagoflies_BagOfLies_Finalised_User_18_run_9_video.wav\n"
     ]
    },
    {
     "name": "stderr",
     "output_type": "stream",
     "text": [
      "\n",
      "\n",
      "chunk:   0%|          | 0/65 [00:00<?, ?it/s, now=None]\u001B[A\u001B[A\n",
      "\n",
      "                                                                \r\n",
      "chunk:  27%|██▋       | 19/70 [04:18<11:32, 13.58s/it, now=None]\n",
      "chunk:  21%|██▏       | 15/70 [03:22<12:20, 13.47s/it, now=None]\u001B[A"
     ]
    },
    {
     "name": "stdout",
     "output_type": "stream",
     "text": [
      "MoviePy - Done.\n"
     ]
    },
    {
     "name": "stderr",
     "output_type": "stream",
     "text": [
      "                                                                \r\n",
      "chunk:  27%|██▋       | 19/70 [04:18<11:34, 13.61s/it, now=None]\n",
      "chunk:  21%|██▏       | 15/70 [03:22<12:23, 13.51s/it, now=None]\u001B[A"
     ]
    },
    {
     "name": "stdout",
     "output_type": "stream",
     "text": [
      "MoviePy - Writing audio in ../data/bagoflies/BagOfLies/audio\\.._data_bagoflies_BagOfLies_Finalised_User_19_run_0_video.wav\n"
     ]
    },
    {
     "name": "stderr",
     "output_type": "stream",
     "text": [
      "\n",
      "\n",
      "chunk:   0%|          | 0/144 [00:00<?, ?it/s, now=None]\u001B[A\u001B[A\n",
      "\n",
      "chunk:  40%|███▉      | 57/144 [00:00<00:00, 505.32it/s, now=None]\u001B[A\u001B[A\n",
      "\n",
      "chunk:  79%|███████▉  | 114/144 [00:00<00:00, 541.32it/s, now=None]\u001B[A\u001B[A\n",
      "\n",
      "                                                                   \u001B[A\u001B[A\r\n",
      "chunk:  27%|██▋       | 19/70 [04:18<11:34, 13.63s/it, now=None]\n",
      "chunk:  21%|██▏       | 15/70 [03:22<12:23, 13.53s/it, now=None]\u001B[A"
     ]
    },
    {
     "name": "stdout",
     "output_type": "stream",
     "text": [
      "MoviePy - Done.\n"
     ]
    },
    {
     "name": "stderr",
     "output_type": "stream",
     "text": [
      "                                                                \r\n",
      "chunk:  27%|██▋       | 19/70 [04:19<11:36, 13.66s/it, now=None]\n",
      "chunk:  21%|██▏       | 15/70 [03:23<12:26, 13.56s/it, now=None]\u001B[A"
     ]
    },
    {
     "name": "stdout",
     "output_type": "stream",
     "text": [
      "MoviePy - Writing audio in ../data/bagoflies/BagOfLies/audio\\.._data_bagoflies_BagOfLies_Finalised_User_19_run_1_video.wav\n"
     ]
    },
    {
     "name": "stderr",
     "output_type": "stream",
     "text": [
      "\n",
      "\n",
      "chunk:   0%|          | 0/115 [00:00<?, ?it/s, now=None]\u001B[A\u001B[A\n",
      "\n",
      "chunk:  50%|████▉     | 57/115 [00:00<00:00, 503.84it/s, now=None]\u001B[A\u001B[A\n",
      "\n",
      "chunk:  99%|█████████▉| 114/115 [00:00<00:00, 536.48it/s, now=None]\u001B[A\u001B[A\n",
      "\n",
      "                                                                   \u001B[A\u001B[A\r\n",
      "chunk:  27%|██▋       | 19/70 [04:19<11:37, 13.67s/it, now=None]\n",
      "chunk:  21%|██▏       | 15/70 [03:23<12:26, 13.58s/it, now=None]\u001B[A"
     ]
    },
    {
     "name": "stdout",
     "output_type": "stream",
     "text": [
      "MoviePy - Done.\n"
     ]
    },
    {
     "name": "stderr",
     "output_type": "stream",
     "text": [
      "                                                                \r\n",
      "chunk:  27%|██▋       | 19/70 [04:20<11:39, 13.71s/it, now=None]\n",
      "chunk:  21%|██▏       | 15/70 [03:24<12:29, 13.63s/it, now=None]\u001B[A"
     ]
    },
    {
     "name": "stdout",
     "output_type": "stream",
     "text": [
      "MoviePy - Writing audio in ../data/bagoflies/BagOfLies/audio\\.._data_bagoflies_BagOfLies_Finalised_User_19_run_2_video.wav\n"
     ]
    },
    {
     "name": "stderr",
     "output_type": "stream",
     "text": [
      "\n",
      "\n",
      "chunk:   0%|          | 0/120 [00:00<?, ?it/s, now=None]\u001B[A\u001B[A\n",
      "\n",
      "chunk:  48%|████▊     | 57/120 [00:00<00:00, 482.46it/s, now=None]\u001B[A\u001B[A\n",
      "\n",
      "                                                                  \u001B[A\u001B[A\r\n",
      "chunk:  27%|██▋       | 19/70 [04:20<11:39, 13.72s/it, now=None]\n",
      "chunk:  21%|██▏       | 15/70 [03:24<12:30, 13.65s/it, now=None]\u001B[A"
     ]
    },
    {
     "name": "stdout",
     "output_type": "stream",
     "text": [
      "MoviePy - Done.\n"
     ]
    },
    {
     "name": "stderr",
     "output_type": "stream",
     "text": [
      "                                                                \r\n",
      "chunk:  27%|██▋       | 19/70 [04:21<11:41, 13.75s/it, now=None]\n",
      "chunk:  21%|██▏       | 15/70 [03:25<12:32, 13.69s/it, now=None]\u001B[A"
     ]
    },
    {
     "name": "stdout",
     "output_type": "stream",
     "text": [
      "MoviePy - Writing audio in ../data/bagoflies/BagOfLies/audio\\.._data_bagoflies_BagOfLies_Finalised_User_19_run_3_video.wav\n"
     ]
    },
    {
     "name": "stderr",
     "output_type": "stream",
     "text": [
      "\n",
      "\n",
      "chunk:   0%|          | 0/119 [00:00<?, ?it/s, now=None]\u001B[A\u001B[A\n",
      "\n",
      "chunk:  48%|████▊     | 57/119 [00:00<00:00, 501.11it/s, now=None]\u001B[A\u001B[A\n",
      "\n",
      "                                                                  \u001B[A\u001B[A\r\n",
      "chunk:  27%|██▋       | 19/70 [04:21<11:41, 13.76s/it, now=None]\n",
      "chunk:  21%|██▏       | 15/70 [03:25<12:33, 13.70s/it, now=None]\u001B[A"
     ]
    },
    {
     "name": "stdout",
     "output_type": "stream",
     "text": [
      "MoviePy - Done.\n"
     ]
    },
    {
     "name": "stderr",
     "output_type": "stream",
     "text": [
      "                                                                \r\n",
      "chunk:  27%|██▋       | 19/70 [04:22<11:43, 13.79s/it, now=None]\n",
      "chunk:  21%|██▏       | 15/70 [03:26<12:35, 13.74s/it, now=None]\u001B[A"
     ]
    },
    {
     "name": "stdout",
     "output_type": "stream",
     "text": [
      "MoviePy - Writing audio in ../data/bagoflies/BagOfLies/audio\\.._data_bagoflies_BagOfLies_Finalised_User_19_run_4_video.wav\n"
     ]
    },
    {
     "name": "stderr",
     "output_type": "stream",
     "text": [
      "\n",
      "\n",
      "chunk:   0%|          | 0/131 [00:00<?, ?it/s, now=None]\u001B[A\u001B[A\n",
      "\n",
      "chunk:  44%|████▎     | 57/131 [00:00<00:00, 524.60it/s, now=None]\u001B[A\u001B[A\n",
      "\n",
      "                                                                  \u001B[A\u001B[A\r\n",
      "chunk:  27%|██▋       | 19/70 [04:22<11:44, 13.80s/it, now=None]\n",
      "chunk:  21%|██▏       | 15/70 [03:26<12:36, 13.75s/it, now=None]\u001B[A"
     ]
    },
    {
     "name": "stdout",
     "output_type": "stream",
     "text": [
      "MoviePy - Done.\n"
     ]
    },
    {
     "name": "stderr",
     "output_type": "stream",
     "text": [
      "                                                                \r\n",
      "chunk:  27%|██▋       | 19/70 [04:22<11:45, 13.83s/it, now=None]\n",
      "chunk:  21%|██▏       | 15/70 [03:26<12:38, 13.79s/it, now=None]\u001B[A"
     ]
    },
    {
     "name": "stdout",
     "output_type": "stream",
     "text": [
      "MoviePy - Writing audio in ../data/bagoflies/BagOfLies/audio\\.._data_bagoflies_BagOfLies_Finalised_User_19_run_5_video.wav\n"
     ]
    },
    {
     "name": "stderr",
     "output_type": "stream",
     "text": [
      "\n",
      "\n",
      "chunk:   0%|          | 0/108 [00:00<?, ?it/s, now=None]\u001B[A\u001B[A\n",
      "\n",
      "chunk:  53%|█████▎    | 57/108 [00:00<00:00, 452.48it/s, now=None]\u001B[A\u001B[A\n",
      "\n",
      "                                                                  \u001B[A\u001B[A\r\n",
      "chunk:  27%|██▋       | 19/70 [04:23<11:46, 13.85s/it, now=None]\n",
      "chunk:  21%|██▏       | 15/70 [03:27<12:39, 13.80s/it, now=None]\u001B[A"
     ]
    },
    {
     "name": "stdout",
     "output_type": "stream",
     "text": [
      "MoviePy - Done.\n"
     ]
    },
    {
     "name": "stderr",
     "output_type": "stream",
     "text": [
      "                                                                \r\n",
      "chunk:  27%|██▋       | 19/70 [04:23<11:47, 13.88s/it, now=None]\n",
      "chunk:  21%|██▏       | 15/70 [03:27<12:41, 13.84s/it, now=None]\u001B[A"
     ]
    },
    {
     "name": "stdout",
     "output_type": "stream",
     "text": [
      "MoviePy - Writing audio in ../data/bagoflies/BagOfLies/audio\\.._data_bagoflies_BagOfLies_Finalised_User_19_run_6_video.wav\n"
     ]
    },
    {
     "name": "stderr",
     "output_type": "stream",
     "text": [
      "\n",
      "\n",
      "chunk:   0%|          | 0/104 [00:00<?, ?it/s, now=None]\u001B[A\u001B[A\n",
      "\n",
      "chunk:  55%|█████▍    | 57/104 [00:00<00:00, 516.55it/s, now=None]\u001B[A\u001B[A\n",
      "\n",
      "                                                                  \u001B[A\u001B[A\r\n",
      "chunk:  27%|██▋       | 19/70 [04:23<11:48, 13.89s/it, now=None]\n",
      "chunk:  21%|██▏       | 15/70 [03:27<12:42, 13.86s/it, now=None]\u001B[A"
     ]
    },
    {
     "name": "stdout",
     "output_type": "stream",
     "text": [
      "MoviePy - Done.\n"
     ]
    },
    {
     "name": "stderr",
     "output_type": "stream",
     "text": [
      "                                                                \r\n",
      "chunk:  27%|██▋       | 19/70 [04:24<11:49, 13.92s/it, now=None]\n",
      "chunk:  21%|██▏       | 15/70 [03:28<12:44, 13.90s/it, now=None]\u001B[A"
     ]
    },
    {
     "name": "stdout",
     "output_type": "stream",
     "text": [
      "MoviePy - Writing audio in ../data/bagoflies/BagOfLies/audio\\.._data_bagoflies_BagOfLies_Finalised_User_19_run_7_video.wav\n"
     ]
    },
    {
     "name": "stderr",
     "output_type": "stream",
     "text": [
      "\n",
      "\n",
      "chunk:   0%|          | 0/101 [00:00<?, ?it/s, now=None]\u001B[A\u001B[A\n",
      "\n",
      "chunk:  56%|█████▋    | 57/101 [00:00<00:00, 416.95it/s, now=None]\u001B[A\u001B[A\n",
      "\n",
      "                                                                  \u001B[A\u001B[A\r\n",
      "chunk:  27%|██▋       | 19/70 [04:24<11:50, 13.93s/it, now=None]\n",
      "chunk:  21%|██▏       | 15/70 [03:28<12:44, 13.91s/it, now=None]\u001B[A"
     ]
    },
    {
     "name": "stdout",
     "output_type": "stream",
     "text": [
      "MoviePy - Done.\n"
     ]
    },
    {
     "name": "stderr",
     "output_type": "stream",
     "text": [
      "                                                                \r\n",
      "chunk:  27%|██▋       | 19/70 [04:25<11:52, 13.97s/it, now=None]\n",
      "chunk:  21%|██▏       | 15/70 [03:29<12:47, 13.96s/it, now=None]\u001B[A"
     ]
    },
    {
     "name": "stdout",
     "output_type": "stream",
     "text": [
      "MoviePy - Writing audio in ../data/bagoflies/BagOfLies/audio\\.._data_bagoflies_BagOfLies_Finalised_User_19_run_8_video.wav\n"
     ]
    },
    {
     "name": "stderr",
     "output_type": "stream",
     "text": [
      "\n",
      "\n",
      "chunk:   0%|          | 0/119 [00:00<?, ?it/s, now=None]\u001B[A\u001B[A\n",
      "\n",
      "chunk:  48%|████▊     | 57/119 [00:00<00:00, 542.32it/s, now=None]\u001B[A\u001B[A\n",
      "\n",
      "                                                                  \u001B[A\u001B[A\r\n",
      "chunk:  27%|██▋       | 19/70 [04:25<11:52, 13.98s/it, now=None]\n",
      "chunk:  21%|██▏       | 15/70 [03:29<12:48, 13.97s/it, now=None]\u001B[A"
     ]
    },
    {
     "name": "stdout",
     "output_type": "stream",
     "text": [
      "MoviePy - Done.\n"
     ]
    },
    {
     "name": "stderr",
     "output_type": "stream",
     "text": [
      "                                                                \r\n",
      "chunk:  27%|██▋       | 19/70 [04:26<11:55, 14.02s/it, now=None]\n",
      "chunk:  21%|██▏       | 15/70 [03:30<12:51, 14.03s/it, now=None]\u001B[A"
     ]
    },
    {
     "name": "stdout",
     "output_type": "stream",
     "text": [
      "MoviePy - Writing audio in ../data/bagoflies/BagOfLies/audio\\.._data_bagoflies_BagOfLies_Finalised_User_19_run_9_video.wav\n"
     ]
    },
    {
     "name": "stderr",
     "output_type": "stream",
     "text": [
      "\n",
      "\n",
      "chunk:   0%|          | 0/94 [00:00<?, ?it/s, now=None]\u001B[A\u001B[A\n",
      "\n",
      "chunk:  40%|████      | 38/94 [00:00<00:00, 299.85it/s, now=None]\u001B[A\u001B[A\n",
      "\n",
      "                                                                 \u001B[A\u001B[A\r\n",
      "chunk:  27%|██▋       | 19/70 [04:26<11:55, 14.03s/it, now=None]\n",
      "chunk:  21%|██▏       | 15/70 [03:30<12:52, 14.04s/it, now=None]\u001B[A"
     ]
    },
    {
     "name": "stdout",
     "output_type": "stream",
     "text": [
      "MoviePy - Done.\n"
     ]
    },
    {
     "name": "stderr",
     "output_type": "stream",
     "text": [
      "                                                                \r\n",
      "chunk:  27%|██▋       | 19/70 [04:27<11:57, 14.06s/it, now=None]\n",
      "chunk:  21%|██▏       | 15/70 [03:31<12:54, 14.08s/it, now=None]\u001B[A"
     ]
    },
    {
     "name": "stdout",
     "output_type": "stream",
     "text": [
      "MoviePy - Writing audio in ../data/bagoflies/BagOfLies/audio\\.._data_bagoflies_BagOfLies_Finalised_User_20_run_0_video.wav\n"
     ]
    },
    {
     "name": "stderr",
     "output_type": "stream",
     "text": [
      "\n",
      "\n",
      "chunk:   0%|          | 0/101 [00:00<?, ?it/s, now=None]\u001B[A\u001B[A\n",
      "\n",
      "chunk:  70%|███████   | 71/101 [00:00<00:00, 703.62it/s, now=None]\u001B[A\u001B[A\n",
      "\n",
      "                                                                  \u001B[A\u001B[A\r\n",
      "chunk:  27%|██▋       | 19/70 [04:27<11:57, 14.08s/it, now=None]\n",
      "chunk:  21%|██▏       | 15/70 [03:31<12:55, 14.10s/it, now=None]\u001B[A"
     ]
    },
    {
     "name": "stdout",
     "output_type": "stream",
     "text": [
      "MoviePy - Done.\n"
     ]
    },
    {
     "name": "stderr",
     "output_type": "stream",
     "text": [
      "                                                                \r\n",
      "chunk:  27%|██▋       | 19/70 [04:28<11:59, 14.11s/it, now=None]\n",
      "chunk:  21%|██▏       | 15/70 [03:32<12:57, 14.14s/it, now=None]\u001B[A"
     ]
    },
    {
     "name": "stdout",
     "output_type": "stream",
     "text": [
      "MoviePy - Writing audio in ../data/bagoflies/BagOfLies/audio\\.._data_bagoflies_BagOfLies_Finalised_User_20_run_1_video.wav\n"
     ]
    },
    {
     "name": "stderr",
     "output_type": "stream",
     "text": [
      "\n",
      "\n",
      "chunk:   0%|          | 0/105 [00:00<?, ?it/s, now=None]\u001B[A\u001B[A\n",
      "\n",
      "chunk:  72%|███████▏  | 76/105 [00:00<00:00, 704.39it/s, now=None]\u001B[A\u001B[A\n",
      "\n",
      "                                                                  \u001B[A\u001B[A\r\n",
      "chunk:  27%|██▋       | 19/70 [04:28<11:59, 14.12s/it, now=None]\n",
      "chunk:  21%|██▏       | 15/70 [03:32<12:58, 14.15s/it, now=None]\u001B[A"
     ]
    },
    {
     "name": "stdout",
     "output_type": "stream",
     "text": [
      "MoviePy - Done.\n"
     ]
    },
    {
     "name": "stderr",
     "output_type": "stream",
     "text": [
      "                                                                \r\n",
      "chunk:  27%|██▋       | 19/70 [04:29<12:02, 14.16s/it, now=None]\n",
      "chunk:  21%|██▏       | 15/70 [03:33<13:01, 14.21s/it, now=None]\u001B[A"
     ]
    },
    {
     "name": "stdout",
     "output_type": "stream",
     "text": [
      "MoviePy - Writing audio in ../data/bagoflies/BagOfLies/audio\\.._data_bagoflies_BagOfLies_Finalised_User_20_run_2_video.wav\n"
     ]
    },
    {
     "name": "stderr",
     "output_type": "stream",
     "text": [
      "\n",
      "\n",
      "chunk:   0%|          | 0/114 [00:00<?, ?it/s, now=None]\u001B[A\u001B[A\n",
      "\n",
      "chunk:  33%|███▎      | 38/114 [00:00<00:00, 365.22it/s, now=None]\u001B[A\u001B[A\n",
      "\n",
      "                                                                  \u001B[A\u001B[A\r\n",
      "chunk:  27%|██▋       | 19/70 [04:29<12:02, 14.17s/it, now=None]\n",
      "chunk:  21%|██▏       | 15/70 [03:33<13:02, 14.22s/it, now=None]\u001B[A"
     ]
    },
    {
     "name": "stdout",
     "output_type": "stream",
     "text": [
      "MoviePy - Done.\n"
     ]
    },
    {
     "name": "stderr",
     "output_type": "stream",
     "text": [
      "                                                                \r\n",
      "chunk:  27%|██▋       | 19/70 [04:29<12:04, 14.20s/it, now=None]\n",
      "chunk:  21%|██▏       | 15/70 [03:33<13:04, 14.26s/it, now=None]\u001B[A"
     ]
    },
    {
     "name": "stdout",
     "output_type": "stream",
     "text": [
      "MoviePy - Writing audio in ../data/bagoflies/BagOfLies/audio\\.._data_bagoflies_BagOfLies_Finalised_User_20_run_3_video.wav\n"
     ]
    },
    {
     "name": "stderr",
     "output_type": "stream",
     "text": [
      "\n",
      "\n",
      "chunk:   0%|          | 0/91 [00:00<?, ?it/s, now=None]\u001B[A\u001B[A\n",
      "\n",
      "chunk:  63%|██████▎   | 57/91 [00:00<00:00, 562.36it/s, now=None]\u001B[A\u001B[A\n",
      "\n",
      "                                                                 \u001B[A\u001B[A\r\n",
      "chunk:  27%|██▋       | 19/70 [04:30<12:04, 14.21s/it, now=None]\n",
      "chunk:  21%|██▏       | 15/70 [03:34<13:04, 14.27s/it, now=None]\u001B[A"
     ]
    },
    {
     "name": "stdout",
     "output_type": "stream",
     "text": [
      "MoviePy - Done.\n"
     ]
    },
    {
     "name": "stderr",
     "output_type": "stream",
     "text": [
      "                                                                \r\n",
      "chunk:  27%|██▋       | 19/70 [04:30<12:06, 14.24s/it, now=None]\n",
      "chunk:  21%|██▏       | 15/70 [03:34<13:06, 14.31s/it, now=None]\u001B[A"
     ]
    },
    {
     "name": "stdout",
     "output_type": "stream",
     "text": [
      "MoviePy - Writing audio in ../data/bagoflies/BagOfLies/audio\\.._data_bagoflies_BagOfLies_Finalised_User_20_run_4_video.wav\n"
     ]
    },
    {
     "name": "stderr",
     "output_type": "stream",
     "text": [
      "\n",
      "\n",
      "chunk:   0%|          | 0/99 [00:00<?, ?it/s, now=None]\u001B[A\u001B[A\n",
      "\n",
      "chunk:  58%|█████▊    | 57/99 [00:00<00:00, 462.65it/s, now=None]\u001B[A\u001B[A\n",
      "\n",
      "                                                                 \u001B[A\u001B[A\r\n",
      "chunk:  27%|██▋       | 19/70 [04:30<12:06, 14.25s/it, now=None]\n",
      "chunk:  21%|██▏       | 15/70 [03:34<13:07, 14.32s/it, now=None]\u001B[A"
     ]
    },
    {
     "name": "stdout",
     "output_type": "stream",
     "text": [
      "MoviePy - Done.\n"
     ]
    },
    {
     "name": "stderr",
     "output_type": "stream",
     "text": [
      "                                                                \r\n",
      "chunk:  27%|██▋       | 19/70 [04:31<12:08, 14.28s/it, now=None]\n",
      "chunk:  21%|██▏       | 15/70 [03:35<13:09, 14.36s/it, now=None]\u001B[A"
     ]
    },
    {
     "name": "stdout",
     "output_type": "stream",
     "text": [
      "MoviePy - Writing audio in ../data/bagoflies/BagOfLies/audio\\.._data_bagoflies_BagOfLies_Finalised_User_20_run_5_video.wav\n"
     ]
    },
    {
     "name": "stderr",
     "output_type": "stream",
     "text": [
      "\n",
      "\n",
      "chunk:   0%|          | 0/85 [00:00<?, ?it/s, now=None]\u001B[A\u001B[A\n",
      "\n",
      "chunk:  45%|████▍     | 38/85 [00:00<00:00, 71.42it/s, now=None]\u001B[A\u001B[A\n",
      "\n",
      "                                                                \u001B[A\u001B[A\r\n",
      "chunk:  27%|██▋       | 19/70 [04:31<12:10, 14.31s/it, now=None]\n",
      "chunk:  21%|██▏       | 15/70 [03:35<13:11, 14.40s/it, now=None]\u001B[A"
     ]
    },
    {
     "name": "stdout",
     "output_type": "stream",
     "text": [
      "MoviePy - Done.\n"
     ]
    },
    {
     "name": "stderr",
     "output_type": "stream",
     "text": [
      "                                                                \r\n",
      "chunk:  27%|██▋       | 19/70 [04:32<12:11, 14.35s/it, now=None]\n",
      "chunk:  21%|██▏       | 15/70 [03:36<13:14, 14.44s/it, now=None]\u001B[A"
     ]
    },
    {
     "name": "stdout",
     "output_type": "stream",
     "text": [
      "MoviePy - Writing audio in ../data/bagoflies/BagOfLies/audio\\.._data_bagoflies_BagOfLies_Finalised_User_20_run_6_video.wav\n"
     ]
    },
    {
     "name": "stderr",
     "output_type": "stream",
     "text": [
      "\n",
      "\n",
      "chunk:   0%|          | 0/98 [00:00<?, ?it/s, now=None]\u001B[A\u001B[A\n",
      "\n",
      "chunk:  58%|█████▊    | 57/98 [00:00<00:00, 560.58it/s, now=None]\u001B[A\u001B[A\n",
      "\n",
      "                                                                 \u001B[A\u001B[A\r\n",
      "chunk:  27%|██▋       | 19/70 [04:32<12:12, 14.36s/it, now=None]\n",
      "chunk:  21%|██▏       | 15/70 [03:36<13:14, 14.45s/it, now=None]\u001B[A"
     ]
    },
    {
     "name": "stdout",
     "output_type": "stream",
     "text": [
      "MoviePy - Done.\n"
     ]
    },
    {
     "name": "stderr",
     "output_type": "stream",
     "text": [
      "                                                                \r\n",
      "chunk:  27%|██▋       | 19/70 [04:33<12:13, 14.39s/it, now=None]\n",
      "chunk:  21%|██▏       | 15/70 [03:37<13:17, 14.49s/it, now=None]\u001B[A"
     ]
    },
    {
     "name": "stdout",
     "output_type": "stream",
     "text": [
      "MoviePy - Writing audio in ../data/bagoflies/BagOfLies/audio\\.._data_bagoflies_BagOfLies_Finalised_User_20_run_7_video.wav\n"
     ]
    },
    {
     "name": "stderr",
     "output_type": "stream",
     "text": [
      "\n",
      "\n",
      "chunk:   0%|          | 0/91 [00:00<?, ?it/s, now=None]\u001B[A\u001B[A\n",
      "\n",
      "chunk:  63%|██████▎   | 57/91 [00:00<00:00, 501.20it/s, now=None]\u001B[A\u001B[A\n",
      "\n",
      "                                                                 \u001B[A\u001B[A\r\n",
      "chunk:  27%|██▋       | 19/70 [04:33<12:14, 14.40s/it, now=None]\n",
      "chunk:  21%|██▏       | 15/70 [03:37<13:17, 14.50s/it, now=None]\u001B[A"
     ]
    },
    {
     "name": "stdout",
     "output_type": "stream",
     "text": [
      "MoviePy - Done.\n"
     ]
    },
    {
     "name": "stderr",
     "output_type": "stream",
     "text": [
      "                                                                \r\n",
      "chunk:  27%|██▋       | 19/70 [04:34<12:15, 14.43s/it, now=None]\n",
      "chunk:  21%|██▏       | 15/70 [03:38<13:19, 14.54s/it, now=None]\u001B[A"
     ]
    },
    {
     "name": "stdout",
     "output_type": "stream",
     "text": [
      "MoviePy - Writing audio in ../data/bagoflies/BagOfLies/audio\\.._data_bagoflies_BagOfLies_Finalised_User_20_run_8_video.wav\n"
     ]
    },
    {
     "name": "stderr",
     "output_type": "stream",
     "text": [
      "\n",
      "\n",
      "chunk:   0%|          | 0/133 [00:00<?, ?it/s, now=None]\u001B[A\u001B[A\n",
      "\n",
      "chunk:  29%|██▊       | 38/133 [00:00<00:00, 331.43it/s, now=None]\u001B[A\u001B[A\n",
      "\n",
      "chunk:  86%|████████▌ | 114/133 [00:00<00:00, 555.45it/s, now=None]\u001B[A\u001B[A\n",
      "\n",
      "                                                                   \u001B[A\u001B[A\r\n",
      "chunk:  27%|██▋       | 19/70 [04:34<12:16, 14.44s/it, now=None]\n",
      "chunk:  21%|██▏       | 15/70 [03:38<13:20, 14.56s/it, now=None]\u001B[A"
     ]
    },
    {
     "name": "stdout",
     "output_type": "stream",
     "text": [
      "MoviePy - Done.\n"
     ]
    },
    {
     "name": "stderr",
     "output_type": "stream",
     "text": [
      "                                                                \r\n",
      "chunk:  27%|██▋       | 19/70 [04:34<12:18, 14.47s/it, now=None]\n",
      "chunk:  21%|██▏       | 15/70 [03:38<13:22, 14.60s/it, now=None]\u001B[A"
     ]
    },
    {
     "name": "stdout",
     "output_type": "stream",
     "text": [
      "MoviePy - Writing audio in ../data/bagoflies/BagOfLies/audio\\.._data_bagoflies_BagOfLies_Finalised_User_20_run_9_video.wav\n"
     ]
    },
    {
     "name": "stderr",
     "output_type": "stream",
     "text": [
      "\n",
      "\n",
      "chunk:   0%|          | 0/143 [00:00<?, ?it/s, now=None]\u001B[A\u001B[A\n",
      "\n",
      "chunk:  53%|█████▎    | 76/143 [00:00<00:00, 573.96it/s, now=None]\u001B[A\u001B[A\n",
      "\n",
      "                                                                  \u001B[A\u001B[A\r\n",
      "chunk:  27%|██▋       | 19/70 [04:35<12:18, 14.48s/it, now=None]\n",
      "chunk:  21%|██▏       | 15/70 [03:39<13:23, 14.61s/it, now=None]\u001B[A"
     ]
    },
    {
     "name": "stdout",
     "output_type": "stream",
     "text": [
      "MoviePy - Done.\n"
     ]
    },
    {
     "name": "stderr",
     "output_type": "stream",
     "text": [
      "                                                                \r\n",
      "chunk:  27%|██▋       | 19/70 [04:35<12:20, 14.52s/it, now=None]\n",
      "chunk:  21%|██▏       | 15/70 [03:39<13:25, 14.65s/it, now=None]\u001B[A"
     ]
    },
    {
     "name": "stdout",
     "output_type": "stream",
     "text": [
      "MoviePy - Writing audio in ../data/bagoflies/BagOfLies/audio\\.._data_bagoflies_BagOfLies_Finalised_User_21_run_0_video.wav\n"
     ]
    },
    {
     "name": "stderr",
     "output_type": "stream",
     "text": [
      "\n",
      "\n",
      "chunk:   0%|          | 0/31 [00:00<?, ?it/s, now=None]\u001B[A\u001B[A\n",
      "\n",
      "                                                                \r\n",
      "chunk:  27%|██▋       | 19/70 [04:35<12:20, 14.52s/it, now=None]\n",
      "chunk:  21%|██▏       | 15/70 [03:39<13:26, 14.66s/it, now=None]\u001B[A"
     ]
    },
    {
     "name": "stdout",
     "output_type": "stream",
     "text": [
      "MoviePy - Done.\n"
     ]
    },
    {
     "name": "stderr",
     "output_type": "stream",
     "text": [
      "                                                                \r\n",
      "chunk:  27%|██▋       | 19/70 [04:36<12:22, 14.55s/it, now=None]\n",
      "chunk:  21%|██▏       | 15/70 [03:40<13:28, 14.70s/it, now=None]\u001B[A"
     ]
    },
    {
     "name": "stdout",
     "output_type": "stream",
     "text": [
      "MoviePy - Writing audio in ../data/bagoflies/BagOfLies/audio\\.._data_bagoflies_BagOfLies_Finalised_User_21_run_1_video.wav\n"
     ]
    },
    {
     "name": "stderr",
     "output_type": "stream",
     "text": [
      "\n",
      "\n",
      "chunk:   0%|          | 0/40 [00:00<?, ?it/s, now=None]\u001B[A\u001B[A\n",
      "\n",
      "                                                                \r\n",
      "chunk:  27%|██▋       | 19/70 [04:36<12:22, 14.56s/it, now=None]\n",
      "chunk:  21%|██▏       | 15/70 [03:40<13:28, 14.70s/it, now=None]\u001B[A"
     ]
    },
    {
     "name": "stdout",
     "output_type": "stream",
     "text": [
      "MoviePy - Done.\n"
     ]
    },
    {
     "name": "stderr",
     "output_type": "stream",
     "text": [
      "                                                                \r\n",
      "chunk:  27%|██▋       | 19/70 [04:37<12:24, 14.60s/it, now=None]\n",
      "chunk:  21%|██▏       | 15/70 [03:41<13:31, 14.76s/it, now=None]\u001B[A"
     ]
    },
    {
     "name": "stdout",
     "output_type": "stream",
     "text": [
      "MoviePy - Writing audio in ../data/bagoflies/BagOfLies/audio\\.._data_bagoflies_BagOfLies_Finalised_User_21_run_2_video.wav\n"
     ]
    },
    {
     "name": "stderr",
     "output_type": "stream",
     "text": [
      "\n",
      "\n",
      "chunk:   0%|          | 0/52 [00:00<?, ?it/s, now=None]\u001B[A\u001B[A\n",
      "\n",
      "                                                                \r\n",
      "chunk:  27%|██▋       | 19/70 [04:37<12:24, 14.61s/it, now=None]\n",
      "chunk:  21%|██▏       | 15/70 [03:41<13:32, 14.77s/it, now=None]\u001B[A"
     ]
    },
    {
     "name": "stdout",
     "output_type": "stream",
     "text": [
      "MoviePy - Done.\n"
     ]
    },
    {
     "name": "stderr",
     "output_type": "stream",
     "text": [
      "                                                                \r\n",
      "chunk:  27%|██▋       | 19/70 [04:38<12:26, 14.64s/it, now=None]\n",
      "chunk:  21%|██▏       | 15/70 [03:42<13:34, 14.81s/it, now=None]\u001B[A"
     ]
    },
    {
     "name": "stdout",
     "output_type": "stream",
     "text": [
      "MoviePy - Writing audio in ../data/bagoflies/BagOfLies/audio\\.._data_bagoflies_BagOfLies_Finalised_User_21_run_3_video.wav\n"
     ]
    },
    {
     "name": "stderr",
     "output_type": "stream",
     "text": [
      "\n",
      "\n",
      "chunk:   0%|          | 0/45 [00:00<?, ?it/s, now=None]\u001B[A\u001B[A\n",
      "\n",
      "                                                                \r\n",
      "chunk:  27%|██▋       | 19/70 [04:38<12:26, 14.64s/it, now=None]\n",
      "chunk:  21%|██▏       | 15/70 [03:42<13:34, 14.81s/it, now=None]\u001B[A"
     ]
    },
    {
     "name": "stdout",
     "output_type": "stream",
     "text": [
      "MoviePy - Done.\n"
     ]
    },
    {
     "name": "stderr",
     "output_type": "stream",
     "text": [
      "                                                                \r\n",
      "chunk:  27%|██▋       | 19/70 [04:38<12:28, 14.68s/it, now=None]\n",
      "chunk:  21%|██▏       | 15/70 [03:42<13:37, 14.86s/it, now=None]\u001B[A"
     ]
    },
    {
     "name": "stdout",
     "output_type": "stream",
     "text": [
      "MoviePy - Writing audio in ../data/bagoflies/BagOfLies/audio\\.._data_bagoflies_BagOfLies_Finalised_User_21_run_4_video.wav\n"
     ]
    },
    {
     "name": "stderr",
     "output_type": "stream",
     "text": [
      "\n",
      "\n",
      "chunk:   0%|          | 0/34 [00:00<?, ?it/s, now=None]\u001B[A\u001B[A\n",
      "\n",
      "                                                                \r\n",
      "chunk:  27%|██▋       | 19/70 [04:38<12:28, 14.68s/it, now=None]\n",
      "chunk:  21%|██▏       | 15/70 [03:42<13:37, 14.86s/it, now=None]\u001B[A"
     ]
    },
    {
     "name": "stdout",
     "output_type": "stream",
     "text": [
      "MoviePy - Done.\n"
     ]
    },
    {
     "name": "stderr",
     "output_type": "stream",
     "text": [
      "                                                                \r\n",
      "chunk:  27%|██▋       | 19/70 [04:39<12:30, 14.71s/it, now=None]\n",
      "chunk:  21%|██▏       | 15/70 [03:43<13:39, 14.90s/it, now=None]\u001B[A"
     ]
    },
    {
     "name": "stdout",
     "output_type": "stream",
     "text": [
      "MoviePy - Writing audio in ../data/bagoflies/BagOfLies/audio\\.._data_bagoflies_BagOfLies_Finalised_User_21_run_5_video.wav\n"
     ]
    },
    {
     "name": "stderr",
     "output_type": "stream",
     "text": [
      "\n",
      "\n",
      "chunk:   0%|          | 0/73 [00:00<?, ?it/s, now=None]\u001B[A\u001B[A\n",
      "\n",
      "chunk:  78%|███████▊  | 57/73 [00:00<00:00, 503.95it/s, now=None]\u001B[A\u001B[A\n",
      "\n",
      "                                                                 \u001B[A\u001B[A\r\n",
      "chunk:  27%|██▋       | 19/70 [04:39<12:30, 14.72s/it, now=None]\n",
      "chunk:  21%|██▏       | 15/70 [03:43<13:40, 14.91s/it, now=None]\u001B[A"
     ]
    },
    {
     "name": "stdout",
     "output_type": "stream",
     "text": [
      "MoviePy - Done.\n"
     ]
    },
    {
     "name": "stderr",
     "output_type": "stream",
     "text": [
      "                                                                \r\n",
      "chunk:  27%|██▋       | 19/70 [04:40<12:32, 14.75s/it, now=None]\n",
      "chunk:  21%|██▏       | 15/70 [03:44<13:42, 14.95s/it, now=None]\u001B[A"
     ]
    },
    {
     "name": "stdout",
     "output_type": "stream",
     "text": [
      "MoviePy - Writing audio in ../data/bagoflies/BagOfLies/audio\\.._data_bagoflies_BagOfLies_Finalised_User_21_run_6_video.wav\n"
     ]
    },
    {
     "name": "stderr",
     "output_type": "stream",
     "text": [
      "\n",
      "\n",
      "chunk:   0%|          | 0/91 [00:00<?, ?it/s, now=None]\u001B[A\u001B[A\n",
      "\n",
      "chunk:  65%|██████▍   | 59/91 [00:00<00:00, 587.88it/s, now=None]\u001B[A\u001B[A\n",
      "\n",
      "                                                                 \u001B[A\u001B[A\r\n",
      "chunk:  27%|██▋       | 19/70 [04:40<12:32, 14.75s/it, now=None]\n",
      "chunk:  21%|██▏       | 15/70 [03:44<13:42, 14.96s/it, now=None]\u001B[A"
     ]
    },
    {
     "name": "stdout",
     "output_type": "stream",
     "text": [
      "MoviePy - Done.\n"
     ]
    },
    {
     "name": "stderr",
     "output_type": "stream",
     "text": [
      "                                                                \r\n",
      "chunk:  27%|██▋       | 19/70 [04:40<12:33, 14.78s/it, now=None]\n",
      "chunk:  21%|██▏       | 15/70 [03:44<13:44, 14.99s/it, now=None]\u001B[A"
     ]
    },
    {
     "name": "stdout",
     "output_type": "stream",
     "text": [
      "MoviePy - Writing audio in ../data/bagoflies/BagOfLies/audio\\.._data_bagoflies_BagOfLies_Finalised_User_21_run_7_video.wav\n"
     ]
    },
    {
     "name": "stderr",
     "output_type": "stream",
     "text": [
      "\n",
      "\n",
      "chunk:   0%|          | 0/45 [00:00<?, ?it/s, now=None]\u001B[A\u001B[A\n",
      "\n",
      "                                                                \r\n",
      "chunk:  27%|██▋       | 19/70 [04:40<12:34, 14.79s/it, now=None]\n",
      "chunk:  21%|██▏       | 15/70 [03:44<13:44, 15.00s/it, now=None]\u001B[A"
     ]
    },
    {
     "name": "stdout",
     "output_type": "stream",
     "text": [
      "MoviePy - Done.\n"
     ]
    },
    {
     "name": "stderr",
     "output_type": "stream",
     "text": [
      "                                                                \r\n",
      "chunk:  27%|██▋       | 19/70 [04:41<12:36, 14.82s/it, now=None]\n",
      "chunk:  21%|██▏       | 15/70 [03:45<13:47, 15.04s/it, now=None]\u001B[A"
     ]
    },
    {
     "name": "stdout",
     "output_type": "stream",
     "text": [
      "MoviePy - Writing audio in ../data/bagoflies/BagOfLies/audio\\.._data_bagoflies_BagOfLies_Finalised_User_21_run_8_video.wav\n"
     ]
    },
    {
     "name": "stderr",
     "output_type": "stream",
     "text": [
      "\n",
      "\n",
      "chunk:   0%|          | 0/83 [00:00<?, ?it/s, now=None]\u001B[A\u001B[A\n",
      "\n",
      "chunk:  69%|██████▊   | 57/83 [00:00<00:00, 564.94it/s, now=None]\u001B[A\u001B[A\n",
      "\n",
      "                                                                 \u001B[A\u001B[A\r\n",
      "chunk:  27%|██▋       | 19/70 [04:41<12:36, 14.83s/it, now=None]\n",
      "chunk:  21%|██▏       | 15/70 [03:45<13:47, 15.05s/it, now=None]\u001B[A"
     ]
    },
    {
     "name": "stdout",
     "output_type": "stream",
     "text": [
      "MoviePy - Done.\n"
     ]
    },
    {
     "name": "stderr",
     "output_type": "stream",
     "text": [
      "                                                                \r\n",
      "chunk:  27%|██▋       | 19/70 [04:42<12:37, 14.86s/it, now=None]\n",
      "chunk:  21%|██▏       | 15/70 [03:46<13:50, 15.09s/it, now=None]\u001B[A"
     ]
    },
    {
     "name": "stdout",
     "output_type": "stream",
     "text": [
      "MoviePy - Writing audio in ../data/bagoflies/BagOfLies/audio\\.._data_bagoflies_BagOfLies_Finalised_User_21_run_9_video.wav\n"
     ]
    },
    {
     "name": "stderr",
     "output_type": "stream",
     "text": [
      "\n",
      "\n",
      "chunk:   0%|          | 0/40 [00:00<?, ?it/s, now=None]\u001B[A\u001B[A\n",
      "\n",
      "                                                                \r\n",
      "chunk:  27%|██▋       | 19/70 [04:42<12:38, 14.87s/it, now=None]\n",
      "chunk:  21%|██▏       | 15/70 [03:46<13:50, 15.10s/it, now=None]\u001B[A"
     ]
    },
    {
     "name": "stdout",
     "output_type": "stream",
     "text": [
      "MoviePy - Done.\n"
     ]
    },
    {
     "name": "stderr",
     "output_type": "stream",
     "text": [
      "                                                                \r\n",
      "chunk:  27%|██▋       | 19/70 [04:43<12:39, 14.90s/it, now=None]\n",
      "chunk:  21%|██▏       | 15/70 [03:47<13:52, 15.14s/it, now=None]\u001B[A"
     ]
    },
    {
     "name": "stdout",
     "output_type": "stream",
     "text": [
      "MoviePy - Writing audio in ../data/bagoflies/BagOfLies/audio\\.._data_bagoflies_BagOfLies_Finalised_User_22_run_0_video.wav\n"
     ]
    },
    {
     "name": "stderr",
     "output_type": "stream",
     "text": [
      "\n",
      "\n",
      "chunk:   0%|          | 0/81 [00:00<?, ?it/s, now=None]\u001B[A\u001B[A\n",
      "\n",
      "chunk:  47%|████▋     | 38/81 [00:00<00:00, 349.52it/s, now=None]\u001B[A\u001B[A\n",
      "\n",
      "                                                                 \u001B[A\u001B[A\r\n",
      "chunk:  27%|██▋       | 19/70 [04:43<12:40, 14.91s/it, now=None]\n",
      "chunk:  21%|██▏       | 15/70 [03:47<13:53, 15.15s/it, now=None]\u001B[A"
     ]
    },
    {
     "name": "stdout",
     "output_type": "stream",
     "text": [
      "MoviePy - Done.\n"
     ]
    },
    {
     "name": "stderr",
     "output_type": "stream",
     "text": [
      "                                                                \r\n",
      "chunk:  27%|██▋       | 19/70 [04:43<12:42, 14.94s/it, now=None]\n",
      "chunk:  21%|██▏       | 15/70 [03:47<13:55, 15.20s/it, now=None]\u001B[A"
     ]
    },
    {
     "name": "stdout",
     "output_type": "stream",
     "text": [
      "MoviePy - Writing audio in ../data/bagoflies/BagOfLies/audio\\.._data_bagoflies_BagOfLies_Finalised_User_22_run_1_video.wav\n"
     ]
    },
    {
     "name": "stderr",
     "output_type": "stream",
     "text": [
      "\n",
      "\n",
      "chunk:   0%|          | 0/74 [00:00<?, ?it/s, now=None]\u001B[A\u001B[A\n",
      "\n",
      "chunk:  77%|███████▋  | 57/74 [00:00<00:00, 548.45it/s, now=None]\u001B[A\u001B[A\n",
      "\n",
      "                                                                 \u001B[A\u001B[A\r\n",
      "chunk:  27%|██▋       | 19/70 [04:44<12:42, 14.95s/it, now=None]\n",
      "chunk:  21%|██▏       | 15/70 [03:48<13:56, 15.21s/it, now=None]\u001B[A"
     ]
    },
    {
     "name": "stdout",
     "output_type": "stream",
     "text": [
      "MoviePy - Done.\n"
     ]
    },
    {
     "name": "stderr",
     "output_type": "stream",
     "text": [
      "                                                                \r\n",
      "chunk:  27%|██▋       | 19/70 [04:44<12:44, 14.98s/it, now=None]\n",
      "chunk:  21%|██▏       | 15/70 [03:48<13:58, 15.24s/it, now=None]\u001B[A"
     ]
    },
    {
     "name": "stdout",
     "output_type": "stream",
     "text": [
      "MoviePy - Writing audio in ../data/bagoflies/BagOfLies/audio\\.._data_bagoflies_BagOfLies_Finalised_User_22_run_2_video.wav\n"
     ]
    },
    {
     "name": "stderr",
     "output_type": "stream",
     "text": [
      "\n",
      "\n",
      "chunk:   0%|          | 0/137 [00:00<?, ?it/s, now=None]\u001B[A\u001B[A\n",
      "\n",
      "chunk:  42%|████▏     | 57/137 [00:00<00:00, 535.57it/s, now=None]\u001B[A\u001B[A\n",
      "\n",
      "chunk: 100%|██████████| 137/137 [00:00<00:00, 681.27it/s, now=None]\u001B[A\u001B[A\n",
      "\n",
      "                                                                   \u001B[A\u001B[A\r\n",
      "chunk:  27%|██▋       | 19/70 [04:44<12:44, 14.99s/it, now=None]\n",
      "chunk:  21%|██▏       | 15/70 [03:48<13:59, 15.26s/it, now=None]\u001B[A"
     ]
    },
    {
     "name": "stdout",
     "output_type": "stream",
     "text": [
      "MoviePy - Done.\n"
     ]
    },
    {
     "name": "stderr",
     "output_type": "stream",
     "text": [
      "                                                                \r\n",
      "chunk:  27%|██▋       | 19/70 [04:45<12:46, 15.04s/it, now=None]\n",
      "chunk:  21%|██▏       | 15/70 [03:49<14:02, 15.31s/it, now=None]\u001B[A"
     ]
    },
    {
     "name": "stdout",
     "output_type": "stream",
     "text": [
      "MoviePy - Writing audio in ../data/bagoflies/BagOfLies/audio\\.._data_bagoflies_BagOfLies_Finalised_User_22_run_3_video.wav\n"
     ]
    },
    {
     "name": "stderr",
     "output_type": "stream",
     "text": [
      "\n",
      "\n",
      "chunk:   0%|          | 0/79 [00:00<?, ?it/s, now=None]\u001B[A\u001B[A\n",
      "\n",
      "chunk:  72%|███████▏  | 57/79 [00:00<00:00, 501.01it/s, now=None]\u001B[A\u001B[A\n",
      "\n",
      "                                                                 \u001B[A\u001B[A\r\n",
      "chunk:  27%|██▋       | 19/70 [04:45<12:47, 15.04s/it, now=None]\n",
      "chunk:  21%|██▏       | 15/70 [03:49<14:02, 15.32s/it, now=None]\u001B[A"
     ]
    },
    {
     "name": "stdout",
     "output_type": "stream",
     "text": [
      "MoviePy - Done.\n"
     ]
    },
    {
     "name": "stderr",
     "output_type": "stream",
     "text": [
      "                                                                \r\n",
      "chunk:  27%|██▋       | 19/70 [04:46<12:48, 15.07s/it, now=None]\n",
      "chunk:  21%|██▏       | 15/70 [03:50<14:04, 15.36s/it, now=None]\u001B[A"
     ]
    },
    {
     "name": "stdout",
     "output_type": "stream",
     "text": [
      "MoviePy - Writing audio in ../data/bagoflies/BagOfLies/audio\\.._data_bagoflies_BagOfLies_Finalised_User_22_run_4_video.wav\n"
     ]
    },
    {
     "name": "stderr",
     "output_type": "stream",
     "text": [
      "\n",
      "\n",
      "chunk:   0%|          | 0/115 [00:00<?, ?it/s, now=None]\u001B[A\u001B[A\n",
      "\n",
      "chunk:  33%|███▎      | 38/115 [00:00<00:00, 331.54it/s, now=None]\u001B[A\u001B[A\n",
      "\n",
      "chunk:  83%|████████▎ | 95/115 [00:00<00:00, 450.46it/s, now=None]\u001B[A\u001B[A\n",
      "\n",
      "                                                                  \u001B[A\u001B[A\r\n",
      "chunk:  27%|██▋       | 19/70 [04:46<12:49, 15.09s/it, now=None]\n",
      "chunk:  21%|██▏       | 15/70 [03:50<14:05, 15.38s/it, now=None]\u001B[A"
     ]
    },
    {
     "name": "stdout",
     "output_type": "stream",
     "text": [
      "MoviePy - Done.\n"
     ]
    },
    {
     "name": "stderr",
     "output_type": "stream",
     "text": [
      "                                                                \r\n",
      "chunk:  27%|██▋       | 19/70 [04:47<12:50, 15.12s/it, now=None]\n",
      "chunk:  21%|██▏       | 15/70 [03:51<14:07, 15.41s/it, now=None]\u001B[A"
     ]
    },
    {
     "name": "stdout",
     "output_type": "stream",
     "text": [
      "MoviePy - Writing audio in ../data/bagoflies/BagOfLies/audio\\.._data_bagoflies_BagOfLies_Finalised_User_22_run_5_video.wav\n"
     ]
    },
    {
     "name": "stderr",
     "output_type": "stream",
     "text": [
      "\n",
      "\n",
      "chunk:   0%|          | 0/61 [00:00<?, ?it/s, now=None]\u001B[A\u001B[A\n",
      "\n",
      "                                                                \r\n",
      "chunk:  27%|██▋       | 19/70 [04:47<12:51, 15.12s/it, now=None]\n",
      "chunk:  21%|██▏       | 15/70 [03:51<14:08, 15.42s/it, now=None]\u001B[A"
     ]
    },
    {
     "name": "stdout",
     "output_type": "stream",
     "text": [
      "MoviePy - Done.\n"
     ]
    },
    {
     "name": "stderr",
     "output_type": "stream",
     "text": [
      "                                                                \r\n",
      "chunk:  27%|██▋       | 19/70 [04:47<12:52, 15.15s/it, now=None]\n",
      "chunk:  21%|██▏       | 15/70 [03:51<14:10, 15.46s/it, now=None]\u001B[A"
     ]
    },
    {
     "name": "stdout",
     "output_type": "stream",
     "text": [
      "MoviePy - Writing audio in ../data/bagoflies/BagOfLies/audio\\.._data_bagoflies_BagOfLies_Finalised_User_22_run_6_video.wav\n"
     ]
    },
    {
     "name": "stderr",
     "output_type": "stream",
     "text": [
      "\n",
      "\n",
      "chunk:   0%|          | 0/69 [00:00<?, ?it/s, now=None]\u001B[A\u001B[A\n",
      "\n",
      "chunk:  55%|█████▌    | 38/69 [00:00<00:00, 359.47it/s, now=None]\u001B[A\u001B[A\n",
      "\n",
      "                                                                 \u001B[A\u001B[A\r\n",
      "chunk:  27%|██▋       | 19/70 [04:48<12:53, 15.16s/it, now=None]\n",
      "chunk:  21%|██▏       | 15/70 [03:52<14:11, 15.47s/it, now=None]\u001B[A"
     ]
    },
    {
     "name": "stdout",
     "output_type": "stream",
     "text": [
      "MoviePy - Done.\n"
     ]
    },
    {
     "name": "stderr",
     "output_type": "stream",
     "text": [
      "                                                                \r\n",
      "chunk:  27%|██▋       | 19/70 [04:48<12:55, 15.20s/it, now=None]\n",
      "chunk:  21%|██▏       | 15/70 [03:52<14:13, 15.53s/it, now=None]\u001B[A"
     ]
    },
    {
     "name": "stdout",
     "output_type": "stream",
     "text": [
      "MoviePy - Writing audio in ../data/bagoflies/BagOfLies/audio\\.._data_bagoflies_BagOfLies_Finalised_User_22_run_7_video.wav\n"
     ]
    },
    {
     "name": "stderr",
     "output_type": "stream",
     "text": [
      "\n",
      "\n",
      "chunk:   0%|          | 0/63 [00:00<?, ?it/s, now=None]\u001B[A\u001B[A\n",
      "\n",
      "chunk:  90%|█████████ | 57/63 [00:00<00:00, 560.39it/s, now=None]\u001B[A\u001B[A\n",
      "\n",
      "                                                                 \u001B[A\u001B[A\r\n",
      "chunk:  27%|██▋       | 19/70 [04:49<12:55, 15.21s/it, now=None]\n",
      "chunk:  21%|██▏       | 15/70 [03:53<14:14, 15.53s/it, now=None]\u001B[A"
     ]
    },
    {
     "name": "stdout",
     "output_type": "stream",
     "text": [
      "MoviePy - Done.\n"
     ]
    },
    {
     "name": "stderr",
     "output_type": "stream",
     "text": [
      "                                                                \r\n",
      "chunk:  27%|██▋       | 19/70 [04:49<12:57, 15.24s/it, now=None]\n",
      "chunk:  21%|██▏       | 15/70 [03:53<14:16, 15.58s/it, now=None]\u001B[A"
     ]
    },
    {
     "name": "stdout",
     "output_type": "stream",
     "text": [
      "MoviePy - Writing audio in ../data/bagoflies/BagOfLies/audio\\.._data_bagoflies_BagOfLies_Finalised_User_22_run_8_video.wav\n"
     ]
    },
    {
     "name": "stderr",
     "output_type": "stream",
     "text": [
      "\n",
      "\n",
      "chunk:   0%|          | 0/66 [00:00<?, ?it/s, now=None]\u001B[A\u001B[A\n",
      "\n",
      "                                                                \r\n",
      "chunk:  27%|██▋       | 19/70 [04:49<12:57, 15.25s/it, now=None]\n",
      "chunk:  21%|██▏       | 15/70 [03:53<14:17, 15.58s/it, now=None]\u001B[A"
     ]
    },
    {
     "name": "stdout",
     "output_type": "stream",
     "text": [
      "MoviePy - Done.\n"
     ]
    },
    {
     "name": "stderr",
     "output_type": "stream",
     "text": [
      "                                                                \r\n",
      "chunk:  27%|██▋       | 19/70 [04:50<12:59, 15.28s/it, now=None]\n",
      "chunk:  21%|██▏       | 15/70 [03:54<14:19, 15.62s/it, now=None]\u001B[A"
     ]
    },
    {
     "name": "stdout",
     "output_type": "stream",
     "text": [
      "MoviePy - Writing audio in ../data/bagoflies/BagOfLies/audio\\.._data_bagoflies_BagOfLies_Finalised_User_22_run_9_video.wav\n"
     ]
    },
    {
     "name": "stderr",
     "output_type": "stream",
     "text": [
      "\n",
      "\n",
      "chunk:   0%|          | 0/73 [00:00<?, ?it/s, now=None]\u001B[A\u001B[A\n",
      "\n",
      "chunk:  78%|███████▊  | 57/73 [00:00<00:00, 512.40it/s, now=None]\u001B[A\u001B[A\n",
      "\n",
      "                                                                 \u001B[A\u001B[A\r\n",
      "chunk:  27%|██▋       | 19/70 [04:50<12:59, 15.29s/it, now=None]\n",
      "chunk:  21%|██▏       | 15/70 [03:54<14:19, 15.63s/it, now=None]\u001B[A"
     ]
    },
    {
     "name": "stdout",
     "output_type": "stream",
     "text": [
      "MoviePy - Done.\n"
     ]
    },
    {
     "name": "stderr",
     "output_type": "stream",
     "text": [
      "                                                                \r\n",
      "chunk:  27%|██▋       | 19/70 [04:51<13:01, 15.32s/it, now=None]\n",
      "chunk:  21%|██▏       | 15/70 [03:55<14:22, 15.67s/it, now=None]\u001B[A"
     ]
    },
    {
     "name": "stdout",
     "output_type": "stream",
     "text": [
      "MoviePy - Writing audio in ../data/bagoflies/BagOfLies/audio\\.._data_bagoflies_BagOfLies_Finalised_User_23_run_0_video.wav\n"
     ]
    },
    {
     "name": "stderr",
     "output_type": "stream",
     "text": [
      "\n",
      "\n",
      "chunk:   0%|          | 0/83 [00:00<?, ?it/s, now=None]\u001B[A\u001B[A\n",
      "\n",
      "chunk:  69%|██████▊   | 57/83 [00:00<00:00, 519.41it/s, now=None]\u001B[A\u001B[A\n",
      "\n",
      "                                                                 \u001B[A\u001B[A\r\n",
      "chunk:  27%|██▋       | 19/70 [04:51<13:01, 15.33s/it, now=None]\n",
      "chunk:  21%|██▏       | 15/70 [03:55<14:22, 15.68s/it, now=None]\u001B[A"
     ]
    },
    {
     "name": "stdout",
     "output_type": "stream",
     "text": [
      "MoviePy - Done.\n"
     ]
    },
    {
     "name": "stderr",
     "output_type": "stream",
     "text": [
      "                                                                \r\n",
      "chunk:  27%|██▋       | 19/70 [04:51<13:03, 15.36s/it, now=None]\n",
      "chunk:  21%|██▏       | 15/70 [03:55<14:24, 15.72s/it, now=None]\u001B[A"
     ]
    },
    {
     "name": "stdout",
     "output_type": "stream",
     "text": [
      "MoviePy - Writing audio in ../data/bagoflies/BagOfLies/audio\\.._data_bagoflies_BagOfLies_Finalised_User_23_run_1_video.wav\n"
     ]
    },
    {
     "name": "stderr",
     "output_type": "stream",
     "text": [
      "\n",
      "\n",
      "chunk:   0%|          | 0/79 [00:00<?, ?it/s, now=None]\u001B[A\u001B[A\n",
      "\n",
      "chunk:  72%|███████▏  | 57/79 [00:00<00:00, 450.75it/s, now=None]\u001B[A\u001B[A\n",
      "\n",
      "                                                                 \u001B[A\u001B[A\r\n",
      "chunk:  27%|██▋       | 19/70 [04:51<13:03, 15.37s/it, now=None]\n",
      "chunk:  21%|██▏       | 15/70 [03:55<14:25, 15.73s/it, now=None]\u001B[A"
     ]
    },
    {
     "name": "stdout",
     "output_type": "stream",
     "text": [
      "MoviePy - Done.\n"
     ]
    },
    {
     "name": "stderr",
     "output_type": "stream",
     "text": [
      "                                                                \r\n",
      "chunk:  27%|██▋       | 19/70 [04:52<13:05, 15.40s/it, now=None]\n",
      "chunk:  21%|██▏       | 15/70 [03:56<14:27, 15.78s/it, now=None]\u001B[A"
     ]
    },
    {
     "name": "stdout",
     "output_type": "stream",
     "text": [
      "MoviePy - Writing audio in ../data/bagoflies/BagOfLies/audio\\.._data_bagoflies_BagOfLies_Finalised_User_23_run_2_video.wav\n"
     ]
    },
    {
     "name": "stderr",
     "output_type": "stream",
     "text": [
      "\n",
      "\n",
      "chunk:   0%|          | 0/76 [00:00<?, ?it/s, now=None]\u001B[A\u001B[A\n",
      "\n",
      "chunk:  75%|███████▌  | 57/76 [00:00<00:00, 454.20it/s, now=None]\u001B[A\u001B[A\n",
      "\n",
      "                                                                 \u001B[A\u001B[A\r\n",
      "chunk:  27%|██▋       | 19/70 [04:52<13:05, 15.41s/it, now=None]\n",
      "chunk:  21%|██▏       | 15/70 [03:56<14:28, 15.79s/it, now=None]\u001B[A"
     ]
    },
    {
     "name": "stdout",
     "output_type": "stream",
     "text": [
      "MoviePy - Done.\n"
     ]
    },
    {
     "name": "stderr",
     "output_type": "stream",
     "text": [
      "                                                                \r\n",
      "chunk:  27%|██▋       | 19/70 [04:53<13:07, 15.44s/it, now=None]\n",
      "chunk:  21%|██▏       | 15/70 [03:57<14:30, 15.83s/it, now=None]\u001B[A"
     ]
    },
    {
     "name": "stdout",
     "output_type": "stream",
     "text": [
      "MoviePy - Writing audio in ../data/bagoflies/BagOfLies/audio\\.._data_bagoflies_BagOfLies_Finalised_User_23_run_3_video.wav\n"
     ]
    },
    {
     "name": "stderr",
     "output_type": "stream",
     "text": [
      "\n",
      "\n",
      "chunk:   0%|          | 0/75 [00:00<?, ?it/s, now=None]\u001B[A\u001B[A\n",
      "\n",
      "chunk:  76%|███████▌  | 57/75 [00:00<00:00, 469.24it/s, now=None]\u001B[A\u001B[A\n",
      "\n",
      "                                                                 \u001B[A\u001B[A\r\n",
      "chunk:  27%|██▋       | 19/70 [04:53<13:08, 15.45s/it, now=None]\n",
      "chunk:  21%|██▏       | 15/70 [03:57<14:31, 15.84s/it, now=None]\u001B[A"
     ]
    },
    {
     "name": "stdout",
     "output_type": "stream",
     "text": [
      "MoviePy - Done.\n"
     ]
    },
    {
     "name": "stderr",
     "output_type": "stream",
     "text": [
      "                                                                \r\n",
      "chunk:  27%|██▋       | 19/70 [04:54<13:10, 15.49s/it, now=None]\n",
      "chunk:  21%|██▏       | 15/70 [03:58<14:34, 15.89s/it, now=None]\u001B[A"
     ]
    },
    {
     "name": "stdout",
     "output_type": "stream",
     "text": [
      "MoviePy - Writing audio in ../data/bagoflies/BagOfLies/audio\\.._data_bagoflies_BagOfLies_Finalised_User_23_run_4_video.wav\n"
     ]
    },
    {
     "name": "stderr",
     "output_type": "stream",
     "text": [
      "\n",
      "\n",
      "chunk:   0%|          | 0/65 [00:00<?, ?it/s, now=None]\u001B[A\u001B[A\n",
      "\n",
      "chunk:  89%|████████▉ | 58/65 [00:00<00:00, 578.01it/s, now=None]\u001B[A\u001B[A\n",
      "\n",
      "                                                                 \u001B[A\u001B[A\r\n",
      "chunk:  27%|██▋       | 19/70 [04:54<13:10, 15.50s/it, now=None]\n",
      "chunk:  21%|██▏       | 15/70 [03:58<14:34, 15.90s/it, now=None]\u001B[A"
     ]
    },
    {
     "name": "stdout",
     "output_type": "stream",
     "text": [
      "MoviePy - Done.\n"
     ]
    },
    {
     "name": "stderr",
     "output_type": "stream",
     "text": [
      "                                                                \r\n",
      "chunk:  27%|██▋       | 19/70 [04:55<13:12, 15.53s/it, now=None]\n",
      "chunk:  21%|██▏       | 15/70 [03:59<14:36, 15.94s/it, now=None]\u001B[A"
     ]
    },
    {
     "name": "stdout",
     "output_type": "stream",
     "text": [
      "MoviePy - Writing audio in ../data/bagoflies/BagOfLies/audio\\.._data_bagoflies_BagOfLies_Finalised_User_23_run_5_video.wav\n"
     ]
    },
    {
     "name": "stderr",
     "output_type": "stream",
     "text": [
      "\n",
      "\n",
      "chunk:   0%|          | 0/85 [00:00<?, ?it/s, now=None]\u001B[A\u001B[A\n",
      "\n",
      "chunk:  67%|██████▋   | 57/85 [00:00<00:00, 422.24it/s, now=None]\u001B[A\u001B[A\n",
      "\n",
      "                                                                 \u001B[A\u001B[A\r\n",
      "chunk:  27%|██▋       | 19/70 [04:55<13:12, 15.54s/it, now=None]\n",
      "chunk:  21%|██▏       | 15/70 [03:59<14:37, 15.95s/it, now=None]\u001B[A"
     ]
    },
    {
     "name": "stdout",
     "output_type": "stream",
     "text": [
      "MoviePy - Done.\n"
     ]
    },
    {
     "name": "stderr",
     "output_type": "stream",
     "text": [
      "                                                                \r\n",
      "chunk:  27%|██▋       | 19/70 [04:55<13:14, 15.57s/it, now=None]\n",
      "chunk:  21%|██▏       | 15/70 [03:59<14:39, 15.99s/it, now=None]\u001B[A"
     ]
    },
    {
     "name": "stdout",
     "output_type": "stream",
     "text": [
      "MoviePy - Writing audio in ../data/bagoflies/BagOfLies/audio\\.._data_bagoflies_BagOfLies_Finalised_User_23_run_6_video.wav\n"
     ]
    },
    {
     "name": "stderr",
     "output_type": "stream",
     "text": [
      "\n",
      "\n",
      "chunk:   0%|          | 0/72 [00:00<?, ?it/s, now=None]\u001B[A\u001B[A\n",
      "\n",
      "chunk:  79%|███████▉  | 57/72 [00:00<00:00, 536.88it/s, now=None]\u001B[A\u001B[A\n",
      "\n",
      "                                                                 \u001B[A\u001B[A\r\n",
      "chunk:  27%|██▋       | 19/70 [04:55<13:14, 15.58s/it, now=None]\n",
      "chunk:  21%|██▏       | 15/70 [03:59<14:39, 16.00s/it, now=None]\u001B[A"
     ]
    },
    {
     "name": "stdout",
     "output_type": "stream",
     "text": [
      "MoviePy - Done.\n"
     ]
    },
    {
     "name": "stderr",
     "output_type": "stream",
     "text": [
      "                                                                \r\n",
      "chunk:  27%|██▋       | 19/70 [04:56<13:16, 15.61s/it, now=None]\n",
      "chunk:  21%|██▏       | 15/70 [04:00<14:42, 16.04s/it, now=None]\u001B[A"
     ]
    },
    {
     "name": "stdout",
     "output_type": "stream",
     "text": [
      "MoviePy - Writing audio in ../data/bagoflies/BagOfLies/audio\\.._data_bagoflies_BagOfLies_Finalised_User_23_run_7_video.wav\n"
     ]
    },
    {
     "name": "stderr",
     "output_type": "stream",
     "text": [
      "\n",
      "\n",
      "chunk:   0%|          | 0/106 [00:00<?, ?it/s, now=None]\u001B[A\u001B[A\n",
      "\n",
      "chunk:  54%|█████▍    | 57/106 [00:00<00:00, 519.67it/s, now=None]\u001B[A\u001B[A\n",
      "\n",
      "                                                                  \u001B[A\u001B[A\r\n",
      "chunk:  27%|██▋       | 19/70 [04:56<13:16, 15.62s/it, now=None]\n",
      "chunk:  21%|██▏       | 15/70 [04:00<14:42, 16.05s/it, now=None]\u001B[A"
     ]
    },
    {
     "name": "stdout",
     "output_type": "stream",
     "text": [
      "MoviePy - Done.\n"
     ]
    },
    {
     "name": "stderr",
     "output_type": "stream",
     "text": [
      "                                                                \r\n",
      "chunk:  27%|██▋       | 19/70 [04:57<13:18, 15.65s/it, now=None]\n",
      "chunk:  21%|██▏       | 15/70 [04:01<14:45, 16.09s/it, now=None]\u001B[A"
     ]
    },
    {
     "name": "stdout",
     "output_type": "stream",
     "text": [
      "MoviePy - Writing audio in ../data/bagoflies/BagOfLies/audio\\.._data_bagoflies_BagOfLies_Finalised_User_23_run_8_video.wav\n"
     ]
    },
    {
     "name": "stderr",
     "output_type": "stream",
     "text": [
      "\n",
      "\n",
      "chunk:   0%|          | 0/75 [00:00<?, ?it/s, now=None]\u001B[A\u001B[A\n",
      "\n",
      "chunk:  51%|█████     | 38/75 [00:00<00:00, 326.74it/s, now=None]\u001B[A\u001B[A\n",
      "\n",
      "                                                                 \u001B[A\u001B[A\r\n",
      "chunk:  27%|██▋       | 19/70 [04:57<13:18, 15.66s/it, now=None]\n",
      "chunk:  21%|██▏       | 15/70 [04:01<14:45, 16.11s/it, now=None]\u001B[A"
     ]
    },
    {
     "name": "stdout",
     "output_type": "stream",
     "text": [
      "MoviePy - Done.\n"
     ]
    },
    {
     "name": "stderr",
     "output_type": "stream",
     "text": [
      "                                                                \r\n",
      "chunk:  27%|██▋       | 19/70 [04:58<13:20, 15.70s/it, now=None]\n",
      "chunk:  21%|██▏       | 15/70 [04:02<14:48, 16.15s/it, now=None]\u001B[A"
     ]
    },
    {
     "name": "stdout",
     "output_type": "stream",
     "text": [
      "MoviePy - Writing audio in ../data/bagoflies/BagOfLies/audio\\.._data_bagoflies_BagOfLies_Finalised_User_23_run_9_video.wav\n"
     ]
    },
    {
     "name": "stderr",
     "output_type": "stream",
     "text": [
      "\n",
      "\n",
      "chunk:   0%|          | 0/79 [00:00<?, ?it/s, now=None]\u001B[A\u001B[A\n",
      "\n",
      "chunk:  72%|███████▏  | 57/79 [00:00<00:00, 512.85it/s, now=None]\u001B[A\u001B[A\n",
      "\n",
      "                                                                 \u001B[A\u001B[A\r\n",
      "chunk:  27%|██▋       | 19/70 [04:58<13:20, 15.70s/it, now=None]\n",
      "chunk:  21%|██▏       | 15/70 [04:02<14:48, 16.16s/it, now=None]\u001B[A"
     ]
    },
    {
     "name": "stdout",
     "output_type": "stream",
     "text": [
      "MoviePy - Done.\n"
     ]
    },
    {
     "name": "stderr",
     "output_type": "stream",
     "text": [
      "                                                                \r\n",
      "chunk:  27%|██▋       | 19/70 [04:58<13:22, 15.73s/it, now=None]\n",
      "chunk:  21%|██▏       | 15/70 [04:02<14:50, 16.20s/it, now=None]\u001B[A"
     ]
    },
    {
     "name": "stdout",
     "output_type": "stream",
     "text": [
      "MoviePy - Writing audio in ../data/bagoflies/BagOfLies/audio\\.._data_bagoflies_BagOfLies_Finalised_User_24_run_0_video.wav\n"
     ]
    },
    {
     "name": "stderr",
     "output_type": "stream",
     "text": [
      "\n",
      "\n",
      "chunk:   0%|          | 0/88 [00:00<?, ?it/s, now=None]\u001B[A\u001B[A\n",
      "\n",
      "chunk:  65%|██████▍   | 57/88 [00:00<00:00, 476.48it/s, now=None]\u001B[A\u001B[A\n",
      "\n",
      "                                                                 \u001B[A\u001B[A\r\n",
      "chunk:  27%|██▋       | 19/70 [04:59<13:22, 15.74s/it, now=None]\n",
      "chunk:  21%|██▏       | 15/70 [04:03<14:51, 16.21s/it, now=None]\u001B[A"
     ]
    },
    {
     "name": "stdout",
     "output_type": "stream",
     "text": [
      "MoviePy - Done.\n"
     ]
    },
    {
     "name": "stderr",
     "output_type": "stream",
     "text": [
      "                                                                \r\n",
      "chunk:  27%|██▋       | 19/70 [05:00<13:25, 15.79s/it, now=None]\n",
      "chunk:  21%|██▏       | 15/70 [04:04<14:54, 16.27s/it, now=None]\u001B[A"
     ]
    },
    {
     "name": "stdout",
     "output_type": "stream",
     "text": [
      "MoviePy - Writing audio in ../data/bagoflies/BagOfLies/audio\\.._data_bagoflies_BagOfLies_Finalised_User_24_run_1_video.wav\n"
     ]
    },
    {
     "name": "stderr",
     "output_type": "stream",
     "text": [
      "\n",
      "\n",
      "chunk:   0%|          | 0/95 [00:00<?, ?it/s, now=None]\u001B[A\u001B[A\n",
      "\n",
      "chunk:  60%|██████    | 57/95 [00:00<00:00, 401.06it/s, now=None]\u001B[A\u001B[A\n",
      "\n",
      "                                                                 \u001B[A\u001B[A\r\n",
      "chunk:  27%|██▋       | 19/70 [05:00<13:25, 15.80s/it, now=None]\n",
      "chunk:  21%|██▏       | 15/70 [04:04<14:55, 16.28s/it, now=None]\u001B[A"
     ]
    },
    {
     "name": "stdout",
     "output_type": "stream",
     "text": [
      "MoviePy - Done.\n"
     ]
    },
    {
     "name": "stderr",
     "output_type": "stream",
     "text": [
      "                                                                \r\n",
      "chunk:  27%|██▋       | 19/70 [05:00<13:27, 15.84s/it, now=None]\n",
      "chunk:  21%|██▏       | 15/70 [04:04<14:57, 16.33s/it, now=None]\u001B[A"
     ]
    },
    {
     "name": "stdout",
     "output_type": "stream",
     "text": [
      "MoviePy - Writing audio in ../data/bagoflies/BagOfLies/audio\\.._data_bagoflies_BagOfLies_Finalised_User_24_run_2_video.wav\n"
     ]
    },
    {
     "name": "stderr",
     "output_type": "stream",
     "text": [
      "\n",
      "\n",
      "chunk:   0%|          | 0/64 [00:00<?, ?it/s, now=None]\u001B[A\u001B[A\n",
      "\n",
      "                                                                \r\n",
      "chunk:  27%|██▋       | 19/70 [05:01<13:27, 15.84s/it, now=None]\n",
      "chunk:  21%|██▏       | 15/70 [04:05<14:58, 16.33s/it, now=None]\u001B[A"
     ]
    },
    {
     "name": "stdout",
     "output_type": "stream",
     "text": [
      "MoviePy - Done.\n"
     ]
    },
    {
     "name": "stderr",
     "output_type": "stream",
     "text": [
      "                                                                \r\n",
      "chunk:  27%|██▋       | 19/70 [05:01<13:30, 15.89s/it, now=None]\n",
      "chunk:  21%|██▏       | 15/70 [04:05<15:01, 16.39s/it, now=None]\u001B[A"
     ]
    },
    {
     "name": "stdout",
     "output_type": "stream",
     "text": [
      "MoviePy - Writing audio in ../data/bagoflies/BagOfLies/audio\\.._data_bagoflies_BagOfLies_Finalised_User_24_run_3_video.wav\n"
     ]
    },
    {
     "name": "stderr",
     "output_type": "stream",
     "text": [
      "\n",
      "\n",
      "chunk:   0%|          | 0/65 [00:00<?, ?it/s, now=None]\u001B[A\u001B[A\n",
      "\n",
      "chunk:  88%|████████▊ | 57/65 [00:00<00:00, 532.73it/s, now=None]\u001B[A\u001B[A\n",
      "\n",
      "                                                                 \u001B[A\u001B[A\r\n",
      "chunk:  27%|██▋       | 19/70 [05:01<13:30, 15.89s/it, now=None]\n",
      "chunk:  21%|██▏       | 15/70 [04:05<15:01, 16.40s/it, now=None]\u001B[A"
     ]
    },
    {
     "name": "stdout",
     "output_type": "stream",
     "text": [
      "MoviePy - Done.\n"
     ]
    },
    {
     "name": "stderr",
     "output_type": "stream",
     "text": [
      "                                                                \r\n",
      "chunk:  27%|██▋       | 19/70 [05:02<13:32, 15.93s/it, now=None]\n",
      "chunk:  21%|██▏       | 15/70 [04:06<15:04, 16.44s/it, now=None]\u001B[A"
     ]
    },
    {
     "name": "stdout",
     "output_type": "stream",
     "text": [
      "MoviePy - Writing audio in ../data/bagoflies/BagOfLies/audio\\.._data_bagoflies_BagOfLies_Finalised_User_24_run_4_video.wav\n"
     ]
    },
    {
     "name": "stderr",
     "output_type": "stream",
     "text": [
      "\n",
      "\n",
      "chunk:   0%|          | 0/59 [00:00<?, ?it/s, now=None]\u001B[A\u001B[A\n",
      "\n",
      "chunk:  97%|█████████▋| 57/59 [00:00<00:00, 569.86it/s, now=None]\u001B[A\u001B[A\n",
      "\n",
      "                                                                 \u001B[A\u001B[A\r\n",
      "chunk:  27%|██▋       | 19/70 [05:02<13:32, 15.93s/it, now=None]\n",
      "chunk:  21%|██▏       | 15/70 [04:06<15:04, 16.45s/it, now=None]\u001B[A"
     ]
    },
    {
     "name": "stdout",
     "output_type": "stream",
     "text": [
      "MoviePy - Done.\n"
     ]
    },
    {
     "name": "stderr",
     "output_type": "stream",
     "text": [
      "                                                                \r\n",
      "chunk:  27%|██▋       | 19/70 [05:03<13:34, 15.96s/it, now=None]\n",
      "chunk:  21%|██▏       | 15/70 [04:07<15:06, 16.49s/it, now=None]\u001B[A"
     ]
    },
    {
     "name": "stdout",
     "output_type": "stream",
     "text": [
      "MoviePy - Writing audio in ../data/bagoflies/BagOfLies/audio\\.._data_bagoflies_BagOfLies_Finalised_User_24_run_5_video.wav\n"
     ]
    },
    {
     "name": "stderr",
     "output_type": "stream",
     "text": [
      "\n",
      "\n",
      "chunk:   0%|          | 0/66 [00:00<?, ?it/s, now=None]\u001B[A\u001B[A\n",
      "\n",
      "chunk:  64%|██████▎   | 42/66 [00:00<00:00, 419.11it/s, now=None]\u001B[A\u001B[A\n",
      "\n",
      "                                                                 \u001B[A\u001B[A\r\n",
      "chunk:  27%|██▋       | 19/70 [05:03<13:34, 15.97s/it, now=None]\n",
      "chunk:  21%|██▏       | 15/70 [04:07<15:07, 16.50s/it, now=None]\u001B[A"
     ]
    },
    {
     "name": "stdout",
     "output_type": "stream",
     "text": [
      "MoviePy - Done.\n"
     ]
    },
    {
     "name": "stderr",
     "output_type": "stream",
     "text": [
      "                                                                \r\n",
      "chunk:  27%|██▋       | 19/70 [05:04<13:36, 16.00s/it, now=None]\n",
      "chunk:  21%|██▏       | 15/70 [04:08<15:09, 16.54s/it, now=None]\u001B[A"
     ]
    },
    {
     "name": "stdout",
     "output_type": "stream",
     "text": [
      "MoviePy - Writing audio in ../data/bagoflies/BagOfLies/audio\\.._data_bagoflies_BagOfLies_Finalised_User_24_run_6_video.wav\n"
     ]
    },
    {
     "name": "stderr",
     "output_type": "stream",
     "text": [
      "\n",
      "\n",
      "chunk:   0%|          | 0/70 [00:00<?, ?it/s, now=None]\u001B[A\u001B[A\n",
      "\n",
      "chunk:  54%|█████▍    | 38/70 [00:00<00:00, 367.71it/s, now=None]\u001B[A\u001B[A\n",
      "\n",
      "                                                                 \u001B[A\u001B[A\r\n",
      "chunk:  27%|██▋       | 19/70 [05:04<13:36, 16.01s/it, now=None]\n",
      "chunk:  21%|██▏       | 15/70 [04:08<15:10, 16.55s/it, now=None]\u001B[A"
     ]
    },
    {
     "name": "stdout",
     "output_type": "stream",
     "text": [
      "MoviePy - Done.\n"
     ]
    },
    {
     "name": "stderr",
     "output_type": "stream",
     "text": [
      "                                                                \r\n",
      "chunk:  27%|██▋       | 19/70 [05:04<13:38, 16.04s/it, now=None]\n",
      "chunk:  21%|██▏       | 15/70 [04:08<15:12, 16.59s/it, now=None]\u001B[A"
     ]
    },
    {
     "name": "stdout",
     "output_type": "stream",
     "text": [
      "MoviePy - Writing audio in ../data/bagoflies/BagOfLies/audio\\.._data_bagoflies_BagOfLies_Finalised_User_24_run_7_video.wav\n"
     ]
    },
    {
     "name": "stderr",
     "output_type": "stream",
     "text": [
      "\n",
      "\n",
      "chunk:   0%|          | 0/83 [00:00<?, ?it/s, now=None]\u001B[A\u001B[A\n",
      "\n",
      "chunk:  69%|██████▊   | 57/83 [00:00<00:00, 498.26it/s, now=None]\u001B[A\u001B[A\n",
      "\n",
      "                                                                 \u001B[A\u001B[A\r\n",
      "chunk:  27%|██▋       | 19/70 [05:04<13:38, 16.05s/it, now=None]\n",
      "chunk:  21%|██▏       | 15/70 [04:08<15:12, 16.60s/it, now=None]\u001B[A"
     ]
    },
    {
     "name": "stdout",
     "output_type": "stream",
     "text": [
      "MoviePy - Done.\n"
     ]
    },
    {
     "name": "stderr",
     "output_type": "stream",
     "text": [
      "                                                                \r\n",
      "chunk:  27%|██▋       | 19/70 [05:05<13:40, 16.08s/it, now=None]\n",
      "chunk:  21%|██▏       | 15/70 [04:09<15:15, 16.64s/it, now=None]\u001B[A"
     ]
    },
    {
     "name": "stdout",
     "output_type": "stream",
     "text": [
      "MoviePy - Writing audio in ../data/bagoflies/BagOfLies/audio\\.._data_bagoflies_BagOfLies_Finalised_User_24_run_8_video.wav\n"
     ]
    },
    {
     "name": "stderr",
     "output_type": "stream",
     "text": [
      "\n",
      "\n",
      "chunk:   0%|          | 0/72 [00:00<?, ?it/s, now=None]\u001B[A\u001B[A\n",
      "\n",
      "chunk:  79%|███████▉  | 57/72 [00:00<00:00, 514.00it/s, now=None]\u001B[A\u001B[A\n",
      "\n",
      "                                                                 \u001B[A\u001B[A\r\n",
      "chunk:  27%|██▋       | 19/70 [05:05<13:40, 16.09s/it, now=None]\n",
      "chunk:  21%|██▏       | 15/70 [04:09<15:15, 16.65s/it, now=None]\u001B[A"
     ]
    },
    {
     "name": "stdout",
     "output_type": "stream",
     "text": [
      "MoviePy - Done.\n"
     ]
    },
    {
     "name": "stderr",
     "output_type": "stream",
     "text": [
      "                                                                \r\n",
      "chunk:  27%|██▋       | 19/70 [05:06<13:42, 16.12s/it, now=None]\n",
      "chunk:  21%|██▏       | 15/70 [04:10<15:17, 16.69s/it, now=None]\u001B[A"
     ]
    },
    {
     "name": "stdout",
     "output_type": "stream",
     "text": [
      "MoviePy - Writing audio in ../data/bagoflies/BagOfLies/audio\\.._data_bagoflies_BagOfLies_Finalised_User_24_run_9_video.wav\n"
     ]
    },
    {
     "name": "stderr",
     "output_type": "stream",
     "text": [
      "\n",
      "\n",
      "chunk:   0%|          | 0/80 [00:00<?, ?it/s, now=None]\u001B[A\u001B[A\n",
      "\n",
      "chunk:  71%|███████▏  | 57/80 [00:00<00:00, 506.26it/s, now=None]\u001B[A\u001B[A\n",
      "\n",
      "                                                                 \u001B[A\u001B[A\r\n",
      "chunk:  27%|██▋       | 19/70 [05:06<13:42, 16.13s/it, now=None]\n",
      "chunk:  21%|██▏       | 15/70 [04:10<15:18, 16.70s/it, now=None]\u001B[A"
     ]
    },
    {
     "name": "stdout",
     "output_type": "stream",
     "text": [
      "MoviePy - Done.\n"
     ]
    },
    {
     "name": "stderr",
     "output_type": "stream",
     "text": [
      "                                                                \r\n",
      "chunk:  27%|██▋       | 19/70 [05:07<13:44, 16.16s/it, now=None]\n",
      "chunk:  21%|██▏       | 15/70 [04:11<15:20, 16.74s/it, now=None]\u001B[A"
     ]
    },
    {
     "name": "stdout",
     "output_type": "stream",
     "text": [
      "MoviePy - Writing audio in ../data/bagoflies/BagOfLies/audio\\.._data_bagoflies_BagOfLies_Finalised_User_25_run_0_video.wav\n"
     ]
    },
    {
     "name": "stderr",
     "output_type": "stream",
     "text": [
      "\n",
      "\n",
      "chunk:   0%|          | 0/251 [00:00<?, ?it/s, now=None]\u001B[A\u001B[A\n",
      "\n",
      "chunk:  26%|██▋       | 66/251 [00:00<00:00, 656.43it/s, now=None]\u001B[A\u001B[A\n",
      "\n",
      "chunk:  61%|██████    | 152/251 [00:00<00:00, 768.84it/s, now=None]\u001B[A\u001B[A\n",
      "\n",
      "                                                                   \u001B[A\u001B[A\r\n",
      "chunk:  27%|██▋       | 19/70 [05:07<13:45, 16.18s/it, now=None]\n",
      "chunk:  21%|██▏       | 15/70 [04:11<15:21, 16.76s/it, now=None]\u001B[A"
     ]
    },
    {
     "name": "stdout",
     "output_type": "stream",
     "text": [
      "MoviePy - Done.\n"
     ]
    },
    {
     "name": "stderr",
     "output_type": "stream",
     "text": [
      "                                                                \r\n",
      "chunk:  27%|██▋       | 19/70 [05:08<13:46, 16.21s/it, now=None]\n",
      "chunk:  21%|██▏       | 15/70 [04:12<15:24, 16.80s/it, now=None]\u001B[A"
     ]
    },
    {
     "name": "stdout",
     "output_type": "stream",
     "text": [
      "MoviePy - Writing audio in ../data/bagoflies/BagOfLies/audio\\.._data_bagoflies_BagOfLies_Finalised_User_25_run_1_video.wav\n"
     ]
    },
    {
     "name": "stderr",
     "output_type": "stream",
     "text": [
      "\n",
      "\n",
      "chunk:   0%|          | 0/151 [00:00<?, ?it/s, now=None]\u001B[A\u001B[A\n",
      "\n",
      "chunk:  38%|███▊      | 57/151 [00:00<00:00, 479.46it/s, now=None]\u001B[A\u001B[A\n",
      "\n",
      "chunk:  71%|███████   | 107/151 [00:00<00:00, 427.74it/s, now=None]\u001B[A\u001B[A\n",
      "\n",
      "                                                                   \u001B[A\u001B[A\r\n",
      "chunk:  27%|██▋       | 19/70 [05:08<13:47, 16.23s/it, now=None]\n",
      "chunk:  21%|██▏       | 15/70 [04:12<15:25, 16.82s/it, now=None]\u001B[A"
     ]
    },
    {
     "name": "stdout",
     "output_type": "stream",
     "text": [
      "MoviePy - Done.\n"
     ]
    },
    {
     "name": "stderr",
     "output_type": "stream",
     "text": [
      "                                                                \r\n",
      "chunk:  27%|██▋       | 19/70 [05:08<13:49, 16.26s/it, now=None]\n",
      "chunk:  21%|██▏       | 15/70 [04:12<15:27, 16.87s/it, now=None]\u001B[A"
     ]
    },
    {
     "name": "stdout",
     "output_type": "stream",
     "text": [
      "MoviePy - Writing audio in ../data/bagoflies/BagOfLies/audio\\.._data_bagoflies_BagOfLies_Finalised_User_25_run_2_video.wav\n"
     ]
    },
    {
     "name": "stderr",
     "output_type": "stream",
     "text": [
      "\n",
      "\n",
      "chunk:   0%|          | 0/155 [00:00<?, ?it/s, now=None]\u001B[A\u001B[A\n",
      "\n",
      "chunk:  37%|███▋      | 57/155 [00:00<00:00, 548.40it/s, now=None]\u001B[A\u001B[A\n",
      "\n",
      "chunk:  86%|████████▌ | 133/155 [00:00<00:00, 659.33it/s, now=None]\u001B[A\u001B[A\n",
      "\n",
      "                                                                   \u001B[A\u001B[A\r\n",
      "chunk:  27%|██▋       | 19/70 [05:09<13:50, 16.27s/it, now=None]\n",
      "chunk:  21%|██▏       | 15/70 [04:13<15:28, 16.88s/it, now=None]\u001B[A"
     ]
    },
    {
     "name": "stdout",
     "output_type": "stream",
     "text": [
      "MoviePy - Done.\n"
     ]
    },
    {
     "name": "stderr",
     "output_type": "stream",
     "text": [
      "                                                                \r\n",
      "chunk:  27%|██▋       | 19/70 [05:09<13:51, 16.31s/it, now=None]\n",
      "chunk:  21%|██▏       | 15/70 [04:13<15:30, 16.92s/it, now=None]\u001B[A"
     ]
    },
    {
     "name": "stdout",
     "output_type": "stream",
     "text": [
      "MoviePy - Writing audio in ../data/bagoflies/BagOfLies/audio\\.._data_bagoflies_BagOfLies_Finalised_User_25_run_3_video.wav\n"
     ]
    },
    {
     "name": "stderr",
     "output_type": "stream",
     "text": [
      "\n",
      "\n",
      "chunk:   0%|          | 0/104 [00:00<?, ?it/s, now=None]\u001B[A\u001B[A\n",
      "\n",
      "chunk:  55%|█████▍    | 57/104 [00:00<00:00, 511.55it/s, now=None]\u001B[A\u001B[A\n",
      "\n",
      "                                                                  \u001B[A\u001B[A\r\n",
      "chunk:  27%|██▋       | 19/70 [05:10<13:52, 16.32s/it, now=None]\n",
      "chunk:  21%|██▏       | 15/70 [04:14<15:31, 16.93s/it, now=None]\u001B[A"
     ]
    },
    {
     "name": "stdout",
     "output_type": "stream",
     "text": [
      "MoviePy - Done.\n"
     ]
    },
    {
     "name": "stderr",
     "output_type": "stream",
     "text": [
      "                                                                \r\n",
      "chunk:  27%|██▋       | 19/70 [05:10<13:53, 16.35s/it, now=None]\n",
      "chunk:  21%|██▏       | 15/70 [04:14<15:33, 16.97s/it, now=None]\u001B[A"
     ]
    },
    {
     "name": "stdout",
     "output_type": "stream",
     "text": [
      "MoviePy - Writing audio in ../data/bagoflies/BagOfLies/audio\\.._data_bagoflies_BagOfLies_Finalised_User_25_run_4_video.wav\n"
     ]
    },
    {
     "name": "stderr",
     "output_type": "stream",
     "text": [
      "\n",
      "\n",
      "chunk:   0%|          | 0/156 [00:00<?, ?it/s, now=None]\u001B[A\u001B[A\n",
      "\n",
      "chunk:  47%|████▋     | 74/156 [00:00<00:00, 732.99it/s, now=None]\u001B[A\u001B[A\n",
      "\n",
      "chunk:  97%|█████████▋| 152/156 [00:00<00:00, 714.51it/s, now=None]\u001B[A\u001B[A\n",
      "\n",
      "                                                                   \u001B[A\u001B[A\r\n",
      "chunk:  27%|██▋       | 19/70 [05:10<13:54, 16.36s/it, now=None]\n",
      "chunk:  21%|██▏       | 15/70 [04:14<15:34, 16.99s/it, now=None]\u001B[A"
     ]
    },
    {
     "name": "stdout",
     "output_type": "stream",
     "text": [
      "MoviePy - Done.\n"
     ]
    },
    {
     "name": "stderr",
     "output_type": "stream",
     "text": [
      "                                                                \r\n",
      "chunk:  27%|██▋       | 19/70 [05:11<13:56, 16.40s/it, now=None]\n",
      "chunk:  21%|██▏       | 15/70 [04:15<15:37, 17.04s/it, now=None]\u001B[A"
     ]
    },
    {
     "name": "stdout",
     "output_type": "stream",
     "text": [
      "MoviePy - Writing audio in ../data/bagoflies/BagOfLies/audio\\.._data_bagoflies_BagOfLies_Finalised_User_25_run_5_video.wav\n"
     ]
    },
    {
     "name": "stderr",
     "output_type": "stream",
     "text": [
      "\n",
      "\n",
      "chunk:   0%|          | 0/168 [00:00<?, ?it/s, now=None]\u001B[A\u001B[A\n",
      "\n",
      "chunk:  36%|███▌      | 60/168 [00:00<00:00, 598.08it/s, now=None]\u001B[A\u001B[A\n",
      "\n",
      "chunk:  90%|█████████ | 152/168 [00:00<00:00, 782.59it/s, now=None]\u001B[A\u001B[A\n",
      "\n",
      "                                                                   \u001B[A\u001B[A\r\n",
      "chunk:  27%|██▋       | 19/70 [05:11<13:57, 16.41s/it, now=None]\n",
      "chunk:  21%|██▏       | 15/70 [04:15<15:38, 17.06s/it, now=None]\u001B[A"
     ]
    },
    {
     "name": "stdout",
     "output_type": "stream",
     "text": [
      "MoviePy - Done.\n"
     ]
    },
    {
     "name": "stderr",
     "output_type": "stream",
     "text": [
      "                                                                \r\n",
      "chunk:  27%|██▋       | 19/70 [05:12<13:58, 16.45s/it, now=None]\n",
      "chunk:  21%|██▏       | 15/70 [04:16<15:40, 17.10s/it, now=None]\u001B[A"
     ]
    },
    {
     "name": "stdout",
     "output_type": "stream",
     "text": [
      "MoviePy - Writing audio in ../data/bagoflies/BagOfLies/audio\\.._data_bagoflies_BagOfLies_Finalised_User_25_run_6_video.wav\n"
     ]
    },
    {
     "name": "stderr",
     "output_type": "stream",
     "text": [
      "\n",
      "\n",
      "chunk:   0%|          | 0/130 [00:00<?, ?it/s, now=None]\u001B[A\u001B[A\n",
      "\n",
      "chunk:  49%|████▉     | 64/130 [00:00<00:00, 635.39it/s, now=None]\u001B[A\u001B[A\n",
      "\n",
      "                                                                  \u001B[A\u001B[A\r\n",
      "chunk:  27%|██▋       | 19/70 [05:12<13:59, 16.46s/it, now=None]\n",
      "chunk:  21%|██▏       | 15/70 [04:16<15:41, 17.12s/it, now=None]\u001B[A"
     ]
    },
    {
     "name": "stdout",
     "output_type": "stream",
     "text": [
      "MoviePy - Done.\n"
     ]
    },
    {
     "name": "stderr",
     "output_type": "stream",
     "text": [
      "                                                                \r\n",
      "chunk:  27%|██▋       | 19/70 [05:13<14:01, 16.49s/it, now=None]\n",
      "chunk:  21%|██▏       | 15/70 [04:17<15:43, 17.16s/it, now=None]\u001B[A"
     ]
    },
    {
     "name": "stdout",
     "output_type": "stream",
     "text": [
      "MoviePy - Writing audio in ../data/bagoflies/BagOfLies/audio\\.._data_bagoflies_BagOfLies_Finalised_User_25_run_7_video.wav\n"
     ]
    },
    {
     "name": "stderr",
     "output_type": "stream",
     "text": [
      "\n",
      "\n",
      "chunk:   0%|          | 0/134 [00:00<?, ?it/s, now=None]\u001B[A\u001B[A\n",
      "\n",
      "chunk:  49%|████▉     | 66/134 [00:00<00:00, 658.44it/s, now=None]\u001B[A\u001B[A\n",
      "\n",
      "                                                                  \u001B[A\u001B[A\r\n",
      "chunk:  27%|██▋       | 19/70 [05:13<14:01, 16.50s/it, now=None]\n",
      "chunk:  21%|██▏       | 15/70 [04:17<15:44, 17.17s/it, now=None]\u001B[A"
     ]
    },
    {
     "name": "stdout",
     "output_type": "stream",
     "text": [
      "MoviePy - Done.\n"
     ]
    },
    {
     "name": "stderr",
     "output_type": "stream",
     "text": [
      "                                                                \r\n",
      "chunk:  27%|██▋       | 19/70 [05:14<14:03, 16.54s/it, now=None]\n",
      "chunk:  21%|██▏       | 15/70 [04:18<15:46, 17.21s/it, now=None]\u001B[A"
     ]
    },
    {
     "name": "stdout",
     "output_type": "stream",
     "text": [
      "MoviePy - Writing audio in ../data/bagoflies/BagOfLies/audio\\.._data_bagoflies_BagOfLies_Finalised_User_25_run_8_video.wav\n"
     ]
    },
    {
     "name": "stderr",
     "output_type": "stream",
     "text": [
      "\n",
      "\n",
      "chunk:   0%|          | 0/150 [00:00<?, ?it/s, now=None]\u001B[A\u001B[A\n",
      "\n",
      "chunk:  38%|███▊      | 57/150 [00:00<00:00, 518.32it/s, now=None]\u001B[A\u001B[A\n",
      "\n",
      "chunk:  89%|████████▊ | 133/150 [00:00<00:00, 574.62it/s, now=None]\u001B[A\u001B[A\n",
      "\n",
      "                                                                   \u001B[A\u001B[A\r\n",
      "chunk:  27%|██▋       | 19/70 [05:14<14:03, 16.55s/it, now=None]\n",
      "chunk:  21%|██▏       | 15/70 [04:18<15:47, 17.23s/it, now=None]\u001B[A"
     ]
    },
    {
     "name": "stdout",
     "output_type": "stream",
     "text": [
      "MoviePy - Done.\n"
     ]
    },
    {
     "name": "stderr",
     "output_type": "stream",
     "text": [
      "                                                                \r\n",
      "chunk:  27%|██▋       | 19/70 [05:15<14:05, 16.58s/it, now=None]\n",
      "chunk:  21%|██▏       | 15/70 [04:19<15:49, 17.27s/it, now=None]\u001B[A"
     ]
    },
    {
     "name": "stdout",
     "output_type": "stream",
     "text": [
      "MoviePy - Writing audio in ../data/bagoflies/BagOfLies/audio\\.._data_bagoflies_BagOfLies_Finalised_User_25_run_9_video.wav\n"
     ]
    },
    {
     "name": "stderr",
     "output_type": "stream",
     "text": [
      "\n",
      "\n",
      "chunk:   0%|          | 0/162 [00:00<?, ?it/s, now=None]\u001B[A\u001B[A\n",
      "\n",
      "chunk:  23%|██▎       | 38/162 [00:00<00:00, 347.91it/s, now=None]\u001B[A\u001B[A\n",
      "\n",
      "chunk:  70%|██████▉   | 113/162 [00:00<00:00, 571.98it/s, now=None]\u001B[A\u001B[A\n",
      "\n",
      "                                                                   \u001B[A\u001B[A\r\n",
      "chunk:  27%|██▋       | 19/70 [05:15<14:06, 16.60s/it, now=None]\n",
      "chunk:  21%|██▏       | 15/70 [04:19<15:50, 17.29s/it, now=None]\u001B[A"
     ]
    },
    {
     "name": "stdout",
     "output_type": "stream",
     "text": [
      "MoviePy - Done.\n"
     ]
    },
    {
     "name": "stderr",
     "output_type": "stream",
     "text": [
      "                                                                \r\n",
      "chunk:  27%|██▋       | 19/70 [05:15<14:08, 16.63s/it, now=None]\n",
      "chunk:  21%|██▏       | 15/70 [04:19<15:53, 17.33s/it, now=None]\u001B[A"
     ]
    },
    {
     "name": "stdout",
     "output_type": "stream",
     "text": [
      "MoviePy - Writing audio in ../data/bagoflies/BagOfLies/audio\\.._data_bagoflies_BagOfLies_Finalised_User_26_run_0_video.wav\n"
     ]
    },
    {
     "name": "stderr",
     "output_type": "stream",
     "text": [
      "\n",
      "\n",
      "chunk:   0%|          | 0/219 [00:00<?, ?it/s, now=None]\u001B[A\u001B[A\n",
      "\n",
      "chunk:  32%|███▏      | 69/219 [00:00<00:00, 683.61it/s, now=None]\u001B[A\u001B[A\n",
      "\n",
      "chunk:  69%|██████▉   | 152/219 [00:00<00:00, 735.25it/s, now=None]\u001B[A\u001B[A\n",
      "\n",
      "                                                                   \u001B[A\u001B[A\r\n",
      "chunk:  27%|██▋       | 19/70 [05:16<14:08, 16.64s/it, now=None]\n",
      "chunk:  21%|██▏       | 15/70 [04:20<15:54, 17.35s/it, now=None]\u001B[A"
     ]
    },
    {
     "name": "stdout",
     "output_type": "stream",
     "text": [
      "MoviePy - Done.\n"
     ]
    },
    {
     "name": "stderr",
     "output_type": "stream",
     "text": [
      "                                                                \r\n",
      "chunk:  27%|██▋       | 19/70 [05:16<14:10, 16.68s/it, now=None]\n",
      "chunk:  21%|██▏       | 15/70 [04:20<15:56, 17.40s/it, now=None]\u001B[A"
     ]
    },
    {
     "name": "stdout",
     "output_type": "stream",
     "text": [
      "MoviePy - Writing audio in ../data/bagoflies/BagOfLies/audio\\.._data_bagoflies_BagOfLies_Finalised_User_26_run_1_video.wav\n"
     ]
    },
    {
     "name": "stderr",
     "output_type": "stream",
     "text": [
      "\n",
      "\n",
      "chunk:   0%|          | 0/160 [00:00<?, ?it/s, now=None]\u001B[A\u001B[A\n",
      "\n",
      "chunk:  24%|██▍       | 38/160 [00:00<00:00, 361.32it/s, now=None]\u001B[A\u001B[A\n",
      "\n",
      "                                                                  \u001B[A\u001B[A\r\n",
      "chunk:  27%|██▋       | 19/70 [05:17<14:11, 16.69s/it, now=None]\n",
      "chunk:  21%|██▏       | 15/70 [04:21<15:57, 17.41s/it, now=None]\u001B[A"
     ]
    },
    {
     "name": "stdout",
     "output_type": "stream",
     "text": [
      "MoviePy - Done.\n"
     ]
    },
    {
     "name": "stderr",
     "output_type": "stream",
     "text": [
      "                                                                \r\n",
      "chunk:  27%|██▋       | 19/70 [05:17<14:12, 16.73s/it, now=None]\n",
      "chunk:  21%|██▏       | 15/70 [04:21<15:59, 17.45s/it, now=None]\u001B[A"
     ]
    },
    {
     "name": "stdout",
     "output_type": "stream",
     "text": [
      "MoviePy - Writing audio in ../data/bagoflies/BagOfLies/audio\\.._data_bagoflies_BagOfLies_Finalised_User_26_run_2_video.wav\n"
     ]
    },
    {
     "name": "stderr",
     "output_type": "stream",
     "text": [
      "\n",
      "\n",
      "chunk:   0%|          | 0/252 [00:00<?, ?it/s, now=None]\u001B[A\u001B[A\n",
      "\n",
      "chunk:   8%|▊         | 20/252 [00:00<00:02, 81.53it/s, now=None]\u001B[A\u001B[A\n",
      "\n",
      "chunk:  15%|█▌        | 38/252 [00:00<00:01, 115.15it/s, now=None]\u001B[A\u001B[A\n",
      "\n",
      "chunk:  68%|██████▊   | 171/252 [00:00<00:00, 516.44it/s, now=None]\u001B[A\u001B[A\n",
      "\n",
      "                                                                   \u001B[A\u001B[A\r\n",
      "chunk:  27%|██▋       | 19/70 [05:18<14:14, 16.75s/it, now=None]\n",
      "chunk:  21%|██▏       | 15/70 [04:22<16:01, 17.49s/it, now=None]\u001B[A"
     ]
    },
    {
     "name": "stdout",
     "output_type": "stream",
     "text": [
      "MoviePy - Done.\n"
     ]
    },
    {
     "name": "stderr",
     "output_type": "stream",
     "text": [
      "                                                                \r\n",
      "chunk:  27%|██▋       | 19/70 [05:18<14:16, 16.79s/it, now=None]\n",
      "chunk:  21%|██▏       | 15/70 [04:22<16:04, 17.53s/it, now=None]\u001B[A"
     ]
    },
    {
     "name": "stdout",
     "output_type": "stream",
     "text": [
      "MoviePy - Writing audio in ../data/bagoflies/BagOfLies/audio\\.._data_bagoflies_BagOfLies_Finalised_User_26_run_3_video.wav\n"
     ]
    },
    {
     "name": "stderr",
     "output_type": "stream",
     "text": [
      "\n",
      "\n",
      "chunk:   0%|          | 0/203 [00:00<?, ?it/s, now=None]\u001B[A\u001B[A\n",
      "\n",
      "chunk:  38%|███▊      | 77/203 [00:00<00:00, 763.44it/s, now=None]\u001B[A\u001B[A\n",
      "\n",
      "chunk:  84%|████████▍ | 171/203 [00:00<00:00, 771.10it/s, now=None]\u001B[A\u001B[A\n",
      "\n",
      "                                                                   \u001B[A\u001B[A\r\n",
      "chunk:  27%|██▋       | 19/70 [05:19<14:16, 16.80s/it, now=None]\n",
      "chunk:  21%|██▏       | 15/70 [04:23<16:05, 17.55s/it, now=None]\u001B[A"
     ]
    },
    {
     "name": "stdout",
     "output_type": "stream",
     "text": [
      "MoviePy - Done.\n"
     ]
    },
    {
     "name": "stderr",
     "output_type": "stream",
     "text": [
      "                                                                \r\n",
      "chunk:  27%|██▋       | 19/70 [05:19<14:18, 16.83s/it, now=None]\n",
      "chunk:  21%|██▏       | 15/70 [04:23<16:07, 17.59s/it, now=None]\u001B[A"
     ]
    },
    {
     "name": "stdout",
     "output_type": "stream",
     "text": [
      "MoviePy - Writing audio in ../data/bagoflies/BagOfLies/audio\\.._data_bagoflies_BagOfLies_Finalised_User_26_run_4_video.wav\n"
     ]
    },
    {
     "name": "stderr",
     "output_type": "stream",
     "text": [
      "\n",
      "\n",
      "chunk:   0%|          | 0/280 [00:00<?, ?it/s, now=None]\u001B[A\u001B[A\n",
      "\n",
      "chunk:  20%|██        | 57/280 [00:00<00:00, 540.55it/s, now=None]\u001B[A\u001B[A\n",
      "\n",
      "chunk:  65%|██████▍   | 181/280 [00:00<00:00, 939.65it/s, now=None]\u001B[A\u001B[A\n",
      "\n",
      "                                                                   \u001B[A\u001B[A\r\n",
      "chunk:  27%|██▋       | 19/70 [05:20<14:19, 16.85s/it, now=None]\n",
      "chunk:  21%|██▏       | 15/70 [04:24<16:08, 17.61s/it, now=None]\u001B[A"
     ]
    },
    {
     "name": "stdout",
     "output_type": "stream",
     "text": [
      "MoviePy - Done.\n"
     ]
    },
    {
     "name": "stderr",
     "output_type": "stream",
     "text": [
      "                                                                \r\n",
      "chunk:  27%|██▋       | 19/70 [05:20<14:20, 16.88s/it, now=None]\n",
      "chunk:  21%|██▏       | 15/70 [04:24<16:10, 17.65s/it, now=None]\u001B[A"
     ]
    },
    {
     "name": "stdout",
     "output_type": "stream",
     "text": [
      "MoviePy - Writing audio in ../data/bagoflies/BagOfLies/audio\\.._data_bagoflies_BagOfLies_Finalised_User_26_run_5_video.wav\n"
     ]
    },
    {
     "name": "stderr",
     "output_type": "stream",
     "text": [
      "\n",
      "\n",
      "chunk:   0%|          | 0/237 [00:00<?, ?it/s, now=None]\u001B[A\u001B[A\n",
      "\n",
      "chunk:  16%|█▌        | 38/237 [00:00<00:00, 364.52it/s, now=None]\u001B[A\u001B[A\n",
      "\n",
      "chunk:  56%|█████▌    | 133/237 [00:00<00:00, 665.18it/s, now=None]\u001B[A\u001B[A\n",
      "\n",
      "chunk:  96%|█████████▌| 228/237 [00:00<00:00, 778.63it/s, now=None]\u001B[A\u001B[A\n",
      "\n",
      "                                                                   \u001B[A\u001B[A\r\n",
      "chunk:  27%|██▋       | 19/70 [05:21<14:21, 16.90s/it, now=None]\n",
      "chunk:  21%|██▏       | 15/70 [04:25<16:12, 17.67s/it, now=None]\u001B[A"
     ]
    },
    {
     "name": "stdout",
     "output_type": "stream",
     "text": [
      "MoviePy - Done.\n"
     ]
    },
    {
     "name": "stderr",
     "output_type": "stream",
     "text": [
      "                                                                \r\n",
      "chunk:  27%|██▋       | 19/70 [05:21<14:23, 16.93s/it, now=None]\n",
      "chunk:  21%|██▏       | 15/70 [04:25<16:14, 17.71s/it, now=None]\u001B[A"
     ]
    },
    {
     "name": "stdout",
     "output_type": "stream",
     "text": [
      "MoviePy - Writing audio in ../data/bagoflies/BagOfLies/audio\\.._data_bagoflies_BagOfLies_Finalised_User_26_run_6_video.wav\n"
     ]
    },
    {
     "name": "stderr",
     "output_type": "stream",
     "text": [
      "\n",
      "\n",
      "chunk:   0%|          | 0/266 [00:00<?, ?it/s, now=None]\u001B[A\u001B[A\n",
      "\n",
      "chunk:  20%|█▉        | 53/266 [00:00<00:00, 525.30it/s, now=None]\u001B[A\u001B[A\n",
      "\n",
      "chunk:  45%|████▌     | 120/266 [00:00<00:00, 606.70it/s, now=None]\u001B[A\u001B[A\n",
      "\n",
      "chunk:  79%|███████▊  | 209/266 [00:00<00:00, 688.38it/s, now=None]\u001B[A\u001B[A\n",
      "\n",
      "                                                                   \u001B[A\u001B[A\r\n",
      "chunk:  27%|██▋       | 19/70 [05:22<14:24, 16.95s/it, now=None]\n",
      "chunk:  21%|██▏       | 15/70 [04:26<16:15, 17.74s/it, now=None]\u001B[A"
     ]
    },
    {
     "name": "stdout",
     "output_type": "stream",
     "text": [
      "MoviePy - Done.\n"
     ]
    },
    {
     "name": "stderr",
     "output_type": "stream",
     "text": [
      "                                                                \r\n",
      "chunk:  27%|██▋       | 19/70 [05:22<14:26, 17.00s/it, now=None]\n",
      "chunk:  21%|██▏       | 15/70 [04:26<16:18, 17.80s/it, now=None]\u001B[A"
     ]
    },
    {
     "name": "stdout",
     "output_type": "stream",
     "text": [
      "MoviePy - Writing audio in ../data/bagoflies/BagOfLies/audio\\.._data_bagoflies_BagOfLies_Finalised_User_26_run_7_video.wav\n"
     ]
    },
    {
     "name": "stderr",
     "output_type": "stream",
     "text": [
      "\n",
      "\n",
      "chunk:   0%|          | 0/271 [00:00<?, ?it/s, now=None]\u001B[A\u001B[A\n",
      "\n",
      "chunk:  21%|██        | 57/271 [00:00<00:00, 542.85it/s, now=None]\u001B[A\u001B[A\n",
      "\n",
      "chunk:  56%|█████▌    | 152/271 [00:00<00:00, 714.21it/s, now=None]\u001B[A\u001B[A\n",
      "\n",
      "chunk:  83%|████████▎ | 224/271 [00:00<00:00, 629.68it/s, now=None]\u001B[A\u001B[A\n",
      "\n",
      "                                                                   \u001B[A\u001B[A\r\n",
      "chunk:  27%|██▋       | 19/70 [05:23<14:28, 17.02s/it, now=None]\n",
      "chunk:  21%|██▏       | 15/70 [04:27<16:20, 17.83s/it, now=None]\u001B[A"
     ]
    },
    {
     "name": "stdout",
     "output_type": "stream",
     "text": [
      "MoviePy - Done.\n"
     ]
    },
    {
     "name": "stderr",
     "output_type": "stream",
     "text": [
      "                                                                \r\n",
      "chunk:  27%|██▋       | 19/70 [05:24<14:29, 17.05s/it, now=None]\n",
      "chunk:  21%|██▏       | 15/70 [04:28<16:22, 17.87s/it, now=None]\u001B[A"
     ]
    },
    {
     "name": "stdout",
     "output_type": "stream",
     "text": [
      "MoviePy - Writing audio in ../data/bagoflies/BagOfLies/audio\\.._data_bagoflies_BagOfLies_Finalised_User_26_run_8_video.wav\n"
     ]
    },
    {
     "name": "stderr",
     "output_type": "stream",
     "text": [
      "\n",
      "\n",
      "chunk:   0%|          | 0/298 [00:00<?, ?it/s, now=None]\u001B[A\u001B[A\n",
      "\n",
      "chunk:  26%|██▌       | 76/298 [00:00<00:00, 662.03it/s, now=None]\u001B[A\u001B[A\n",
      "\n",
      "chunk:  57%|█████▋    | 171/298 [00:00<00:00, 817.20it/s, now=None]\u001B[A\u001B[A\n",
      "\n",
      "chunk:  89%|████████▉ | 266/298 [00:00<00:00, 875.66it/s, now=None]\u001B[A\u001B[A\n",
      "\n",
      "                                                                   \u001B[A\u001B[A\r\n",
      "chunk:  27%|██▋       | 19/70 [05:24<14:30, 17.07s/it, now=None]\n",
      "chunk:  21%|██▏       | 15/70 [04:28<16:24, 17.89s/it, now=None]\u001B[A"
     ]
    },
    {
     "name": "stdout",
     "output_type": "stream",
     "text": [
      "MoviePy - Done.\n"
     ]
    },
    {
     "name": "stderr",
     "output_type": "stream",
     "text": [
      "                                                                \r\n",
      "chunk:  27%|██▋       | 19/70 [05:25<14:32, 17.11s/it, now=None]\n",
      "chunk:  21%|██▏       | 15/70 [04:29<16:26, 17.93s/it, now=None]\u001B[A"
     ]
    },
    {
     "name": "stdout",
     "output_type": "stream",
     "text": [
      "MoviePy - Writing audio in ../data/bagoflies/BagOfLies/audio\\.._data_bagoflies_BagOfLies_Finalised_User_26_run_9_video.wav\n"
     ]
    },
    {
     "name": "stderr",
     "output_type": "stream",
     "text": [
      "\n",
      "\n",
      "chunk:   0%|          | 0/338 [00:00<?, ?it/s, now=None]\u001B[A\u001B[A\n",
      "\n",
      "chunk:  20%|█▉        | 66/338 [00:00<00:00, 657.15it/s, now=None]\u001B[A\u001B[A\n",
      "\n",
      "chunk:  47%|████▋     | 159/338 [00:00<00:00, 813.61it/s, now=None]\u001B[A\u001B[A\n",
      "\n",
      "chunk:  72%|███████▏  | 245/338 [00:00<00:00, 832.63it/s, now=None]\u001B[A\u001B[A\n",
      "\n",
      "chunk:  98%|█████████▊| 332/338 [00:00<00:00, 811.35it/s, now=None]\u001B[A\u001B[A\n",
      "\n",
      "                                                                   \u001B[A\u001B[A\r\n",
      "chunk:  27%|██▋       | 19/70 [05:25<14:33, 17.13s/it, now=None]\n",
      "chunk:  21%|██▏       | 15/70 [04:29<16:27, 17.96s/it, now=None]\u001B[A"
     ]
    },
    {
     "name": "stdout",
     "output_type": "stream",
     "text": [
      "MoviePy - Done.\n"
     ]
    },
    {
     "name": "stderr",
     "output_type": "stream",
     "text": [
      "                                                                \r\n",
      "chunk:  27%|██▋       | 19/70 [05:26<14:35, 17.16s/it, now=None]\n",
      "chunk:  21%|██▏       | 15/70 [04:30<16:30, 18.00s/it, now=None]\u001B[A"
     ]
    },
    {
     "name": "stdout",
     "output_type": "stream",
     "text": [
      "MoviePy - Writing audio in ../data/bagoflies/BagOfLies/audio\\.._data_bagoflies_BagOfLies_Finalised_User_27_run_0_video.wav\n"
     ]
    },
    {
     "name": "stderr",
     "output_type": "stream",
     "text": [
      "\n",
      "\n",
      "chunk:   0%|          | 0/167 [00:00<?, ?it/s, now=None]\u001B[A\u001B[A\n",
      "\n",
      "chunk:  23%|██▎       | 38/167 [00:00<00:00, 305.86it/s, now=None]\u001B[A\u001B[A\n",
      "\n",
      "chunk:  74%|███████▍  | 124/167 [00:00<00:00, 601.04it/s, now=None]\u001B[A\u001B[A\n",
      "\n",
      "                                                                   \u001B[A\u001B[A\r\n",
      "chunk:  27%|██▋       | 19/70 [05:26<14:36, 17.18s/it, now=None]\n",
      "chunk:  21%|██▏       | 15/70 [04:30<16:31, 18.02s/it, now=None]\u001B[A"
     ]
    },
    {
     "name": "stdout",
     "output_type": "stream",
     "text": [
      "MoviePy - Done.\n"
     ]
    },
    {
     "name": "stderr",
     "output_type": "stream",
     "text": [
      "                                                                \r\n",
      "chunk:  27%|██▋       | 19/70 [05:26<14:37, 17.21s/it, now=None]\n",
      "chunk:  21%|██▏       | 15/70 [04:30<16:33, 18.06s/it, now=None]\u001B[A"
     ]
    },
    {
     "name": "stdout",
     "output_type": "stream",
     "text": [
      "MoviePy - Writing audio in ../data/bagoflies/BagOfLies/audio\\.._data_bagoflies_BagOfLies_Finalised_User_27_run_1_video.wav\n"
     ]
    },
    {
     "name": "stderr",
     "output_type": "stream",
     "text": [
      "\n",
      "\n",
      "chunk:   0%|          | 0/108 [00:00<?, ?it/s, now=None]\u001B[A\u001B[A\n",
      "\n",
      "chunk:  60%|██████    | 65/108 [00:00<00:00, 647.62it/s, now=None]\u001B[A\u001B[A\n",
      "\n",
      "                                                                  \u001B[A\u001B[A\r\n",
      "chunk:  27%|██▋       | 19/70 [05:27<14:38, 17.22s/it, now=None]\n",
      "chunk:  21%|██▏       | 15/70 [04:31<16:34, 18.08s/it, now=None]\u001B[A"
     ]
    },
    {
     "name": "stdout",
     "output_type": "stream",
     "text": [
      "MoviePy - Done.\n"
     ]
    },
    {
     "name": "stderr",
     "output_type": "stream",
     "text": [
      "                                                                \r\n",
      "chunk:  27%|██▋       | 19/70 [05:27<14:39, 17.25s/it, now=None]\n",
      "chunk:  21%|██▏       | 15/70 [04:31<16:36, 18.12s/it, now=None]\u001B[A"
     ]
    },
    {
     "name": "stdout",
     "output_type": "stream",
     "text": [
      "MoviePy - Writing audio in ../data/bagoflies/BagOfLies/audio\\.._data_bagoflies_BagOfLies_Finalised_User_27_run_2_video.wav\n"
     ]
    },
    {
     "name": "stderr",
     "output_type": "stream",
     "text": [
      "\n",
      "\n",
      "chunk:   0%|          | 0/99 [00:00<?, ?it/s, now=None]\u001B[A\u001B[A\n",
      "\n",
      "chunk:  37%|███▋      | 37/99 [00:00<00:00, 101.10it/s, now=None]\u001B[A\u001B[A\n",
      "\n",
      "chunk: 100%|██████████| 99/99 [00:00<00:00, 246.73it/s, now=None]\u001B[A\u001B[A\n",
      "\n",
      "                                                                 \u001B[A\u001B[A\r\n",
      "chunk:  27%|██▋       | 19/70 [05:28<14:41, 17.28s/it, now=None]\n",
      "chunk:  21%|██▏       | 15/70 [04:32<16:38, 18.15s/it, now=None]\u001B[A"
     ]
    },
    {
     "name": "stdout",
     "output_type": "stream",
     "text": [
      "MoviePy - Done.\n"
     ]
    },
    {
     "name": "stderr",
     "output_type": "stream",
     "text": [
      "                                                                \r\n",
      "chunk:  27%|██▋       | 19/70 [05:28<14:42, 17.31s/it, now=None]\n",
      "chunk:  21%|██▏       | 15/70 [04:32<16:40, 18.20s/it, now=None]\u001B[A"
     ]
    },
    {
     "name": "stdout",
     "output_type": "stream",
     "text": [
      "MoviePy - Writing audio in ../data/bagoflies/BagOfLies/audio\\.._data_bagoflies_BagOfLies_Finalised_User_27_run_3_video.wav\n"
     ]
    },
    {
     "name": "stderr",
     "output_type": "stream",
     "text": [
      "\n",
      "\n",
      "chunk:   0%|          | 0/107 [00:00<?, ?it/s, now=None]\u001B[A\u001B[A\n",
      "\n",
      "chunk:  56%|█████▌    | 60/107 [00:00<00:00, 597.68it/s, now=None]\u001B[A\u001B[A\n",
      "\n",
      "                                                                  \u001B[A\u001B[A\r\n",
      "chunk:  27%|██▋       | 19/70 [05:29<14:43, 17.32s/it, now=None]\n",
      "chunk:  21%|██▏       | 15/70 [04:33<16:41, 18.21s/it, now=None]\u001B[A"
     ]
    },
    {
     "name": "stdout",
     "output_type": "stream",
     "text": [
      "MoviePy - Done.\n"
     ]
    },
    {
     "name": "stderr",
     "output_type": "stream",
     "text": [
      "                                                                \r\n",
      "chunk:  27%|██▋       | 19/70 [05:29<14:45, 17.35s/it, now=None]\n",
      "chunk:  21%|██▏       | 15/70 [04:33<16:43, 18.25s/it, now=None]\u001B[A"
     ]
    },
    {
     "name": "stdout",
     "output_type": "stream",
     "text": [
      "MoviePy - Writing audio in ../data/bagoflies/BagOfLies/audio\\.._data_bagoflies_BagOfLies_Finalised_User_27_run_4_video.wav\n"
     ]
    },
    {
     "name": "stderr",
     "output_type": "stream",
     "text": [
      "\n",
      "\n",
      "chunk:   0%|          | 0/92 [00:00<?, ?it/s, now=None]\u001B[A\u001B[A\n",
      "\n",
      "chunk:  62%|██████▏   | 57/92 [00:00<00:00, 569.74it/s, now=None]\u001B[A\u001B[A\n",
      "\n",
      "                                                                 \u001B[A\u001B[A\r\n",
      "chunk:  27%|██▋       | 19/70 [05:29<14:45, 17.36s/it, now=None]\n",
      "chunk:  21%|██▏       | 15/70 [04:33<16:44, 18.26s/it, now=None]\u001B[A"
     ]
    },
    {
     "name": "stdout",
     "output_type": "stream",
     "text": [
      "MoviePy - Done.\n"
     ]
    },
    {
     "name": "stderr",
     "output_type": "stream",
     "text": [
      "                                                                \r\n",
      "chunk:  27%|██▋       | 19/70 [05:30<14:47, 17.39s/it, now=None]\n",
      "chunk:  21%|██▏       | 15/70 [04:34<16:46, 18.30s/it, now=None]\u001B[A"
     ]
    },
    {
     "name": "stdout",
     "output_type": "stream",
     "text": [
      "MoviePy - Writing audio in ../data/bagoflies/BagOfLies/audio\\.._data_bagoflies_BagOfLies_Finalised_User_27_run_5_video.wav\n"
     ]
    },
    {
     "name": "stderr",
     "output_type": "stream",
     "text": [
      "\n",
      "\n",
      "chunk:   0%|          | 0/111 [00:00<?, ?it/s, now=None]\u001B[A\u001B[A\n",
      "\n",
      "chunk:  51%|█████▏    | 57/111 [00:00<00:00, 522.50it/s, now=None]\u001B[A\u001B[A\n",
      "\n",
      "                                                                  \u001B[A\u001B[A\r\n",
      "chunk:  27%|██▋       | 19/70 [05:30<14:47, 17.40s/it, now=None]\n",
      "chunk:  21%|██▏       | 15/70 [04:34<16:47, 18.31s/it, now=None]\u001B[A"
     ]
    },
    {
     "name": "stdout",
     "output_type": "stream",
     "text": [
      "MoviePy - Done.\n"
     ]
    },
    {
     "name": "stderr",
     "output_type": "stream",
     "text": [
      "                                                                \r\n",
      "chunk:  27%|██▋       | 19/70 [05:31<14:49, 17.43s/it, now=None]\n",
      "chunk:  21%|██▏       | 15/70 [04:35<16:49, 18.35s/it, now=None]\u001B[A"
     ]
    },
    {
     "name": "stdout",
     "output_type": "stream",
     "text": [
      "MoviePy - Writing audio in ../data/bagoflies/BagOfLies/audio\\.._data_bagoflies_BagOfLies_Finalised_User_27_run_6_video.wav\n"
     ]
    },
    {
     "name": "stderr",
     "output_type": "stream",
     "text": [
      "\n",
      "\n",
      "chunk:   0%|          | 0/84 [00:00<?, ?it/s, now=None]\u001B[A\u001B[A\n",
      "\n",
      "chunk:  68%|██████▊   | 57/84 [00:00<00:00, 517.23it/s, now=None]\u001B[A\u001B[A\n",
      "\n",
      "                                                                 \u001B[A\u001B[A\r\n",
      "chunk:  27%|██▋       | 19/70 [05:31<14:49, 17.44s/it, now=None]\n",
      "chunk:  21%|██▏       | 15/70 [04:35<16:49, 18.36s/it, now=None]\u001B[A"
     ]
    },
    {
     "name": "stdout",
     "output_type": "stream",
     "text": [
      "MoviePy - Done.\n"
     ]
    },
    {
     "name": "stderr",
     "output_type": "stream",
     "text": [
      "                                                                \r\n",
      "chunk:  27%|██▋       | 19/70 [05:32<14:51, 17.47s/it, now=None]\n",
      "chunk:  21%|██▏       | 15/70 [04:36<16:52, 18.40s/it, now=None]\u001B[A"
     ]
    },
    {
     "name": "stdout",
     "output_type": "stream",
     "text": [
      "MoviePy - Writing audio in ../data/bagoflies/BagOfLies/audio\\.._data_bagoflies_BagOfLies_Finalised_User_27_run_7_video.wav\n"
     ]
    },
    {
     "name": "stderr",
     "output_type": "stream",
     "text": [
      "\n",
      "\n",
      "chunk:   0%|          | 0/95 [00:00<?, ?it/s, now=None]\u001B[A\u001B[A\n",
      "\n",
      "chunk:  60%|██████    | 57/95 [00:00<00:00, 567.31it/s, now=None]\u001B[A\u001B[A\n",
      "\n",
      "                                                                 \u001B[A\u001B[A\r\n",
      "chunk:  27%|██▋       | 19/70 [05:32<14:51, 17.48s/it, now=None]\n",
      "chunk:  21%|██▏       | 15/70 [04:36<16:52, 18.41s/it, now=None]\u001B[A"
     ]
    },
    {
     "name": "stdout",
     "output_type": "stream",
     "text": [
      "MoviePy - Done.\n"
     ]
    },
    {
     "name": "stderr",
     "output_type": "stream",
     "text": [
      "                                                                \r\n",
      "chunk:  27%|██▋       | 19/70 [05:32<14:53, 17.52s/it, now=None]\n",
      "chunk:  21%|██▏       | 15/70 [04:36<16:54, 18.45s/it, now=None]\u001B[A"
     ]
    },
    {
     "name": "stdout",
     "output_type": "stream",
     "text": [
      "MoviePy - Writing audio in ../data/bagoflies/BagOfLies/audio\\.._data_bagoflies_BagOfLies_Finalised_User_27_run_8_video.wav\n"
     ]
    },
    {
     "name": "stderr",
     "output_type": "stream",
     "text": [
      "\n",
      "\n",
      "chunk:   0%|          | 0/90 [00:00<?, ?it/s, now=None]\u001B[A\u001B[A\n",
      "\n",
      "chunk:  63%|██████▎   | 57/90 [00:00<00:00, 487.19it/s, now=None]\u001B[A\u001B[A\n",
      "\n",
      "                                                                 \u001B[A\u001B[A\r\n",
      "chunk:  27%|██▋       | 19/70 [05:32<14:53, 17.52s/it, now=None]\n",
      "chunk:  21%|██▏       | 15/70 [04:36<16:55, 18.46s/it, now=None]\u001B[A"
     ]
    },
    {
     "name": "stdout",
     "output_type": "stream",
     "text": [
      "MoviePy - Done.\n"
     ]
    },
    {
     "name": "stderr",
     "output_type": "stream",
     "text": [
      "                                                                \r\n",
      "chunk:  27%|██▋       | 19/70 [05:33<14:56, 17.57s/it, now=None]\n",
      "chunk:  21%|██▏       | 15/70 [04:37<16:58, 18.52s/it, now=None]\u001B[A"
     ]
    },
    {
     "name": "stdout",
     "output_type": "stream",
     "text": [
      "MoviePy - Writing audio in ../data/bagoflies/BagOfLies/audio\\.._data_bagoflies_BagOfLies_Finalised_User_27_run_9_video.wav\n"
     ]
    },
    {
     "name": "stderr",
     "output_type": "stream",
     "text": [
      "\n",
      "\n",
      "chunk:   0%|          | 0/135 [00:00<?, ?it/s, now=None]\u001B[A\u001B[A\n",
      "\n",
      "chunk:  28%|██▊       | 38/135 [00:00<00:00, 339.08it/s, now=None]\u001B[A\u001B[A\n",
      "\n",
      "chunk: 100%|██████████| 135/135 [00:00<00:00, 688.14it/s, now=None]\u001B[A\u001B[A\n",
      "\n",
      "                                                                   \u001B[A\u001B[A\r\n",
      "chunk:  27%|██▋       | 19/70 [05:34<14:56, 17.58s/it, now=None]\n",
      "chunk:  21%|██▏       | 15/70 [04:38<16:59, 18.54s/it, now=None]\u001B[A"
     ]
    },
    {
     "name": "stdout",
     "output_type": "stream",
     "text": [
      "MoviePy - Done.\n"
     ]
    },
    {
     "name": "stderr",
     "output_type": "stream",
     "text": [
      "                                                                \r\n",
      "chunk:  27%|██▋       | 19/70 [05:34<14:58, 17.62s/it, now=None]\n",
      "chunk:  21%|██▏       | 15/70 [04:38<17:02, 18.59s/it, now=None]\u001B[A"
     ]
    },
    {
     "name": "stdout",
     "output_type": "stream",
     "text": [
      "MoviePy - Writing audio in ../data/bagoflies/BagOfLies/audio\\.._data_bagoflies_BagOfLies_Finalised_User_28_run_0_video.wav\n"
     ]
    },
    {
     "name": "stderr",
     "output_type": "stream",
     "text": [
      "\n",
      "\n",
      "chunk:   0%|          | 0/183 [00:00<?, ?it/s, now=None]\u001B[A\u001B[A\n",
      "\n",
      "chunk:  39%|███▉      | 71/183 [00:00<00:00, 704.32it/s, now=None]\u001B[A\u001B[A\n",
      "\n",
      "chunk:  96%|█████████▌| 176/183 [00:00<00:00, 906.20it/s, now=None]\u001B[A\u001B[A\n",
      "\n",
      "                                                                   \u001B[A\u001B[A\r\n",
      "chunk:  27%|██▋       | 19/70 [05:35<14:59, 17.63s/it, now=None]\n",
      "chunk:  21%|██▏       | 15/70 [04:39<17:03, 18.60s/it, now=None]\u001B[A"
     ]
    },
    {
     "name": "stdout",
     "output_type": "stream",
     "text": [
      "MoviePy - Done.\n"
     ]
    },
    {
     "name": "stderr",
     "output_type": "stream",
     "text": [
      "                                                                \r\n",
      "chunk:  27%|██▋       | 19/70 [05:35<15:00, 17.67s/it, now=None]\n",
      "chunk:  21%|██▏       | 15/70 [04:39<17:05, 18.64s/it, now=None]\u001B[A"
     ]
    },
    {
     "name": "stdout",
     "output_type": "stream",
     "text": [
      "MoviePy - Writing audio in ../data/bagoflies/BagOfLies/audio\\.._data_bagoflies_BagOfLies_Finalised_User_28_run_1_video.wav\n"
     ]
    },
    {
     "name": "stderr",
     "output_type": "stream",
     "text": [
      "\n",
      "\n",
      "chunk:   0%|          | 0/141 [00:00<?, ?it/s, now=None]\u001B[A\u001B[A\n",
      "\n",
      "chunk:  54%|█████▍    | 76/141 [00:00<00:00, 696.32it/s, now=None]\u001B[A\u001B[A\n",
      "\n",
      "                                                                  \u001B[A\u001B[A\r\n",
      "chunk:  27%|██▋       | 19/70 [05:35<15:01, 17.68s/it, now=None]\n",
      "chunk:  21%|██▏       | 15/70 [04:39<17:06, 18.66s/it, now=None]\u001B[A"
     ]
    },
    {
     "name": "stdout",
     "output_type": "stream",
     "text": [
      "MoviePy - Done.\n"
     ]
    },
    {
     "name": "stderr",
     "output_type": "stream",
     "text": [
      "                                                                \r\n",
      "chunk:  27%|██▋       | 19/70 [05:36<15:03, 17.71s/it, now=None]\n",
      "chunk:  21%|██▏       | 15/70 [04:40<17:08, 18.70s/it, now=None]\u001B[A"
     ]
    },
    {
     "name": "stdout",
     "output_type": "stream",
     "text": [
      "MoviePy - Writing audio in ../data/bagoflies/BagOfLies/audio\\.._data_bagoflies_BagOfLies_Finalised_User_28_run_2_video.wav\n"
     ]
    },
    {
     "name": "stderr",
     "output_type": "stream",
     "text": [
      "\n",
      "\n",
      "chunk:   0%|          | 0/235 [00:00<?, ?it/s, now=None]\u001B[A\u001B[A\n",
      "\n",
      "chunk:  32%|███▏      | 76/235 [00:00<00:00, 670.55it/s, now=None]\u001B[A\u001B[A\n",
      "\n",
      "chunk:  73%|███████▎  | 171/235 [00:00<00:00, 793.96it/s, now=None]\u001B[A\u001B[A\n",
      "\n",
      "                                                                   \u001B[A\u001B[A\r\n",
      "chunk:  27%|██▋       | 19/70 [05:36<15:03, 17.72s/it, now=None]\n",
      "chunk:  21%|██▏       | 15/70 [04:40<17:09, 18.72s/it, now=None]\u001B[A"
     ]
    },
    {
     "name": "stdout",
     "output_type": "stream",
     "text": [
      "MoviePy - Done.\n"
     ]
    },
    {
     "name": "stderr",
     "output_type": "stream",
     "text": [
      "                                                                \r\n",
      "chunk:  27%|██▋       | 19/70 [05:37<15:05, 17.75s/it, now=None]\n",
      "chunk:  21%|██▏       | 15/70 [04:41<17:11, 18.75s/it, now=None]\u001B[A"
     ]
    },
    {
     "name": "stdout",
     "output_type": "stream",
     "text": [
      "MoviePy - Writing audio in ../data/bagoflies/BagOfLies/audio\\.._data_bagoflies_BagOfLies_Finalised_User_28_run_3_video.wav\n"
     ]
    },
    {
     "name": "stderr",
     "output_type": "stream",
     "text": [
      "\n",
      "\n",
      "chunk:   0%|          | 0/217 [00:00<?, ?it/s, now=None]\u001B[A\u001B[A\n",
      "\n",
      "chunk:  35%|███▌      | 76/217 [00:00<00:00, 645.71it/s, now=None]\u001B[A\u001B[A\n",
      "\n",
      "chunk:  79%|███████▉  | 171/217 [00:00<00:00, 776.91it/s, now=None]\u001B[A\u001B[A\n",
      "\n",
      "                                                                   \u001B[A\u001B[A\r\n",
      "chunk:  27%|██▋       | 19/70 [05:37<15:06, 17.77s/it, now=None]\n",
      "chunk:  21%|██▏       | 15/70 [04:41<17:12, 18.77s/it, now=None]\u001B[A"
     ]
    },
    {
     "name": "stdout",
     "output_type": "stream",
     "text": [
      "MoviePy - Done.\n"
     ]
    },
    {
     "name": "stderr",
     "output_type": "stream",
     "text": [
      "                                                                \r\n",
      "chunk:  27%|██▋       | 19/70 [05:38<15:07, 17.80s/it, now=None]\n",
      "chunk:  21%|██▏       | 15/70 [04:42<17:14, 18.81s/it, now=None]\u001B[A"
     ]
    },
    {
     "name": "stdout",
     "output_type": "stream",
     "text": [
      "MoviePy - Writing audio in ../data/bagoflies/BagOfLies/audio\\.._data_bagoflies_BagOfLies_Finalised_User_28_run_4_video.wav\n"
     ]
    },
    {
     "name": "stderr",
     "output_type": "stream",
     "text": [
      "\n",
      "\n",
      "chunk:   0%|          | 0/199 [00:00<?, ?it/s, now=None]\u001B[A\u001B[A\n",
      "\n",
      "chunk:  30%|██▉       | 59/199 [00:00<00:00, 586.67it/s, now=None]\u001B[A\u001B[A\n",
      "\n",
      "chunk:  60%|██████    | 120/199 [00:00<00:00, 552.04it/s, now=None]\u001B[A\u001B[A\n",
      "\n",
      "                                                                   \u001B[A\u001B[A\r\n",
      "chunk:  27%|██▋       | 19/70 [05:38<15:08, 17.82s/it, now=None]\n",
      "chunk:  21%|██▏       | 15/70 [04:42<17:15, 18.83s/it, now=None]\u001B[A"
     ]
    },
    {
     "name": "stdout",
     "output_type": "stream",
     "text": [
      "MoviePy - Done.\n"
     ]
    },
    {
     "name": "stderr",
     "output_type": "stream",
     "text": [
      "                                                                \r\n",
      "chunk:  27%|██▋       | 19/70 [05:39<15:10, 17.85s/it, now=None]\n",
      "chunk:  21%|██▏       | 15/70 [04:43<17:17, 18.87s/it, now=None]\u001B[A"
     ]
    },
    {
     "name": "stdout",
     "output_type": "stream",
     "text": [
      "MoviePy - Writing audio in ../data/bagoflies/BagOfLies/audio\\.._data_bagoflies_BagOfLies_Finalised_User_28_run_5_video.wav\n"
     ]
    },
    {
     "name": "stderr",
     "output_type": "stream",
     "text": [
      "\n",
      "\n",
      "chunk:   0%|          | 0/207 [00:00<?, ?it/s, now=None]\u001B[A\u001B[A\n",
      "\n",
      "chunk:  37%|███▋      | 76/207 [00:00<00:00, 649.75it/s, now=None]\u001B[A\u001B[A\n",
      "\n",
      "chunk:  70%|██████▉   | 144/207 [00:00<00:00, 157.33it/s, now=None]\u001B[A\u001B[A\n",
      "\n",
      "                                                                   \u001B[A\u001B[A\r\n",
      "chunk:  27%|██▋       | 19/70 [05:39<15:12, 17.89s/it, now=None]\n",
      "chunk:  21%|██▏       | 15/70 [04:43<17:21, 18.93s/it, now=None]\u001B[A"
     ]
    },
    {
     "name": "stdout",
     "output_type": "stream",
     "text": [
      "MoviePy - Done.\n"
     ]
    },
    {
     "name": "stderr",
     "output_type": "stream",
     "text": [
      "                                                                \r\n",
      "chunk:  27%|██▋       | 19/70 [05:40<15:14, 17.92s/it, now=None]\n",
      "chunk:  21%|██▏       | 15/70 [04:44<17:23, 18.97s/it, now=None]\u001B[A"
     ]
    },
    {
     "name": "stdout",
     "output_type": "stream",
     "text": [
      "MoviePy - Writing audio in ../data/bagoflies/BagOfLies/audio\\.._data_bagoflies_BagOfLies_Finalised_User_28_run_6_video.wav\n"
     ]
    },
    {
     "name": "stderr",
     "output_type": "stream",
     "text": [
      "\n",
      "\n",
      "chunk:   0%|          | 0/173 [00:00<?, ?it/s, now=None]\u001B[A\u001B[A\n",
      "\n",
      "chunk:  35%|███▌      | 61/173 [00:00<00:00, 609.98it/s, now=None]\u001B[A\u001B[A\n",
      "\n",
      "chunk:  90%|█████████ | 156/173 [00:00<00:00, 806.63it/s, now=None]\u001B[A\u001B[A\n",
      "\n",
      "                                                                   \u001B[A\u001B[A\r\n",
      "chunk:  27%|██▋       | 19/70 [05:40<15:14, 17.94s/it, now=None]\n",
      "chunk:  21%|██▏       | 15/70 [04:44<17:24, 18.99s/it, now=None]\u001B[A"
     ]
    },
    {
     "name": "stdout",
     "output_type": "stream",
     "text": [
      "MoviePy - Done.\n"
     ]
    },
    {
     "name": "stderr",
     "output_type": "stream",
     "text": [
      "                                                                \r\n",
      "chunk:  27%|██▋       | 19/70 [05:41<15:16, 17.97s/it, now=None]\n",
      "chunk:  21%|██▏       | 15/70 [04:45<17:26, 19.02s/it, now=None]\u001B[A"
     ]
    },
    {
     "name": "stdout",
     "output_type": "stream",
     "text": [
      "MoviePy - Writing audio in ../data/bagoflies/BagOfLies/audio\\.._data_bagoflies_BagOfLies_Finalised_User_28_run_7_video.wav\n"
     ]
    },
    {
     "name": "stderr",
     "output_type": "stream",
     "text": [
      "\n",
      "\n",
      "chunk:   0%|          | 0/231 [00:00<?, ?it/s, now=None]\u001B[A\u001B[A\n",
      "\n",
      "chunk:  28%|██▊       | 64/231 [00:00<00:00, 638.61it/s, now=None]\u001B[A\u001B[A\n",
      "\n",
      "chunk:  66%|██████▌   | 152/231 [00:00<00:00, 753.53it/s, now=None]\u001B[A\u001B[A\n",
      "\n",
      "                                                                   \u001B[A\u001B[A\r\n",
      "chunk:  27%|██▋       | 19/70 [05:41<15:17, 17.98s/it, now=None]\n",
      "chunk:  21%|██▏       | 15/70 [04:45<17:27, 19.04s/it, now=None]\u001B[A"
     ]
    },
    {
     "name": "stdout",
     "output_type": "stream",
     "text": [
      "MoviePy - Done.\n"
     ]
    },
    {
     "name": "stderr",
     "output_type": "stream",
     "text": [
      "                                                                \r\n",
      "chunk:  27%|██▋       | 19/70 [05:42<15:18, 18.01s/it, now=None]\n",
      "chunk:  21%|██▏       | 15/70 [04:46<17:29, 19.08s/it, now=None]\u001B[A"
     ]
    },
    {
     "name": "stdout",
     "output_type": "stream",
     "text": [
      "MoviePy - Writing audio in ../data/bagoflies/BagOfLies/audio\\.._data_bagoflies_BagOfLies_Finalised_User_28_run_8_video.wav\n"
     ]
    },
    {
     "name": "stderr",
     "output_type": "stream",
     "text": [
      "\n",
      "\n",
      "chunk:   0%|          | 0/269 [00:00<?, ?it/s, now=None]\u001B[A\u001B[A\n",
      "\n",
      "chunk:  22%|██▏       | 59/269 [00:00<00:00, 589.20it/s, now=None]\u001B[A\u001B[A\n",
      "\n",
      "chunk:  60%|██████    | 162/269 [00:00<00:00, 843.55it/s, now=None]\u001B[A\u001B[A\n",
      "\n",
      "                                                                   \u001B[A\u001B[A\r\n",
      "chunk:  27%|██▋       | 19/70 [05:42<15:19, 18.03s/it, now=None]\n",
      "chunk:  21%|██▏       | 15/70 [04:46<17:30, 19.10s/it, now=None]\u001B[A"
     ]
    },
    {
     "name": "stdout",
     "output_type": "stream",
     "text": [
      "MoviePy - Done.\n"
     ]
    },
    {
     "name": "stderr",
     "output_type": "stream",
     "text": [
      "                                                                \r\n",
      "chunk:  27%|██▋       | 19/70 [05:43<15:20, 18.06s/it, now=None]\n",
      "chunk:  21%|██▏       | 15/70 [04:47<17:32, 19.14s/it, now=None]\u001B[A"
     ]
    },
    {
     "name": "stdout",
     "output_type": "stream",
     "text": [
      "MoviePy - Writing audio in ../data/bagoflies/BagOfLies/audio\\.._data_bagoflies_BagOfLies_Finalised_User_28_run_9_video.wav\n"
     ]
    },
    {
     "name": "stderr",
     "output_type": "stream",
     "text": [
      "\n",
      "\n",
      "chunk:   0%|          | 0/196 [00:00<?, ?it/s, now=None]\u001B[A\u001B[A\n",
      "\n",
      "chunk:  39%|███▉      | 76/196 [00:00<00:00, 686.01it/s, now=None]\u001B[A\u001B[A\n",
      "\n",
      "chunk:  85%|████████▍ | 166/196 [00:00<00:00, 803.30it/s, now=None]\u001B[A\u001B[A\n",
      "\n",
      "                                                                   \u001B[A\u001B[A\r\n",
      "chunk:  27%|██▋       | 19/70 [05:43<15:21, 18.07s/it, now=None]\n",
      "chunk:  21%|██▏       | 15/70 [04:47<17:33, 19.16s/it, now=None]\u001B[A"
     ]
    },
    {
     "name": "stdout",
     "output_type": "stream",
     "text": [
      "MoviePy - Done.\n"
     ]
    },
    {
     "name": "stderr",
     "output_type": "stream",
     "text": [
      "                                                                \r\n",
      "chunk:  27%|██▋       | 19/70 [05:43<15:23, 18.10s/it, now=None]\n",
      "chunk:  21%|██▏       | 15/70 [04:47<17:35, 19.20s/it, now=None]\u001B[A"
     ]
    },
    {
     "name": "stdout",
     "output_type": "stream",
     "text": [
      "MoviePy - Writing audio in ../data/bagoflies/BagOfLies/audio\\.._data_bagoflies_BagOfLies_Finalised_User_29_run_0_video.wav\n"
     ]
    },
    {
     "name": "stderr",
     "output_type": "stream",
     "text": [
      "\n",
      "\n",
      "chunk:   0%|          | 0/127 [00:00<?, ?it/s, now=None]\u001B[A\u001B[A\n",
      "\n",
      "chunk:  60%|█████▉    | 76/127 [00:00<00:00, 673.41it/s, now=None]\u001B[A\u001B[A\n",
      "\n",
      "                                                                  \u001B[A\u001B[A\r\n",
      "chunk:  27%|██▋       | 19/70 [05:44<15:23, 18.11s/it, now=None]\n",
      "chunk:  21%|██▏       | 15/70 [04:48<17:36, 19.21s/it, now=None]\u001B[A"
     ]
    },
    {
     "name": "stdout",
     "output_type": "stream",
     "text": [
      "MoviePy - Done.\n"
     ]
    },
    {
     "name": "stderr",
     "output_type": "stream",
     "text": [
      "                                                                \r\n",
      "chunk:  27%|██▋       | 19/70 [05:44<15:25, 18.14s/it, now=None]\n",
      "chunk:  21%|██▏       | 15/70 [04:48<17:38, 19.25s/it, now=None]\u001B[A"
     ]
    },
    {
     "name": "stdout",
     "output_type": "stream",
     "text": [
      "MoviePy - Writing audio in ../data/bagoflies/BagOfLies/audio\\.._data_bagoflies_BagOfLies_Finalised_User_29_run_1_video.wav\n"
     ]
    },
    {
     "name": "stderr",
     "output_type": "stream",
     "text": [
      "\n",
      "\n",
      "chunk:   0%|          | 0/161 [00:00<?, ?it/s, now=None]\u001B[A\u001B[A\n",
      "\n",
      "chunk:  35%|███▌      | 57/161 [00:00<00:00, 568.52it/s, now=None]\u001B[A\u001B[A\n",
      "\n",
      "                                                                  \u001B[A\u001B[A\r\n",
      "chunk:  27%|██▋       | 19/70 [05:44<15:25, 18.15s/it, now=None]\n",
      "chunk:  21%|██▏       | 15/70 [04:48<17:39, 19.26s/it, now=None]\u001B[A"
     ]
    },
    {
     "name": "stdout",
     "output_type": "stream",
     "text": [
      "MoviePy - Done.\n"
     ]
    },
    {
     "name": "stderr",
     "output_type": "stream",
     "text": [
      "                                                                \r\n",
      "chunk:  27%|██▋       | 19/70 [05:45<15:27, 18.18s/it, now=None]\n",
      "chunk:  21%|██▏       | 15/70 [04:49<17:41, 19.30s/it, now=None]\u001B[A"
     ]
    },
    {
     "name": "stdout",
     "output_type": "stream",
     "text": [
      "MoviePy - Writing audio in ../data/bagoflies/BagOfLies/audio\\.._data_bagoflies_BagOfLies_Finalised_User_29_run_2_video.wav\n"
     ]
    },
    {
     "name": "stderr",
     "output_type": "stream",
     "text": [
      "\n",
      "\n",
      "chunk:   0%|          | 0/142 [00:00<?, ?it/s, now=None]\u001B[A\u001B[A\n",
      "\n",
      "chunk:  51%|█████     | 72/142 [00:00<00:00, 709.35it/s, now=None]\u001B[A\u001B[A\n",
      "\n",
      "                                                                  \u001B[A\u001B[A\r\n",
      "chunk:  27%|██▋       | 19/70 [05:45<15:27, 18.19s/it, now=None]\n",
      "chunk:  21%|██▏       | 15/70 [04:49<17:42, 19.31s/it, now=None]\u001B[A"
     ]
    },
    {
     "name": "stdout",
     "output_type": "stream",
     "text": [
      "MoviePy - Done.\n"
     ]
    },
    {
     "name": "stderr",
     "output_type": "stream",
     "text": [
      "                                                                \r\n",
      "chunk:  27%|██▋       | 19/70 [05:46<15:29, 18.22s/it, now=None]\n",
      "chunk:  21%|██▏       | 15/70 [04:50<17:44, 19.35s/it, now=None]\u001B[A"
     ]
    },
    {
     "name": "stdout",
     "output_type": "stream",
     "text": [
      "MoviePy - Writing audio in ../data/bagoflies/BagOfLies/audio\\.._data_bagoflies_BagOfLies_Finalised_User_29_run_3_video.wav\n"
     ]
    },
    {
     "name": "stderr",
     "output_type": "stream",
     "text": [
      "\n",
      "\n",
      "chunk:   0%|          | 0/171 [00:00<?, ?it/s, now=None]\u001B[A\u001B[A\n",
      "\n",
      "chunk:  44%|████▍     | 76/171 [00:00<00:00, 643.58it/s, now=None]\u001B[A\u001B[A\n",
      "\n",
      "chunk:  83%|████████▎ | 142/171 [00:00<00:00, 153.06it/s, now=None]\u001B[A\u001B[A\n",
      "\n",
      "                                                                   \u001B[A\u001B[A\r\n",
      "chunk:  27%|██▋       | 19/70 [05:47<15:31, 18.27s/it, now=None]\n",
      "chunk:  21%|██▏       | 15/70 [04:51<17:47, 19.41s/it, now=None]\u001B[A"
     ]
    },
    {
     "name": "stdout",
     "output_type": "stream",
     "text": [
      "MoviePy - Done.\n"
     ]
    },
    {
     "name": "stderr",
     "output_type": "stream",
     "text": [
      "                                                                \r\n",
      "chunk:  27%|██▋       | 19/70 [05:47<15:33, 18.30s/it, now=None]\n",
      "chunk:  21%|██▏       | 15/70 [04:51<17:49, 19.45s/it, now=None]\u001B[A"
     ]
    },
    {
     "name": "stdout",
     "output_type": "stream",
     "text": [
      "MoviePy - Writing audio in ../data/bagoflies/BagOfLies/audio\\.._data_bagoflies_BagOfLies_Finalised_User_29_run_4_video.wav\n"
     ]
    },
    {
     "name": "stderr",
     "output_type": "stream",
     "text": [
      "\n",
      "\n",
      "chunk:   0%|          | 0/145 [00:00<?, ?it/s, now=None]\u001B[A\u001B[A\n",
      "\n",
      "chunk:  39%|███▉      | 57/145 [00:00<00:00, 123.09it/s, now=None]\u001B[A\u001B[A\n",
      "\n",
      "                                                                  \u001B[A\u001B[A\r\n",
      "chunk:  27%|██▋       | 19/70 [05:48<15:34, 18.33s/it, now=None]\n",
      "chunk:  21%|██▏       | 15/70 [04:52<17:51, 19.48s/it, now=None]\u001B[A"
     ]
    },
    {
     "name": "stdout",
     "output_type": "stream",
     "text": [
      "MoviePy - Done.\n"
     ]
    },
    {
     "name": "stderr",
     "output_type": "stream",
     "text": [
      "                                                                \r\n",
      "chunk:  27%|██▋       | 19/70 [05:48<15:36, 18.36s/it, now=None]\n",
      "chunk:  21%|██▏       | 15/70 [04:52<17:53, 19.52s/it, now=None]\u001B[A"
     ]
    },
    {
     "name": "stdout",
     "output_type": "stream",
     "text": [
      "MoviePy - Writing audio in ../data/bagoflies/BagOfLies/audio\\.._data_bagoflies_BagOfLies_Finalised_User_29_run_5_video.wav\n"
     ]
    },
    {
     "name": "stderr",
     "output_type": "stream",
     "text": [
      "\n",
      "\n",
      "chunk:   0%|          | 0/204 [00:00<?, ?it/s, now=None]\u001B[A\u001B[A\n",
      "\n",
      "chunk:  37%|███▋      | 76/204 [00:00<00:00, 634.58it/s, now=None]\u001B[A\u001B[A\n",
      "\n",
      "chunk:  84%|████████▍ | 171/204 [00:00<00:00, 734.73it/s, now=None]\u001B[A\u001B[A\n",
      "\n",
      "                                                                   \u001B[A\u001B[A\r\n",
      "chunk:  27%|██▋       | 19/70 [05:49<15:37, 18.38s/it, now=None]\n",
      "chunk:  21%|██▏       | 15/70 [04:53<17:54, 19.54s/it, now=None]\u001B[A"
     ]
    },
    {
     "name": "stdout",
     "output_type": "stream",
     "text": [
      "MoviePy - Done.\n"
     ]
    },
    {
     "name": "stderr",
     "output_type": "stream",
     "text": [
      "                                                                \r\n",
      "chunk:  27%|██▋       | 19/70 [05:49<15:38, 18.41s/it, now=None]\n",
      "chunk:  21%|██▏       | 15/70 [04:53<17:56, 19.58s/it, now=None]\u001B[A"
     ]
    },
    {
     "name": "stdout",
     "output_type": "stream",
     "text": [
      "MoviePy - Writing audio in ../data/bagoflies/BagOfLies/audio\\.._data_bagoflies_BagOfLies_Finalised_User_29_run_6_video.wav\n"
     ]
    },
    {
     "name": "stderr",
     "output_type": "stream",
     "text": [
      "\n",
      "\n",
      "chunk:   0%|          | 0/129 [00:00<?, ?it/s, now=None]\u001B[A\u001B[A\n",
      "\n",
      "chunk:  57%|█████▋    | 74/129 [00:00<00:00, 736.16it/s, now=None]\u001B[A\u001B[A\n",
      "\n",
      "                                                                  \u001B[A\u001B[A\r\n",
      "chunk:  27%|██▋       | 19/70 [05:49<15:39, 18.42s/it, now=None]\n",
      "chunk:  21%|██▏       | 15/70 [04:53<17:57, 19.59s/it, now=None]\u001B[A"
     ]
    },
    {
     "name": "stdout",
     "output_type": "stream",
     "text": [
      "MoviePy - Done.\n"
     ]
    },
    {
     "name": "stderr",
     "output_type": "stream",
     "text": [
      "                                                                \r\n",
      "chunk:  27%|██▋       | 19/70 [05:50<15:41, 18.45s/it, now=None]\n",
      "chunk:  21%|██▏       | 15/70 [04:54<18:00, 19.64s/it, now=None]\u001B[A"
     ]
    },
    {
     "name": "stdout",
     "output_type": "stream",
     "text": [
      "MoviePy - Writing audio in ../data/bagoflies/BagOfLies/audio\\.._data_bagoflies_BagOfLies_Finalised_User_29_run_7_video.wav\n"
     ]
    },
    {
     "name": "stderr",
     "output_type": "stream",
     "text": [
      "\n",
      "\n",
      "chunk:   0%|          | 0/198 [00:00<?, ?it/s, now=None]\u001B[A\u001B[A\n",
      "\n",
      "chunk:  29%|██▉       | 57/198 [00:00<00:00, 537.68it/s, now=None]\u001B[A\u001B[A\n",
      "\n",
      "chunk:  77%|███████▋  | 152/198 [00:00<00:00, 702.46it/s, now=None]\u001B[A\u001B[A\n",
      "\n",
      "                                                                   \u001B[A\u001B[A\r\n",
      "chunk:  27%|██▋       | 19/70 [05:50<15:41, 18.47s/it, now=None]\n",
      "chunk:  21%|██▏       | 15/70 [04:54<18:01, 19.66s/it, now=None]\u001B[A"
     ]
    },
    {
     "name": "stdout",
     "output_type": "stream",
     "text": [
      "MoviePy - Done.\n"
     ]
    },
    {
     "name": "stderr",
     "output_type": "stream",
     "text": [
      "                                                                \r\n",
      "chunk:  27%|██▋       | 19/70 [05:51<15:43, 18.50s/it, now=None]\n",
      "chunk:  21%|██▏       | 15/70 [04:55<18:03, 19.69s/it, now=None]\u001B[A"
     ]
    },
    {
     "name": "stdout",
     "output_type": "stream",
     "text": [
      "MoviePy - Writing audio in ../data/bagoflies/BagOfLies/audio\\.._data_bagoflies_BagOfLies_Finalised_User_29_run_8_video.wav\n"
     ]
    },
    {
     "name": "stderr",
     "output_type": "stream",
     "text": [
      "\n",
      "\n",
      "chunk:   0%|          | 0/215 [00:00<?, ?it/s, now=None]\u001B[A\u001B[A\n",
      "\n",
      "chunk:  27%|██▋       | 57/215 [00:00<00:00, 559.09it/s, now=None]\u001B[A\u001B[A\n",
      "\n",
      "chunk:  71%|███████   | 152/215 [00:00<00:00, 728.62it/s, now=None]\u001B[A\u001B[A\n",
      "\n",
      "                                                                   \u001B[A\u001B[A\r\n",
      "chunk:  27%|██▋       | 19/70 [05:51<15:44, 18.51s/it, now=None]\n",
      "chunk:  21%|██▏       | 15/70 [04:55<18:04, 19.71s/it, now=None]\u001B[A"
     ]
    },
    {
     "name": "stdout",
     "output_type": "stream",
     "text": [
      "MoviePy - Done.\n"
     ]
    },
    {
     "name": "stderr",
     "output_type": "stream",
     "text": [
      "                                                                \r\n",
      "chunk:  27%|██▋       | 19/70 [05:52<15:46, 18.56s/it, now=None]\n",
      "chunk:  21%|██▏       | 15/70 [04:56<18:07, 19.77s/it, now=None]\u001B[A"
     ]
    },
    {
     "name": "stdout",
     "output_type": "stream",
     "text": [
      "MoviePy - Writing audio in ../data/bagoflies/BagOfLies/audio\\.._data_bagoflies_BagOfLies_Finalised_User_29_run_9_video.wav\n"
     ]
    },
    {
     "name": "stderr",
     "output_type": "stream",
     "text": [
      "\n",
      "\n",
      "chunk:   0%|          | 0/174 [00:00<?, ?it/s, now=None]\u001B[A\u001B[A\n",
      "\n",
      "chunk:  33%|███▎      | 57/174 [00:00<00:00, 558.87it/s, now=None]\u001B[A\u001B[A\n",
      "\n",
      "chunk:  79%|███████▊  | 137/174 [00:00<00:00, 695.13it/s, now=None]\u001B[A\u001B[A\n",
      "\n",
      "                                                                   \u001B[A\u001B[A\r\n",
      "chunk:  27%|██▋       | 19/70 [05:52<15:47, 18.57s/it, now=None]\n",
      "chunk:  21%|██▏       | 15/70 [04:56<18:08, 19.79s/it, now=None]\u001B[A"
     ]
    },
    {
     "name": "stdout",
     "output_type": "stream",
     "text": [
      "MoviePy - Done.\n"
     ]
    },
    {
     "name": "stderr",
     "output_type": "stream",
     "text": [
      "                                                                \r\n",
      "chunk:  27%|██▋       | 19/70 [05:53<15:48, 18.60s/it, now=None]\n",
      "chunk:  21%|██▏       | 15/70 [04:57<18:10, 19.83s/it, now=None]\u001B[A"
     ]
    },
    {
     "name": "stdout",
     "output_type": "stream",
     "text": [
      "MoviePy - Writing audio in ../data/bagoflies/BagOfLies/audio\\.._data_bagoflies_BagOfLies_Finalised_User_30_run_0_video.wav\n"
     ]
    },
    {
     "name": "stderr",
     "output_type": "stream",
     "text": [
      "\n",
      "\n",
      "chunk:   0%|          | 0/72 [00:00<?, ?it/s, now=None]\u001B[A\u001B[A\n",
      "\n",
      "chunk:  90%|█████████ | 65/72 [00:00<00:00, 646.19it/s, now=None]\u001B[A\u001B[A\n",
      "\n",
      "                                                                 \u001B[A\u001B[A\r\n",
      "chunk:  27%|██▋       | 19/70 [05:53<15:49, 18.61s/it, now=None]\n",
      "chunk:  21%|██▏       | 15/70 [04:57<18:11, 19.84s/it, now=None]\u001B[A"
     ]
    },
    {
     "name": "stdout",
     "output_type": "stream",
     "text": [
      "MoviePy - Done.\n"
     ]
    },
    {
     "name": "stderr",
     "output_type": "stream",
     "text": [
      "                                                                \r\n",
      "chunk:  27%|██▋       | 19/70 [05:54<15:50, 18.64s/it, now=None]\n",
      "chunk:  21%|██▏       | 15/70 [04:58<18:13, 19.88s/it, now=None]\u001B[A"
     ]
    },
    {
     "name": "stdout",
     "output_type": "stream",
     "text": [
      "MoviePy - Writing audio in ../data/bagoflies/BagOfLies/audio\\.._data_bagoflies_BagOfLies_Finalised_User_30_run_1_video.wav\n"
     ]
    },
    {
     "name": "stderr",
     "output_type": "stream",
     "text": [
      "\n",
      "\n",
      "chunk:   0%|          | 0/83 [00:00<?, ?it/s, now=None]\u001B[A\u001B[A\n",
      "\n",
      "chunk:  69%|██████▊   | 57/83 [00:00<00:00, 558.67it/s, now=None]\u001B[A\u001B[A\n",
      "\n",
      "                                                                 \u001B[A\u001B[A\r\n",
      "chunk:  27%|██▋       | 19/70 [05:54<15:50, 18.65s/it, now=None]\n",
      "chunk:  21%|██▏       | 15/70 [04:58<18:13, 19.89s/it, now=None]\u001B[A"
     ]
    },
    {
     "name": "stdout",
     "output_type": "stream",
     "text": [
      "MoviePy - Done.\n"
     ]
    },
    {
     "name": "stderr",
     "output_type": "stream",
     "text": [
      "                                                                \r\n",
      "chunk:  27%|██▋       | 19/70 [05:54<15:52, 18.68s/it, now=None]\n",
      "chunk:  21%|██▏       | 15/70 [04:58<18:15, 19.93s/it, now=None]\u001B[A"
     ]
    },
    {
     "name": "stdout",
     "output_type": "stream",
     "text": [
      "MoviePy - Writing audio in ../data/bagoflies/BagOfLies/audio\\.._data_bagoflies_BagOfLies_Finalised_User_30_run_2_video.wav\n"
     ]
    },
    {
     "name": "stderr",
     "output_type": "stream",
     "text": [
      "\n",
      "\n",
      "chunk:   0%|          | 0/68 [00:00<?, ?it/s, now=None]\u001B[A\u001B[A\n",
      "\n",
      "                                                                \r\n",
      "chunk:  27%|██▋       | 19/70 [05:55<15:52, 18.68s/it, now=None]\n",
      "chunk:  21%|██▏       | 15/70 [04:59<18:16, 19.93s/it, now=None]\u001B[A"
     ]
    },
    {
     "name": "stdout",
     "output_type": "stream",
     "text": [
      "MoviePy - Done.\n"
     ]
    },
    {
     "name": "stderr",
     "output_type": "stream",
     "text": [
      "                                                                \r\n",
      "chunk:  27%|██▋       | 19/70 [05:55<15:54, 18.71s/it, now=None]\n",
      "chunk:  21%|██▏       | 15/70 [04:59<18:18, 19.97s/it, now=None]\u001B[A"
     ]
    },
    {
     "name": "stdout",
     "output_type": "stream",
     "text": [
      "MoviePy - Writing audio in ../data/bagoflies/BagOfLies/audio\\.._data_bagoflies_BagOfLies_Finalised_User_30_run_3_video.wav\n"
     ]
    },
    {
     "name": "stderr",
     "output_type": "stream",
     "text": [
      "\n",
      "\n",
      "chunk:   0%|          | 0/95 [00:00<?, ?it/s, now=None]\u001B[A\u001B[A\n",
      "\n",
      "chunk:  40%|████      | 38/95 [00:00<00:00, 259.34it/s, now=None]\u001B[A\u001B[A\n",
      "\n",
      "                                                                 \u001B[A\u001B[A\r\n",
      "chunk:  27%|██▋       | 19/70 [05:55<15:54, 18.73s/it, now=None]\n",
      "chunk:  21%|██▏       | 15/70 [04:59<18:19, 19.99s/it, now=None]\u001B[A"
     ]
    },
    {
     "name": "stdout",
     "output_type": "stream",
     "text": [
      "MoviePy - Done.\n"
     ]
    },
    {
     "name": "stderr",
     "output_type": "stream",
     "text": [
      "                                                                \r\n",
      "chunk:  27%|██▋       | 19/70 [05:56<15:56, 18.76s/it, now=None]\n",
      "chunk:  21%|██▏       | 15/70 [05:00<18:21, 20.03s/it, now=None]\u001B[A"
     ]
    },
    {
     "name": "stdout",
     "output_type": "stream",
     "text": [
      "MoviePy - Writing audio in ../data/bagoflies/BagOfLies/audio\\.._data_bagoflies_BagOfLies_Finalised_User_30_run_4_video.wav\n"
     ]
    },
    {
     "name": "stderr",
     "output_type": "stream",
     "text": [
      "\n",
      "\n",
      "chunk:   0%|          | 0/64 [00:00<?, ?it/s, now=None]\u001B[A\u001B[A\n",
      "\n",
      "                                                                \r\n",
      "chunk:  27%|██▋       | 19/70 [05:56<15:56, 18.76s/it, now=None]\n",
      "chunk:  21%|██▏       | 15/70 [05:00<18:21, 20.03s/it, now=None]\u001B[A"
     ]
    },
    {
     "name": "stdout",
     "output_type": "stream",
     "text": [
      "MoviePy - Done.\n"
     ]
    },
    {
     "name": "stderr",
     "output_type": "stream",
     "text": [
      "                                                                \r\n",
      "chunk:  27%|██▋       | 19/70 [05:57<15:58, 18.80s/it, now=None]\n",
      "chunk:  21%|██▏       | 15/70 [05:01<18:24, 20.07s/it, now=None]\u001B[A"
     ]
    },
    {
     "name": "stdout",
     "output_type": "stream",
     "text": [
      "MoviePy - Writing audio in ../data/bagoflies/BagOfLies/audio\\.._data_bagoflies_BagOfLies_Finalised_User_30_run_5_video.wav\n"
     ]
    },
    {
     "name": "stderr",
     "output_type": "stream",
     "text": [
      "\n",
      "\n",
      "chunk:   0%|          | 0/86 [00:00<?, ?it/s, now=None]\u001B[A\u001B[A\n",
      "\n",
      "chunk:  66%|██████▋   | 57/86 [00:00<00:00, 515.80it/s, now=None]\u001B[A\u001B[A\n",
      "\n",
      "                                                                 \u001B[A\u001B[A\r\n",
      "chunk:  27%|██▋       | 19/70 [05:57<15:58, 18.80s/it, now=None]\n",
      "chunk:  21%|██▏       | 15/70 [05:01<18:24, 20.08s/it, now=None]\u001B[A"
     ]
    },
    {
     "name": "stdout",
     "output_type": "stream",
     "text": [
      "MoviePy - Done.\n"
     ]
    },
    {
     "name": "stderr",
     "output_type": "stream",
     "text": [
      "                                                                \r\n",
      "chunk:  27%|██▋       | 19/70 [05:57<16:00, 18.84s/it, now=None]\n",
      "chunk:  21%|██▏       | 15/70 [05:01<18:26, 20.13s/it, now=None]\u001B[A"
     ]
    },
    {
     "name": "stdout",
     "output_type": "stream",
     "text": [
      "MoviePy - Writing audio in ../data/bagoflies/BagOfLies/audio\\.._data_bagoflies_BagOfLies_Finalised_User_30_run_6_video.wav\n"
     ]
    },
    {
     "name": "stderr",
     "output_type": "stream",
     "text": [
      "\n",
      "\n",
      "chunk:   0%|          | 0/91 [00:00<?, ?it/s, now=None]\u001B[A\u001B[A\n",
      "\n",
      "chunk:  63%|██████▎   | 57/91 [00:00<00:00, 530.40it/s, now=None]\u001B[A\u001B[A\n",
      "\n",
      "                                                                 \u001B[A\u001B[A\r\n",
      "chunk:  27%|██▋       | 19/70 [05:58<16:01, 18.85s/it, now=None]\n",
      "chunk:  21%|██▏       | 15/70 [05:02<18:27, 20.14s/it, now=None]\u001B[A"
     ]
    },
    {
     "name": "stdout",
     "output_type": "stream",
     "text": [
      "MoviePy - Done.\n"
     ]
    },
    {
     "name": "stderr",
     "output_type": "stream",
     "text": [
      "                                                                \r\n",
      "chunk:  27%|██▋       | 19/70 [05:58<16:02, 18.88s/it, now=None]\n",
      "chunk:  21%|██▏       | 15/70 [05:02<18:29, 20.18s/it, now=None]\u001B[A"
     ]
    },
    {
     "name": "stdout",
     "output_type": "stream",
     "text": [
      "MoviePy - Writing audio in ../data/bagoflies/BagOfLies/audio\\.._data_bagoflies_BagOfLies_Finalised_User_30_run_7_video.wav\n"
     ]
    },
    {
     "name": "stderr",
     "output_type": "stream",
     "text": [
      "\n",
      "\n",
      "chunk:   0%|          | 0/83 [00:00<?, ?it/s, now=None]\u001B[A\u001B[A\n",
      "\n",
      "chunk:  46%|████▌     | 38/83 [00:00<00:00, 181.87it/s, now=None]\u001B[A\u001B[A\n",
      "\n",
      "                                                                 \u001B[A\u001B[A\r\n",
      "chunk:  27%|██▋       | 19/70 [05:58<16:03, 18.89s/it, now=None]\n",
      "chunk:  21%|██▏       | 15/70 [05:02<18:30, 20.19s/it, now=None]\u001B[A"
     ]
    },
    {
     "name": "stdout",
     "output_type": "stream",
     "text": [
      "MoviePy - Done.\n"
     ]
    },
    {
     "name": "stderr",
     "output_type": "stream",
     "text": [
      "                                                                \r\n",
      "chunk:  27%|██▋       | 19/70 [05:59<16:04, 18.92s/it, now=None]\n",
      "chunk:  21%|██▏       | 15/70 [05:03<18:32, 20.23s/it, now=None]\u001B[A"
     ]
    },
    {
     "name": "stdout",
     "output_type": "stream",
     "text": [
      "MoviePy - Writing audio in ../data/bagoflies/BagOfLies/audio\\.._data_bagoflies_BagOfLies_Finalised_User_30_run_8_video.wav\n"
     ]
    },
    {
     "name": "stderr",
     "output_type": "stream",
     "text": [
      "\n",
      "\n",
      "chunk:   0%|          | 0/115 [00:00<?, ?it/s, now=None]\u001B[A\u001B[A\n",
      "\n",
      "chunk:  50%|████▉     | 57/115 [00:00<00:00, 518.89it/s, now=None]\u001B[A\u001B[A\n",
      "\n",
      "                                                                  \u001B[A\u001B[A\r\n",
      "chunk:  27%|██▋       | 19/70 [05:59<16:05, 18.93s/it, now=None]\n",
      "chunk:  21%|██▏       | 15/70 [05:03<18:33, 20.24s/it, now=None]\u001B[A"
     ]
    },
    {
     "name": "stdout",
     "output_type": "stream",
     "text": [
      "MoviePy - Done.\n"
     ]
    },
    {
     "name": "stderr",
     "output_type": "stream",
     "text": [
      "                                                                \r\n",
      "chunk:  27%|██▋       | 19/70 [06:00<16:07, 18.96s/it, now=None]\n",
      "chunk:  21%|██▏       | 15/70 [05:04<18:35, 20.28s/it, now=None]\u001B[A"
     ]
    },
    {
     "name": "stdout",
     "output_type": "stream",
     "text": [
      "MoviePy - Writing audio in ../data/bagoflies/BagOfLies/audio\\.._data_bagoflies_BagOfLies_Finalised_User_30_run_9_video.wav\n"
     ]
    },
    {
     "name": "stderr",
     "output_type": "stream",
     "text": [
      "\n",
      "\n",
      "chunk:   0%|          | 0/100 [00:00<?, ?it/s, now=None]\u001B[A\u001B[A\n",
      "\n",
      "chunk:  38%|███▊      | 38/100 [00:00<00:00, 354.95it/s, now=None]\u001B[A\u001B[A\n",
      "\n",
      "                                                                  \u001B[A\u001B[A\r\n",
      "chunk:  27%|██▋       | 19/70 [06:00<16:07, 18.97s/it, now=None]\n",
      "chunk:  21%|██▏       | 15/70 [05:04<18:36, 20.30s/it, now=None]\u001B[A"
     ]
    },
    {
     "name": "stdout",
     "output_type": "stream",
     "text": [
      "MoviePy - Done.\n"
     ]
    },
    {
     "name": "stderr",
     "output_type": "stream",
     "text": [
      "                                                                \r\n",
      "chunk:  27%|██▋       | 19/70 [06:00<16:08, 18.99s/it, now=None]\n",
      "chunk:  21%|██▏       | 15/70 [05:04<18:37, 20.32s/it, now=None]\u001B[A"
     ]
    },
    {
     "name": "stdout",
     "output_type": "stream",
     "text": [
      "MoviePy - Writing audio in ../data/bagoflies/BagOfLies/audio\\.._data_bagoflies_BagOfLies_Finalised_User_31_run_0_video.wav\n"
     ]
    },
    {
     "name": "stderr",
     "output_type": "stream",
     "text": [
      "\n",
      "\n",
      "chunk:   0%|          | 0/72 [00:00<?, ?it/s, now=None]\u001B[A\u001B[A\n",
      "\n",
      "                                                                \r\n",
      "chunk:  27%|██▋       | 19/70 [06:00<16:08, 18.99s/it, now=None]\n",
      "chunk:  21%|██▏       | 15/70 [05:04<18:37, 20.32s/it, now=None]\u001B[A"
     ]
    },
    {
     "name": "stdout",
     "output_type": "stream",
     "text": [
      "MoviePy - Done.\n"
     ]
    },
    {
     "name": "stderr",
     "output_type": "stream",
     "text": [
      "                                                                \r\n",
      "chunk:  27%|██▋       | 19/70 [06:01<16:09, 19.00s/it, now=None]\n",
      "chunk:  21%|██▏       | 15/70 [05:05<18:38, 20.34s/it, now=None]\u001B[A"
     ]
    },
    {
     "name": "stdout",
     "output_type": "stream",
     "text": [
      "MoviePy - Writing audio in ../data/bagoflies/BagOfLies/audio\\.._data_bagoflies_BagOfLies_Finalised_User_31_run_1_video.wav\n"
     ]
    },
    {
     "name": "stderr",
     "output_type": "stream",
     "text": [
      "\n",
      "\n",
      "chunk:   0%|          | 0/70 [00:00<?, ?it/s, now=None]\u001B[A\u001B[A\n",
      "\n",
      "                                                                \r\n",
      "chunk:  27%|██▋       | 19/70 [06:01<16:09, 19.01s/it, now=None]\n",
      "chunk:  21%|██▏       | 15/70 [05:05<18:39, 20.35s/it, now=None]\u001B[A"
     ]
    },
    {
     "name": "stdout",
     "output_type": "stream",
     "text": [
      "MoviePy - Done.\n"
     ]
    },
    {
     "name": "stderr",
     "output_type": "stream",
     "text": [
      "                                                                \r\n",
      "chunk:  27%|██▋       | 19/70 [06:01<16:10, 19.04s/it, now=None]\n",
      "chunk:  21%|██▏       | 15/70 [05:05<18:40, 20.38s/it, now=None]\u001B[A"
     ]
    },
    {
     "name": "stdout",
     "output_type": "stream",
     "text": [
      "MoviePy - Writing audio in ../data/bagoflies/BagOfLies/audio\\.._data_bagoflies_BagOfLies_Finalised_User_31_run_2_video.wav\n"
     ]
    },
    {
     "name": "stderr",
     "output_type": "stream",
     "text": [
      "\n",
      "\n",
      "chunk:   0%|          | 0/86 [00:00<?, ?it/s, now=None]\u001B[A\u001B[A\n",
      "\n",
      "                                                                \r\n",
      "chunk:  27%|██▋       | 19/70 [06:01<16:11, 19.04s/it, now=None]\n",
      "chunk:  21%|██▏       | 15/70 [05:05<18:41, 20.39s/it, now=None]\u001B[A"
     ]
    },
    {
     "name": "stdout",
     "output_type": "stream",
     "text": [
      "MoviePy - Done.\n"
     ]
    },
    {
     "name": "stderr",
     "output_type": "stream",
     "text": [
      "                                                                \r\n",
      "chunk:  27%|██▋       | 19/70 [06:02<16:11, 19.06s/it, now=None]\n",
      "chunk:  21%|██▏       | 15/70 [05:06<18:42, 20.40s/it, now=None]\u001B[A"
     ]
    },
    {
     "name": "stdout",
     "output_type": "stream",
     "text": [
      "MoviePy - Writing audio in ../data/bagoflies/BagOfLies/audio\\.._data_bagoflies_BagOfLies_Finalised_User_31_run_3_video.wav\n"
     ]
    },
    {
     "name": "stderr",
     "output_type": "stream",
     "text": [
      "\n",
      "\n",
      "chunk:   0%|          | 0/85 [00:00<?, ?it/s, now=None]\u001B[A\u001B[A\n",
      "\n",
      "                                                                \r\n",
      "chunk:  27%|██▋       | 19/70 [06:02<16:12, 19.06s/it, now=None]\n",
      "chunk:  21%|██▏       | 15/70 [05:06<18:42, 20.41s/it, now=None]\u001B[A"
     ]
    },
    {
     "name": "stdout",
     "output_type": "stream",
     "text": [
      "MoviePy - Done.\n"
     ]
    },
    {
     "name": "stderr",
     "output_type": "stream",
     "text": [
      "                                                                \r\n",
      "chunk:  27%|██▋       | 19/70 [06:02<16:12, 19.08s/it, now=None]\n",
      "chunk:  21%|██▏       | 15/70 [05:06<18:43, 20.43s/it, now=None]\u001B[A"
     ]
    },
    {
     "name": "stdout",
     "output_type": "stream",
     "text": [
      "MoviePy - Writing audio in ../data/bagoflies/BagOfLies/audio\\.._data_bagoflies_BagOfLies_Finalised_User_31_run_4_video.wav\n"
     ]
    },
    {
     "name": "stderr",
     "output_type": "stream",
     "text": [
      "\n",
      "\n",
      "chunk:   0%|          | 0/89 [00:00<?, ?it/s, now=None]\u001B[A\u001B[A\n",
      "\n",
      "                                                                \r\n",
      "chunk:  27%|██▋       | 19/70 [06:02<16:13, 19.08s/it, now=None]\n",
      "chunk:  21%|██▏       | 15/70 [05:06<18:44, 20.44s/it, now=None]\u001B[A"
     ]
    },
    {
     "name": "stdout",
     "output_type": "stream",
     "text": [
      "MoviePy - Done.\n"
     ]
    },
    {
     "name": "stderr",
     "output_type": "stream",
     "text": [
      "                                                                \r\n",
      "chunk:  27%|██▋       | 19/70 [06:02<16:13, 19.10s/it, now=None]\n",
      "chunk:  21%|██▏       | 15/70 [05:06<18:45, 20.46s/it, now=None]\u001B[A"
     ]
    },
    {
     "name": "stdout",
     "output_type": "stream",
     "text": [
      "MoviePy - Writing audio in ../data/bagoflies/BagOfLies/audio\\.._data_bagoflies_BagOfLies_Finalised_User_31_run_5_video.wav\n"
     ]
    },
    {
     "name": "stderr",
     "output_type": "stream",
     "text": [
      "\n",
      "\n",
      "chunk:   0%|          | 0/68 [00:00<?, ?it/s, now=None]\u001B[A\u001B[A\n",
      "\n",
      "                                                                \r\n",
      "chunk:  27%|██▋       | 19/70 [06:02<16:14, 19.10s/it, now=None]\n",
      "chunk:  21%|██▏       | 15/70 [05:06<18:45, 20.46s/it, now=None]\u001B[A"
     ]
    },
    {
     "name": "stdout",
     "output_type": "stream",
     "text": [
      "MoviePy - Done.\n"
     ]
    },
    {
     "name": "stderr",
     "output_type": "stream",
     "text": [
      "                                                                \r\n",
      "chunk:  27%|██▋       | 19/70 [06:03<16:14, 19.12s/it, now=None]\n",
      "chunk:  21%|██▏       | 15/70 [05:07<18:46, 20.48s/it, now=None]\u001B[A"
     ]
    },
    {
     "name": "stdout",
     "output_type": "stream",
     "text": [
      "MoviePy - Writing audio in ../data/bagoflies/BagOfLies/audio\\.._data_bagoflies_BagOfLies_Finalised_User_31_run_6_video.wav\n"
     ]
    },
    {
     "name": "stderr",
     "output_type": "stream",
     "text": [
      "\n",
      "\n",
      "chunk:   0%|          | 0/76 [00:00<?, ?it/s, now=None]\u001B[A\u001B[A\n",
      "\n",
      "                                                                \r\n",
      "chunk:  27%|██▋       | 19/70 [06:03<16:15, 19.12s/it, now=None]\n",
      "chunk:  21%|██▏       | 15/70 [05:07<18:46, 20.49s/it, now=None]\u001B[A"
     ]
    },
    {
     "name": "stdout",
     "output_type": "stream",
     "text": [
      "MoviePy - Done.\n"
     ]
    },
    {
     "name": "stderr",
     "output_type": "stream",
     "text": [
      "                                                                \r\n",
      "chunk:  27%|██▋       | 19/70 [06:03<16:15, 19.14s/it, now=None]\n",
      "chunk:  21%|██▏       | 15/70 [05:07<18:47, 20.51s/it, now=None]\u001B[A"
     ]
    },
    {
     "name": "stdout",
     "output_type": "stream",
     "text": [
      "MoviePy - Writing audio in ../data/bagoflies/BagOfLies/audio\\.._data_bagoflies_BagOfLies_Finalised_User_31_run_7_video.wav\n"
     ]
    },
    {
     "name": "stderr",
     "output_type": "stream",
     "text": [
      "\n",
      "\n",
      "chunk:   0%|          | 0/92 [00:00<?, ?it/s, now=None]\u001B[A\u001B[A\n",
      "\n",
      "                                                                \r\n",
      "chunk:  27%|██▋       | 19/70 [06:03<16:16, 19.14s/it, now=None]\n",
      "chunk:  21%|██▏       | 15/70 [05:07<18:48, 20.51s/it, now=None]\u001B[A"
     ]
    },
    {
     "name": "stdout",
     "output_type": "stream",
     "text": [
      "MoviePy - Done.\n"
     ]
    },
    {
     "name": "stderr",
     "output_type": "stream",
     "text": [
      "                                                                \r\n",
      "chunk:  27%|██▋       | 19/70 [06:03<16:16, 19.16s/it, now=None]\n",
      "chunk:  21%|██▏       | 15/70 [05:07<18:49, 20.53s/it, now=None]\u001B[A"
     ]
    },
    {
     "name": "stdout",
     "output_type": "stream",
     "text": [
      "MoviePy - Writing audio in ../data/bagoflies/BagOfLies/audio\\.._data_bagoflies_BagOfLies_Finalised_User_31_run_8_video.wav\n"
     ]
    },
    {
     "name": "stderr",
     "output_type": "stream",
     "text": [
      "\n",
      "\n",
      "chunk:   0%|          | 0/55 [00:00<?, ?it/s, now=None]\u001B[A\u001B[A\n",
      "\n",
      "                                                                \r\n",
      "chunk:  27%|██▋       | 19/70 [06:04<16:17, 19.16s/it, now=None]\n",
      "chunk:  21%|██▏       | 15/70 [05:08<18:49, 20.54s/it, now=None]\u001B[A"
     ]
    },
    {
     "name": "stdout",
     "output_type": "stream",
     "text": [
      "MoviePy - Done.\n"
     ]
    },
    {
     "name": "stderr",
     "output_type": "stream",
     "text": [
      "                                                                \r\n",
      "chunk:  27%|██▋       | 19/70 [06:04<16:18, 19.18s/it, now=None]\n",
      "chunk:  21%|██▏       | 15/70 [05:08<18:51, 20.56s/it, now=None]\u001B[A"
     ]
    },
    {
     "name": "stdout",
     "output_type": "stream",
     "text": [
      "MoviePy - Writing audio in ../data/bagoflies/BagOfLies/audio\\.._data_bagoflies_BagOfLies_Finalised_User_32_run_0_video.wav\n"
     ]
    },
    {
     "name": "stderr",
     "output_type": "stream",
     "text": [
      "\n",
      "\n",
      "chunk:   0%|          | 0/273 [00:00<?, ?it/s, now=None]\u001B[A\u001B[A\n",
      "\n",
      "chunk:  53%|█████▎    | 144/273 [00:00<00:00, 1431.58it/s, now=None]\u001B[A\u001B[A\n",
      "\n",
      "                                                                    \u001B[A\u001B[A\r\n",
      "chunk:  27%|██▋       | 19/70 [06:04<16:18, 19.19s/it, now=None]\n",
      "chunk:  21%|██▏       | 15/70 [05:08<18:51, 20.58s/it, now=None]\u001B[A"
     ]
    },
    {
     "name": "stdout",
     "output_type": "stream",
     "text": [
      "MoviePy - Done.\n"
     ]
    },
    {
     "name": "stderr",
     "output_type": "stream",
     "text": [
      "                                                                \r\n",
      "chunk:  27%|██▋       | 19/70 [06:04<16:19, 19.21s/it, now=None]\n",
      "chunk:  21%|██▏       | 15/70 [05:08<18:52, 20.59s/it, now=None]\u001B[A"
     ]
    },
    {
     "name": "stdout",
     "output_type": "stream",
     "text": [
      "MoviePy - Writing audio in ../data/bagoflies/BagOfLies/audio\\.._data_bagoflies_BagOfLies_Finalised_User_32_run_1_video.wav\n"
     ]
    },
    {
     "name": "stderr",
     "output_type": "stream",
     "text": [
      "\n",
      "\n",
      "chunk:   0%|          | 0/223 [00:00<?, ?it/s, now=None]\u001B[A\u001B[A\n",
      "\n",
      "chunk:  67%|██████▋   | 149/223 [00:00<00:00, 1485.95it/s, now=None]\u001B[A\u001B[A\n",
      "\n",
      "                                                                    \u001B[A\u001B[A\r\n",
      "chunk:  27%|██▋       | 19/70 [06:05<16:19, 19.21s/it, now=None]\n",
      "chunk:  21%|██▏       | 15/70 [05:09<18:53, 20.60s/it, now=None]\u001B[A"
     ]
    },
    {
     "name": "stdout",
     "output_type": "stream",
     "text": [
      "MoviePy - Done.\n"
     ]
    },
    {
     "name": "stderr",
     "output_type": "stream",
     "text": [
      "                                                                \r\n",
      "chunk:  27%|██▋       | 19/70 [06:05<16:20, 19.23s/it, now=None]\n",
      "chunk:  21%|██▏       | 15/70 [05:09<18:54, 20.62s/it, now=None]\u001B[A"
     ]
    },
    {
     "name": "stdout",
     "output_type": "stream",
     "text": [
      "MoviePy - Writing audio in ../data/bagoflies/BagOfLies/audio\\.._data_bagoflies_BagOfLies_Finalised_User_32_run_2_video.wav\n"
     ]
    },
    {
     "name": "stderr",
     "output_type": "stream",
     "text": [
      "\n",
      "\n",
      "chunk:   0%|          | 0/216 [00:00<?, ?it/s, now=None]\u001B[A\u001B[A\n",
      "\n",
      "chunk:  67%|██████▋   | 144/216 [00:00<00:00, 1422.91it/s, now=None]\u001B[A\u001B[A\n",
      "\n",
      "                                                                    \u001B[A\u001B[A\r\n",
      "chunk:  27%|██▋       | 19/70 [06:05<16:20, 19.23s/it, now=None]\n",
      "chunk:  21%|██▏       | 15/70 [05:09<18:54, 20.63s/it, now=None]\u001B[A"
     ]
    },
    {
     "name": "stdout",
     "output_type": "stream",
     "text": [
      "MoviePy - Done.\n"
     ]
    },
    {
     "name": "stderr",
     "output_type": "stream",
     "text": [
      "                                                                \r\n",
      "chunk:  27%|██▋       | 19/70 [06:05<16:21, 19.25s/it, now=None]\n",
      "chunk:  21%|██▏       | 15/70 [05:09<18:55, 20.65s/it, now=None]\u001B[A"
     ]
    },
    {
     "name": "stdout",
     "output_type": "stream",
     "text": [
      "MoviePy - Writing audio in ../data/bagoflies/BagOfLies/audio\\.._data_bagoflies_BagOfLies_Finalised_User_32_run_3_video.wav\n"
     ]
    },
    {
     "name": "stderr",
     "output_type": "stream",
     "text": [
      "\n",
      "\n",
      "chunk:   0%|          | 0/136 [00:00<?, ?it/s, now=None]\u001B[A\u001B[A\n",
      "\n",
      "chunk:  98%|█████████▊| 133/136 [00:00<00:00, 1320.15it/s, now=None]\u001B[A\u001B[A\n",
      "\n",
      "                                                                    \u001B[A\u001B[A\r\n",
      "chunk:  27%|██▋       | 19/70 [06:05<16:22, 19.26s/it, now=None]\n",
      "chunk:  21%|██▏       | 15/70 [05:09<18:56, 20.66s/it, now=None]\u001B[A"
     ]
    },
    {
     "name": "stdout",
     "output_type": "stream",
     "text": [
      "MoviePy - Done.\n"
     ]
    },
    {
     "name": "stderr",
     "output_type": "stream",
     "text": [
      "                                                                \r\n",
      "chunk:  27%|██▋       | 19/70 [06:06<16:22, 19.27s/it, now=None]\n",
      "chunk:  21%|██▏       | 15/70 [05:10<18:57, 20.68s/it, now=None]\u001B[A"
     ]
    },
    {
     "name": "stdout",
     "output_type": "stream",
     "text": [
      "MoviePy - Writing audio in ../data/bagoflies/BagOfLies/audio\\.._data_bagoflies_BagOfLies_Finalised_User_32_run_4_video.wav\n"
     ]
    },
    {
     "name": "stderr",
     "output_type": "stream",
     "text": [
      "\n",
      "\n",
      "chunk:   0%|          | 0/122 [00:00<?, ?it/s, now=None]\u001B[A\u001B[A\n",
      "\n",
      "                                                                \r\n",
      "chunk:  27%|██▋       | 19/70 [06:06<16:23, 19.28s/it, now=None]\n",
      "chunk:  21%|██▏       | 15/70 [05:10<18:57, 20.68s/it, now=None]\u001B[A"
     ]
    },
    {
     "name": "stdout",
     "output_type": "stream",
     "text": [
      "MoviePy - Done.\n"
     ]
    },
    {
     "name": "stderr",
     "output_type": "stream",
     "text": [
      "                                                                \r\n",
      "chunk:  27%|██▋       | 19/70 [06:06<16:23, 19.29s/it, now=None]\n",
      "chunk:  21%|██▏       | 15/70 [05:10<18:58, 20.70s/it, now=None]\u001B[A"
     ]
    },
    {
     "name": "stdout",
     "output_type": "stream",
     "text": [
      "MoviePy - Writing audio in ../data/bagoflies/BagOfLies/audio\\.._data_bagoflies_BagOfLies_Finalised_User_32_run_5_video.wav\n"
     ]
    },
    {
     "name": "stderr",
     "output_type": "stream",
     "text": [
      "\n",
      "\n",
      "chunk:   0%|          | 0/205 [00:00<?, ?it/s, now=None]\u001B[A\u001B[A\n",
      "\n",
      "chunk:  65%|██████▍   | 133/205 [00:00<00:00, 1316.40it/s, now=None]\u001B[A\u001B[A\n",
      "\n",
      "                                                                    \u001B[A\u001B[A\r\n",
      "chunk:  27%|██▋       | 19/70 [06:06<16:24, 19.30s/it, now=None]\n",
      "chunk:  21%|██▏       | 15/70 [05:10<18:59, 20.71s/it, now=None]\u001B[A"
     ]
    },
    {
     "name": "stdout",
     "output_type": "stream",
     "text": [
      "MoviePy - Done.\n"
     ]
    },
    {
     "name": "stderr",
     "output_type": "stream",
     "text": [
      "                                                                \r\n",
      "chunk:  27%|██▋       | 19/70 [06:07<16:25, 19.32s/it, now=None]\n",
      "chunk:  21%|██▏       | 15/70 [05:11<19:00, 20.73s/it, now=None]\u001B[A"
     ]
    },
    {
     "name": "stdout",
     "output_type": "stream",
     "text": [
      "MoviePy - Writing audio in ../data/bagoflies/BagOfLies/audio\\.._data_bagoflies_BagOfLies_Finalised_User_32_run_6_video.wav\n"
     ]
    },
    {
     "name": "stderr",
     "output_type": "stream",
     "text": [
      "\n",
      "\n",
      "chunk:   0%|          | 0/152 [00:00<?, ?it/s, now=None]\u001B[A\u001B[A\n",
      "\n",
      "chunk:  88%|████████▊ | 133/152 [00:00<00:00, 1329.80it/s, now=None]\u001B[A\u001B[A\n",
      "\n",
      "                                                                    \u001B[A\u001B[A\r\n",
      "chunk:  27%|██▋       | 19/70 [06:07<16:25, 19.32s/it, now=None]\n",
      "chunk:  21%|██▏       | 15/70 [05:11<19:00, 20.74s/it, now=None]\u001B[A"
     ]
    },
    {
     "name": "stdout",
     "output_type": "stream",
     "text": [
      "MoviePy - Done.\n"
     ]
    },
    {
     "name": "stderr",
     "output_type": "stream",
     "text": [
      "                                                                \r\n",
      "chunk:  27%|██▋       | 19/70 [06:07<16:26, 19.34s/it, now=None]\n",
      "chunk:  21%|██▏       | 15/70 [05:11<19:01, 20.76s/it, now=None]\u001B[A"
     ]
    },
    {
     "name": "stdout",
     "output_type": "stream",
     "text": [
      "MoviePy - Writing audio in ../data/bagoflies/BagOfLies/audio\\.._data_bagoflies_BagOfLies_Finalised_User_32_run_7_video.wav\n"
     ]
    },
    {
     "name": "stderr",
     "output_type": "stream",
     "text": [
      "\n",
      "\n",
      "chunk:   0%|          | 0/219 [00:00<?, ?it/s, now=None]\u001B[A\u001B[A\n",
      "\n",
      "chunk:  63%|██████▎   | 137/219 [00:00<00:00, 1363.71it/s, now=None]\u001B[A\u001B[A\n",
      "\n",
      "                                                                    \u001B[A\u001B[A\r\n",
      "chunk:  27%|██▋       | 19/70 [06:07<16:26, 19.35s/it, now=None]\n",
      "chunk:  21%|██▏       | 15/70 [05:11<19:02, 20.77s/it, now=None]\u001B[A"
     ]
    },
    {
     "name": "stdout",
     "output_type": "stream",
     "text": [
      "MoviePy - Done.\n"
     ]
    },
    {
     "name": "stderr",
     "output_type": "stream",
     "text": [
      "                                                                \r\n",
      "chunk:  27%|██▋       | 19/70 [06:07<16:27, 19.36s/it, now=None]\n",
      "chunk:  21%|██▏       | 15/70 [05:11<19:03, 20.79s/it, now=None]\u001B[A"
     ]
    },
    {
     "name": "stdout",
     "output_type": "stream",
     "text": [
      "MoviePy - Writing audio in ../data/bagoflies/BagOfLies/audio\\.._data_bagoflies_BagOfLies_Finalised_User_33_run_0_video.wav\n"
     ]
    },
    {
     "name": "stderr",
     "output_type": "stream",
     "text": [
      "\n",
      "\n",
      "chunk:   0%|          | 0/176 [00:00<?, ?it/s, now=None]\u001B[A\u001B[A\n",
      "\n",
      "chunk:  73%|███████▎  | 129/176 [00:00<00:00, 1278.20it/s, now=None]\u001B[A\u001B[A\n",
      "\n",
      "                                                                    \u001B[A\u001B[A\r\n",
      "chunk:  27%|██▋       | 19/70 [06:07<16:27, 19.37s/it, now=None]\n",
      "chunk:  21%|██▏       | 15/70 [05:11<19:03, 20.80s/it, now=None]\u001B[A"
     ]
    },
    {
     "name": "stdout",
     "output_type": "stream",
     "text": [
      "MoviePy - Done.\n"
     ]
    },
    {
     "name": "stderr",
     "output_type": "stream",
     "text": [
      "                                                                \r\n",
      "chunk:  27%|██▋       | 19/70 [06:08<16:28, 19.39s/it, now=None]\n",
      "chunk:  21%|██▏       | 15/70 [05:12<19:05, 20.83s/it, now=None]\u001B[A"
     ]
    },
    {
     "name": "stdout",
     "output_type": "stream",
     "text": [
      "MoviePy - Writing audio in ../data/bagoflies/BagOfLies/audio\\.._data_bagoflies_BagOfLies_Finalised_User_33_run_1_video.wav\n"
     ]
    },
    {
     "name": "stderr",
     "output_type": "stream",
     "text": [
      "\n",
      "\n",
      "chunk:   0%|          | 0/130 [00:00<?, ?it/s, now=None]\u001B[A\u001B[A\n",
      "\n",
      "                                                                \r\n",
      "chunk:  27%|██▋       | 19/70 [06:08<16:29, 19.39s/it, now=None]\n",
      "chunk:  21%|██▏       | 15/70 [05:12<19:05, 20.83s/it, now=None]\u001B[A"
     ]
    },
    {
     "name": "stdout",
     "output_type": "stream",
     "text": [
      "MoviePy - Done.\n"
     ]
    },
    {
     "name": "stderr",
     "output_type": "stream",
     "text": [
      "                                                                \r\n",
      "chunk:  27%|██▋       | 19/70 [06:08<16:29, 19.41s/it, now=None]\n",
      "chunk:  21%|██▏       | 15/70 [05:12<19:06, 20.85s/it, now=None]\u001B[A"
     ]
    },
    {
     "name": "stdout",
     "output_type": "stream",
     "text": [
      "MoviePy - Writing audio in ../data/bagoflies/BagOfLies/audio\\.._data_bagoflies_BagOfLies_Finalised_User_33_run_2_video.wav\n"
     ]
    },
    {
     "name": "stderr",
     "output_type": "stream",
     "text": [
      "\n",
      "\n",
      "chunk:   0%|          | 0/124 [00:00<?, ?it/s, now=None]\u001B[A\u001B[A\n",
      "\n",
      "chunk:  82%|████████▏ | 102/124 [00:00<00:00, 947.38it/s, now=None]\u001B[A\u001B[A\n",
      "\n",
      "                                                                   \u001B[A\u001B[A\r\n",
      "chunk:  27%|██▋       | 19/70 [06:08<16:30, 19.42s/it, now=None]\n",
      "chunk:  21%|██▏       | 15/70 [05:12<19:07, 20.86s/it, now=None]\u001B[A"
     ]
    },
    {
     "name": "stdout",
     "output_type": "stream",
     "text": [
      "MoviePy - Done.\n"
     ]
    },
    {
     "name": "stderr",
     "output_type": "stream",
     "text": [
      "                                                                \r\n",
      "chunk:  27%|██▋       | 19/70 [06:09<16:30, 19.43s/it, now=None]\n",
      "chunk:  21%|██▏       | 15/70 [05:13<19:08, 20.88s/it, now=None]\u001B[A"
     ]
    },
    {
     "name": "stdout",
     "output_type": "stream",
     "text": [
      "MoviePy - Writing audio in ../data/bagoflies/BagOfLies/audio\\.._data_bagoflies_BagOfLies_Finalised_User_33_run_3_video.wav\n"
     ]
    },
    {
     "name": "stderr",
     "output_type": "stream",
     "text": [
      "\n",
      "\n",
      "chunk:   0%|          | 0/97 [00:00<?, ?it/s, now=None]\u001B[A\u001B[A\n",
      "\n",
      "                                                                \r\n",
      "chunk:  27%|██▋       | 19/70 [06:09<16:31, 19.43s/it, now=None]\n",
      "chunk:  21%|██▏       | 15/70 [05:13<19:08, 20.88s/it, now=None]\u001B[A"
     ]
    },
    {
     "name": "stdout",
     "output_type": "stream",
     "text": [
      "MoviePy - Done.\n"
     ]
    },
    {
     "name": "stderr",
     "output_type": "stream",
     "text": [
      "                                                                \r\n",
      "chunk:  27%|██▋       | 19/70 [06:09<16:31, 19.45s/it, now=None]\n",
      "chunk:  21%|██▏       | 15/70 [05:13<19:09, 20.90s/it, now=None]\u001B[A"
     ]
    },
    {
     "name": "stdout",
     "output_type": "stream",
     "text": [
      "MoviePy - Writing audio in ../data/bagoflies/BagOfLies/audio\\.._data_bagoflies_BagOfLies_Finalised_User_33_run_4_video.wav\n"
     ]
    },
    {
     "name": "stderr",
     "output_type": "stream",
     "text": [
      "\n",
      "\n",
      "chunk:   0%|          | 0/100 [00:00<?, ?it/s, now=None]\u001B[A\u001B[A\n",
      "\n",
      "                                                                \r\n",
      "chunk:  27%|██▋       | 19/70 [06:09<16:32, 19.45s/it, now=None]\n",
      "chunk:  21%|██▏       | 15/70 [05:13<19:09, 20.91s/it, now=None]\u001B[A"
     ]
    },
    {
     "name": "stdout",
     "output_type": "stream",
     "text": [
      "MoviePy - Done.\n"
     ]
    },
    {
     "name": "stderr",
     "output_type": "stream",
     "text": [
      "                                                                \r\n",
      "chunk:  27%|██▋       | 19/70 [06:09<16:32, 19.47s/it, now=None]\n",
      "chunk:  21%|██▏       | 15/70 [05:13<19:11, 20.93s/it, now=None]\u001B[A"
     ]
    },
    {
     "name": "stdout",
     "output_type": "stream",
     "text": [
      "MoviePy - Writing audio in ../data/bagoflies/BagOfLies/audio\\.._data_bagoflies_BagOfLies_Finalised_User_33_run_5_video.wav\n"
     ]
    },
    {
     "name": "stderr",
     "output_type": "stream",
     "text": [
      "\n",
      "\n",
      "chunk:   0%|          | 0/107 [00:00<?, ?it/s, now=None]\u001B[A\u001B[A\n",
      "\n",
      "                                                                \r\n",
      "chunk:  27%|██▋       | 19/70 [06:10<16:33, 19.48s/it, now=None]\n",
      "chunk:  21%|██▏       | 15/70 [05:14<19:11, 20.94s/it, now=None]\u001B[A"
     ]
    },
    {
     "name": "stdout",
     "output_type": "stream",
     "text": [
      "MoviePy - Done.\n"
     ]
    },
    {
     "name": "stderr",
     "output_type": "stream",
     "text": [
      "                                                                \r\n",
      "chunk:  27%|██▋       | 19/70 [06:10<16:34, 19.49s/it, now=None]\n",
      "chunk:  21%|██▏       | 15/70 [05:14<19:12, 20.96s/it, now=None]\u001B[A"
     ]
    },
    {
     "name": "stdout",
     "output_type": "stream",
     "text": [
      "MoviePy - Writing audio in ../data/bagoflies/BagOfLies/audio\\.._data_bagoflies_BagOfLies_Finalised_User_33_run_6_video.wav\n"
     ]
    },
    {
     "name": "stderr",
     "output_type": "stream",
     "text": [
      "\n",
      "\n",
      "chunk:   0%|          | 0/126 [00:00<?, ?it/s, now=None]\u001B[A\u001B[A\n",
      "\n",
      "                                                                \r\n",
      "chunk:  27%|██▋       | 19/70 [06:10<16:34, 19.50s/it, now=None]\n",
      "chunk:  21%|██▏       | 15/70 [05:14<19:12, 20.96s/it, now=None]\u001B[A"
     ]
    },
    {
     "name": "stdout",
     "output_type": "stream",
     "text": [
      "MoviePy - Done.\n"
     ]
    },
    {
     "name": "stderr",
     "output_type": "stream",
     "text": [
      "                                                                \r\n",
      "chunk:  27%|██▋       | 19/70 [06:10<16:35, 19.51s/it, now=None]\n",
      "chunk:  21%|██▏       | 15/70 [05:14<19:13, 20.98s/it, now=None]\u001B[A"
     ]
    },
    {
     "name": "stdout",
     "output_type": "stream",
     "text": [
      "MoviePy - Writing audio in ../data/bagoflies/BagOfLies/audio\\.._data_bagoflies_BagOfLies_Finalised_User_34_run_0_video.wav\n"
     ]
    },
    {
     "name": "stderr",
     "output_type": "stream",
     "text": [
      "\n",
      "\n",
      "chunk:   0%|          | 0/231 [00:00<?, ?it/s, now=None]\u001B[A\u001B[A\n",
      "\n",
      "chunk:  64%|██████▎   | 147/231 [00:00<00:00, 1461.90it/s, now=None]\u001B[A\u001B[A\n",
      "\n",
      "                                                                    \u001B[A\u001B[A\r\n",
      "chunk:  27%|██▋       | 19/70 [06:10<16:35, 19.52s/it, now=None]\n",
      "chunk:  21%|██▏       | 15/70 [05:14<19:14, 20.99s/it, now=None]\u001B[A"
     ]
    },
    {
     "name": "stdout",
     "output_type": "stream",
     "text": [
      "MoviePy - Done.\n"
     ]
    },
    {
     "name": "stderr",
     "output_type": "stream",
     "text": [
      "                                                                \r\n",
      "chunk:  27%|██▋       | 19/70 [06:11<16:36, 19.53s/it, now=None]\n",
      "chunk:  21%|██▏       | 15/70 [05:15<19:15, 21.01s/it, now=None]\u001B[A"
     ]
    },
    {
     "name": "stdout",
     "output_type": "stream",
     "text": [
      "MoviePy - Writing audio in ../data/bagoflies/BagOfLies/audio\\.._data_bagoflies_BagOfLies_Finalised_User_34_run_1_video.wav\n"
     ]
    },
    {
     "name": "stderr",
     "output_type": "stream",
     "text": [
      "\n",
      "\n",
      "chunk:   0%|          | 0/226 [00:00<?, ?it/s, now=None]\u001B[A\u001B[A\n",
      "\n",
      "chunk:  63%|██████▎   | 142/226 [00:00<00:00, 1415.29it/s, now=None]\u001B[A\u001B[A\n",
      "\n",
      "                                                                    \u001B[A\u001B[A\r\n",
      "chunk:  27%|██▋       | 19/70 [06:11<16:36, 19.54s/it, now=None]\n",
      "chunk:  21%|██▏       | 15/70 [05:15<19:16, 21.02s/it, now=None]\u001B[A"
     ]
    },
    {
     "name": "stdout",
     "output_type": "stream",
     "text": [
      "MoviePy - Done.\n"
     ]
    },
    {
     "name": "stderr",
     "output_type": "stream",
     "text": [
      "                                                                \r\n",
      "chunk:  27%|██▋       | 19/70 [06:11<16:37, 19.56s/it, now=None]\n",
      "chunk:  21%|██▏       | 15/70 [05:15<19:17, 21.04s/it, now=None]\u001B[A"
     ]
    },
    {
     "name": "stdout",
     "output_type": "stream",
     "text": [
      "MoviePy - Writing audio in ../data/bagoflies/BagOfLies/audio\\.._data_bagoflies_BagOfLies_Finalised_User_34_run_2_video.wav\n"
     ]
    },
    {
     "name": "stderr",
     "output_type": "stream",
     "text": [
      "\n",
      "\n",
      "chunk:   0%|          | 0/249 [00:00<?, ?it/s, now=None]\u001B[A\u001B[A\n",
      "\n",
      "chunk:  61%|██████    | 152/249 [00:00<00:00, 1475.42it/s, now=None]\u001B[A\u001B[A\n",
      "\n",
      "                                                                    \u001B[A\u001B[A\r\n",
      "chunk:  27%|██▋       | 19/70 [06:11<16:37, 19.56s/it, now=None]\n",
      "chunk:  21%|██▏       | 15/70 [05:15<19:17, 21.05s/it, now=None]\u001B[A"
     ]
    },
    {
     "name": "stdout",
     "output_type": "stream",
     "text": [
      "MoviePy - Done.\n"
     ]
    },
    {
     "name": "stderr",
     "output_type": "stream",
     "text": [
      "                                                                \r\n",
      "chunk:  27%|██▋       | 19/70 [06:11<16:38, 19.58s/it, now=None]\n",
      "chunk:  21%|██▏       | 15/70 [05:15<19:18, 21.07s/it, now=None]\u001B[A"
     ]
    },
    {
     "name": "stdout",
     "output_type": "stream",
     "text": [
      "MoviePy - Writing audio in ../data/bagoflies/BagOfLies/audio\\.._data_bagoflies_BagOfLies_Finalised_User_34_run_3_video.wav\n"
     ]
    },
    {
     "name": "stderr",
     "output_type": "stream",
     "text": [
      "\n",
      "\n",
      "chunk:   0%|          | 0/173 [00:00<?, ?it/s, now=None]\u001B[A\u001B[A\n",
      "\n",
      "chunk:  80%|███████▉  | 138/173 [00:00<00:00, 1378.39it/s, now=None]\u001B[A\u001B[A\n",
      "\n",
      "                                                                    \u001B[A\u001B[A\r\n",
      "chunk:  27%|██▋       | 19/70 [06:12<16:38, 19.59s/it, now=None]\n",
      "chunk:  21%|██▏       | 15/70 [05:16<19:19, 21.08s/it, now=None]\u001B[A"
     ]
    },
    {
     "name": "stdout",
     "output_type": "stream",
     "text": [
      "MoviePy - Done.\n"
     ]
    },
    {
     "name": "stderr",
     "output_type": "stream",
     "text": [
      "                                                                \r\n",
      "chunk:  27%|██▋       | 19/70 [06:12<16:39, 19.60s/it, now=None]\n",
      "chunk:  21%|██▏       | 15/70 [05:16<19:20, 21.10s/it, now=None]\u001B[A"
     ]
    },
    {
     "name": "stdout",
     "output_type": "stream",
     "text": [
      "MoviePy - Writing audio in ../data/bagoflies/BagOfLies/audio\\.._data_bagoflies_BagOfLies_Finalised_User_34_run_4_video.wav\n"
     ]
    },
    {
     "name": "stderr",
     "output_type": "stream",
     "text": [
      "\n",
      "\n",
      "chunk:   0%|          | 0/200 [00:00<?, ?it/s, now=None]\u001B[A\u001B[A\n",
      "\n",
      "chunk:  10%|█         | 20/200 [00:00<00:03, 50.22it/s, now=None]\u001B[A\u001B[A\n",
      "\n",
      "                                                                 \u001B[A\u001B[A\r\n",
      "chunk:  27%|██▋       | 19/70 [06:12<16:41, 19.63s/it, now=None]\n",
      "chunk:  21%|██▏       | 15/70 [05:16<19:22, 21.13s/it, now=None]\u001B[A"
     ]
    },
    {
     "name": "stdout",
     "output_type": "stream",
     "text": [
      "MoviePy - Done.\n"
     ]
    },
    {
     "name": "stderr",
     "output_type": "stream",
     "text": [
      "                                                                \r\n",
      "chunk:  27%|██▋       | 19/70 [06:13<16:41, 19.64s/it, now=None]\n",
      "chunk:  21%|██▏       | 15/70 [05:17<19:23, 21.15s/it, now=None]\u001B[A"
     ]
    },
    {
     "name": "stdout",
     "output_type": "stream",
     "text": [
      "MoviePy - Writing audio in ../data/bagoflies/BagOfLies/audio\\.._data_bagoflies_BagOfLies_Finalised_User_34_run_5_video.wav\n"
     ]
    },
    {
     "name": "stderr",
     "output_type": "stream",
     "text": [
      "\n",
      "\n",
      "chunk:   0%|          | 0/210 [00:00<?, ?it/s, now=None]\u001B[A\u001B[A\n",
      "\n",
      "chunk:  68%|██████▊   | 142/210 [00:00<00:00, 1418.41it/s, now=None]\u001B[A\u001B[A\n",
      "\n",
      "                                                                    \u001B[A\u001B[A\r\n",
      "chunk:  27%|██▋       | 19/70 [06:13<16:42, 19.65s/it, now=None]\n",
      "chunk:  21%|██▏       | 15/70 [05:17<19:23, 21.16s/it, now=None]\u001B[A"
     ]
    },
    {
     "name": "stdout",
     "output_type": "stream",
     "text": [
      "MoviePy - Done.\n"
     ]
    },
    {
     "name": "stderr",
     "output_type": "stream",
     "text": [
      "                                                                \r\n",
      "chunk:  27%|██▋       | 19/70 [06:13<16:42, 19.66s/it, now=None]\n",
      "chunk:  21%|██▏       | 15/70 [05:17<19:24, 21.17s/it, now=None]\u001B[A"
     ]
    },
    {
     "name": "stdout",
     "output_type": "stream",
     "text": [
      "MoviePy - Writing audio in ../data/bagoflies/BagOfLies/audio\\.._data_bagoflies_BagOfLies_Finalised_User_34_run_6_video.wav\n"
     ]
    },
    {
     "name": "stderr",
     "output_type": "stream",
     "text": [
      "\n",
      "\n",
      "chunk:   0%|          | 0/173 [00:00<?, ?it/s, now=None]\u001B[A\u001B[A\n",
      "\n",
      "chunk:  44%|████▍     | 76/173 [00:00<00:00, 604.67it/s, now=None]\u001B[A\u001B[A\n",
      "\n",
      "                                                                  \u001B[A\u001B[A\r\n",
      "chunk:  27%|██▋       | 19/70 [06:13<16:43, 19.67s/it, now=None]\n",
      "chunk:  21%|██▏       | 15/70 [05:17<19:25, 21.19s/it, now=None]\u001B[A"
     ]
    },
    {
     "name": "stdout",
     "output_type": "stream",
     "text": [
      "MoviePy - Done.\n"
     ]
    },
    {
     "name": "stderr",
     "output_type": "stream",
     "text": [
      "                                                                \r\n",
      "chunk:  27%|██▋       | 19/70 [06:14<16:44, 19.69s/it, now=None]\n",
      "chunk:  21%|██▏       | 15/70 [05:18<19:26, 21.21s/it, now=None]\u001B[A"
     ]
    },
    {
     "name": "stdout",
     "output_type": "stream",
     "text": [
      "MoviePy - Writing audio in ../data/bagoflies/BagOfLies/audio\\.._data_bagoflies_BagOfLies_Finalised_User_34_run_7_video.wav\n"
     ]
    },
    {
     "name": "stderr",
     "output_type": "stream",
     "text": [
      "\n",
      "\n",
      "chunk:   0%|          | 0/129 [00:00<?, ?it/s, now=None]\u001B[A\u001B[A\n",
      "\n",
      "                                                                \r\n",
      "chunk:  27%|██▋       | 19/70 [06:14<16:44, 19.70s/it, now=None]\n",
      "chunk:  21%|██▏       | 15/70 [05:18<19:26, 21.21s/it, now=None]\u001B[A"
     ]
    },
    {
     "name": "stdout",
     "output_type": "stream",
     "text": [
      "MoviePy - Done.\n"
     ]
    },
    {
     "name": "stderr",
     "output_type": "stream",
     "text": [
      "                                                                \r\n",
      "chunk:  27%|██▋       | 19/70 [06:14<16:45, 19.71s/it, now=None]\n",
      "chunk:  21%|██▏       | 15/70 [05:18<19:27, 21.23s/it, now=None]\u001B[A"
     ]
    },
    {
     "name": "stdout",
     "output_type": "stream",
     "text": [
      "MoviePy - Writing audio in ../data/bagoflies/BagOfLies/audio\\.._data_bagoflies_BagOfLies_Finalised_User_34_run_8_video.wav\n"
     ]
    },
    {
     "name": "stderr",
     "output_type": "stream",
     "text": [
      "\n",
      "\n",
      "chunk:   0%|          | 0/173 [00:00<?, ?it/s, now=None]\u001B[A\u001B[A\n",
      "\n",
      "chunk:  83%|████████▎ | 144/173 [00:00<00:00, 1436.19it/s, now=None]\u001B[A\u001B[A\n",
      "\n",
      "                                                                    \u001B[A\u001B[A\r\n",
      "chunk:  27%|██▋       | 19/70 [06:14<16:45, 19.72s/it, now=None]\n",
      "chunk:  21%|██▏       | 15/70 [05:18<19:28, 21.24s/it, now=None]\u001B[A"
     ]
    },
    {
     "name": "stdout",
     "output_type": "stream",
     "text": [
      "MoviePy - Done.\n"
     ]
    },
    {
     "name": "stderr",
     "output_type": "stream",
     "text": [
      "                                                                \r\n",
      "chunk:  27%|██▋       | 19/70 [06:14<16:46, 19.73s/it, now=None]\n",
      "chunk:  21%|██▏       | 15/70 [05:18<19:29, 21.26s/it, now=None]\u001B[A"
     ]
    },
    {
     "name": "stdout",
     "output_type": "stream",
     "text": [
      "MoviePy - Writing audio in ../data/bagoflies/BagOfLies/audio\\.._data_bagoflies_BagOfLies_Finalised_User_34_run_9_video.wav\n"
     ]
    },
    {
     "name": "stderr",
     "output_type": "stream",
     "text": [
      "\n",
      "\n",
      "chunk:   0%|          | 0/165 [00:00<?, ?it/s, now=None]\u001B[A\u001B[A\n",
      "\n",
      "chunk:  81%|████████  | 133/165 [00:00<00:00, 1294.72it/s, now=None]\u001B[A\u001B[A\n",
      "\n",
      "                                                                    \u001B[A\u001B[A\r\n",
      "chunk:  27%|██▋       | 19/70 [06:15<16:47, 19.75s/it, now=None]\n",
      "chunk:  21%|██▏       | 15/70 [05:19<19:30, 21.28s/it, now=None]\u001B[A"
     ]
    },
    {
     "name": "stdout",
     "output_type": "stream",
     "text": [
      "MoviePy - Done.\n"
     ]
    }
   ],
   "source": [
    "save_dir = r\"../data/bagoflies/BagOfLies/audio\"\n",
    "save_audio_from_video(dirs, save_dir)"
   ],
   "metadata": {
    "collapsed": false
   }
  },
  {
   "cell_type": "code",
   "execution_count": 6,
   "outputs": [
    {
     "data": {
      "text/plain": "list"
     },
     "execution_count": 6,
     "metadata": {},
     "output_type": "execute_result"
    }
   ],
   "source": [
    "type(annotations.video.tolist())"
   ],
   "metadata": {
    "collapsed": false
   }
  },
  {
   "cell_type": "code",
   "execution_count": null,
   "outputs": [],
   "source": [],
   "metadata": {
    "collapsed": false
   }
  }
 ],
 "metadata": {
  "kernelspec": {
   "display_name": "Python 3",
   "language": "python",
   "name": "python3"
  },
  "language_info": {
   "codemirror_mode": {
    "name": "ipython",
    "version": 2
   },
   "file_extension": ".py",
   "mimetype": "text/x-python",
   "name": "python",
   "nbconvert_exporter": "python",
   "pygments_lexer": "ipython2",
   "version": "2.7.6"
  }
 },
 "nbformat": 4,
 "nbformat_minor": 0
}
